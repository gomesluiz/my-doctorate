{
 "cells": [
  {
   "cell_type": "markdown",
   "metadata": {},
   "source": [
    "# Research Question No. 3\n",
    "What is the comparative performance of learning algorithms in long-lived bug prediction in FLOSS project? This research question aims to compare the accuracy of the long-lived bug prediction made by different classification algorithms. Here the algorithm with the best prediction capabilities is best fit in terms of balanced accuracy."
   ]
  },
  {
   "cell_type": "markdown",
   "metadata": {},
   "source": [
    "# Experiment 1"
   ]
  },
  {
   "cell_type": "markdown",
   "metadata": {},
   "source": [
    "## Experimental parameters"
   ]
  },
  {
   "cell_type": "markdown",
   "metadata": {},
   "source": [
    "\n",
    "| Parameter                  |         Value        |\n",
    "|----------------------------|:--------------------:|\n",
    "| Project                    |        Eclipse       |\n",
    "| Algorithms                 | KNN, NB, NN, SVM, RF |\n",
    "| Metrics                    | Accuracy, Kappa, ROC |\n",
    "| Features                   | Short and Long Description |\n",
    "| Number of Terms            |        100       |\n",
    "| Balancing                  |        Unbalance, Smote   |\n",
    "| Resampling                 |        Repeated CV 5 x 2       |\n",
    "| Threshold                  |        365       |\n",
    "\n",
    "\n",
    "\n",
    "\n",
    "\n",
    "\n",
    "\n",
    "\n",
    "Every bug which its report have indicated that the number of days to resolve is less than or equal to **threshold fixed** was considered a **non-long lived bug** and that which the number of days to resolve is greater than this threshold was considered as a **long-live bug**. "
   ]
  },
  {
   "cell_type": "markdown",
   "metadata": {},
   "source": [
    "## 1. Setup environment."
   ]
  },
  {
   "cell_type": "code",
   "execution_count": 1,
   "metadata": {},
   "outputs": [
    {
     "data": {
      "application/javascript": [
       "IPython.OutputArea.prototype._should_scroll = function(lines) {\n",
       "    return false;\n",
       "}\n"
      ],
      "text/plain": [
       "<IPython.core.display.Javascript object>"
      ]
     },
     "metadata": {},
     "output_type": "display_data"
    }
   ],
   "source": [
    "%%javascript\n",
    "IPython.OutputArea.prototype._should_scroll = function(lines) {\n",
    "    return false;\n",
    "}"
   ]
  },
  {
   "cell_type": "code",
   "execution_count": 2,
   "metadata": {},
   "outputs": [
    {
     "name": "stdout",
     "output_type": "stream",
     "text": [
      "Setup complete\n"
     ]
    }
   ],
   "source": [
    "import matplotlib.pyplot as plt \n",
    "import numpy as np\n",
    "import os \n",
    "import pandas as pd\n",
    "import seaborn as sns \n",
    "from scipy.stats import friedmanchisquare\n",
    "from scipy.stats import kruskal\n",
    "\n",
    "# Setup Matplotlib\n",
    "plt.rc('figure', figsize=(20, 20))\n",
    "plt.style.use('default')\n",
    "%matplotlib inline \n",
    "\n",
    "# Setup Seaborn\n",
    "sns.set_context(\"paper\")\n",
    "sns.set_style(\"ticks\")\n",
    "\n",
    "pd.set_option('display.max_columns', None)\n",
    "\n",
    "metrics_e1_path  = \"datasets/rq3e1/20190918180550_rq3e1_eclipse_predict_long_lived_metrics.csv\"\n",
    "test_e1_path     = \"datasets/rq3e1/20190918180550_rq3e1_eclipse_nn_smote_long_description_100_bacc_test_results.csv\"\n",
    "bug_reports_path = \"datasets/20190917_eclipse_bug_report_data.csv\"\n",
    "print(\"Setup complete\")"
   ]
  },
  {
   "cell_type": "markdown",
   "metadata": {},
   "source": [
    "## 2. Load data."
   ]
  },
  {
   "cell_type": "code",
   "execution_count": 3,
   "metadata": {},
   "outputs": [
    {
     "name": "stdout",
     "output_type": "stream",
     "text": [
      "\n",
      "Header of metrics file datasets/rq3e1/20190918180550_rq3e1_eclipse_predict_long_lived_metrics.csv\n",
      "project,feature,n_term,classifier,balancing,resampling,metric,threshold,train_size,train_size_class_0,train_size_class_1,test_size,test_size_class_0,test_size_class_1,tp,fn,fp,tn,sensitivity,specificity,balanced_acc,balanced_acc_manual,precision,recall,fmeasure\n",
      "eclipse,long_description,100,nn,smote,repeatedcv,Accuracy,365,12847,6665,6182,2408,2221,187,71,116,656,1565,0.379679144385027,0.704637550652859,0.542158347518943,0.542158347518943,0.097661623108666,0.379679144385027,0.155361050328228\n",
      "\n",
      "Number of lines in the file datasets/rq3e1/20190918180550_rq3e1_eclipse_predict_long_lived_metrics.csv\n",
      "61 datasets/rq3e1/20190918180550_rq3e1_eclipse_predict_long_lived_metrics.csv\n"
     ]
    }
   ],
   "source": [
    "    !echo \"\\nHeader of metrics file $metrics_e1_path\"\n",
    "    !head -n 2 $metrics_e1_path\n",
    "\n",
    "    !echo \"\\nNumber of lines in the file $metrics_e1_path\"\n",
    "    !wc -l $metrics_e1_path\n"
   ]
  },
  {
   "cell_type": "code",
   "execution_count": 4,
   "metadata": {},
   "outputs": [
    {
     "name": "stdout",
     "output_type": "stream",
     "text": [
      "There are 60 rows and 25 columns in datasets/rq3e1/20190918180550_rq3e1_eclipse_predict_long_lived_metrics.csv.\n",
      "\n"
     ]
    }
   ],
   "source": [
    "# read metrics data.\n",
    "metrics_e1_data = pd.read_csv(metrics_e1_path)\n",
    "rows_and_cols = metrics_e1_data.shape\n",
    "print(f\"There are {rows_and_cols[0]} rows and {rows_and_cols[1]} columns in {metrics_e1_path}.\\n\")"
   ]
  },
  {
   "cell_type": "markdown",
   "metadata": {},
   "source": [
    "## 3. Review the data"
   ]
  },
  {
   "cell_type": "code",
   "execution_count": 5,
   "metadata": {},
   "outputs": [
    {
     "data": {
      "text/html": [
       "<div>\n",
       "<style scoped>\n",
       "    .dataframe tbody tr th:only-of-type {\n",
       "        vertical-align: middle;\n",
       "    }\n",
       "\n",
       "    .dataframe tbody tr th {\n",
       "        vertical-align: top;\n",
       "    }\n",
       "\n",
       "    .dataframe thead th {\n",
       "        text-align: right;\n",
       "    }\n",
       "</style>\n",
       "<table border=\"1\" class=\"dataframe\">\n",
       "  <thead>\n",
       "    <tr style=\"text-align: right;\">\n",
       "      <th></th>\n",
       "      <th>project</th>\n",
       "      <th>feature</th>\n",
       "      <th>n_term</th>\n",
       "      <th>classifier</th>\n",
       "      <th>balancing</th>\n",
       "      <th>resampling</th>\n",
       "      <th>metric</th>\n",
       "      <th>threshold</th>\n",
       "      <th>train_size</th>\n",
       "      <th>train_size_class_0</th>\n",
       "      <th>train_size_class_1</th>\n",
       "      <th>test_size</th>\n",
       "      <th>test_size_class_0</th>\n",
       "      <th>test_size_class_1</th>\n",
       "      <th>tp</th>\n",
       "      <th>fn</th>\n",
       "      <th>fp</th>\n",
       "      <th>tn</th>\n",
       "      <th>sensitivity</th>\n",
       "      <th>specificity</th>\n",
       "      <th>balanced_acc</th>\n",
       "      <th>balanced_acc_manual</th>\n",
       "      <th>precision</th>\n",
       "      <th>recall</th>\n",
       "      <th>fmeasure</th>\n",
       "    </tr>\n",
       "  </thead>\n",
       "  <tbody>\n",
       "    <tr>\n",
       "      <th>0</th>\n",
       "      <td>eclipse</td>\n",
       "      <td>long_description</td>\n",
       "      <td>100</td>\n",
       "      <td>nn</td>\n",
       "      <td>smote</td>\n",
       "      <td>repeatedcv</td>\n",
       "      <td>Accuracy</td>\n",
       "      <td>365</td>\n",
       "      <td>12847</td>\n",
       "      <td>6665</td>\n",
       "      <td>6182</td>\n",
       "      <td>2408</td>\n",
       "      <td>2221</td>\n",
       "      <td>187</td>\n",
       "      <td>71</td>\n",
       "      <td>116</td>\n",
       "      <td>656</td>\n",
       "      <td>1565</td>\n",
       "      <td>0.379679</td>\n",
       "      <td>0.704638</td>\n",
       "      <td>0.542158</td>\n",
       "      <td>0.542158</td>\n",
       "      <td>0.097662</td>\n",
       "      <td>0.379679</td>\n",
       "      <td>0.155361</td>\n",
       "    </tr>\n",
       "    <tr>\n",
       "      <th>1</th>\n",
       "      <td>eclipse</td>\n",
       "      <td>long_description</td>\n",
       "      <td>100</td>\n",
       "      <td>nn</td>\n",
       "      <td>smote</td>\n",
       "      <td>repeatedcv</td>\n",
       "      <td>Kappa</td>\n",
       "      <td>365</td>\n",
       "      <td>12847</td>\n",
       "      <td>6665</td>\n",
       "      <td>6182</td>\n",
       "      <td>2408</td>\n",
       "      <td>2221</td>\n",
       "      <td>187</td>\n",
       "      <td>71</td>\n",
       "      <td>116</td>\n",
       "      <td>656</td>\n",
       "      <td>1565</td>\n",
       "      <td>0.379679</td>\n",
       "      <td>0.704638</td>\n",
       "      <td>0.542158</td>\n",
       "      <td>0.542158</td>\n",
       "      <td>0.097662</td>\n",
       "      <td>0.379679</td>\n",
       "      <td>0.155361</td>\n",
       "    </tr>\n",
       "    <tr>\n",
       "      <th>2</th>\n",
       "      <td>eclipse</td>\n",
       "      <td>short_description</td>\n",
       "      <td>100</td>\n",
       "      <td>nb</td>\n",
       "      <td>unbalanced</td>\n",
       "      <td>repeatedcv</td>\n",
       "      <td>Kappa</td>\n",
       "      <td>365</td>\n",
       "      <td>6335</td>\n",
       "      <td>5846</td>\n",
       "      <td>489</td>\n",
       "      <td>2110</td>\n",
       "      <td>1948</td>\n",
       "      <td>162</td>\n",
       "      <td>102</td>\n",
       "      <td>60</td>\n",
       "      <td>1068</td>\n",
       "      <td>880</td>\n",
       "      <td>0.629630</td>\n",
       "      <td>0.451745</td>\n",
       "      <td>0.540688</td>\n",
       "      <td>0.540688</td>\n",
       "      <td>0.087179</td>\n",
       "      <td>0.629630</td>\n",
       "      <td>0.153153</td>\n",
       "    </tr>\n",
       "    <tr>\n",
       "      <th>3</th>\n",
       "      <td>eclipse</td>\n",
       "      <td>short_description</td>\n",
       "      <td>100</td>\n",
       "      <td>nb</td>\n",
       "      <td>unbalanced</td>\n",
       "      <td>repeatedcv</td>\n",
       "      <td>ROC</td>\n",
       "      <td>365</td>\n",
       "      <td>6335</td>\n",
       "      <td>5846</td>\n",
       "      <td>489</td>\n",
       "      <td>2110</td>\n",
       "      <td>1948</td>\n",
       "      <td>162</td>\n",
       "      <td>102</td>\n",
       "      <td>60</td>\n",
       "      <td>1068</td>\n",
       "      <td>880</td>\n",
       "      <td>0.629630</td>\n",
       "      <td>0.451745</td>\n",
       "      <td>0.540688</td>\n",
       "      <td>0.540688</td>\n",
       "      <td>0.087179</td>\n",
       "      <td>0.629630</td>\n",
       "      <td>0.153153</td>\n",
       "    </tr>\n",
       "    <tr>\n",
       "      <th>4</th>\n",
       "      <td>eclipse</td>\n",
       "      <td>long_description</td>\n",
       "      <td>100</td>\n",
       "      <td>rf</td>\n",
       "      <td>smote</td>\n",
       "      <td>repeatedcv</td>\n",
       "      <td>Accuracy</td>\n",
       "      <td>365</td>\n",
       "      <td>12847</td>\n",
       "      <td>6665</td>\n",
       "      <td>6182</td>\n",
       "      <td>2408</td>\n",
       "      <td>2221</td>\n",
       "      <td>187</td>\n",
       "      <td>20</td>\n",
       "      <td>167</td>\n",
       "      <td>102</td>\n",
       "      <td>2119</td>\n",
       "      <td>0.106952</td>\n",
       "      <td>0.954075</td>\n",
       "      <td>0.530513</td>\n",
       "      <td>0.530513</td>\n",
       "      <td>0.163934</td>\n",
       "      <td>0.106952</td>\n",
       "      <td>0.129450</td>\n",
       "    </tr>\n",
       "  </tbody>\n",
       "</table>\n",
       "</div>"
      ],
      "text/plain": [
       "   project            feature  n_term classifier   balancing  resampling  \\\n",
       "0  eclipse   long_description     100         nn       smote  repeatedcv   \n",
       "1  eclipse   long_description     100         nn       smote  repeatedcv   \n",
       "2  eclipse  short_description     100         nb  unbalanced  repeatedcv   \n",
       "3  eclipse  short_description     100         nb  unbalanced  repeatedcv   \n",
       "4  eclipse   long_description     100         rf       smote  repeatedcv   \n",
       "\n",
       "     metric  threshold  train_size  train_size_class_0  train_size_class_1  \\\n",
       "0  Accuracy        365       12847                6665                6182   \n",
       "1     Kappa        365       12847                6665                6182   \n",
       "2     Kappa        365        6335                5846                 489   \n",
       "3       ROC        365        6335                5846                 489   \n",
       "4  Accuracy        365       12847                6665                6182   \n",
       "\n",
       "   test_size  test_size_class_0  test_size_class_1   tp   fn    fp    tn  \\\n",
       "0       2408               2221                187   71  116   656  1565   \n",
       "1       2408               2221                187   71  116   656  1565   \n",
       "2       2110               1948                162  102   60  1068   880   \n",
       "3       2110               1948                162  102   60  1068   880   \n",
       "4       2408               2221                187   20  167   102  2119   \n",
       "\n",
       "   sensitivity  specificity  balanced_acc  balanced_acc_manual  precision  \\\n",
       "0     0.379679     0.704638      0.542158             0.542158   0.097662   \n",
       "1     0.379679     0.704638      0.542158             0.542158   0.097662   \n",
       "2     0.629630     0.451745      0.540688             0.540688   0.087179   \n",
       "3     0.629630     0.451745      0.540688             0.540688   0.087179   \n",
       "4     0.106952     0.954075      0.530513             0.530513   0.163934   \n",
       "\n",
       "     recall  fmeasure  \n",
       "0  0.379679  0.155361  \n",
       "1  0.379679  0.155361  \n",
       "2  0.629630  0.153153  \n",
       "3  0.629630  0.153153  \n",
       "4  0.106952  0.129450  "
      ]
     },
     "execution_count": 5,
     "metadata": {},
     "output_type": "execute_result"
    }
   ],
   "source": [
    "metrics_e1_data.sort_values('balanced_acc', ascending=False).head()"
   ]
  },
  {
   "cell_type": "code",
   "execution_count": 6,
   "metadata": {},
   "outputs": [
    {
     "data": {
      "text/html": [
       "<div>\n",
       "<style scoped>\n",
       "    .dataframe tbody tr th:only-of-type {\n",
       "        vertical-align: middle;\n",
       "    }\n",
       "\n",
       "    .dataframe tbody tr th {\n",
       "        vertical-align: top;\n",
       "    }\n",
       "\n",
       "    .dataframe thead th {\n",
       "        text-align: right;\n",
       "    }\n",
       "</style>\n",
       "<table border=\"1\" class=\"dataframe\">\n",
       "  <thead>\n",
       "    <tr style=\"text-align: right;\">\n",
       "      <th></th>\n",
       "      <th>project</th>\n",
       "      <th>feature</th>\n",
       "      <th>n_term</th>\n",
       "      <th>classifier</th>\n",
       "      <th>balancing</th>\n",
       "      <th>resampling</th>\n",
       "      <th>metric</th>\n",
       "      <th>threshold</th>\n",
       "      <th>train_size</th>\n",
       "      <th>train_size_class_0</th>\n",
       "      <th>train_size_class_1</th>\n",
       "      <th>test_size</th>\n",
       "      <th>test_size_class_0</th>\n",
       "      <th>test_size_class_1</th>\n",
       "      <th>tp</th>\n",
       "      <th>fn</th>\n",
       "      <th>fp</th>\n",
       "      <th>tn</th>\n",
       "      <th>sensitivity</th>\n",
       "      <th>specificity</th>\n",
       "      <th>balanced_acc</th>\n",
       "      <th>balanced_acc_manual</th>\n",
       "      <th>precision</th>\n",
       "      <th>recall</th>\n",
       "      <th>fmeasure</th>\n",
       "    </tr>\n",
       "  </thead>\n",
       "  <tbody>\n",
       "    <tr>\n",
       "      <th>51</th>\n",
       "      <td>eclipse</td>\n",
       "      <td>short_description</td>\n",
       "      <td>100</td>\n",
       "      <td>nb</td>\n",
       "      <td>smote</td>\n",
       "      <td>repeatedcv</td>\n",
       "      <td>ROC</td>\n",
       "      <td>365</td>\n",
       "      <td>11225</td>\n",
       "      <td>5846</td>\n",
       "      <td>5379</td>\n",
       "      <td>2110</td>\n",
       "      <td>1948</td>\n",
       "      <td>162</td>\n",
       "      <td>159</td>\n",
       "      <td>3</td>\n",
       "      <td>1916</td>\n",
       "      <td>32</td>\n",
       "      <td>0.981481</td>\n",
       "      <td>0.016427</td>\n",
       "      <td>0.498954</td>\n",
       "      <td>0.498954</td>\n",
       "      <td>0.076627</td>\n",
       "      <td>0.981481</td>\n",
       "      <td>0.142155</td>\n",
       "    </tr>\n",
       "    <tr>\n",
       "      <th>7</th>\n",
       "      <td>eclipse</td>\n",
       "      <td>long_description</td>\n",
       "      <td>100</td>\n",
       "      <td>nb</td>\n",
       "      <td>unbalanced</td>\n",
       "      <td>repeatedcv</td>\n",
       "      <td>Kappa</td>\n",
       "      <td>365</td>\n",
       "      <td>7227</td>\n",
       "      <td>6665</td>\n",
       "      <td>562</td>\n",
       "      <td>2408</td>\n",
       "      <td>2221</td>\n",
       "      <td>187</td>\n",
       "      <td>120</td>\n",
       "      <td>67</td>\n",
       "      <td>1313</td>\n",
       "      <td>908</td>\n",
       "      <td>0.641711</td>\n",
       "      <td>0.408825</td>\n",
       "      <td>0.525268</td>\n",
       "      <td>0.525268</td>\n",
       "      <td>0.083740</td>\n",
       "      <td>0.641711</td>\n",
       "      <td>0.148148</td>\n",
       "    </tr>\n",
       "    <tr>\n",
       "      <th>8</th>\n",
       "      <td>eclipse</td>\n",
       "      <td>long_description</td>\n",
       "      <td>100</td>\n",
       "      <td>nb</td>\n",
       "      <td>unbalanced</td>\n",
       "      <td>repeatedcv</td>\n",
       "      <td>ROC</td>\n",
       "      <td>365</td>\n",
       "      <td>7227</td>\n",
       "      <td>6665</td>\n",
       "      <td>562</td>\n",
       "      <td>2408</td>\n",
       "      <td>2221</td>\n",
       "      <td>187</td>\n",
       "      <td>120</td>\n",
       "      <td>67</td>\n",
       "      <td>1313</td>\n",
       "      <td>908</td>\n",
       "      <td>0.641711</td>\n",
       "      <td>0.408825</td>\n",
       "      <td>0.525268</td>\n",
       "      <td>0.525268</td>\n",
       "      <td>0.083740</td>\n",
       "      <td>0.641711</td>\n",
       "      <td>0.148148</td>\n",
       "    </tr>\n",
       "    <tr>\n",
       "      <th>2</th>\n",
       "      <td>eclipse</td>\n",
       "      <td>short_description</td>\n",
       "      <td>100</td>\n",
       "      <td>nb</td>\n",
       "      <td>unbalanced</td>\n",
       "      <td>repeatedcv</td>\n",
       "      <td>Kappa</td>\n",
       "      <td>365</td>\n",
       "      <td>6335</td>\n",
       "      <td>5846</td>\n",
       "      <td>489</td>\n",
       "      <td>2110</td>\n",
       "      <td>1948</td>\n",
       "      <td>162</td>\n",
       "      <td>102</td>\n",
       "      <td>60</td>\n",
       "      <td>1068</td>\n",
       "      <td>880</td>\n",
       "      <td>0.629630</td>\n",
       "      <td>0.451745</td>\n",
       "      <td>0.540688</td>\n",
       "      <td>0.540688</td>\n",
       "      <td>0.087179</td>\n",
       "      <td>0.629630</td>\n",
       "      <td>0.153153</td>\n",
       "    </tr>\n",
       "    <tr>\n",
       "      <th>3</th>\n",
       "      <td>eclipse</td>\n",
       "      <td>short_description</td>\n",
       "      <td>100</td>\n",
       "      <td>nb</td>\n",
       "      <td>unbalanced</td>\n",
       "      <td>repeatedcv</td>\n",
       "      <td>ROC</td>\n",
       "      <td>365</td>\n",
       "      <td>6335</td>\n",
       "      <td>5846</td>\n",
       "      <td>489</td>\n",
       "      <td>2110</td>\n",
       "      <td>1948</td>\n",
       "      <td>162</td>\n",
       "      <td>102</td>\n",
       "      <td>60</td>\n",
       "      <td>1068</td>\n",
       "      <td>880</td>\n",
       "      <td>0.629630</td>\n",
       "      <td>0.451745</td>\n",
       "      <td>0.540688</td>\n",
       "      <td>0.540688</td>\n",
       "      <td>0.087179</td>\n",
       "      <td>0.629630</td>\n",
       "      <td>0.153153</td>\n",
       "    </tr>\n",
       "  </tbody>\n",
       "</table>\n",
       "</div>"
      ],
      "text/plain": [
       "    project            feature  n_term classifier   balancing  resampling  \\\n",
       "51  eclipse  short_description     100         nb       smote  repeatedcv   \n",
       "7   eclipse   long_description     100         nb  unbalanced  repeatedcv   \n",
       "8   eclipse   long_description     100         nb  unbalanced  repeatedcv   \n",
       "2   eclipse  short_description     100         nb  unbalanced  repeatedcv   \n",
       "3   eclipse  short_description     100         nb  unbalanced  repeatedcv   \n",
       "\n",
       "   metric  threshold  train_size  train_size_class_0  train_size_class_1  \\\n",
       "51    ROC        365       11225                5846                5379   \n",
       "7   Kappa        365        7227                6665                 562   \n",
       "8     ROC        365        7227                6665                 562   \n",
       "2   Kappa        365        6335                5846                 489   \n",
       "3     ROC        365        6335                5846                 489   \n",
       "\n",
       "    test_size  test_size_class_0  test_size_class_1   tp  fn    fp   tn  \\\n",
       "51       2110               1948                162  159   3  1916   32   \n",
       "7        2408               2221                187  120  67  1313  908   \n",
       "8        2408               2221                187  120  67  1313  908   \n",
       "2        2110               1948                162  102  60  1068  880   \n",
       "3        2110               1948                162  102  60  1068  880   \n",
       "\n",
       "    sensitivity  specificity  balanced_acc  balanced_acc_manual  precision  \\\n",
       "51     0.981481     0.016427      0.498954             0.498954   0.076627   \n",
       "7      0.641711     0.408825      0.525268             0.525268   0.083740   \n",
       "8      0.641711     0.408825      0.525268             0.525268   0.083740   \n",
       "2      0.629630     0.451745      0.540688             0.540688   0.087179   \n",
       "3      0.629630     0.451745      0.540688             0.540688   0.087179   \n",
       "\n",
       "      recall  fmeasure  \n",
       "51  0.981481  0.142155  \n",
       "7   0.641711  0.148148  \n",
       "8   0.641711  0.148148  \n",
       "2   0.629630  0.153153  \n",
       "3   0.629630  0.153153  "
      ]
     },
     "execution_count": 6,
     "metadata": {},
     "output_type": "execute_result"
    }
   ],
   "source": [
    "metrics_e1_data.sort_values('sensitivity', ascending=False).head()"
   ]
  },
  {
   "cell_type": "markdown",
   "metadata": {},
   "source": [
    "#### Legenda:\n",
    "* **Sensitivity:** corresponde à taxa de acerto na classe positiva. Também chamada de taxa de verdadeiros positivos: TP / ( TP + FN ).\n",
    "* **Specificity:** corresponde à taxa de acerto na classe negativa: TN / ( TN + FP ).\n",
    "* **Balanced Accuracy:** (Sensibilidade + Especificidade)/2.\n"
   ]
  },
  {
   "cell_type": "markdown",
   "metadata": {},
   "source": [
    "## 4. Evaluation Metrics ##"
   ]
  },
  {
   "cell_type": "markdown",
   "metadata": {},
   "source": [
    "### 4.2 Sensitivity ###\n",
    "Corresponde à taxa de acerto na classe positiva. Também é chamada de taxa de verdadeiros positivos: TP/(TP+FN). "
   ]
  },
  {
   "cell_type": "code",
   "execution_count": 7,
   "metadata": {},
   "outputs": [
    {
     "data": {
      "text/plain": [
       "<seaborn.axisgrid.FacetGrid at 0x7f9bf722f320>"
      ]
     },
     "execution_count": 7,
     "metadata": {},
     "output_type": "execute_result"
    },
    {
     "data": {
      "text/plain": [
       "<Figure size 432x288 with 0 Axes>"
      ]
     },
     "metadata": {},
     "output_type": "display_data"
    },
    {
     "data": {
      "image/png": "[encoded data removed]",
      "text/plain": [
       "<Figure size 954.225x864 with 4 Axes>"
      ]
     },
     "metadata": {},
     "output_type": "display_data"
    }
   ],
   "source": [
    "sns.despine(offset=5)\n",
    "sns.set(style=\"whitegrid\")\n",
    "#g = sns.FacetGrid(metrics_e1_data, col=\"balancing\", despine=True)\n",
    "g = sns.catplot(data=metrics_e1_data\n",
    "                , kind=\"bar\"\n",
    "                , x=\"classifier\"\n",
    "                , y=\"sensitivity\"\n",
    "                , hue=\"metric\"\n",
    "                , col=\"balancing\"\n",
    "                , row=\"feature\"\n",
    "                , saturation=.5\n",
    "                , height=6\n",
    "                , palette=\"muted\")\n",
    "(g.set_axis_labels(\"\", \"Sensitivity\")\n",
    "  .set_titles(\" {col_var}: {col_name} | {row_var}: {row_name}\")\n",
    "  .set(ylim=(0, 1))\n",
    "  .despine(left=True))"
   ]
  },
  {
   "cell_type": "markdown",
   "metadata": {},
   "source": [
    "### 4.3 Specificity ###\n",
    "Corresponde à taxa de acerto na classe negativa: TN/(TN+FP). "
   ]
  },
  {
   "cell_type": "code",
   "execution_count": 8,
   "metadata": {},
   "outputs": [
    {
     "data": {
      "text/plain": [
       "<seaborn.axisgrid.FacetGrid at 0x7f9bf65b0f60>"
      ]
     },
     "execution_count": 8,
     "metadata": {},
     "output_type": "execute_result"
    },
    {
     "data": {
      "text/plain": [
       "<Figure size 432x288 with 0 Axes>"
      ]
     },
     "metadata": {},
     "output_type": "display_data"
    },
    {
     "data": {
      "image/png": "[encoded data removed]",
      "text/plain": [
       "<Figure size 954.225x864 with 4 Axes>"
      ]
     },
     "metadata": {},
     "output_type": "display_data"
    }
   ],
   "source": [
    "sns.despine(offset=5)\n",
    "sns.set(style=\"whitegrid\")\n",
    "#g = sns.FacetGrid(metrics_e1_data, col=\"balancing\", despine=True)\n",
    "g = sns.catplot(data=metrics_e1_data\n",
    "                , kind=\"bar\"\n",
    "                , x=\"classifier\"\n",
    "                , y=\"specificity\"\n",
    "                , hue=\"metric\"\n",
    "                , col=\"balancing\"\n",
    "                , row=\"feature\"\n",
    "                , saturation=.5\n",
    "                , height=6\n",
    "                , palette=\"muted\")\n",
    "(g.set_axis_labels(\"\", \"Specificity\")\n",
    "  .set_titles(\" {col_var}: {col_name} | {row_var}: {row_name}\")\n",
    "  .set(ylim=(0, 1))\n",
    "  .despine(left=True))"
   ]
  },
  {
   "cell_type": "markdown",
   "metadata": {},
   "source": [
    "### 4.1 Balanced Accuracy\n",
    "Accurácia balanceada: (sensitivity + specificity)/2"
   ]
  },
  {
   "cell_type": "code",
   "execution_count": 9,
   "metadata": {},
   "outputs": [
    {
     "data": {
      "text/plain": [
       "<seaborn.axisgrid.FacetGrid at 0x7f9bf62b8048>"
      ]
     },
     "execution_count": 9,
     "metadata": {},
     "output_type": "execute_result"
    },
    {
     "data": {
      "text/plain": [
       "<Figure size 432x288 with 0 Axes>"
      ]
     },
     "metadata": {},
     "output_type": "display_data"
    },
    {
     "data": {
      "image/png": "[encoded data removed]",
      "text/plain": [
       "<Figure size 954.225x864 with 4 Axes>"
      ]
     },
     "metadata": {},
     "output_type": "display_data"
    }
   ],
   "source": [
    "sns.despine(offset=5)\n",
    "sns.set(style=\"whitegrid\")\n",
    "g = sns.catplot(data=metrics_e1_data\n",
    "                , kind=\"bar\"\n",
    "                , x=\"classifier\"\n",
    "                , y=\"balanced_acc\"\n",
    "                , hue=\"metric\"\n",
    "                , col=\"balancing\"\n",
    "                , row=\"feature\"\n",
    "                , saturation=.5\n",
    "                , height=6\n",
    "                , palette=\"muted\")\n",
    "(g.set_axis_labels(\"\", \"Balanced Accuracy\")\n",
    "  .set_titles(\" {col_var}: {col_name} | {row_var}: {row_name}\")\n",
    "  .set(yticks=np.arange(0, 1.1, 0.1))\n",
    "  .set(ylim=(0, 1))\n",
    "  .despine(left=True))"
   ]
  },
  {
   "cell_type": "markdown",
   "metadata": {},
   "source": [
    "## 4.4 Statistical Test"
   ]
  },
  {
   "cell_type": "code",
   "execution_count": 10,
   "metadata": {},
   "outputs": [
    {
     "name": "stdout",
     "output_type": "stream",
     "text": [
      "Statistics=21.148, p=0.000\n",
      "Different distributions (reject H0)\n"
     ]
    }
   ],
   "source": [
    "# read data per classifier\n",
    "knn = metrics_e1_data[metrics_e1_data['classifier'] == 'knn'].balanced_acc\n",
    "nb  = metrics_e1_data[metrics_e1_data['classifier'] == 'nb'].balanced_acc\n",
    "nn  = metrics_e1_data[metrics_e1_data['classifier'] == 'nn'].balanced_acc\n",
    "rf  = metrics_e1_data[metrics_e1_data['classifier'] == 'rf'].balanced_acc\n",
    "svm = metrics_e1_data[metrics_e1_data['classifier'] == 'svm'].balanced_acc\n",
    "\n",
    "# compare samples with Friedman Test\n",
    "stat, p = friedmanchisquare(knn, nb, nn, rf, svm)\n",
    "print('Statistics=%.3f, p=%.3f' % (stat, p))\n",
    "\n",
    "# interpret\n",
    "alpha = 0.05\n",
    "if p > alpha:\n",
    "    print('Same distributions (fail to reject H0)')\n",
    "else:\n",
    "    print('Different distributions (reject H0)')"
   ]
  },
  {
   "cell_type": "code",
   "execution_count": 11,
   "metadata": {},
   "outputs": [
    {
     "name": "stdout",
     "output_type": "stream",
     "text": [
      "Statistics=17.748, p=0.001\n",
      "Different distributions (reject H0)\n"
     ]
    }
   ],
   "source": [
    "# read data per classifier\n",
    "knn = metrics_e1_data[metrics_e1_data['classifier'] == 'knn'].sensitivity\n",
    "nb  = metrics_e1_data[metrics_e1_data['classifier'] == 'nb'].sensitivity\n",
    "nn  = metrics_e1_data[metrics_e1_data['classifier'] == 'nn'].sensitivity\n",
    "rf  = metrics_e1_data[metrics_e1_data['classifier'] == 'rf'].sensitivity\n",
    "svm = metrics_e1_data[metrics_e1_data['classifier'] == 'svm'].sensitivity\n",
    "\n",
    "# compare samples with Friedman Test\n",
    "stat, p = friedmanchisquare(knn, nb, nn, rf, svm)\n",
    "print('Statistics=%.3f, p=%.3f' % (stat, p))\n",
    "\n",
    "# interpret\n",
    "alpha = 0.05\n",
    "if p > alpha:\n",
    "    print('Same distributions (fail to reject H0)')\n",
    "else:\n",
    "    print('Different distributions (reject H0)')"
   ]
  },
  {
   "cell_type": "markdown",
   "metadata": {},
   "source": [
    "## 5. Test results analisys"
   ]
  },
  {
   "cell_type": "markdown",
   "metadata": {},
   "source": [
    "### 5.1 Long-lived bug correct prediction (nn, smote, accuracy, 100 terms)"
   ]
  },
  {
   "cell_type": "code",
   "execution_count": 12,
   "metadata": {},
   "outputs": [],
   "source": [
    "test_e1_data = pd.read_csv(test_e1_path)"
   ]
  },
  {
   "cell_type": "code",
   "execution_count": 13,
   "metadata": {},
   "outputs": [],
   "source": [
    "bug_reports_data = pd.read_csv(bug_reports_path)\n",
    "test_e1_merged_data = pd.merge(\n",
    "    bug_reports_data,\n",
    "    test_e1_data[['bug_id', 'long_lived', 'y_hat']],\n",
    "    left_on='bug_id',\n",
    "    right_on='bug_id',\n",
    "    how='inner'\n",
    ")"
   ]
  },
  {
   "cell_type": "code",
   "execution_count": 19,
   "metadata": {},
   "outputs": [],
   "source": [
    "correct_predicted_bugs = test_e1_merged_data.query('long_lived == \"Y\" and y_hat == \"Y\"')"
   ]
  },
  {
   "cell_type": "code",
   "execution_count": 21,
   "metadata": {},
   "outputs": [
    {
     "data": {
      "text/html": [
       "<div>\n",
       "<style scoped>\n",
       "    .dataframe tbody tr th:only-of-type {\n",
       "        vertical-align: middle;\n",
       "    }\n",
       "\n",
       "    .dataframe tbody tr th {\n",
       "        vertical-align: top;\n",
       "    }\n",
       "\n",
       "    .dataframe thead th {\n",
       "        text-align: right;\n",
       "    }\n",
       "</style>\n",
       "<table border=\"1\" class=\"dataframe\">\n",
       "  <thead>\n",
       "    <tr style=\"text-align: right;\">\n",
       "      <th></th>\n",
       "      <th>bug_id</th>\n",
       "      <th>creation_date</th>\n",
       "      <th>component_name</th>\n",
       "      <th>product_name</th>\n",
       "      <th>short_description</th>\n",
       "      <th>long_description</th>\n",
       "      <th>assignee_name</th>\n",
       "      <th>reporter_name</th>\n",
       "      <th>resolution_category</th>\n",
       "      <th>resolution_code</th>\n",
       "      <th>status_category</th>\n",
       "      <th>status_code</th>\n",
       "      <th>update_date</th>\n",
       "      <th>quantity_of_votes</th>\n",
       "      <th>quantity_of_comments</th>\n",
       "      <th>resolution_date</th>\n",
       "      <th>bug_fix_time</th>\n",
       "      <th>severity_category</th>\n",
       "      <th>severity_code</th>\n",
       "      <th>long_lived</th>\n",
       "      <th>y_hat</th>\n",
       "    </tr>\n",
       "  </thead>\n",
       "  <tbody>\n",
       "    <tr>\n",
       "      <th>48</th>\n",
       "      <td>JSDT-212668</td>\n",
       "      <td>2007-12-11</td>\n",
       "      <td>General</td>\n",
       "      <td>JSDT</td>\n",
       "      <td>[hotbug] JavaScript validation error on JSPs</td>\n",
       "      <td>This is a follow-on to bug 207589:\\n\\nI just t...</td>\n",
       "      <td>nitind</td>\n",
       "      <td>kathy</td>\n",
       "      <td>fixed</td>\n",
       "      <td>1</td>\n",
       "      <td>resolved</td>\n",
       "      <td>4</td>\n",
       "      <td>2010-03-03</td>\n",
       "      <td>2</td>\n",
       "      <td>14</td>\n",
       "      <td>2009-02-12</td>\n",
       "      <td>429</td>\n",
       "      <td>normal</td>\n",
       "      <td>2</td>\n",
       "      <td>Y</td>\n",
       "      <td>Y</td>\n",
       "    </tr>\n",
       "    <tr>\n",
       "      <th>86</th>\n",
       "      <td>ASPECTJ-166347</td>\n",
       "      <td>2006-11-30</td>\n",
       "      <td>Docs</td>\n",
       "      <td>ASPECTJ</td>\n",
       "      <td>AspectJ website points to wrong version of ajd...</td>\n",
       "      <td>The AspectJ documentation http://www.eclipse.o...</td>\n",
       "      <td>aspectj-inbox</td>\n",
       "      <td>hlhawkins</td>\n",
       "      <td>fixed</td>\n",
       "      <td>1</td>\n",
       "      <td>resolved</td>\n",
       "      <td>4</td>\n",
       "      <td>2008-08-21</td>\n",
       "      <td>0</td>\n",
       "      <td>2</td>\n",
       "      <td>2008-08-21</td>\n",
       "      <td>630</td>\n",
       "      <td>normal</td>\n",
       "      <td>2</td>\n",
       "      <td>Y</td>\n",
       "      <td>Y</td>\n",
       "    </tr>\n",
       "    <tr>\n",
       "      <th>127</th>\n",
       "      <td>PLATFORM-56094</td>\n",
       "      <td>2004-03-25</td>\n",
       "      <td>SWT</td>\n",
       "      <td>PLATFORM</td>\n",
       "      <td>tracker resize uses screen coordinates instead...</td>\n",
       "      <td>No matter what you use in tracker's first argu...</td>\n",
       "      <td>grant_gayed</td>\n",
       "      <td>stromgt</td>\n",
       "      <td>fixed</td>\n",
       "      <td>1</td>\n",
       "      <td>resolved</td>\n",
       "      <td>4</td>\n",
       "      <td>2005-04-13</td>\n",
       "      <td>0</td>\n",
       "      <td>3</td>\n",
       "      <td>2005-04-13</td>\n",
       "      <td>384</td>\n",
       "      <td>normal</td>\n",
       "      <td>2</td>\n",
       "      <td>Y</td>\n",
       "      <td>Y</td>\n",
       "    </tr>\n",
       "    <tr>\n",
       "      <th>187</th>\n",
       "      <td>PLATFORM-213305</td>\n",
       "      <td>2007-12-18</td>\n",
       "      <td>SWT</td>\n",
       "      <td>PLATFORM</td>\n",
       "      <td>100% cpu usage on opening files with long lines.</td>\n",
       "      <td>Created attachment 85458\\nA java source file f...</td>\n",
       "      <td>eclipse.felipe</td>\n",
       "      <td>mascha</td>\n",
       "      <td>fixed</td>\n",
       "      <td>1</td>\n",
       "      <td>resolved</td>\n",
       "      <td>4</td>\n",
       "      <td>2014-02-25</td>\n",
       "      <td>2</td>\n",
       "      <td>24</td>\n",
       "      <td>2009-02-04</td>\n",
       "      <td>414</td>\n",
       "      <td>normal</td>\n",
       "      <td>2</td>\n",
       "      <td>Y</td>\n",
       "      <td>Y</td>\n",
       "    </tr>\n",
       "    <tr>\n",
       "      <th>203</th>\n",
       "      <td>PLATFORM-31385</td>\n",
       "      <td>2003-02-07</td>\n",
       "      <td>SWT</td>\n",
       "      <td>PLATFORM</td>\n",
       "      <td>Redraw problems: selecting text backwards</td>\n",
       "      <td>eclipse 2.1I200302061700 linux-gtk j2sdk-1.4.1...</td>\n",
       "      <td>eclipse.felipe</td>\n",
       "      <td>nickell</td>\n",
       "      <td>fixed</td>\n",
       "      <td>1</td>\n",
       "      <td>resolved</td>\n",
       "      <td>4</td>\n",
       "      <td>2004-06-28</td>\n",
       "      <td>0</td>\n",
       "      <td>23</td>\n",
       "      <td>2004-06-28</td>\n",
       "      <td>507</td>\n",
       "      <td>normal</td>\n",
       "      <td>2</td>\n",
       "      <td>Y</td>\n",
       "      <td>Y</td>\n",
       "    </tr>\n",
       "  </tbody>\n",
       "</table>\n",
       "</div>"
      ],
      "text/plain": [
       "              bug_id creation_date component_name product_name  \\\n",
       "48       JSDT-212668    2007-12-11        General         JSDT   \n",
       "86    ASPECTJ-166347    2006-11-30           Docs      ASPECTJ   \n",
       "127   PLATFORM-56094    2004-03-25            SWT     PLATFORM   \n",
       "187  PLATFORM-213305    2007-12-18            SWT     PLATFORM   \n",
       "203   PLATFORM-31385    2003-02-07            SWT     PLATFORM   \n",
       "\n",
       "                                     short_description  \\\n",
       "48        [hotbug] JavaScript validation error on JSPs   \n",
       "86   AspectJ website points to wrong version of ajd...   \n",
       "127  tracker resize uses screen coordinates instead...   \n",
       "187   100% cpu usage on opening files with long lines.   \n",
       "203          Redraw problems: selecting text backwards   \n",
       "\n",
       "                                      long_description   assignee_name  \\\n",
       "48   This is a follow-on to bug 207589:\\n\\nI just t...          nitind   \n",
       "86   The AspectJ documentation http://www.eclipse.o...   aspectj-inbox   \n",
       "127  No matter what you use in tracker's first argu...     grant_gayed   \n",
       "187  Created attachment 85458\\nA java source file f...  eclipse.felipe   \n",
       "203  eclipse 2.1I200302061700 linux-gtk j2sdk-1.4.1...  eclipse.felipe   \n",
       "\n",
       "    reporter_name resolution_category  resolution_code status_category  \\\n",
       "48          kathy               fixed                1        resolved   \n",
       "86      hlhawkins               fixed                1        resolved   \n",
       "127       stromgt               fixed                1        resolved   \n",
       "187        mascha               fixed                1        resolved   \n",
       "203       nickell               fixed                1        resolved   \n",
       "\n",
       "     status_code update_date  quantity_of_votes  quantity_of_comments  \\\n",
       "48             4  2010-03-03                  2                    14   \n",
       "86             4  2008-08-21                  0                     2   \n",
       "127            4  2005-04-13                  0                     3   \n",
       "187            4  2014-02-25                  2                    24   \n",
       "203            4  2004-06-28                  0                    23   \n",
       "\n",
       "    resolution_date  bug_fix_time severity_category  severity_code long_lived  \\\n",
       "48       2009-02-12           429            normal              2          Y   \n",
       "86       2008-08-21           630            normal              2          Y   \n",
       "127      2005-04-13           384            normal              2          Y   \n",
       "187      2009-02-04           414            normal              2          Y   \n",
       "203      2004-06-28           507            normal              2          Y   \n",
       "\n",
       "    y_hat  \n",
       "48      Y  \n",
       "86      Y  \n",
       "127     Y  \n",
       "187     Y  \n",
       "203     Y  "
      ]
     },
     "execution_count": 21,
     "metadata": {},
     "output_type": "execute_result"
    }
   ],
   "source": [
    "correct_predicted_bugs.head()"
   ]
  },
  {
   "cell_type": "code",
   "execution_count": 24,
   "metadata": {},
   "outputs": [
    {
     "data": {
      "text/plain": [
       "<seaborn.axisgrid.FacetGrid at 0x7f9bf3335390>"
      ]
     },
     "execution_count": 24,
     "metadata": {},
     "output_type": "execute_result"
    },
    {
     "data": {
      "image/png": "[encoded data removed]",
      "text/plain": [
       "<Figure size 360x360 with 1 Axes>"
      ]
     },
     "metadata": {},
     "output_type": "display_data"
    }
   ],
   "source": [
    "sns.catplot(data=correct_predicted_bugs, x=\"reporter_name\", kind=\"count\")"
   ]
  },
  {
   "cell_type": "code",
   "execution_count": null,
   "metadata": {},
   "outputs": [],
   "source": []
  }
 ],
 "metadata": {
  "kernelspec": {
   "display_name": "Python 3",
   "language": "python",
   "name": "python3"
  },
  "language_info": {
   "codemirror_mode": {
    "name": "ipython",
    "version": 3
   },
   "file_extension": ".py",
   "mimetype": "text/x-python",
   "name": "python",
   "nbconvert_exporter": "python",
   "pygments_lexer": "ipython3",
   "version": "3.7.3"
  }
 },
 "nbformat": 4,
 "nbformat_minor": 2
}
