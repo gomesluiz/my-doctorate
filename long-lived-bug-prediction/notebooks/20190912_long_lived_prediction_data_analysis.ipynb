{
 "cells": [
  {
   "cell_type": "markdown",
   "metadata": {},
   "source": [
    "## RQ2. How frequent are, and what are the main characteristics of long-lived bugs in FLOSS projects?"
   ]
  },
  {
   "cell_type": "markdown",
   "metadata": {},
   "source": [
    "## Experimental parameters"
   ]
  },
  {
   "cell_type": "markdown",
   "metadata": {},
   "source": [
    "\n",
    "| Parameter                  |         Value        |\n",
    "|----------------------------|:--------------------:|\n",
    "| OSS Project                |        Eclipse       |\n",
    "| Number of Bug Reports      |        10000         |\n",
    "| Threshold (in days)        |          365         |\n",
    "\n",
    "Every bug which its report have indicated that the number of days to resolve is less than or equal to **threshold fixed** was considered a **non-long lived bug** and that which the number of days to resolve is greater than this threshold was considered as a **long-live bug**. "
   ]
  },
  {
   "cell_type": "markdown",
   "metadata": {},
   "source": [
    "## Step1. Setup experimental environment."
   ]
  },
  {
   "cell_type": "code",
   "execution_count": 1,
   "metadata": {},
   "outputs": [
    {
     "name": "stderr",
     "output_type": "stream",
     "text": [
      "[nltk_data] Downloading package punkt to /home/luiz/nltk_data...\n"
     ]
    },
    {
     "name": "stdout",
     "output_type": "stream",
     "text": [
      "Setup complete\n"
     ]
    },
    {
     "name": "stderr",
     "output_type": "stream",
     "text": [
      "[nltk_data]   Package punkt is already up-to-date!\n",
      "[nltk_data] Downloading package stopwords to /home/luiz/nltk_data...\n",
      "[nltk_data]   Package stopwords is already up-to-date!\n"
     ]
    },
    {
     "data": {
      "text/plain": [
       "<Figure size 432x288 with 0 Axes>"
      ]
     },
     "metadata": {},
     "output_type": "display_data"
    }
   ],
   "source": [
    "import matplotlib.pyplot as plt \n",
    "import nltk \n",
    "import numpy as np\n",
    "import os \n",
    "import pandas as pd\n",
    "import seaborn as sns \n",
    "import string\n",
    "\n",
    "from nltk.stem   import PorterStemmer\n",
    "from nltk.corpus import stopwords\n",
    "from nltk.tokenize import sent_tokenize, word_tokenize\n",
    "from wordcloud import WordCloud, STOPWORDS, ImageColorGenerator\n",
    "\n",
    "# Setup matplotlib and seaborn\n",
    "plt.rc('figure', figsize=(20, 20))\n",
    "plt.style.use('default')\n",
    "%matplotlib inline \n",
    "\n",
    "sns.set_context(\"paper\")\n",
    "sns.set_style(\"ticks\")\n",
    "sns.despine()\n",
    "\n",
    "\n",
    "# Setup NLTK\n",
    "stemmer = PorterStemmer()\n",
    "nltk.download('punkt')\n",
    "nltk.download('stopwords')\n",
    "\n",
    "# Path of the file to read.\n",
    "bug_reports_path = 'datasets/20190830_eclipse_bug_report_data.csv'\n",
    "bug_reports_history_path = 'datasets/20190830_eclipse_bug_report_history_data.csv'\n",
    "\n",
    "# Fixed time threshold.\n",
    "bug_fix_time_threshold = 365\n",
    "print(\"Setup complete\")"
   ]
  },
  {
   "cell_type": "markdown",
   "metadata": {},
   "source": [
    "## Step 2. Load data."
   ]
  },
  {
   "cell_type": "code",
   "execution_count": 2,
   "metadata": {},
   "outputs": [
    {
     "name": "stdout",
     "output_type": "stream",
     "text": [
      "Header of bug reports file\n",
      "bug_id,creation_date,component_name,product_name,short_description,long_description,assignee_name,reporter_name,resolution_category,resolution_code,status_category,status_code,update_date,quantity_of_votes,quantity_of_comments,resolution_date,bug_fix_time,severity_category,severity_code\n",
      "EMF-354412,2011-08-10,cdo.core,EMF,containsAll returns wrong result in case of detached objects,\"Cloned from: 354395: containsAll returns wrong result in case of detached objects\n",
      "\n",
      "Number of lines in the file:\n",
      "387100 datasets/20190830_eclipse_bug_report_data.csv\n"
     ]
    }
   ],
   "source": [
    "\n",
    "!echo \"Header of bug reports file\"\n",
    "!head -n 2 $bug_reports_path\n",
    "\n",
    "!echo \"\\nNumber of lines in the file:\"\n",
    "!wc -l $bug_reports_path\n"
   ]
  },
  {
   "cell_type": "code",
   "execution_count": 3,
   "metadata": {},
   "outputs": [
    {
     "name": "stdout",
     "output_type": "stream",
     "text": [
      "There are 10000 rows and 19 columns.\n",
      "\n",
      "<class 'pandas.core.frame.DataFrame'>\n",
      "RangeIndex: 10000 entries, 0 to 9999\n",
      "Data columns (total 19 columns):\n",
      "bug_id                  10000 non-null object\n",
      "creation_date           10000 non-null object\n",
      "component_name          10000 non-null object\n",
      "product_name            10000 non-null object\n",
      "short_description       10000 non-null object\n",
      "long_description        9846 non-null object\n",
      "assignee_name           10000 non-null object\n",
      "reporter_name           10000 non-null object\n",
      "resolution_category     10000 non-null object\n",
      "resolution_code         10000 non-null int64\n",
      "status_category         10000 non-null object\n",
      "status_code             10000 non-null int64\n",
      "update_date             10000 non-null object\n",
      "quantity_of_votes       10000 non-null int64\n",
      "quantity_of_comments    10000 non-null int64\n",
      "resolution_date         10000 non-null object\n",
      "bug_fix_time            10000 non-null int64\n",
      "severity_category       10000 non-null object\n",
      "severity_code           10000 non-null int64\n",
      "dtypes: int64(6), object(13)\n",
      "memory usage: 1.4+ MB\n",
      "None\n"
     ]
    }
   ],
   "source": [
    "# read bug reports data.\n",
    "bug_reports_data = pd.read_csv(bug_reports_path)[0:10000]\n",
    "rows_and_cols = bug_reports_data.shape\n",
    "print(f\"There are {rows_and_cols[0]} rows and {rows_and_cols[1]} columns.\\n\")\n",
    "print(bug_reports_data.info())\n",
    "\n",
    "# save the dataframe for machine learning experiments.\n",
    "filename, file_extension = os.path.splitext(bug_reports_path)\n",
    "bug_reports_data.to_csv(filename + \"_small\" + file_extension, index=False)"
   ]
  },
  {
   "cell_type": "code",
   "execution_count": 4,
   "metadata": {},
   "outputs": [
    {
     "name": "stdout",
     "output_type": "stream",
     "text": [
      "Header of bug reports history file\n",
      "Key,Who,When,What,Removed,Added\n",
      "EMF-354412,stepper,2011-08-10,status,new,assigned\n",
      "\n",
      "Number of lines in the history file:\n",
      "192050 datasets/20190830_eclipse_bug_report_history_data.csv\n"
     ]
    }
   ],
   "source": [
    "!echo \"Header of bug reports history file\"\n",
    "!head -n 2 $bug_reports_history_path\n",
    "\n",
    "!echo \"\\nNumber of lines in the history file:\"\n",
    "!wc -l $bug_reports_history_path\n"
   ]
  },
  {
   "cell_type": "code",
   "execution_count": 5,
   "metadata": {},
   "outputs": [
    {
     "name": "stdout",
     "output_type": "stream",
     "text": [
      "<class 'pandas.core.frame.DataFrame'>\n",
      "RangeIndex: 192049 entries, 0 to 192048\n",
      "Data columns (total 6 columns):\n",
      "Key        192049 non-null object\n",
      "Who        192049 non-null object\n",
      "When       192049 non-null object\n",
      "What       192049 non-null object\n",
      "Removed    146419 non-null object\n",
      "Added      190443 non-null object\n",
      "dtypes: object(6)\n",
      "memory usage: 8.8+ MB\n",
      "None\n",
      "There are 192049 rows and 6 columns.\n",
      "\n"
     ]
    }
   ],
   "source": [
    "# read bug reports data.\n",
    "bug_reports_history_data = pd.read_csv(bug_reports_history_path, sep=',')\n",
    "rows_and_cols = bug_reports_history_data.shape\n",
    "\n",
    "# print dataframe information.\n",
    "print(bug_reports_history_data.info())\n",
    "print(f\"There are {rows_and_cols[0]} rows and {rows_and_cols[1]} columns.\\n\")"
   ]
  },
  {
   "cell_type": "markdown",
   "metadata": {},
   "source": [
    "## Step 3. Review the data"
   ]
  },
  {
   "cell_type": "code",
   "execution_count": 6,
   "metadata": {},
   "outputs": [
    {
     "data": {
      "text/html": [
       "<div>\n",
       "<style scoped>\n",
       "    .dataframe tbody tr th:only-of-type {\n",
       "        vertical-align: middle;\n",
       "    }\n",
       "\n",
       "    .dataframe tbody tr th {\n",
       "        vertical-align: top;\n",
       "    }\n",
       "\n",
       "    .dataframe thead th {\n",
       "        text-align: right;\n",
       "    }\n",
       "</style>\n",
       "<table border=\"1\" class=\"dataframe\">\n",
       "  <thead>\n",
       "    <tr style=\"text-align: right;\">\n",
       "      <th></th>\n",
       "      <th>bug_id</th>\n",
       "      <th>creation_date</th>\n",
       "      <th>component_name</th>\n",
       "      <th>product_name</th>\n",
       "      <th>short_description</th>\n",
       "      <th>long_description</th>\n",
       "      <th>assignee_name</th>\n",
       "      <th>reporter_name</th>\n",
       "      <th>resolution_category</th>\n",
       "      <th>resolution_code</th>\n",
       "      <th>status_category</th>\n",
       "      <th>status_code</th>\n",
       "      <th>update_date</th>\n",
       "      <th>quantity_of_votes</th>\n",
       "      <th>quantity_of_comments</th>\n",
       "      <th>resolution_date</th>\n",
       "      <th>bug_fix_time</th>\n",
       "      <th>severity_category</th>\n",
       "      <th>severity_code</th>\n",
       "    </tr>\n",
       "  </thead>\n",
       "  <tbody>\n",
       "    <tr>\n",
       "      <th>0</th>\n",
       "      <td>EMF-354412</td>\n",
       "      <td>2011-08-10</td>\n",
       "      <td>cdo.core</td>\n",
       "      <td>EMF</td>\n",
       "      <td>containsAll returns wrong result in case of de...</td>\n",
       "      <td>Cloned from: 354395: containsAll returns wrong...</td>\n",
       "      <td>stepper</td>\n",
       "      <td>stepper</td>\n",
       "      <td>fixed</td>\n",
       "      <td>1</td>\n",
       "      <td>closed</td>\n",
       "      <td>6</td>\n",
       "      <td>2012-09-21</td>\n",
       "      <td>0</td>\n",
       "      <td>5</td>\n",
       "      <td>2011-08-10</td>\n",
       "      <td>0</td>\n",
       "      <td>normal</td>\n",
       "      <td>2</td>\n",
       "    </tr>\n",
       "    <tr>\n",
       "      <th>1</th>\n",
       "      <td>JSDT-253166</td>\n",
       "      <td>2008-11-03</td>\n",
       "      <td>General</td>\n",
       "      <td>JSDT</td>\n",
       "      <td>Javascript validation has several errors with ...</td>\n",
       "      <td>Some of our javascript-files yield parse-error...</td>\n",
       "      <td>cmjaun</td>\n",
       "      <td>acm</td>\n",
       "      <td>fixed</td>\n",
       "      <td>1</td>\n",
       "      <td>resolved</td>\n",
       "      <td>4</td>\n",
       "      <td>2010-03-03</td>\n",
       "      <td>0</td>\n",
       "      <td>6</td>\n",
       "      <td>2009-04-29</td>\n",
       "      <td>177</td>\n",
       "      <td>normal</td>\n",
       "      <td>2</td>\n",
       "    </tr>\n",
       "    <tr>\n",
       "      <th>2</th>\n",
       "      <td>ECLIPSELINK-338573</td>\n",
       "      <td>2011-03-01</td>\n",
       "      <td>SDO</td>\n",
       "      <td>ECLIPSELINK</td>\n",
       "      <td>Memory Improvement:  Reduce the instances of S...</td>\n",
       "      <td>Currently the SDO/OXM metadata is referring to...</td>\n",
       "      <td>blaise.doughan</td>\n",
       "      <td>blaise.doughan</td>\n",
       "      <td>fixed</td>\n",
       "      <td>1</td>\n",
       "      <td>resolved</td>\n",
       "      <td>4</td>\n",
       "      <td>2011-03-02</td>\n",
       "      <td>0</td>\n",
       "      <td>5</td>\n",
       "      <td>2011-03-02</td>\n",
       "      <td>1</td>\n",
       "      <td>normal</td>\n",
       "      <td>2</td>\n",
       "    </tr>\n",
       "    <tr>\n",
       "      <th>3</th>\n",
       "      <td>BIRT-150200</td>\n",
       "      <td>2006-07-10</td>\n",
       "      <td>Chart</td>\n",
       "      <td>BIRT</td>\n",
       "      <td>Stacked Area Chart: fill.set() ignored in befo...</td>\n",
       "      <td>In the attached report the fill.set() is being...</td>\n",
       "      <td>nli</td>\n",
       "      <td>eclipse</td>\n",
       "      <td>fixed</td>\n",
       "      <td>1</td>\n",
       "      <td>resolved</td>\n",
       "      <td>4</td>\n",
       "      <td>2010-03-24</td>\n",
       "      <td>0</td>\n",
       "      <td>7</td>\n",
       "      <td>2006-08-29</td>\n",
       "      <td>50</td>\n",
       "      <td>major</td>\n",
       "      <td>4</td>\n",
       "    </tr>\n",
       "    <tr>\n",
       "      <th>4</th>\n",
       "      <td>PAPYRUS-384964</td>\n",
       "      <td>2012-07-12</td>\n",
       "      <td>Core</td>\n",
       "      <td>PAPYRUS</td>\n",
       "      <td>[StateMachine Diagram] Papyrus does not forbid...</td>\n",
       "      <td>In some situation (seem to be when an element ...</td>\n",
       "      <td>ansgar.radermacher</td>\n",
       "      <td>yann.tanguy</td>\n",
       "      <td>fixed</td>\n",
       "      <td>1</td>\n",
       "      <td>resolved</td>\n",
       "      <td>4</td>\n",
       "      <td>2013-04-02</td>\n",
       "      <td>0</td>\n",
       "      <td>3</td>\n",
       "      <td>2013-04-02</td>\n",
       "      <td>264</td>\n",
       "      <td>critical</td>\n",
       "      <td>5</td>\n",
       "    </tr>\n",
       "  </tbody>\n",
       "</table>\n",
       "</div>"
      ],
      "text/plain": [
       "               bug_id creation_date component_name product_name  \\\n",
       "0          EMF-354412    2011-08-10       cdo.core          EMF   \n",
       "1         JSDT-253166    2008-11-03        General         JSDT   \n",
       "2  ECLIPSELINK-338573    2011-03-01            SDO  ECLIPSELINK   \n",
       "3         BIRT-150200    2006-07-10          Chart         BIRT   \n",
       "4      PAPYRUS-384964    2012-07-12           Core      PAPYRUS   \n",
       "\n",
       "                                   short_description  \\\n",
       "0  containsAll returns wrong result in case of de...   \n",
       "1  Javascript validation has several errors with ...   \n",
       "2  Memory Improvement:  Reduce the instances of S...   \n",
       "3  Stacked Area Chart: fill.set() ignored in befo...   \n",
       "4  [StateMachine Diagram] Papyrus does not forbid...   \n",
       "\n",
       "                                    long_description       assignee_name  \\\n",
       "0  Cloned from: 354395: containsAll returns wrong...             stepper   \n",
       "1  Some of our javascript-files yield parse-error...              cmjaun   \n",
       "2  Currently the SDO/OXM metadata is referring to...      blaise.doughan   \n",
       "3  In the attached report the fill.set() is being...                 nli   \n",
       "4  In some situation (seem to be when an element ...  ansgar.radermacher   \n",
       "\n",
       "    reporter_name resolution_category  resolution_code status_category  \\\n",
       "0         stepper               fixed                1          closed   \n",
       "1             acm               fixed                1        resolved   \n",
       "2  blaise.doughan               fixed                1        resolved   \n",
       "3         eclipse               fixed                1        resolved   \n",
       "4     yann.tanguy               fixed                1        resolved   \n",
       "\n",
       "   status_code update_date  quantity_of_votes  quantity_of_comments  \\\n",
       "0            6  2012-09-21                  0                     5   \n",
       "1            4  2010-03-03                  0                     6   \n",
       "2            4  2011-03-02                  0                     5   \n",
       "3            4  2010-03-24                  0                     7   \n",
       "4            4  2013-04-02                  0                     3   \n",
       "\n",
       "  resolution_date  bug_fix_time severity_category  severity_code  \n",
       "0      2011-08-10             0            normal              2  \n",
       "1      2009-04-29           177            normal              2  \n",
       "2      2011-03-02             1            normal              2  \n",
       "3      2006-08-29            50             major              4  \n",
       "4      2013-04-02           264          critical              5  "
      ]
     },
     "execution_count": 6,
     "metadata": {},
     "output_type": "execute_result"
    }
   ],
   "source": [
    "bug_reports_data.head()"
   ]
  },
  {
   "cell_type": "code",
   "execution_count": 7,
   "metadata": {},
   "outputs": [
    {
     "data": {
      "text/html": [
       "<div>\n",
       "<style scoped>\n",
       "    .dataframe tbody tr th:only-of-type {\n",
       "        vertical-align: middle;\n",
       "    }\n",
       "\n",
       "    .dataframe tbody tr th {\n",
       "        vertical-align: top;\n",
       "    }\n",
       "\n",
       "    .dataframe thead th {\n",
       "        text-align: right;\n",
       "    }\n",
       "</style>\n",
       "<table border=\"1\" class=\"dataframe\">\n",
       "  <thead>\n",
       "    <tr style=\"text-align: right;\">\n",
       "      <th></th>\n",
       "      <th>resolution_code</th>\n",
       "      <th>status_code</th>\n",
       "      <th>quantity_of_votes</th>\n",
       "      <th>quantity_of_comments</th>\n",
       "      <th>bug_fix_time</th>\n",
       "      <th>severity_code</th>\n",
       "    </tr>\n",
       "  </thead>\n",
       "  <tbody>\n",
       "    <tr>\n",
       "      <th>count</th>\n",
       "      <td>10000.0</td>\n",
       "      <td>10000.000000</td>\n",
       "      <td>10000.00000</td>\n",
       "      <td>10000.000000</td>\n",
       "      <td>10000.000000</td>\n",
       "      <td>10000.000000</td>\n",
       "    </tr>\n",
       "    <tr>\n",
       "      <th>mean</th>\n",
       "      <td>1.0</td>\n",
       "      <td>4.689800</td>\n",
       "      <td>0.04770</td>\n",
       "      <td>5.838100</td>\n",
       "      <td>108.530300</td>\n",
       "      <td>2.371500</td>\n",
       "    </tr>\n",
       "    <tr>\n",
       "      <th>std</th>\n",
       "      <td>0.0</td>\n",
       "      <td>0.950719</td>\n",
       "      <td>0.71153</td>\n",
       "      <td>5.797107</td>\n",
       "      <td>317.657809</td>\n",
       "      <td>0.964148</td>\n",
       "    </tr>\n",
       "    <tr>\n",
       "      <th>min</th>\n",
       "      <td>1.0</td>\n",
       "      <td>4.000000</td>\n",
       "      <td>0.00000</td>\n",
       "      <td>1.000000</td>\n",
       "      <td>0.000000</td>\n",
       "      <td>1.000000</td>\n",
       "    </tr>\n",
       "    <tr>\n",
       "      <th>25%</th>\n",
       "      <td>1.0</td>\n",
       "      <td>4.000000</td>\n",
       "      <td>0.00000</td>\n",
       "      <td>3.000000</td>\n",
       "      <td>1.000000</td>\n",
       "      <td>2.000000</td>\n",
       "    </tr>\n",
       "    <tr>\n",
       "      <th>50%</th>\n",
       "      <td>1.0</td>\n",
       "      <td>4.000000</td>\n",
       "      <td>0.00000</td>\n",
       "      <td>4.000000</td>\n",
       "      <td>8.000000</td>\n",
       "      <td>2.000000</td>\n",
       "    </tr>\n",
       "    <tr>\n",
       "      <th>75%</th>\n",
       "      <td>1.0</td>\n",
       "      <td>6.000000</td>\n",
       "      <td>0.00000</td>\n",
       "      <td>7.000000</td>\n",
       "      <td>63.000000</td>\n",
       "      <td>2.000000</td>\n",
       "    </tr>\n",
       "    <tr>\n",
       "      <th>max</th>\n",
       "      <td>1.0</td>\n",
       "      <td>6.000000</td>\n",
       "      <td>46.00000</td>\n",
       "      <td>182.000000</td>\n",
       "      <td>4961.000000</td>\n",
       "      <td>6.000000</td>\n",
       "    </tr>\n",
       "  </tbody>\n",
       "</table>\n",
       "</div>"
      ],
      "text/plain": [
       "       resolution_code   status_code  quantity_of_votes  quantity_of_comments  \\\n",
       "count          10000.0  10000.000000        10000.00000          10000.000000   \n",
       "mean               1.0      4.689800            0.04770              5.838100   \n",
       "std                0.0      0.950719            0.71153              5.797107   \n",
       "min                1.0      4.000000            0.00000              1.000000   \n",
       "25%                1.0      4.000000            0.00000              3.000000   \n",
       "50%                1.0      4.000000            0.00000              4.000000   \n",
       "75%                1.0      6.000000            0.00000              7.000000   \n",
       "max                1.0      6.000000           46.00000            182.000000   \n",
       "\n",
       "       bug_fix_time  severity_code  \n",
       "count  10000.000000   10000.000000  \n",
       "mean     108.530300       2.371500  \n",
       "std      317.657809       0.964148  \n",
       "min        0.000000       1.000000  \n",
       "25%        1.000000       2.000000  \n",
       "50%        8.000000       2.000000  \n",
       "75%       63.000000       2.000000  \n",
       "max     4961.000000       6.000000  "
      ]
     },
     "execution_count": 7,
     "metadata": {},
     "output_type": "execute_result"
    }
   ],
   "source": [
    "bug_reports_data.describe()"
   ]
  },
  {
   "cell_type": "code",
   "execution_count": 8,
   "metadata": {},
   "outputs": [
    {
     "data": {
      "text/html": [
       "<div>\n",
       "<style scoped>\n",
       "    .dataframe tbody tr th:only-of-type {\n",
       "        vertical-align: middle;\n",
       "    }\n",
       "\n",
       "    .dataframe tbody tr th {\n",
       "        vertical-align: top;\n",
       "    }\n",
       "\n",
       "    .dataframe thead th {\n",
       "        text-align: right;\n",
       "    }\n",
       "</style>\n",
       "<table border=\"1\" class=\"dataframe\">\n",
       "  <thead>\n",
       "    <tr style=\"text-align: right;\">\n",
       "      <th></th>\n",
       "      <th>Key</th>\n",
       "      <th>Who</th>\n",
       "      <th>When</th>\n",
       "      <th>What</th>\n",
       "      <th>Removed</th>\n",
       "      <th>Added</th>\n",
       "    </tr>\n",
       "  </thead>\n",
       "  <tbody>\n",
       "    <tr>\n",
       "      <th>0</th>\n",
       "      <td>EMF-354412</td>\n",
       "      <td>stepper</td>\n",
       "      <td>2011-08-10</td>\n",
       "      <td>status</td>\n",
       "      <td>new</td>\n",
       "      <td>assigned</td>\n",
       "    </tr>\n",
       "    <tr>\n",
       "      <th>1</th>\n",
       "      <td>EMF-354412</td>\n",
       "      <td>stepper</td>\n",
       "      <td>2011-08-10</td>\n",
       "      <td>assignee</td>\n",
       "      <td>emf.cdo-inbox</td>\n",
       "      <td>stepper</td>\n",
       "    </tr>\n",
       "    <tr>\n",
       "      <th>2</th>\n",
       "      <td>EMF-354412</td>\n",
       "      <td>stepper</td>\n",
       "      <td>2011-08-10</td>\n",
       "      <td>status</td>\n",
       "      <td>assigned</td>\n",
       "      <td>resolved</td>\n",
       "    </tr>\n",
       "    <tr>\n",
       "      <th>3</th>\n",
       "      <td>EMF-354412</td>\n",
       "      <td>stepper</td>\n",
       "      <td>2011-08-10</td>\n",
       "      <td>resolution</td>\n",
       "      <td>---</td>\n",
       "      <td>fixed</td>\n",
       "    </tr>\n",
       "    <tr>\n",
       "      <th>4</th>\n",
       "      <td>EMF-354412</td>\n",
       "      <td>stepper</td>\n",
       "      <td>2012-09-21</td>\n",
       "      <td>status</td>\n",
       "      <td>resolved</td>\n",
       "      <td>closed</td>\n",
       "    </tr>\n",
       "  </tbody>\n",
       "</table>\n",
       "</div>"
      ],
      "text/plain": [
       "          Key      Who        When        What        Removed     Added\n",
       "0  EMF-354412  stepper  2011-08-10      status            new  assigned\n",
       "1  EMF-354412  stepper  2011-08-10    assignee  emf.cdo-inbox   stepper\n",
       "2  EMF-354412  stepper  2011-08-10      status       assigned  resolved\n",
       "3  EMF-354412  stepper  2011-08-10  resolution            ---     fixed\n",
       "4  EMF-354412  stepper  2012-09-21      status       resolved    closed"
      ]
     },
     "execution_count": 8,
     "metadata": {},
     "output_type": "execute_result"
    }
   ],
   "source": [
    "bug_reports_history_data.head()"
   ]
  },
  {
   "cell_type": "markdown",
   "metadata": {},
   "source": [
    "## Step 4. Pre-processing the data"
   ]
  },
  {
   "cell_type": "code",
   "execution_count": 23,
   "metadata": {},
   "outputs": [
    {
     "data": {
      "text/html": [
       "<div>\n",
       "<style scoped>\n",
       "    .dataframe tbody tr th:only-of-type {\n",
       "        vertical-align: middle;\n",
       "    }\n",
       "\n",
       "    .dataframe tbody tr th {\n",
       "        vertical-align: top;\n",
       "    }\n",
       "\n",
       "    .dataframe thead th {\n",
       "        text-align: right;\n",
       "    }\n",
       "</style>\n",
       "<table border=\"1\" class=\"dataframe\">\n",
       "  <thead>\n",
       "    <tr style=\"text-align: right;\">\n",
       "      <th></th>\n",
       "      <th>bug_id</th>\n",
       "      <th>creation_date</th>\n",
       "      <th>component_name</th>\n",
       "      <th>product_name</th>\n",
       "      <th>short_description</th>\n",
       "      <th>long_description</th>\n",
       "      <th>assignee_name</th>\n",
       "      <th>reporter_name</th>\n",
       "      <th>resolution_category</th>\n",
       "      <th>resolution_code</th>\n",
       "      <th>...</th>\n",
       "      <th>update_date</th>\n",
       "      <th>quantity_of_votes</th>\n",
       "      <th>quantity_of_comments</th>\n",
       "      <th>resolution_date</th>\n",
       "      <th>bug_fix_time</th>\n",
       "      <th>severity_category</th>\n",
       "      <th>severity_code</th>\n",
       "      <th>short_description_words</th>\n",
       "      <th>long_description_words</th>\n",
       "      <th>long_lived?</th>\n",
       "    </tr>\n",
       "  </thead>\n",
       "  <tbody>\n",
       "    <tr>\n",
       "      <th>0</th>\n",
       "      <td>EMF-354412</td>\n",
       "      <td>2011-08-10</td>\n",
       "      <td>cdo.core</td>\n",
       "      <td>EMF</td>\n",
       "      <td>containsAll returns wrong result in case of de...</td>\n",
       "      <td>Cloned from: 354395: containsAll returns wrong...</td>\n",
       "      <td>stepper</td>\n",
       "      <td>stepper</td>\n",
       "      <td>fixed</td>\n",
       "      <td>1</td>\n",
       "      <td>...</td>\n",
       "      <td>2012-09-21</td>\n",
       "      <td>0</td>\n",
       "      <td>5</td>\n",
       "      <td>2011-08-10</td>\n",
       "      <td>0</td>\n",
       "      <td>normal</td>\n",
       "      <td>2</td>\n",
       "      <td>9</td>\n",
       "      <td>134</td>\n",
       "      <td>short-lived</td>\n",
       "    </tr>\n",
       "    <tr>\n",
       "      <th>1</th>\n",
       "      <td>JSDT-253166</td>\n",
       "      <td>2008-11-03</td>\n",
       "      <td>General</td>\n",
       "      <td>JSDT</td>\n",
       "      <td>Javascript validation has several errors with ...</td>\n",
       "      <td>Some of our javascript-files yield parse-error...</td>\n",
       "      <td>cmjaun</td>\n",
       "      <td>acm</td>\n",
       "      <td>fixed</td>\n",
       "      <td>1</td>\n",
       "      <td>...</td>\n",
       "      <td>2010-03-03</td>\n",
       "      <td>0</td>\n",
       "      <td>6</td>\n",
       "      <td>2009-04-29</td>\n",
       "      <td>177</td>\n",
       "      <td>normal</td>\n",
       "      <td>2</td>\n",
       "      <td>8</td>\n",
       "      <td>179</td>\n",
       "      <td>short-lived</td>\n",
       "    </tr>\n",
       "    <tr>\n",
       "      <th>2</th>\n",
       "      <td>ECLIPSELINK-338573</td>\n",
       "      <td>2011-03-01</td>\n",
       "      <td>SDO</td>\n",
       "      <td>ECLIPSELINK</td>\n",
       "      <td>Memory Improvement:  Reduce the instances of S...</td>\n",
       "      <td>Currently the SDO/OXM metadata is referring to...</td>\n",
       "      <td>blaise.doughan</td>\n",
       "      <td>blaise.doughan</td>\n",
       "      <td>fixed</td>\n",
       "      <td>1</td>\n",
       "      <td>...</td>\n",
       "      <td>2011-03-02</td>\n",
       "      <td>0</td>\n",
       "      <td>5</td>\n",
       "      <td>2011-03-02</td>\n",
       "      <td>1</td>\n",
       "      <td>normal</td>\n",
       "      <td>2</td>\n",
       "      <td>7</td>\n",
       "      <td>23</td>\n",
       "      <td>short-lived</td>\n",
       "    </tr>\n",
       "    <tr>\n",
       "      <th>3</th>\n",
       "      <td>BIRT-150200</td>\n",
       "      <td>2006-07-10</td>\n",
       "      <td>Chart</td>\n",
       "      <td>BIRT</td>\n",
       "      <td>Stacked Area Chart: fill.set() ignored in befo...</td>\n",
       "      <td>In the attached report the fill.set() is being...</td>\n",
       "      <td>nli</td>\n",
       "      <td>eclipse</td>\n",
       "      <td>fixed</td>\n",
       "      <td>1</td>\n",
       "      <td>...</td>\n",
       "      <td>2010-03-24</td>\n",
       "      <td>0</td>\n",
       "      <td>7</td>\n",
       "      <td>2006-08-29</td>\n",
       "      <td>50</td>\n",
       "      <td>major</td>\n",
       "      <td>4</td>\n",
       "      <td>7</td>\n",
       "      <td>29</td>\n",
       "      <td>short-lived</td>\n",
       "    </tr>\n",
       "    <tr>\n",
       "      <th>4</th>\n",
       "      <td>PAPYRUS-384964</td>\n",
       "      <td>2012-07-12</td>\n",
       "      <td>Core</td>\n",
       "      <td>PAPYRUS</td>\n",
       "      <td>[StateMachine Diagram] Papyrus does not forbid...</td>\n",
       "      <td>In some situation (seem to be when an element ...</td>\n",
       "      <td>ansgar.radermacher</td>\n",
       "      <td>yann.tanguy</td>\n",
       "      <td>fixed</td>\n",
       "      <td>1</td>\n",
       "      <td>...</td>\n",
       "      <td>2013-04-02</td>\n",
       "      <td>0</td>\n",
       "      <td>3</td>\n",
       "      <td>2013-04-02</td>\n",
       "      <td>264</td>\n",
       "      <td>critical</td>\n",
       "      <td>5</td>\n",
       "      <td>14</td>\n",
       "      <td>73</td>\n",
       "      <td>short-lived</td>\n",
       "    </tr>\n",
       "  </tbody>\n",
       "</table>\n",
       "<p>5 rows × 22 columns</p>\n",
       "</div>"
      ],
      "text/plain": [
       "               bug_id creation_date component_name product_name  \\\n",
       "0          EMF-354412    2011-08-10       cdo.core          EMF   \n",
       "1         JSDT-253166    2008-11-03        General         JSDT   \n",
       "2  ECLIPSELINK-338573    2011-03-01            SDO  ECLIPSELINK   \n",
       "3         BIRT-150200    2006-07-10          Chart         BIRT   \n",
       "4      PAPYRUS-384964    2012-07-12           Core      PAPYRUS   \n",
       "\n",
       "                                   short_description  \\\n",
       "0  containsAll returns wrong result in case of de...   \n",
       "1  Javascript validation has several errors with ...   \n",
       "2  Memory Improvement:  Reduce the instances of S...   \n",
       "3  Stacked Area Chart: fill.set() ignored in befo...   \n",
       "4  [StateMachine Diagram] Papyrus does not forbid...   \n",
       "\n",
       "                                    long_description       assignee_name  \\\n",
       "0  Cloned from: 354395: containsAll returns wrong...             stepper   \n",
       "1  Some of our javascript-files yield parse-error...              cmjaun   \n",
       "2  Currently the SDO/OXM metadata is referring to...      blaise.doughan   \n",
       "3  In the attached report the fill.set() is being...                 nli   \n",
       "4  In some situation (seem to be when an element ...  ansgar.radermacher   \n",
       "\n",
       "    reporter_name resolution_category  resolution_code  ... update_date  \\\n",
       "0         stepper               fixed                1  ...  2012-09-21   \n",
       "1             acm               fixed                1  ...  2010-03-03   \n",
       "2  blaise.doughan               fixed                1  ...  2011-03-02   \n",
       "3         eclipse               fixed                1  ...  2010-03-24   \n",
       "4     yann.tanguy               fixed                1  ...  2013-04-02   \n",
       "\n",
       "   quantity_of_votes quantity_of_comments  resolution_date  bug_fix_time  \\\n",
       "0                  0                    5       2011-08-10             0   \n",
       "1                  0                    6       2009-04-29           177   \n",
       "2                  0                    5       2011-03-02             1   \n",
       "3                  0                    7       2006-08-29            50   \n",
       "4                  0                    3       2013-04-02           264   \n",
       "\n",
       "  severity_category  severity_code short_description_words  \\\n",
       "0            normal              2                       9   \n",
       "1            normal              2                       8   \n",
       "2            normal              2                       7   \n",
       "3             major              4                       7   \n",
       "4          critical              5                      14   \n",
       "\n",
       "   long_description_words  long_lived?  \n",
       "0                     134  short-lived  \n",
       "1                     179  short-lived  \n",
       "2                      23  short-lived  \n",
       "3                      29  short-lived  \n",
       "4                      73  short-lived  \n",
       "\n",
       "[5 rows x 22 columns]"
      ]
     },
     "execution_count": 23,
     "metadata": {},
     "output_type": "execute_result"
    }
   ],
   "source": [
    "bug_reports_data['short_description'] = bug_reports_data['short_description'].fillna(\"\")\n",
    "bug_reports_data['long_description']  = bug_reports_data['long_description'].fillna(\"\")\n",
    "bug_reports_data['short_description_words'] = bug_reports_data['short_description'].str.split().apply(lambda l: len(l))\n",
    "bug_reports_data['long_description_words']  = bug_reports_data['long_description'].str.split().apply(lambda l: len(l))\n",
    "bug_reports_data['long_lived?']  = bug_reports_data['bug_fix_time'].apply(lambda t: 'long-lived' if t > 365 else 'short-lived')\n",
    "bug_reports_data.head()"
   ]
  },
  {
   "cell_type": "markdown",
   "metadata": {},
   "source": [
    "## Step 5. How frequent are long-lived bugs?"
   ]
  },
  {
   "cell_type": "code",
   "execution_count": 24,
   "metadata": {},
   "outputs": [
    {
     "data": {
      "text/plain": [
       "[None]"
      ]
     },
     "execution_count": 24,
     "metadata": {},
     "output_type": "execute_result"
    },
    {
     "data": {
      "image/png": "[encoded data removed]",
      "text/plain": [
       "<Figure size 1440x576 with 2 Axes>"
      ]
     },
     "metadata": {
      "needs_background": "light"
     },
     "output_type": "display_data"
    }
   ],
   "source": [
    "fig, ax = plt.subplots(figsize=(20,8), ncols=2)\n",
    "sns.despine(offset=5)\n",
    "sns.color_palette(\"Paired\")\n",
    "\n",
    "# Long-lived? histogram distribution\n",
    "g = sns.distplot(bug_reports_data['bug_fix_time']\n",
    "                 , kde=False, kde_kws={\"color\": \"b\", \"alpha\": 0.5, \"lw\": 3}, bins=15\n",
    "                 , hist=True, hist_kws={\"histtype\": \"step\", \"linewidth\": 3,\"alpha\": 0.8, \"color\": \"seagreen\"}\n",
    "                 , ax=ax[0])\n",
    "g.set(ylim=(0, 10000))\n",
    "\n",
    "g.axvline(bug_fix_time_threshold, color='r', linestyle='--'\n",
    "          , label = f\"Threshold : {bug_fix_time_threshold}\")\n",
    "\n",
    "g = sns.boxplot(y=\"bug_fix_time\"\n",
    "                , data=bug_reports_data\n",
    "                , showfliers=True, ax=ax[1]\n",
    "                , palette=[\"seagreen\"]\n",
    "                , boxprops=dict(alpha=.5)\n",
    ")\n",
    "g.set(yscale=\"log\")"
   ]
  },
  {
   "cell_type": "code",
   "execution_count": 11,
   "metadata": {},
   "outputs": [
    {
     "data": {
      "text/plain": [
       "([<matplotlib.patches.Wedge at 0x7f03174d8a90>,\n",
       "  <matplotlib.patches.Wedge at 0x7f03174e9b00>],\n",
       " [Text(-1.068302626145748, 0.26216311519757773, 'short-lived'),\n",
       "  Text(1.0683026138730054, -0.26216316520843325, 'long-lived')],\n",
       " [Text(-0.5827105233522261, 0.14299806283504238, '92.3%'),\n",
       "  Text(0.5827105166580029, -0.14299809011369086, '7.7%')])"
      ]
     },
     "execution_count": 11,
     "metadata": {},
     "output_type": "execute_result"
    },
    {
     "data": {
      "image/png": "[encoded data removed]",
      "text/plain": [
       "<Figure size 1440x576 with 2 Axes>"
      ]
     },
     "metadata": {
      "needs_background": "light"
     },
     "output_type": "display_data"
    }
   ],
   "source": [
    "bug_reports_count = bug_reports_data[\"long_lived?\"].value_counts()\n",
    "\n",
    "# bar plot\n",
    "f, ax = plt.subplots(figsize=(20,8), ncols=2)\n",
    "plt.subplots_adjust(wspace=0, hspace=1)\n",
    "sns.despine(offset=5)\n",
    "sns.set_palette(\"deep\")\n",
    "g = sns.barplot(\n",
    "      x=bug_reports_count.index\n",
    "    , y=bug_reports_count.values\n",
    "    , palette=[ \"steelblue\", \"indianred\"]\n",
    "    , ax=ax[0]\n",
    ")\n",
    "g.set(ylim=(0, 10000))\n",
    "\n",
    "# pie plot\n",
    "ax[1].pie(\n",
    "    bug_reports_count.values\n",
    "    , labels=bug_reports_count.index, autopct='%1.1f%%'\n",
    "    , colors=[\"steelblue\", \"indianred\"]\n",
    ")\n",
    "\n"
   ]
  },
  {
   "cell_type": "markdown",
   "metadata": {},
   "source": [
    "## Step 6. Bug Reporter"
   ]
  },
  {
   "cell_type": "code",
   "execution_count": 12,
   "metadata": {},
   "outputs": [
    {
     "name": "stdout",
     "output_type": "stream",
     "text": [
      "2876 reporters reported 10000 bugs.\n"
     ]
    }
   ],
   "source": [
    "number_of_reports   = bug_reports_data['bug_id'].count()\n",
    "number_of_reporters = bug_reports_data['reporter_name'].nunique()\n",
    "print(f\"{number_of_reporters} reporters reported {number_of_reports} bugs.\")"
   ]
  },
  {
   "cell_type": "code",
   "execution_count": 13,
   "metadata": {},
   "outputs": [
    {
     "data": {
      "text/html": [
       "<div>\n",
       "<style scoped>\n",
       "    .dataframe tbody tr th:only-of-type {\n",
       "        vertical-align: middle;\n",
       "    }\n",
       "\n",
       "    .dataframe tbody tr th {\n",
       "        vertical-align: top;\n",
       "    }\n",
       "\n",
       "    .dataframe thead th {\n",
       "        text-align: right;\n",
       "    }\n",
       "</style>\n",
       "<table border=\"1\" class=\"dataframe\">\n",
       "  <thead>\n",
       "    <tr style=\"text-align: right;\">\n",
       "      <th></th>\n",
       "      <th>count</th>\n",
       "    </tr>\n",
       "    <tr>\n",
       "      <th>reporter_name</th>\n",
       "      <th></th>\n",
       "    </tr>\n",
       "  </thead>\n",
       "  <tbody>\n",
       "    <tr>\n",
       "      <th>david_williams</th>\n",
       "      <td>139</td>\n",
       "    </tr>\n",
       "    <tr>\n",
       "      <th>eclipse</th>\n",
       "      <td>108</td>\n",
       "    </tr>\n",
       "    <tr>\n",
       "      <th>markus.kell.r</th>\n",
       "      <td>85</td>\n",
       "    </tr>\n",
       "    <tr>\n",
       "      <th>wayne.beaton</th>\n",
       "      <td>82</td>\n",
       "    </tr>\n",
       "    <tr>\n",
       "      <th>ed</th>\n",
       "      <td>76</td>\n",
       "    </tr>\n",
       "    <tr>\n",
       "      <th>pascal</th>\n",
       "      <td>71</td>\n",
       "    </tr>\n",
       "    <tr>\n",
       "      <th>john.arthorne</th>\n",
       "      <td>69</td>\n",
       "    </tr>\n",
       "    <tr>\n",
       "      <th>Lars.Vogel</th>\n",
       "      <td>69</td>\n",
       "    </tr>\n",
       "    <tr>\n",
       "      <th>daniel_megert</th>\n",
       "      <td>64</td>\n",
       "    </tr>\n",
       "    <tr>\n",
       "      <th>steffen.pingel</th>\n",
       "      <td>64</td>\n",
       "    </tr>\n",
       "  </tbody>\n",
       "</table>\n",
       "</div>"
      ],
      "text/plain": [
       "                count\n",
       "reporter_name        \n",
       "david_williams    139\n",
       "eclipse           108\n",
       "markus.kell.r      85\n",
       "wayne.beaton       82\n",
       "ed                 76\n",
       "pascal             71\n",
       "john.arthorne      69\n",
       "Lars.Vogel         69\n",
       "daniel_megert      64\n",
       "steffen.pingel     64"
      ]
     },
     "execution_count": 13,
     "metadata": {},
     "output_type": "execute_result"
    }
   ],
   "source": [
    "top_10_reporters = bug_reports_data.groupby('reporter_name').reporter_name.agg(['count'])\n",
    "top_10_reporters = top_10_reporters.sort_values('count', ascending=False)[0:10]\n",
    "top_10_reporters"
   ]
  },
  {
   "cell_type": "code",
   "execution_count": 14,
   "metadata": {},
   "outputs": [
    {
     "data": {
      "text/plain": [
       "[None]"
      ]
     },
     "execution_count": 14,
     "metadata": {},
     "output_type": "execute_result"
    },
    {
     "data": {
      "image/png": "[encoded data removed]",
      "text/plain": [
       "<Figure size 1080x576 with 1 Axes>"
      ]
     },
     "metadata": {
      "needs_background": "light"
     },
     "output_type": "display_data"
    }
   ],
   "source": [
    "bug_reports_data_for_top_10_reporters=bug_reports_data[bug_reports_data['reporter_name'].isin(top_10_reporters.index)]\n",
    "bug_reports_data_for_top_10_reporters=bug_reports_data_for_top_10_reporters.sort_values(by=['reporter_name'])\n",
    "\n",
    "fig, ax = plt.subplots(figsize=(15,8))\n",
    "sns.despine(offset=5)\n",
    "sns.set_palette(\"deep\")\n",
    "g = sns.boxplot(data=bug_reports_data_for_top_10_reporters\n",
    "            , x=\"reporter_name\"\n",
    "            , y=\"bug_fix_time\"\n",
    "            , showfliers=True)\n",
    "g.set(title=\"Bug fix time by components\", xlabel=\"\", ylabel=\"Bug fix time\")\n",
    "g.set(yscale=\"log\")"
   ]
  },
  {
   "cell_type": "code",
   "execution_count": 15,
   "metadata": {},
   "outputs": [
    {
     "data": {
      "text/plain": [
       "[Text(0, 0.5, 'Percentage'),\n",
       " Text(0.5, 0, ''),\n",
       " Text(0.5, 1.0, 'Bug reports by reporter')]"
      ]
     },
     "execution_count": 15,
     "metadata": {},
     "output_type": "execute_result"
    },
    {
     "data": {
      "image/png": "[encoded data removed]",
      "text/plain": [
       "<Figure size 1080x576 with 1 Axes>"
      ]
     },
     "metadata": {
      "needs_background": "light"
     },
     "output_type": "display_data"
    }
   ],
   "source": [
    "fig, ax = plt.subplots(figsize=(15,8))\n",
    "sns.despine(offset=5)\n",
    "\n",
    "palette=color=[\"indianred\", \"steelblue\"]\n",
    "bug_reports_data_grouped = bug_reports_data_for_top_10_reporters.groupby(\"reporter_name\")['long_lived?'].value_counts(normalize=True).unstack()\n",
    "\n",
    "bug_reports_data_grouped.plot(kind='bar', stacked='True', color=palette, ax=ax)\n",
    "ax.set(ylim=(0, 1))\n",
    "ax.set(title=\"Bug reports by reporter\", xlabel=\"\", ylabel=\"Percentage\")\n"
   ]
  },
  {
   "cell_type": "markdown",
   "metadata": {},
   "source": [
    "## Step 7. Assignee"
   ]
  },
  {
   "cell_type": "code",
   "execution_count": 16,
   "metadata": {},
   "outputs": [
    {
     "data": {
      "text/html": [
       "<div>\n",
       "<style scoped>\n",
       "    .dataframe tbody tr th:only-of-type {\n",
       "        vertical-align: middle;\n",
       "    }\n",
       "\n",
       "    .dataframe tbody tr th {\n",
       "        vertical-align: top;\n",
       "    }\n",
       "\n",
       "    .dataframe thead th {\n",
       "        text-align: right;\n",
       "    }\n",
       "</style>\n",
       "<table border=\"1\" class=\"dataframe\">\n",
       "  <thead>\n",
       "    <tr style=\"text-align: right;\">\n",
       "      <th></th>\n",
       "      <th>count</th>\n",
       "    </tr>\n",
       "    <tr>\n",
       "      <th>assignee_name</th>\n",
       "      <th></th>\n",
       "    </tr>\n",
       "  </thead>\n",
       "  <tbody>\n",
       "    <tr>\n",
       "      <th>webmaster</th>\n",
       "      <td>191</td>\n",
       "    </tr>\n",
       "    <tr>\n",
       "      <th>rap-inbox</th>\n",
       "      <td>111</td>\n",
       "    </tr>\n",
       "    <tr>\n",
       "      <th>tmf.xtext-inbox</th>\n",
       "      <td>105</td>\n",
       "    </tr>\n",
       "    <tr>\n",
       "      <th>Silenio_Quarti</th>\n",
       "      <td>90</td>\n",
       "    </tr>\n",
       "    <tr>\n",
       "      <th>emo</th>\n",
       "      <td>81</td>\n",
       "    </tr>\n",
       "    <tr>\n",
       "      <th>eclipse</th>\n",
       "      <td>76</td>\n",
       "    </tr>\n",
       "    <tr>\n",
       "      <th>david_williams</th>\n",
       "      <td>76</td>\n",
       "    </tr>\n",
       "    <tr>\n",
       "      <th>pde-ui-inbox</th>\n",
       "      <td>75</td>\n",
       "    </tr>\n",
       "    <tr>\n",
       "      <th>ci.admin-inbox</th>\n",
       "      <td>70</td>\n",
       "    </tr>\n",
       "    <tr>\n",
       "      <th>mdt-papyrus-inbox</th>\n",
       "      <td>66</td>\n",
       "    </tr>\n",
       "  </tbody>\n",
       "</table>\n",
       "</div>"
      ],
      "text/plain": [
       "                   count\n",
       "assignee_name           \n",
       "webmaster            191\n",
       "rap-inbox            111\n",
       "tmf.xtext-inbox      105\n",
       "Silenio_Quarti        90\n",
       "emo                   81\n",
       "eclipse               76\n",
       "david_williams        76\n",
       "pde-ui-inbox          75\n",
       "ci.admin-inbox        70\n",
       "mdt-papyrus-inbox     66"
      ]
     },
     "execution_count": 16,
     "metadata": {},
     "output_type": "execute_result"
    }
   ],
   "source": [
    "top_10_assignee = bug_reports_data.groupby('assignee_name').assignee_name.agg(['count'])\n",
    "top_10_assignee = top_10_assignee.sort_values('count', ascending=False)[0:10]\n",
    "top_10_assignee"
   ]
  },
  {
   "cell_type": "code",
   "execution_count": 17,
   "metadata": {},
   "outputs": [
    {
     "data": {
      "text/plain": [
       "[None]"
      ]
     },
     "execution_count": 17,
     "metadata": {},
     "output_type": "execute_result"
    },
    {
     "data": {
      "image/png": "[encoded data removed]",
      "text/plain": [
       "<Figure size 1080x576 with 1 Axes>"
      ]
     },
     "metadata": {
      "needs_background": "light"
     },
     "output_type": "display_data"
    }
   ],
   "source": [
    "fig, ax = plt.subplots(figsize=(15,8))\n",
    "bug_reports_data_for_top_10_assignee=bug_reports_data[bug_reports_data['assignee_name'].isin(top_10_assignee.index)] \n",
    "\n",
    "sns.despine(offset=5)\n",
    "g = sns.boxplot(data=bug_reports_data_for_top_10_assignee\n",
    "            , x=\"assignee_name\"\n",
    "            , y=\"bug_fix_time\"\n",
    "            , showfliers=True)\n",
    "g.set(title=\"Bug fix time by assignee\", xlabel=\"\", ylabel=\"Bug fix time\")\n",
    "g.set(yscale=\"log\")"
   ]
  },
  {
   "cell_type": "code",
   "execution_count": 18,
   "metadata": {},
   "outputs": [
    {
     "data": {
      "text/plain": [
       "[Text(0, 0.5, 'Percentage'),\n",
       " Text(0.5, 0, ''),\n",
       " Text(0.5, 1.0, 'Bug reports by assignee')]"
      ]
     },
     "execution_count": 18,
     "metadata": {},
     "output_type": "execute_result"
    },
    {
     "data": {
      "image/png": "[encoded data removed]",
      "text/plain": [
       "<Figure size 1080x576 with 1 Axes>"
      ]
     },
     "metadata": {
      "needs_background": "light"
     },
     "output_type": "display_data"
    }
   ],
   "source": [
    "bug_reports_data_grouped = bug_reports_data_for_top_10_assignee.groupby(\"assignee_name\")['long_lived?'].value_counts(normalize=True).unstack()\n",
    "\n",
    "# stacked bar plot.\n",
    "fig, ax = plt.subplots(figsize=(15,8))\n",
    "sns.despine(offset=5)\n",
    "bug_reports_data_grouped.plot(kind='bar', stacked='True', color=[\"indianred\", \"steelblue\"], ax=ax)\n",
    "ax.set(ylim=(0, 1))\n",
    "ax.set(title=\"Bug reports by assignee\", xlabel=\"\", ylabel=\"Percentage\")"
   ]
  },
  {
   "cell_type": "markdown",
   "metadata": {},
   "source": [
    "## Step 8. Component"
   ]
  },
  {
   "cell_type": "code",
   "execution_count": 19,
   "metadata": {},
   "outputs": [
    {
     "data": {
      "text/html": [
       "<div>\n",
       "<style scoped>\n",
       "    .dataframe tbody tr th:only-of-type {\n",
       "        vertical-align: middle;\n",
       "    }\n",
       "\n",
       "    .dataframe tbody tr th {\n",
       "        vertical-align: top;\n",
       "    }\n",
       "\n",
       "    .dataframe thead th {\n",
       "        text-align: right;\n",
       "    }\n",
       "</style>\n",
       "<table border=\"1\" class=\"dataframe\">\n",
       "  <thead>\n",
       "    <tr style=\"text-align: right;\">\n",
       "      <th></th>\n",
       "      <th>count</th>\n",
       "    </tr>\n",
       "    <tr>\n",
       "      <th>component_name</th>\n",
       "      <th></th>\n",
       "    </tr>\n",
       "  </thead>\n",
       "  <tbody>\n",
       "    <tr>\n",
       "      <th>UI</th>\n",
       "      <td>1063</td>\n",
       "    </tr>\n",
       "    <tr>\n",
       "      <th>Core</th>\n",
       "      <td>785</td>\n",
       "    </tr>\n",
       "    <tr>\n",
       "      <th>SWT</th>\n",
       "      <td>344</td>\n",
       "    </tr>\n",
       "    <tr>\n",
       "      <th>TPTP</th>\n",
       "      <td>307</td>\n",
       "    </tr>\n",
       "    <tr>\n",
       "      <th>Releng</th>\n",
       "      <td>195</td>\n",
       "    </tr>\n",
       "    <tr>\n",
       "      <th>General</th>\n",
       "      <td>194</td>\n",
       "    </tr>\n",
       "    <tr>\n",
       "      <th>Client</th>\n",
       "      <td>168</td>\n",
       "    </tr>\n",
       "    <tr>\n",
       "      <th>Hyades</th>\n",
       "      <td>142</td>\n",
       "    </tr>\n",
       "    <tr>\n",
       "      <th>cdt-core</th>\n",
       "      <td>137</td>\n",
       "    </tr>\n",
       "    <tr>\n",
       "      <th>Xtext</th>\n",
       "      <td>131</td>\n",
       "    </tr>\n",
       "  </tbody>\n",
       "</table>\n",
       "</div>"
      ],
      "text/plain": [
       "                count\n",
       "component_name       \n",
       "UI               1063\n",
       "Core              785\n",
       "SWT               344\n",
       "TPTP              307\n",
       "Releng            195\n",
       "General           194\n",
       "Client            168\n",
       "Hyades            142\n",
       "cdt-core          137\n",
       "Xtext             131"
      ]
     },
     "execution_count": 19,
     "metadata": {},
     "output_type": "execute_result"
    }
   ],
   "source": [
    "top_10_component = bug_reports_data.groupby('component_name').component_name.agg(['count'])\n",
    "top_10_component = top_10_component.sort_values('count', ascending=False)[0:10]\n",
    "top_10_component"
   ]
  },
  {
   "cell_type": "code",
   "execution_count": 20,
   "metadata": {},
   "outputs": [
    {
     "data": {
      "text/plain": [
       "[None]"
      ]
     },
     "execution_count": 20,
     "metadata": {},
     "output_type": "execute_result"
    },
    {
     "data": {
      "image/png": "[encoded data removed]",
      "text/plain": [
       "<Figure size 1080x576 with 1 Axes>"
      ]
     },
     "metadata": {
      "needs_background": "light"
     },
     "output_type": "display_data"
    }
   ],
   "source": [
    "bug_reports_data_for_top_10_component=bug_reports_data[bug_reports_data['component_name'].isin(top_10_component.index)] \n",
    "\n",
    "# plot boxplot chart\n",
    "fig, ax = plt.subplots(figsize=(15,8))\n",
    "sns.despine(offset=5)\n",
    "g = sns.boxplot(data=bug_reports_data_for_top_10_component\n",
    "            , x=\"component_name\"\n",
    "            , y=\"bug_fix_time\"\n",
    "            , showfliers=True)\n",
    "g.set(title=\"Bug fix time by components\", xlabel=\"\", ylabel=\"Bug fix time\")\n",
    "g.set(yscale=\"log\")"
   ]
  },
  {
   "cell_type": "code",
   "execution_count": 25,
   "metadata": {},
   "outputs": [
    {
     "data": {
      "text/plain": [
       "[Text(0, 0.5, 'Percentage'),\n",
       " Text(0.5, 0, ''),\n",
       " Text(0.5, 1.0, 'Bug reports by components')]"
      ]
     },
     "execution_count": 25,
     "metadata": {},
     "output_type": "execute_result"
    },
    {
     "data": {
      "image/png": "[encoded data removed]",
      "text/plain": [
       "<Figure size 1080x576 with 1 Axes>"
      ]
     },
     "metadata": {
      "needs_background": "light"
     },
     "output_type": "display_data"
    }
   ],
   "source": [
    "# group data.\n",
    "bug_reports_data_grouped = bug_reports_data_for_top_10_component.groupby(\"component_name\")['long_lived?'].value_counts(normalize=True).unstack()\n",
    "\n",
    "\n",
    "fig, ax = plt.subplots(figsize=(15,8))\n",
    "sns.despine(offset=5)\n",
    "bug_reports_data_grouped.plot(kind='bar', stacked='True', color=[\"indianred\", \"steelblue\"], ax=ax)\n",
    "ax.set(title=\"Bug reports by components\", xlabel=\"\", ylabel=\"Percentage\")"
   ]
  },
  {
   "cell_type": "markdown",
   "metadata": {},
   "source": [
    "## Step 9. Analysis of Short and Long Descrption"
   ]
  },
  {
   "cell_type": "markdown",
   "metadata": {},
   "source": [
    "### How is the distribution of number of words"
   ]
  },
  {
   "cell_type": "code",
   "execution_count": 26,
   "metadata": {},
   "outputs": [
    {
     "data": {
      "text/plain": [
       "[Text(0, 0.5, 'Number of words'),\n",
       " Text(0.5, 0, ' '),\n",
       " Text(0.5, 1.0, 'Distribution of number of words in short description')]"
      ]
     },
     "execution_count": 26,
     "metadata": {},
     "output_type": "execute_result"
    },
    {
     "data": {
      "image/png": "[encoded data removed]",
      "text/plain": [
       "<Figure size 1440x576 with 1 Axes>"
      ]
     },
     "metadata": {
      "needs_background": "light"
     },
     "output_type": "display_data"
    }
   ],
   "source": [
    "fig, ax = plt.subplots(figsize=(20,8), ncols=1)\n",
    "sns.despine()\n",
    "\n",
    "g = sns.violinplot(x=\"long_lived?\", y=\"short_description_words\", data=bug_reports_data)\n",
    "g = sns.boxplot(x=\"long_lived?\", y=\"short_description_length\", data=bug_reports_data, showfliers=True)\n",
    "g.set(title=\"Distribution of number of words in short description\", ylabel=\"Number of words\", xlabel=\" \")\n",
    "#g.set(yscale=\"log\")"
   ]
  },
  {
   "cell_type": "code",
   "execution_count": 27,
   "metadata": {},
   "outputs": [
    {
     "data": {
      "text/plain": [
       "[None]"
      ]
     },
     "execution_count": 27,
     "metadata": {},
     "output_type": "execute_result"
    },
    {
     "data": {
      "image/png": "[encoded data removed]",
      "text/plain": [
       "<Figure size 1440x576 with 1 Axes>"
      ]
     },
     "metadata": {
      "needs_background": "light"
     },
     "output_type": "display_data"
    }
   ],
   "source": [
    "fig, ax = plt.subplots(figsize=(20,8), ncols=1)\n",
    "sns.despine()\n",
    "\n",
    "g = sns.violinplot(x=\"long_lived?\", y=\"long_description_words\", data=bug_reports_data)\n",
    "#g = sns.boxplot(x=\"long_lived?\", y=\"long_description_length\", data=bug_reports_data, showfliers=True)\n",
    "g.set(title=\"Distribution of number of words in long description\", ylabel=\"Number of words\", xlabel=\" \")\n",
    "g.set(yscale=\"log\")"
   ]
  },
  {
   "cell_type": "markdown",
   "metadata": {},
   "source": [
    "### Short Description Word cloud"
   ]
  },
  {
   "cell_type": "code",
   "execution_count": null,
   "metadata": {},
   "outputs": [],
   "source": [
    "def join_all_descriptions(descriptions):\n",
    "    text = \" \".join(description for description in descriptions)\n",
    "    return text.lower()\n",
    "\n",
    "def plot_one_word_cloud(text, title, axe, stopwords=\"\"):\n",
    "    if (stopwords==\"\"):\n",
    "        sl_wordcloud = WordCloud(max_font_size=50, max_words=100, background_color=\"white\").generate(text)\n",
    "    else:\n",
    "        sl_wordcloud = WordCloud(max_font_size=50, max_words=100, background_color=\"white\", stopwords=stopwords).generate(text)\n",
    "    axe.imshow(sl_wordcloud, interpolation='bilinear')\n",
    "    axe.set_title(title)\n",
    "    axe.axis(\"off\")\n",
    "\n",
    "def stem_sentence(sentence):\n",
    "    token_words=word_tokenize(sentence)\n",
    "    token_words\n",
    "    stem_sentence=[]\n",
    "    for word in token_words:\n",
    "        stem_sentence.append(stemmer.stem(word))\n",
    "        stem_sentence.append(\" \")\n",
    "        \n",
    "    return \"\".join(stem_sentence)\n",
    "\n",
    "def plot_all_word_clouds(sl_descriptions, ll_descriptions, title, apply_text_mining=False):\n",
    "    fig, ax = plt.subplots(figsize=(30,30), ncols=2)\n",
    "\n",
    "    sl_text = join_all_descriptions(sl_descriptions)\n",
    "    ll_text = join_all_descriptions(ll_descriptions)\n",
    "\n",
    "    if (apply_text_mining):\n",
    "        # Load stop words\n",
    "        stop_words = stopwords.words('english')\n",
    "        stop_words.extend(['eclipse', 'org', 'xml', 'java', 'project', 'view', 'editor', 'file', 'test', 'update', 'will'])\n",
    "       \n",
    "        sl_text = sl_text.translate(str.maketrans('', '', string.punctuation))\n",
    "        ll_text = ll_text.translate(str.maketrans('', '', string.punctuation))\n",
    "        \n",
    "        sl_text = ' '.join([word for word in sl_text.split() if word not in stop_words])\n",
    "        ll_text = ' '.join([word for word in ll_text.split() if word not in stop_words])\n",
    "        \n",
    "        sl_text = stem_sentence(sl_text)\n",
    "        ll_text = stem_sentence(ll_text)\n",
    "        \n",
    "    plot_one_word_cloud(sl_text, 'Word Cloud for {} [Short-Lived Bugs]'.format(title), ax[0])\n",
    "    plot_one_word_cloud(ll_text, 'Word Cloud for {} [Long-Lived Bugs]'.format(title), ax[1])\n",
    "\n",
    "\n",
    "    "
   ]
  },
  {
   "cell_type": "code",
   "execution_count": null,
   "metadata": {},
   "outputs": [],
   "source": [
    "plot_all_word_clouds(bug_reports_data[bug_reports_data['long_lived?']=='short-lived'].short_description,\n",
    "                     bug_reports_data[bug_reports_data['long_lived?']=='long-lived'].short_description,\n",
    "                    'Short Description')"
   ]
  },
  {
   "cell_type": "markdown",
   "metadata": {},
   "source": [
    "### Short Description Word cloud with Text Mining"
   ]
  },
  {
   "cell_type": "code",
   "execution_count": null,
   "metadata": {},
   "outputs": [],
   "source": [
    "plot_all_word_clouds(bug_reports_data[bug_reports_data['long_lived?']=='short-lived'].short_description,\n",
    "                     bug_reports_data[bug_reports_data['long_lived?']=='long-lived'].short_description,\n",
    "                    'Short Description', True)"
   ]
  },
  {
   "cell_type": "markdown",
   "metadata": {},
   "source": [
    "### Long Description Word cloud"
   ]
  },
  {
   "cell_type": "code",
   "execution_count": null,
   "metadata": {},
   "outputs": [],
   "source": [
    "plot_all_word_clouds(bug_reports_data[bug_reports_data['long_lived?']=='short-lived'].long_description,\n",
    "                     bug_reports_data[bug_reports_data['long_lived?']=='long-lived'].long_description,\n",
    "                    'Short Description', False)"
   ]
  },
  {
   "cell_type": "markdown",
   "metadata": {},
   "source": [
    "### Long Description Word cloud with Text Mining"
   ]
  },
  {
   "cell_type": "code",
   "execution_count": null,
   "metadata": {},
   "outputs": [],
   "source": [
    "plot_all_word_clouds(bug_reports_data[bug_reports_data['long_lived?']=='short-lived'].long_description,\n",
    "                     bug_reports_data[bug_reports_data['long_lived?']=='long-lived'].long_description,\n",
    "                    'Long Description', True)"
   ]
  },
  {
   "cell_type": "markdown",
   "metadata": {},
   "source": [
    "## Step 10. Analysis of Severity Level"
   ]
  },
  {
   "cell_type": "markdown",
   "metadata": {},
   "source": [
    "### Severity level distribution"
   ]
  },
  {
   "cell_type": "code",
   "execution_count": null,
   "metadata": {},
   "outputs": [],
   "source": [
    "fig, axes = plt.subplots(figsize=(15,8))\n",
    "sns.despine()\n",
    "severity_palette=color=[\"tab:red\", \"tab:purple\", \"tab:orange\", \"tab:blue\", \"tab:gray\", \"tab:green\"]\n",
    "bug_reports_data_grouped = bug_reports_data.groupby(\"long_lived?\")['severity_category'].value_counts(normalize=True).unstack()\n",
    "bug_reports_data_grouped.plot(kind='bar', stacked='True', color=severity_palette, ax=axes)\n",
    "\n",
    "axes.set(title=\"Distribution of severity level\", xlabel=\"\", ylabel=\"Percentage\")\n"
   ]
  },
  {
   "cell_type": "code",
   "execution_count": null,
   "metadata": {},
   "outputs": [],
   "source": [
    "fig, ax = plt.subplots(figsize=(15,8), ncols=2)\n",
    "\n",
    "g1 = sns.boxplot(data=bug_reports_data[bug_reports_data['long_lived?']=='long-lived']\n",
    "                 , x=\"severity_category\", y=\"bug_fix_time\"\n",
    "                , order=['blocker', 'critical', 'major', 'minor', 'normal', 'trivial']\n",
    "                , palette=severity_palette\n",
    "                , showfliers=True\n",
    "                , ax=ax[0])\n",
    "g1.set(title=\"long-lived\", xlabel=\"\")\n",
    "g1.set(yscale=\"log\")\n",
    "\n",
    "g2 = sns.boxplot(data=bug_reports_data[bug_reports_data['long_lived?']=='short-lived']\n",
    "                 , x=\"severity_category\", y=\"bug_fix_time\"\n",
    "                , order=['blocker', 'critical', 'major', 'minor', 'normal', 'trivial']\n",
    "                , palette=severity_palette\n",
    "                , showfliers=True\n",
    "                , ax=ax[1])\n",
    "g2.set(title=\"short-lived\", xlabel=\"\")\n",
    "g2.set(yscale=\"log\")\n"
   ]
  },
  {
   "cell_type": "markdown",
   "metadata": {},
   "source": [
    "### Number of Changes"
   ]
  },
  {
   "cell_type": "code",
   "execution_count": null,
   "metadata": {},
   "outputs": [],
   "source": [
    "severity_levels = {'trivial':1, 'minor':2, 'normal':3, 'major':4, 'critical':5, 'blocker':6, 'enhancement':0}\n",
    "bug_reports_history_merged = pd.merge(\n",
    "    bug_reports_history_data,\n",
    "    bug_reports_data[['bug_id', 'creation_date', 'update_date', 'resolution_date', 'bug_fix_time', 'long_lived?']],\n",
    "    left_on='Key',\n",
    "    right_on='bug_id',\n",
    "    how='left'\n",
    ")\n",
    "    \n",
    "severity_changes_data = bug_reports_history_merged[(bug_reports_history_merged['What'] == 'severity')]\n",
    "severity_changes_data.loc[:, 'Removed'] = [severity_levels[level] for level in severity_changes_data.loc[:, 'Removed']]\n",
    "severity_changes_data.loc[:, 'Added'] = [severity_levels[level] for level in severity_changes_data.loc[:, 'Added']]\n",
    "severity_changes_data['Change'] = severity_changes_data['Added'] - severity_changes_data['Removed']\n",
    "\n",
    "sns.catplot(x=\"Change\", col=\"long_lived?\",data=severity_changes_data, kind=\"count\",height=8, aspect=1);\n",
    "\n"
   ]
  },
  {
   "cell_type": "code",
   "execution_count": null,
   "metadata": {},
   "outputs": [],
   "source": [
    "bug_reports_history_data[(bug_reports_history_data['What'] == 'assignee')]"
   ]
  },
  {
   "cell_type": "code",
   "execution_count": null,
   "metadata": {},
   "outputs": [],
   "source": []
  }
 ],
 "metadata": {
  "kernelspec": {
   "display_name": "Python 3",
   "language": "python",
   "name": "python3"
  },
  "language_info": {
   "codemirror_mode": {
    "name": "ipython",
    "version": 3
   },
   "file_extension": ".py",
   "mimetype": "text/x-python",
   "name": "python",
   "nbconvert_exporter": "python",
   "pygments_lexer": "ipython3",
   "version": "3.7.3"
  }
 },
 "nbformat": 4,
 "nbformat_minor": 2
}
