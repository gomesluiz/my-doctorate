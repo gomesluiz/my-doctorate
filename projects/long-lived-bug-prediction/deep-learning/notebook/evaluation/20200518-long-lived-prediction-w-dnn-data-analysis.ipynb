{
 "cells": [
  {
   "cell_type": "markdown",
   "metadata": {},
   "source": [
    "# Long-lived Bug Prediction with Deep Learning"
   ]
  },
  {
   "cell_type": "markdown",
   "metadata": {},
   "source": [
    "# 1. Setup environment."
   ]
  },
  {
   "cell_type": "code",
   "execution_count": null,
   "metadata": {},
   "outputs": [],
   "source": [
    "%%javascript\n",
    "IPython.OutputArea.prototype._should_scroll = function(lines) {\n",
    "    return false;\n",
    "}"
   ]
  },
  {
   "cell_type": "code",
   "execution_count": 2,
   "metadata": {},
   "outputs": [
    {
     "name": "stdout",
     "output_type": "stream",
     "text": [
      "Setup complete\n"
     ]
    }
   ],
   "source": [
    "import matplotlib.pyplot as plt \n",
    "import numpy as np\n",
    "import os \n",
    "import pandas as pd\n",
    "import seaborn as sns \n",
    "from scipy.stats import friedmanchisquare\n",
    "from scipy.stats import kruskal\n",
    "\n",
    "%matplotlib inline \n",
    "\n",
    "pd.set_option('display.max_columns', None)\n",
    "\n",
    "data_evaluation_path  = \"../../data/processed/20200516212507-long-lived-bug-prediction-w-dnn-results.csv\"\n",
    "print(\"Setup complete\")"
   ]
  },
  {
   "cell_type": "markdown",
   "metadata": {},
   "source": [
    "# 2. Load data."
   ]
  },
  {
   "cell_type": "code",
   "execution_count": 3,
   "metadata": {},
   "outputs": [
    {
     "name": "stdout",
     "output_type": "stream",
     "text": [
      "\\nHeader of metrics file \n",
      "#,project,feature,classifier,balancing,resampling,metric,threshold,terms,train_size,train_size_class_0,train_size_class_1,val_size,val_size_class_0,val_size_class_1,test_size,test_size_class_0,test_size_class_1,loss,tp,fp,tn,fn,accuracy,precision,recall,auc,sensitivity,specificity,balanced_acc,fmeasure,epochs\n",
      "0,eclipse,long_description,lstm+emb,smote,-,val_accuracy,8,100,5880,2940,2940,1470,735,735,2444,1225,1219,0.6905812621116638,1292.0,1152.0,1292.0,1152.0,0.5286415815353394,0.5286415815353394,0.5286415815353394,0.5441259145736694,0.5286415711947627,0.5286415711947627,0.5286065861947732,0.5286415815353394,200\n",
      "\\nNumber of lines in the file \n",
      "21 ../../data/processed/20200516212507-long-lived-bug-prediction-w-dnn-results.csv\n"
     ]
    }
   ],
   "source": [
    "!echo \"\\nHeader of metrics file $data_results_path\"\n",
    "!head -n 2 $data_evaluation_path\n",
    "\n",
    "!echo \"\\nNumber of lines in the file $data_results_path\"\n",
    "!wc -l $data_evaluation_path\n"
   ]
  },
  {
   "cell_type": "code",
   "execution_count": 4,
   "metadata": {},
   "outputs": [
    {
     "name": "stdout",
     "output_type": "stream",
     "text": [
      "There are 20 rows and 32 columns in ../../data/processed/20200516212507-long-lived-bug-prediction-w-dnn-results.csv.\n",
      "\n"
     ]
    }
   ],
   "source": [
    "# read metrics data.\n",
    "data_evaluation = pd.read_csv(data_evaluation_path, sep=',', decimal='.')\n",
    "rows_and_cols = data_evaluation.shape\n",
    "print(f\"There are {rows_and_cols[0]} rows and {rows_and_cols[1]} columns in {data_evaluation_path}.\\n\")"
   ]
  },
  {
   "cell_type": "markdown",
   "metadata": {},
   "source": [
    "# 3. First Experiment"
   ]
  },
  {
   "cell_type": "markdown",
   "metadata": {},
   "source": [
    "## Parameters"
   ]
  },
  {
   "cell_type": "markdown",
   "metadata": {},
   "source": [
    "| Parameter                  |         Value        |\n",
    "|----------------------------|:--------------------:|\n",
    "| Project                    |        Eclipse       |\n",
    "| Algorithms                 |        lstm+emb |\n",
    "| Metrics                    | Accuracy |\n",
    "| Features                   | Long Description |\n",
    "| Number of Terms            |        100, 150, 200, 250, 300       |\n",
    "| Balancing                  |        Smote   |\n",
    "| Resampling                 |        Repeated CV 5 x 2       |\n",
    "| Threshold                  |        8 (median), 63 (average) , 108 (3rd quartil), 365        |\n"
   ]
  },
  {
   "cell_type": "markdown",
   "metadata": {},
   "source": [
    "## 3.1 Review the data"
   ]
  },
  {
   "cell_type": "markdown",
   "metadata": {},
   "source": [
    "### Best Balanced Accuracy Scores"
   ]
  },
  {
   "cell_type": "code",
   "execution_count": 5,
   "metadata": {},
   "outputs": [
    {
     "data": {
      "text/html": [
       "<div>\n",
       "<style scoped>\n",
       "    .dataframe tbody tr th:only-of-type {\n",
       "        vertical-align: middle;\n",
       "    }\n",
       "\n",
       "    .dataframe tbody tr th {\n",
       "        vertical-align: top;\n",
       "    }\n",
       "\n",
       "    .dataframe thead th {\n",
       "        text-align: right;\n",
       "    }\n",
       "</style>\n",
       "<table border=\"1\" class=\"dataframe\">\n",
       "  <thead>\n",
       "    <tr style=\"text-align: right;\">\n",
       "      <th></th>\n",
       "      <th>#</th>\n",
       "      <th>project</th>\n",
       "      <th>feature</th>\n",
       "      <th>classifier</th>\n",
       "      <th>balancing</th>\n",
       "      <th>resampling</th>\n",
       "      <th>metric</th>\n",
       "      <th>threshold</th>\n",
       "      <th>terms</th>\n",
       "      <th>train_size</th>\n",
       "      <th>train_size_class_0</th>\n",
       "      <th>train_size_class_1</th>\n",
       "      <th>val_size</th>\n",
       "      <th>val_size_class_0</th>\n",
       "      <th>val_size_class_1</th>\n",
       "      <th>test_size</th>\n",
       "      <th>test_size_class_0</th>\n",
       "      <th>test_size_class_1</th>\n",
       "      <th>loss</th>\n",
       "      <th>tp</th>\n",
       "      <th>fp</th>\n",
       "      <th>tn</th>\n",
       "      <th>fn</th>\n",
       "      <th>accuracy</th>\n",
       "      <th>precision</th>\n",
       "      <th>recall</th>\n",
       "      <th>auc</th>\n",
       "      <th>sensitivity</th>\n",
       "      <th>specificity</th>\n",
       "      <th>balanced_acc</th>\n",
       "      <th>fmeasure</th>\n",
       "      <th>epochs</th>\n",
       "    </tr>\n",
       "  </thead>\n",
       "  <tbody>\n",
       "    <tr>\n",
       "      <th>2</th>\n",
       "      <td>2</td>\n",
       "      <td>eclipse</td>\n",
       "      <td>long_description</td>\n",
       "      <td>lstm+emb</td>\n",
       "      <td>smote</td>\n",
       "      <td>-</td>\n",
       "      <td>val_accuracy</td>\n",
       "      <td>8</td>\n",
       "      <td>200</td>\n",
       "      <td>5880</td>\n",
       "      <td>2940</td>\n",
       "      <td>2940</td>\n",
       "      <td>1470</td>\n",
       "      <td>735</td>\n",
       "      <td>735</td>\n",
       "      <td>2444</td>\n",
       "      <td>1225</td>\n",
       "      <td>1219</td>\n",
       "      <td>0.691510</td>\n",
       "      <td>1322.0</td>\n",
       "      <td>1122.0</td>\n",
       "      <td>1322.0</td>\n",
       "      <td>1122.0</td>\n",
       "      <td>0.540917</td>\n",
       "      <td>0.540917</td>\n",
       "      <td>0.540917</td>\n",
       "      <td>0.546239</td>\n",
       "      <td>0.540917</td>\n",
       "      <td>0.540917</td>\n",
       "      <td>0.540888</td>\n",
       "      <td>0.540917</td>\n",
       "      <td>200</td>\n",
       "    </tr>\n",
       "    <tr>\n",
       "      <th>4</th>\n",
       "      <td>4</td>\n",
       "      <td>eclipse</td>\n",
       "      <td>long_description</td>\n",
       "      <td>lstm+emb</td>\n",
       "      <td>smote</td>\n",
       "      <td>-</td>\n",
       "      <td>val_accuracy</td>\n",
       "      <td>8</td>\n",
       "      <td>300</td>\n",
       "      <td>5880</td>\n",
       "      <td>2940</td>\n",
       "      <td>2940</td>\n",
       "      <td>1470</td>\n",
       "      <td>735</td>\n",
       "      <td>735</td>\n",
       "      <td>2444</td>\n",
       "      <td>1225</td>\n",
       "      <td>1219</td>\n",
       "      <td>0.690039</td>\n",
       "      <td>1315.0</td>\n",
       "      <td>1129.0</td>\n",
       "      <td>1315.0</td>\n",
       "      <td>1129.0</td>\n",
       "      <td>0.538052</td>\n",
       "      <td>0.538052</td>\n",
       "      <td>0.538052</td>\n",
       "      <td>0.549142</td>\n",
       "      <td>0.538052</td>\n",
       "      <td>0.538052</td>\n",
       "      <td>0.538137</td>\n",
       "      <td>0.538052</td>\n",
       "      <td>200</td>\n",
       "    </tr>\n",
       "    <tr>\n",
       "      <th>8</th>\n",
       "      <td>8</td>\n",
       "      <td>eclipse</td>\n",
       "      <td>long_description</td>\n",
       "      <td>lstm+emb</td>\n",
       "      <td>smote</td>\n",
       "      <td>-</td>\n",
       "      <td>val_accuracy</td>\n",
       "      <td>63</td>\n",
       "      <td>250</td>\n",
       "      <td>8802</td>\n",
       "      <td>4401</td>\n",
       "      <td>4401</td>\n",
       "      <td>2200</td>\n",
       "      <td>1100</td>\n",
       "      <td>1100</td>\n",
       "      <td>2444</td>\n",
       "      <td>1833</td>\n",
       "      <td>611</td>\n",
       "      <td>3.373760</td>\n",
       "      <td>1027.0</td>\n",
       "      <td>1417.0</td>\n",
       "      <td>1027.0</td>\n",
       "      <td>1417.0</td>\n",
       "      <td>0.420213</td>\n",
       "      <td>0.420213</td>\n",
       "      <td>0.420213</td>\n",
       "      <td>0.330910</td>\n",
       "      <td>0.420213</td>\n",
       "      <td>0.420213</td>\n",
       "      <td>0.533824</td>\n",
       "      <td>0.420213</td>\n",
       "      <td>200</td>\n",
       "    </tr>\n",
       "    <tr>\n",
       "      <th>3</th>\n",
       "      <td>3</td>\n",
       "      <td>eclipse</td>\n",
       "      <td>long_description</td>\n",
       "      <td>lstm+emb</td>\n",
       "      <td>smote</td>\n",
       "      <td>-</td>\n",
       "      <td>val_accuracy</td>\n",
       "      <td>8</td>\n",
       "      <td>250</td>\n",
       "      <td>5880</td>\n",
       "      <td>2940</td>\n",
       "      <td>2940</td>\n",
       "      <td>1470</td>\n",
       "      <td>735</td>\n",
       "      <td>735</td>\n",
       "      <td>2444</td>\n",
       "      <td>1225</td>\n",
       "      <td>1219</td>\n",
       "      <td>0.691460</td>\n",
       "      <td>1303.0</td>\n",
       "      <td>1141.0</td>\n",
       "      <td>1303.0</td>\n",
       "      <td>1141.0</td>\n",
       "      <td>0.533142</td>\n",
       "      <td>0.533142</td>\n",
       "      <td>0.533142</td>\n",
       "      <td>0.545663</td>\n",
       "      <td>0.533142</td>\n",
       "      <td>0.533142</td>\n",
       "      <td>0.533147</td>\n",
       "      <td>0.533142</td>\n",
       "      <td>200</td>\n",
       "    </tr>\n",
       "    <tr>\n",
       "      <th>7</th>\n",
       "      <td>7</td>\n",
       "      <td>eclipse</td>\n",
       "      <td>long_description</td>\n",
       "      <td>lstm+emb</td>\n",
       "      <td>smote</td>\n",
       "      <td>-</td>\n",
       "      <td>val_accuracy</td>\n",
       "      <td>63</td>\n",
       "      <td>200</td>\n",
       "      <td>8802</td>\n",
       "      <td>4401</td>\n",
       "      <td>4401</td>\n",
       "      <td>2200</td>\n",
       "      <td>1100</td>\n",
       "      <td>1100</td>\n",
       "      <td>2444</td>\n",
       "      <td>1833</td>\n",
       "      <td>611</td>\n",
       "      <td>3.216378</td>\n",
       "      <td>1056.0</td>\n",
       "      <td>1388.0</td>\n",
       "      <td>1056.0</td>\n",
       "      <td>1388.0</td>\n",
       "      <td>0.432079</td>\n",
       "      <td>0.432079</td>\n",
       "      <td>0.432079</td>\n",
       "      <td>0.340089</td>\n",
       "      <td>0.432079</td>\n",
       "      <td>0.432079</td>\n",
       "      <td>0.532460</td>\n",
       "      <td>0.432079</td>\n",
       "      <td>200</td>\n",
       "    </tr>\n",
       "  </tbody>\n",
       "</table>\n",
       "</div>"
      ],
      "text/plain": [
       "   #  project           feature classifier balancing resampling        metric  \\\n",
       "2  2  eclipse  long_description   lstm+emb     smote          -  val_accuracy   \n",
       "4  4  eclipse  long_description   lstm+emb     smote          -  val_accuracy   \n",
       "8  8  eclipse  long_description   lstm+emb     smote          -  val_accuracy   \n",
       "3  3  eclipse  long_description   lstm+emb     smote          -  val_accuracy   \n",
       "7  7  eclipse  long_description   lstm+emb     smote          -  val_accuracy   \n",
       "\n",
       "   threshold  terms  train_size  train_size_class_0  train_size_class_1  \\\n",
       "2          8    200        5880                2940                2940   \n",
       "4          8    300        5880                2940                2940   \n",
       "8         63    250        8802                4401                4401   \n",
       "3          8    250        5880                2940                2940   \n",
       "7         63    200        8802                4401                4401   \n",
       "\n",
       "   val_size  val_size_class_0  val_size_class_1  test_size  test_size_class_0  \\\n",
       "2      1470               735               735       2444               1225   \n",
       "4      1470               735               735       2444               1225   \n",
       "8      2200              1100              1100       2444               1833   \n",
       "3      1470               735               735       2444               1225   \n",
       "7      2200              1100              1100       2444               1833   \n",
       "\n",
       "   test_size_class_1      loss      tp      fp      tn      fn  accuracy  \\\n",
       "2               1219  0.691510  1322.0  1122.0  1322.0  1122.0  0.540917   \n",
       "4               1219  0.690039  1315.0  1129.0  1315.0  1129.0  0.538052   \n",
       "8                611  3.373760  1027.0  1417.0  1027.0  1417.0  0.420213   \n",
       "3               1219  0.691460  1303.0  1141.0  1303.0  1141.0  0.533142   \n",
       "7                611  3.216378  1056.0  1388.0  1056.0  1388.0  0.432079   \n",
       "\n",
       "   precision    recall       auc  sensitivity  specificity  balanced_acc  \\\n",
       "2   0.540917  0.540917  0.546239     0.540917     0.540917      0.540888   \n",
       "4   0.538052  0.538052  0.549142     0.538052     0.538052      0.538137   \n",
       "8   0.420213  0.420213  0.330910     0.420213     0.420213      0.533824   \n",
       "3   0.533142  0.533142  0.545663     0.533142     0.533142      0.533147   \n",
       "7   0.432079  0.432079  0.340089     0.432079     0.432079      0.532460   \n",
       "\n",
       "   fmeasure  epochs  \n",
       "2  0.540917     200  \n",
       "4  0.538052     200  \n",
       "8  0.420213     200  \n",
       "3  0.533142     200  \n",
       "7  0.432079     200  "
      ]
     },
     "execution_count": 5,
     "metadata": {},
     "output_type": "execute_result"
    }
   ],
   "source": [
    "data_evaluation.sort_values('balanced_acc', ascending=False).head()"
   ]
  },
  {
   "cell_type": "markdown",
   "metadata": {},
   "source": [
    "## 3.2 Evaluation Metrics"
   ]
  },
  {
   "cell_type": "markdown",
   "metadata": {},
   "source": [
    "### Balanced Accuracy\n",
    "Accurácia balanceada: (sensitivity + specificity)/2"
   ]
  },
  {
   "cell_type": "code",
   "execution_count": 13,
   "metadata": {},
   "outputs": [
    {
     "data": {
      "image/png": "[encoded data removed]",
      "text/plain": [
       "<Figure size 933.645x432 with 1 Axes>"
      ]
     },
     "metadata": {},
     "output_type": "display_data"
    }
   ],
   "source": [
    "sns.set_context('paper', font_scale = 1.5)\n",
    "sns.set_style(\"ticks\", {'axes.grid' : False})\n",
    "data_evaluation.threshold = data_evaluation['threshold'].astype(str)\n",
    "data_evaluation.terms = data_evaluation['terms'].astype(str)\n",
    "\n",
    "g = sns.catplot(data=data_evaluation, x=\"threshold\", y=\"balanced_acc\"\n",
    "                , hue=\"terms\", kind=\"point\", height=6\n",
    "                , aspect=2, order=['8', '63', '108', '365'])\n",
    "sns.despine(offset=10)"
   ]
  },
  {
   "cell_type": "code",
   "execution_count": null,
   "metadata": {},
   "outputs": [],
   "source": []
  }
 ],
 "metadata": {
  "kernelspec": {
   "display_name": "Python 3",
   "language": "python",
   "name": "python3"
  },
  "language_info": {
   "codemirror_mode": {
    "name": "ipython",
    "version": 3
   },
   "file_extension": ".py",
   "mimetype": "text/x-python",
   "name": "python",
   "nbconvert_exporter": "python",
   "pygments_lexer": "ipython3",
   "version": "3.8.2"
  }
 },
 "nbformat": 4,
 "nbformat_minor": 2
}
