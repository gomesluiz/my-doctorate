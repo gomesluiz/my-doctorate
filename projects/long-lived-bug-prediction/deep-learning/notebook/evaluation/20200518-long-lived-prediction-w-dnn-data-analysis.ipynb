{
 "cells": [
  {
   "cell_type": "markdown",
   "metadata": {},
   "source": [
    "# Research Question No. 4\n",
    "What is the comparative performance of learning algorithms in long-lived bug prediction in FLOSS project? This research question aims to compare the accuracy of the long-lived bug prediction made by different classification algorithms. Here the algorithm with the best prediction capabilities is best fit in terms of balanced accuracy."
   ]
  },
  {
   "cell_type": "markdown",
   "metadata": {},
   "source": [
    "# 1. Setup environment."
   ]
  },
  {
   "cell_type": "code",
   "execution_count": null,
   "metadata": {},
   "outputs": [],
   "source": [
    "%%javascript\n",
    "IPython.OutputArea.prototype._should_scroll = function(lines) {\n",
    "    return false;\n",
    "}"
   ]
  },
  {
   "cell_type": "code",
   "execution_count": 1,
   "metadata": {},
   "outputs": [
    {
     "name": "stdout",
     "output_type": "stream",
     "text": [
      "Setup complete\n"
     ]
    }
   ],
   "source": [
    "import matplotlib.pyplot as plt \n",
    "import numpy as np\n",
    "import os \n",
    "import pandas as pd\n",
    "import seaborn as sns \n",
    "from scipy.stats import friedmanchisquare\n",
    "from scipy.stats import kruskal\n",
    "\n",
    "# Setup Matplotlib\n",
    "#plt.rc('figure', figsize=(20, 20))\n",
    "#plt.style.use('default')\n",
    "#SMALL_SIZE = 12\n",
    "#MEDIUM_SIZE = 10\n",
    "#BIGGER_SIZE = 12\n",
    "\n",
    "#plt.rc('font', size=SMALL_SIZE)          # controls default text sizes\n",
    "#plt.rc('axes', titlesize=SMALL_SIZE)     # fontsize of the axes title\n",
    "#plt.rc('axes', labelsize=SMALL_SIZE)    # fontsize of the x and y labels\n",
    "#plt.rc('xtick', labelsize=SMALL_SIZE)    # fontsize of the tick labels\n",
    "#plt.rc('ytick', labelsize=SMALL_SIZE)    # fontsize of the tick labels\n",
    "#plt.rc('legend', fontsize=SMALL_SIZE)    # legend fontsize\n",
    "#plt.rc('figure', titlesize=SMALL_SIZE)  # fontsize of the figure title\n",
    "%matplotlib inline \n",
    "\n",
    "# Setup Seaborn\n",
    "#sns.set_context(\"paper\")\n",
    "#sns.set_style(\"ticks\")\n",
    "\n",
    "\n",
    "pd.set_option('display.max_columns', None)\n",
    "\n",
    "data_evaluation_path  = \"../../data/processed/20200516212507-long-lived-bug-prediction-w-dnn-results.csv\"\n",
    "print(\"Setup complete\")"
   ]
  },
  {
   "cell_type": "markdown",
   "metadata": {},
   "source": [
    "# 2. Load data."
   ]
  },
  {
   "cell_type": "code",
   "execution_count": 2,
   "metadata": {},
   "outputs": [
    {
     "name": "stdout",
     "output_type": "stream",
     "text": [
      "\\nHeader of metrics file \n",
      "#,project,feature,classifier,balancing,resampling,metric,threshold,terms,train_size,train_size_class_0,train_size_class_1,val_size,val_size_class_0,val_size_class_1,test_size,test_size_class_0,test_size_class_1,loss,tp,fp,tn,fn,accuracy,precision,recall,auc,sensitivity,specificity,balanced_acc,fmeasure,epochs\n",
      "0,eclipse,long_description,lstm+emb,smote,-,val_accuracy,8,100,5880,2940,2940,1470,735,735,2444,1225,1219,0.6905812621116638,1292.0,1152.0,1292.0,1152.0,0.5286415815353394,0.5286415815353394,0.5286415815353394,0.5441259145736694,0.5286415711947627,0.5286415711947627,0.5286065861947732,0.5286415815353394,200\n",
      "\\nNumber of lines in the file \n",
      "21 ../../data/processed/20200516212507-long-lived-bug-prediction-w-dnn-results.csv\n"
     ]
    }
   ],
   "source": [
    "!echo \"\\nHeader of metrics file $data_results_path\"\n",
    "!head -n 2 $data_evaluation_path\n",
    "\n",
    "!echo \"\\nNumber of lines in the file $data_results_path\"\n",
    "!wc -l $data_evaluation_path\n"
   ]
  },
  {
   "cell_type": "code",
   "execution_count": 3,
   "metadata": {},
   "outputs": [
    {
     "name": "stdout",
     "output_type": "stream",
     "text": [
      "There are 20 rows and 32 columns in ../../data/processed/20200516212507-long-lived-bug-prediction-w-dnn-results.csv.\n",
      "\n"
     ]
    }
   ],
   "source": [
    "# read metrics data.\n",
    "data_evaluation = pd.read_csv(data_evaluation_path, sep=',', decimal='.')\n",
    "rows_and_cols = data_evaluation.shape\n",
    "print(f\"There are {rows_and_cols[0]} rows and {rows_and_cols[1]} columns in {data_evaluation_path}.\\n\")"
   ]
  },
  {
   "cell_type": "markdown",
   "metadata": {},
   "source": [
    "# 3. First Experiment"
   ]
  },
  {
   "cell_type": "markdown",
   "metadata": {},
   "source": [
    "## 3.1 Review the data"
   ]
  },
  {
   "cell_type": "markdown",
   "metadata": {},
   "source": [
    "### Best Balanced Accuracy Scores"
   ]
  },
  {
   "cell_type": "code",
   "execution_count": 5,
   "metadata": {},
   "outputs": [
    {
     "data": {
      "text/html": [
       "<div>\n",
       "<style scoped>\n",
       "    .dataframe tbody tr th:only-of-type {\n",
       "        vertical-align: middle;\n",
       "    }\n",
       "\n",
       "    .dataframe tbody tr th {\n",
       "        vertical-align: top;\n",
       "    }\n",
       "\n",
       "    .dataframe thead th {\n",
       "        text-align: right;\n",
       "    }\n",
       "</style>\n",
       "<table border=\"1\" class=\"dataframe\">\n",
       "  <thead>\n",
       "    <tr style=\"text-align: right;\">\n",
       "      <th></th>\n",
       "      <th>#</th>\n",
       "      <th>project</th>\n",
       "      <th>feature</th>\n",
       "      <th>classifier</th>\n",
       "      <th>balancing</th>\n",
       "      <th>resampling</th>\n",
       "      <th>metric</th>\n",
       "      <th>threshold</th>\n",
       "      <th>terms</th>\n",
       "      <th>train_size</th>\n",
       "      <th>train_size_class_0</th>\n",
       "      <th>train_size_class_1</th>\n",
       "      <th>val_size</th>\n",
       "      <th>val_size_class_0</th>\n",
       "      <th>val_size_class_1</th>\n",
       "      <th>test_size</th>\n",
       "      <th>test_size_class_0</th>\n",
       "      <th>test_size_class_1</th>\n",
       "      <th>loss</th>\n",
       "      <th>tp</th>\n",
       "      <th>fp</th>\n",
       "      <th>tn</th>\n",
       "      <th>fn</th>\n",
       "      <th>accuracy</th>\n",
       "      <th>precision</th>\n",
       "      <th>recall</th>\n",
       "      <th>auc</th>\n",
       "      <th>sensitivity</th>\n",
       "      <th>specificity</th>\n",
       "      <th>balanced_acc</th>\n",
       "      <th>fmeasure</th>\n",
       "      <th>epochs</th>\n",
       "    </tr>\n",
       "  </thead>\n",
       "  <tbody>\n",
       "    <tr>\n",
       "      <th>2</th>\n",
       "      <td>2</td>\n",
       "      <td>eclipse</td>\n",
       "      <td>long_description</td>\n",
       "      <td>lstm+emb</td>\n",
       "      <td>smote</td>\n",
       "      <td>-</td>\n",
       "      <td>val_accuracy</td>\n",
       "      <td>8</td>\n",
       "      <td>200</td>\n",
       "      <td>5880</td>\n",
       "      <td>2940</td>\n",
       "      <td>2940</td>\n",
       "      <td>1470</td>\n",
       "      <td>735</td>\n",
       "      <td>735</td>\n",
       "      <td>2444</td>\n",
       "      <td>1225</td>\n",
       "      <td>1219</td>\n",
       "      <td>0.691510</td>\n",
       "      <td>1322.0</td>\n",
       "      <td>1122.0</td>\n",
       "      <td>1322.0</td>\n",
       "      <td>1122.0</td>\n",
       "      <td>0.540917</td>\n",
       "      <td>0.540917</td>\n",
       "      <td>0.540917</td>\n",
       "      <td>0.546239</td>\n",
       "      <td>0.540917</td>\n",
       "      <td>0.540917</td>\n",
       "      <td>0.540888</td>\n",
       "      <td>0.540917</td>\n",
       "      <td>200</td>\n",
       "    </tr>\n",
       "    <tr>\n",
       "      <th>4</th>\n",
       "      <td>4</td>\n",
       "      <td>eclipse</td>\n",
       "      <td>long_description</td>\n",
       "      <td>lstm+emb</td>\n",
       "      <td>smote</td>\n",
       "      <td>-</td>\n",
       "      <td>val_accuracy</td>\n",
       "      <td>8</td>\n",
       "      <td>300</td>\n",
       "      <td>5880</td>\n",
       "      <td>2940</td>\n",
       "      <td>2940</td>\n",
       "      <td>1470</td>\n",
       "      <td>735</td>\n",
       "      <td>735</td>\n",
       "      <td>2444</td>\n",
       "      <td>1225</td>\n",
       "      <td>1219</td>\n",
       "      <td>0.690039</td>\n",
       "      <td>1315.0</td>\n",
       "      <td>1129.0</td>\n",
       "      <td>1315.0</td>\n",
       "      <td>1129.0</td>\n",
       "      <td>0.538052</td>\n",
       "      <td>0.538052</td>\n",
       "      <td>0.538052</td>\n",
       "      <td>0.549142</td>\n",
       "      <td>0.538052</td>\n",
       "      <td>0.538052</td>\n",
       "      <td>0.538137</td>\n",
       "      <td>0.538052</td>\n",
       "      <td>200</td>\n",
       "    </tr>\n",
       "    <tr>\n",
       "      <th>8</th>\n",
       "      <td>8</td>\n",
       "      <td>eclipse</td>\n",
       "      <td>long_description</td>\n",
       "      <td>lstm+emb</td>\n",
       "      <td>smote</td>\n",
       "      <td>-</td>\n",
       "      <td>val_accuracy</td>\n",
       "      <td>63</td>\n",
       "      <td>250</td>\n",
       "      <td>8802</td>\n",
       "      <td>4401</td>\n",
       "      <td>4401</td>\n",
       "      <td>2200</td>\n",
       "      <td>1100</td>\n",
       "      <td>1100</td>\n",
       "      <td>2444</td>\n",
       "      <td>1833</td>\n",
       "      <td>611</td>\n",
       "      <td>3.373760</td>\n",
       "      <td>1027.0</td>\n",
       "      <td>1417.0</td>\n",
       "      <td>1027.0</td>\n",
       "      <td>1417.0</td>\n",
       "      <td>0.420213</td>\n",
       "      <td>0.420213</td>\n",
       "      <td>0.420213</td>\n",
       "      <td>0.330910</td>\n",
       "      <td>0.420213</td>\n",
       "      <td>0.420213</td>\n",
       "      <td>0.533824</td>\n",
       "      <td>0.420213</td>\n",
       "      <td>200</td>\n",
       "    </tr>\n",
       "    <tr>\n",
       "      <th>3</th>\n",
       "      <td>3</td>\n",
       "      <td>eclipse</td>\n",
       "      <td>long_description</td>\n",
       "      <td>lstm+emb</td>\n",
       "      <td>smote</td>\n",
       "      <td>-</td>\n",
       "      <td>val_accuracy</td>\n",
       "      <td>8</td>\n",
       "      <td>250</td>\n",
       "      <td>5880</td>\n",
       "      <td>2940</td>\n",
       "      <td>2940</td>\n",
       "      <td>1470</td>\n",
       "      <td>735</td>\n",
       "      <td>735</td>\n",
       "      <td>2444</td>\n",
       "      <td>1225</td>\n",
       "      <td>1219</td>\n",
       "      <td>0.691460</td>\n",
       "      <td>1303.0</td>\n",
       "      <td>1141.0</td>\n",
       "      <td>1303.0</td>\n",
       "      <td>1141.0</td>\n",
       "      <td>0.533142</td>\n",
       "      <td>0.533142</td>\n",
       "      <td>0.533142</td>\n",
       "      <td>0.545663</td>\n",
       "      <td>0.533142</td>\n",
       "      <td>0.533142</td>\n",
       "      <td>0.533147</td>\n",
       "      <td>0.533142</td>\n",
       "      <td>200</td>\n",
       "    </tr>\n",
       "    <tr>\n",
       "      <th>7</th>\n",
       "      <td>7</td>\n",
       "      <td>eclipse</td>\n",
       "      <td>long_description</td>\n",
       "      <td>lstm+emb</td>\n",
       "      <td>smote</td>\n",
       "      <td>-</td>\n",
       "      <td>val_accuracy</td>\n",
       "      <td>63</td>\n",
       "      <td>200</td>\n",
       "      <td>8802</td>\n",
       "      <td>4401</td>\n",
       "      <td>4401</td>\n",
       "      <td>2200</td>\n",
       "      <td>1100</td>\n",
       "      <td>1100</td>\n",
       "      <td>2444</td>\n",
       "      <td>1833</td>\n",
       "      <td>611</td>\n",
       "      <td>3.216378</td>\n",
       "      <td>1056.0</td>\n",
       "      <td>1388.0</td>\n",
       "      <td>1056.0</td>\n",
       "      <td>1388.0</td>\n",
       "      <td>0.432079</td>\n",
       "      <td>0.432079</td>\n",
       "      <td>0.432079</td>\n",
       "      <td>0.340089</td>\n",
       "      <td>0.432079</td>\n",
       "      <td>0.432079</td>\n",
       "      <td>0.532460</td>\n",
       "      <td>0.432079</td>\n",
       "      <td>200</td>\n",
       "    </tr>\n",
       "  </tbody>\n",
       "</table>\n",
       "</div>"
      ],
      "text/plain": [
       "   #  project           feature classifier balancing resampling        metric  \\\n",
       "2  2  eclipse  long_description   lstm+emb     smote          -  val_accuracy   \n",
       "4  4  eclipse  long_description   lstm+emb     smote          -  val_accuracy   \n",
       "8  8  eclipse  long_description   lstm+emb     smote          -  val_accuracy   \n",
       "3  3  eclipse  long_description   lstm+emb     smote          -  val_accuracy   \n",
       "7  7  eclipse  long_description   lstm+emb     smote          -  val_accuracy   \n",
       "\n",
       "   threshold  terms  train_size  train_size_class_0  train_size_class_1  \\\n",
       "2          8    200        5880                2940                2940   \n",
       "4          8    300        5880                2940                2940   \n",
       "8         63    250        8802                4401                4401   \n",
       "3          8    250        5880                2940                2940   \n",
       "7         63    200        8802                4401                4401   \n",
       "\n",
       "   val_size  val_size_class_0  val_size_class_1  test_size  test_size_class_0  \\\n",
       "2      1470               735               735       2444               1225   \n",
       "4      1470               735               735       2444               1225   \n",
       "8      2200              1100              1100       2444               1833   \n",
       "3      1470               735               735       2444               1225   \n",
       "7      2200              1100              1100       2444               1833   \n",
       "\n",
       "   test_size_class_1      loss      tp      fp      tn      fn  accuracy  \\\n",
       "2               1219  0.691510  1322.0  1122.0  1322.0  1122.0  0.540917   \n",
       "4               1219  0.690039  1315.0  1129.0  1315.0  1129.0  0.538052   \n",
       "8                611  3.373760  1027.0  1417.0  1027.0  1417.0  0.420213   \n",
       "3               1219  0.691460  1303.0  1141.0  1303.0  1141.0  0.533142   \n",
       "7                611  3.216378  1056.0  1388.0  1056.0  1388.0  0.432079   \n",
       "\n",
       "   precision    recall       auc  sensitivity  specificity  balanced_acc  \\\n",
       "2   0.540917  0.540917  0.546239     0.540917     0.540917      0.540888   \n",
       "4   0.538052  0.538052  0.549142     0.538052     0.538052      0.538137   \n",
       "8   0.420213  0.420213  0.330910     0.420213     0.420213      0.533824   \n",
       "3   0.533142  0.533142  0.545663     0.533142     0.533142      0.533147   \n",
       "7   0.432079  0.432079  0.340089     0.432079     0.432079      0.532460   \n",
       "\n",
       "   fmeasure  epochs  \n",
       "2  0.540917     200  \n",
       "4  0.538052     200  \n",
       "8  0.420213     200  \n",
       "3  0.533142     200  \n",
       "7  0.432079     200  "
      ]
     },
     "execution_count": 5,
     "metadata": {},
     "output_type": "execute_result"
    }
   ],
   "source": [
    "data_evaluation.sort_values('balanced_acc', ascending=False).head()"
   ]
  },
  {
   "cell_type": "code",
   "execution_count": null,
   "metadata": {},
   "outputs": [],
   "source": [
    "#data_results[['feature', 'classifier', 'balancing', 'metric', 'sensitivity', 'specificity', 'balanced_acc']].sort_values('balanced_acc', ascending=False).head(10).to_latex('rq3e1_eclipse_metrics.tex')"
   ]
  },
  {
   "cell_type": "markdown",
   "metadata": {},
   "source": [
    "### Best Sensitivity Scores"
   ]
  },
  {
   "cell_type": "code",
   "execution_count": null,
   "metadata": {},
   "outputs": [],
   "source": [
    "data_evaluation.sort_values('sensitivity', ascending=False).head()"
   ]
  },
  {
   "cell_type": "markdown",
   "metadata": {},
   "source": [
    "#### Legenda:\n",
    "* **Sensitivity:** corresponde à taxa de acerto na classe positiva. Também chamada de taxa de verdadeiros positivos: TP / ( TP + FN ).\n",
    "* **Specificity:** corresponde à taxa de acerto na classe negativa: TN / ( TN + FP ).\n",
    "* **Balanced Accuracy:** (Sensibilidade + Especificidade)/2.\n"
   ]
  },
  {
   "cell_type": "markdown",
   "metadata": {},
   "source": [
    "## 3.2 Evaluation Metrics"
   ]
  },
  {
   "cell_type": "markdown",
   "metadata": {},
   "source": [
    "### Balanced Accuracy\n",
    "Accurácia balanceada: (sensitivity + specificity)/2"
   ]
  },
  {
   "cell_type": "code",
   "execution_count": 38,
   "metadata": {},
   "outputs": [
    {
     "data": {
      "image/png": "[encoded data removed]",
      "text/plain": [
       "<Figure size 432x288 with 1 Axes>"
      ]
     },
     "metadata": {},
     "output_type": "display_data"
    }
   ],
   "source": [
    "sns.set_context('paper', font_scale = 1.5)\n",
    "sns.set_style(\"ticks\", {'axes.grid' : False})\n",
    "data_evaluation.threshold = data_evaluation['threshold'].astype(str)\n",
    "data_evaluation.terms = data_evaluation['terms'].astype(str)\n",
    "\n",
    "#g = sns.catplot(data=data_evaluation, x=\"threshold\", y=\"balanced_acc\"\n",
    "#                , hue=\"terms\", kind=\"point\", height=6, aspect=2)\n",
    "sns.lineplot(x='threshold', y='balanced_acc', data=data_evaluation, hue='terms', style='terms')\n",
    "\n",
    "sns.despine(left=True, offset=10)"
   ]
  },
  {
   "cell_type": "markdown",
   "metadata": {},
   "source": [
    "## 3.3 Statistical Test"
   ]
  },
  {
   "cell_type": "markdown",
   "metadata": {},
   "source": [
    "### Balanced Accuracy "
   ]
  },
  {
   "cell_type": "code",
   "execution_count": null,
   "metadata": {},
   "outputs": [],
   "source": [
    "# read data per classifier\n",
    "knn = e1_metrics_data[e1_metrics_data['classifier'] == 'knn'].balanced_acc\n",
    "nb  = e1_metrics_data[e1_metrics_data['classifier'] == 'nb'].balanced_acc\n",
    "nn  = e1_metrics_data[e1_metrics_data['classifier'] == 'nn'].balanced_acc\n",
    "rf  = e1_metrics_data[e1_metrics_data['classifier'] == 'rf'].balanced_acc\n",
    "svm = e1_metrics_data[e1_metrics_data['classifier'] == 'svm'].balanced_acc\n",
    "\n",
    "# compare samples with Friedman Test\n",
    "stat, p = kruskal(knn, nb, nn, rf, svm)\n",
    "print('Statistics=%.3f, p=%.3f' % (stat, p))\n",
    "\n",
    "# interpret\n",
    "alpha = 0.05\n",
    "if p > alpha:\n",
    "    print('Same distributions (fail to reject H0)')\n",
    "else:\n",
    "    print('Different distributions (reject H0)')\n"
   ]
  },
  {
   "cell_type": "markdown",
   "metadata": {},
   "source": [
    "### Sensitivity"
   ]
  },
  {
   "cell_type": "code",
   "execution_count": null,
   "metadata": {},
   "outputs": [],
   "source": [
    "# read data per classifier\n",
    "knn = e1_metrics_data[e1_metrics_data['classifier'] == 'knn'].sensitivity\n",
    "nb  = e1_metrics_data[e1_metrics_data['classifier'] == 'nb'].sensitivity\n",
    "nn  = e1_metrics_data[e1_metrics_data['classifier'] == 'nn'].sensitivity\n",
    "rf  = e1_metrics_data[e1_metrics_data['classifier'] == 'rf'].sensitivity\n",
    "svm = e1_metrics_data[e1_metrics_data['classifier'] == 'svm'].sensitivity\n",
    "\n",
    "# compare samples with Friedman Test\n",
    "stat, p = kruskal(knn, nb, nn, rf, svm)\n",
    "print('Statistics=%.3f, p=%.3f' % (stat, p))\n",
    "\n",
    "# interpret\n",
    "alpha = 0.05\n",
    "if p > alpha:\n",
    "    print('Same distributions (fail to reject H0)')\n",
    "else:\n",
    "    print('Different distributions (reject H0)')"
   ]
  },
  {
   "cell_type": "markdown",
   "metadata": {},
   "source": [
    "## 3.4. Test results"
   ]
  },
  {
   "cell_type": "code",
   "execution_count": null,
   "metadata": {},
   "outputs": [],
   "source": [
    "e1_tests_data = pd.read_csv(e1_tests_path)"
   ]
  },
  {
   "cell_type": "code",
   "execution_count": null,
   "metadata": {},
   "outputs": [],
   "source": [
    "bug_reports_data = pd.read_csv(bug_reports_path)\n",
    "test_e1_merged_data = pd.merge(\n",
    "    bug_reports_data,\n",
    "    e1_tests_data[['bug_id', 'long_lived', 'y_hat']],\n",
    "    left_on='bug_id',\n",
    "    right_on='bug_id',\n",
    "    how='inner'\n",
    ")"
   ]
  },
  {
   "cell_type": "code",
   "execution_count": null,
   "metadata": {},
   "outputs": [],
   "source": [
    "correct_predicted_bugs = test_e1_merged_data.query('long_lived == \"Y\" and y_hat == \"Y\"')\n",
    "correct_predicted_bugs.head()"
   ]
  },
  {
   "cell_type": "markdown",
   "metadata": {},
   "source": [
    "# 4. Second Experiment (RQ4.2)"
   ]
  },
  {
   "cell_type": "markdown",
   "metadata": {},
   "source": [
    "## 4.1 Parameters"
   ]
  },
  {
   "cell_type": "markdown",
   "metadata": {},
   "source": [
    "\n",
    "| Parameter                  |         Value        |\n",
    "|----------------------------|:--------------------:|\n",
    "| Project                    |        Eclipse       |\n",
    "| Algorithms                 |        NN |\n",
    "| Metrics                    | Accuracy |\n",
    "| Features                   | Long Description |\n",
    "| Number of Terms            |        100, 150, 200, 250, 300       |\n",
    "| Balancing                  |        Smote   |\n",
    "| Resampling                 |        Repeated CV 5 x 2       |\n",
    "| Threshold                  |        365       |\n",
    "\n",
    "\n",
    "\n",
    "\n",
    "\n",
    "\n",
    "\n",
    "\n",
    "Every bug which its report have indicated that the number of days to resolve is less than or equal to **threshold fixed** was considered a **non-long lived bug** and that which the number of days to resolve is greater than this threshold was considered as a **long-live bug**. "
   ]
  },
  {
   "cell_type": "markdown",
   "metadata": {},
   "source": [
    "## 4.2 Review Data"
   ]
  },
  {
   "cell_type": "code",
   "execution_count": null,
   "metadata": {},
   "outputs": [],
   "source": [
    "e2_metrics_data.sort_values('balanced_acc', ascending=False).head()"
   ]
  },
  {
   "cell_type": "markdown",
   "metadata": {},
   "source": [
    "## 4.3 Evaluation Metrics"
   ]
  },
  {
   "cell_type": "code",
   "execution_count": null,
   "metadata": {},
   "outputs": [],
   "source": [
    "from  matplotlib.ticker import PercentFormatter\n",
    "sns.set_context(\"paper\")\n",
    "sns.set(style=\"whitegrid\", font_scale=1.0)\n",
    "e2_metrics_data_melted = e2_metrics_data[['n_term', 'sensitivity', 'specificity', 'balanced_acc']].melt(id_vars=['n_term']) \n",
    "\n",
    "g = sns.catplot(data=e2_metrics_data_melted\n",
    "                , kind=\"point\"\n",
    "                , x=\"n_term\"\n",
    "                , y=\"value\"\n",
    "                , hue=\"variable\"\n",
    "                , saturation=.0\n",
    "                , height=6\n",
    "                , size=5\n",
    "                , aspect=2\n",
    "                , palette=[\"tab:green\", \"tab:blue\", \"tab:red\"]\n",
    "                , markers=[\"*\", \"o\", \"x\"]\n",
    "                #, linestyles=[\"-\", \"--\", \"dotted\"]\n",
    "                , legend_out=True)\n",
    "\n",
    "(g.set_axis_labels(\"Number of Terms\", \"Score\")\n",
    "  .set_titles(\" Balanced Accuracy: Neural Network\")\n",
    "  .set(ylim=(0, 1))\n",
    "  .despine(left=True))\n",
    "\n",
    "# Format y scale in percentage format. \n",
    "for ax in g.axes.flat:\n",
    "    ax.yaxis.set_major_formatter(PercentFormatter(1))\n",
    "\n",
    "# Change and ajust legend. \n",
    "box = g.ax.get_position()\n",
    "g.ax.set_position([box.x0, box.y0, box.width * 0.95, box.height]) # resize position\n",
    "g._legend.set_title(\"Evaluating Metrics\")\n",
    "for t, l in zip(g._legend.texts, ['Sensitivity', 'Specificity', 'Balanced Accuracy']): t.set_text(l)\n",
    "\n",
    "plt.show(g)\n",
    "g.savefig(f\"figures/rq4e2-eclipse-evaluation-metrics.pdf\", format=\"pdf\", dpi=600, bbox_inches='tight')"
   ]
  },
  {
   "cell_type": "code",
   "execution_count": null,
   "metadata": {},
   "outputs": [],
   "source": [
    "from  matplotlib.ticker import PercentFormatter\n",
    "import matplotlib.ticker as ticker\n",
    "\n",
    "def plot_line(x_ticks, x_label, experiment, data, id_var):\n",
    "    sns.set_context(\"paper\")\n",
    "    sns.set(style=\"ticks\", color_codes=True)\n",
    "    e2_metrics_data_melted = data[[id_var, 'sensitivity', 'specificity', 'balanced_acc']].melt(id_vars=[id_var]) \n",
    "\n",
    "    plt.plot(id_var, 'value', data=e2_metrics_data_melted[e2_metrics_data_melted.variable=='sensitivity'], label=\"Sensitivity\", marker='*', markerfacecolor='tab:green', markersize=8, color='tab:green', linewidth=2)\n",
    "    plt.plot(id_var, 'value', data=e2_metrics_data_melted[e2_metrics_data_melted.variable=='specificity'], label=\"Specificity\", marker='o', markerfacecolor='tab:blue',  markersize=8, color='tab:blue', linewidth=2)\n",
    "    plt.plot(id_var, 'value', data=e2_metrics_data_melted[e2_metrics_data_melted.variable=='balanced_acc'], label=\"Balanced Accuracy\", marker='x',markerfacecolor='tab:red',   markersize=8, color='tab:red', linewidth=2)\n",
    "    sns.despine(offset=5)\n",
    "\n",
    "    ax = plt.axes()\n",
    "    \n",
    "    plt.xticks(x_ticks)\n",
    "    plt.xlabel(x_label, fontsize=SMALL_SIZE)\n",
    "    \n",
    "    plt.yticks(fontsize=SMALL_SIZE)\n",
    "    plt.ylabel('Score', fontsize=SMALL_SIZE)\n",
    "    plt.ylim(0, 1)\n",
    "    plt.gca().set_yticklabels(['{:.0f}%'.format(x*100) for x in plt.gca().get_yticks()])\n",
    "\n",
    "    plt.title(\"Eclipse: Evaluation Metrics\", fontsize=SMALL_SIZE)\n",
    "    plt.legend()\n",
    "    plt.savefig(f\"figures/rq4e{experiment}-eclipse-evaluation-metrics.pdf\", format=\"pdf\", dpi=600, bbox_inches='tight')"
   ]
  },
  {
   "cell_type": "code",
   "execution_count": null,
   "metadata": {},
   "outputs": [],
   "source": [
    "plot_line([100, 150, 200, 250, 300], \"Number of Terms\", \"2\", e2_metrics_data, \"n_term\")"
   ]
  },
  {
   "cell_type": "markdown",
   "metadata": {},
   "source": [
    "## 4.4 Test Results"
   ]
  },
  {
   "cell_type": "code",
   "execution_count": null,
   "metadata": {},
   "outputs": [],
   "source": [
    "e2_tests_data = pd.read_csv(e2_tests_path)\n",
    "bug_reports_data = pd.read_csv(bug_reports_path)\n",
    "test_e2_merged_data = pd.merge(\n",
    "    bug_reports_data,\n",
    "    e2_tests_data[['bug_id', 'long_lived', 'y_hat']],\n",
    "    left_on='bug_id',\n",
    "    right_on='bug_id',\n",
    "    how='inner'\n",
    ")\n",
    "correct_predicted_bugs = test_e2_merged_data.query('long_lived == \"Y\" and y_hat == \"Y\"')\n",
    "correct_predicted_bugs.head()"
   ]
  },
  {
   "cell_type": "markdown",
   "metadata": {},
   "source": [
    "# 5. Third Experiment (RQ4.3)"
   ]
  },
  {
   "cell_type": "markdown",
   "metadata": {},
   "source": [
    "## 5.1 Parameters"
   ]
  },
  {
   "cell_type": "markdown",
   "metadata": {},
   "source": [
    "| Parameter                  |         Value        |\n",
    "|----------------------------|:--------------------:|\n",
    "| Project                    |        Eclipse       |\n",
    "| Algorithms                 |        NN |\n",
    "| Metrics                    | Accuracy |\n",
    "| Features                   | Long Description |\n",
    "| Number of Terms            |        100       |\n",
    "| Balancing                  |        Smote   |\n",
    "| Resampling                 |        Repeated CV 5 x 2       |\n",
    "| Threshold                  |        1, 8, 63, 365       |\n",
    "\n",
    "\n",
    "\n",
    "\n",
    "\n",
    "\n",
    "\n",
    "\n",
    "Every bug which its report have indicated that the number of days to resolve is less than or equal to **threshold fixed** was considered a **non-long lived bug** and that which the number of days to resolve is greater than this threshold was considered as a **long-live bug**. "
   ]
  },
  {
   "cell_type": "markdown",
   "metadata": {},
   "source": [
    "## 5.2 Review Data"
   ]
  },
  {
   "cell_type": "code",
   "execution_count": null,
   "metadata": {},
   "outputs": [],
   "source": [
    "e3_metrics_data.sort_values('balanced_acc', ascending=False).head()"
   ]
  },
  {
   "cell_type": "markdown",
   "metadata": {},
   "source": [
    "## 5.3 Evaluation Metrics"
   ]
  },
  {
   "cell_type": "code",
   "execution_count": null,
   "metadata": {},
   "outputs": [],
   "source": [
    "plot_line([8, 63, 108, 365], \"Bug Fixing Time Threshold\", \"3\", e3_metrics_data, \"threshold\")"
   ]
  },
  {
   "cell_type": "markdown",
   "metadata": {},
   "source": [
    "## 5.4 Tests Results"
   ]
  },
  {
   "cell_type": "code",
   "execution_count": null,
   "metadata": {},
   "outputs": [],
   "source": [
    "e3_tests_data = pd.read_csv(e3_tests_path)\n",
    "bug_reports_data = pd.read_csv(bug_reports_path)\n",
    "test_e3_merged_data = pd.merge(\n",
    "    bug_reports_data,\n",
    "    e2_tests_data[['bug_id', 'long_lived', 'y_hat']],\n",
    "    left_on='bug_id',\n",
    "    right_on='bug_id',\n",
    "    how='inner'\n",
    ")\n",
    "correct_predicted_bugs = test_e3_merged_data.query('long_lived == \"Y\" and y_hat == \"Y\"')\n",
    "correct_predicted_bugs.head()"
   ]
  },
  {
   "cell_type": "markdown",
   "metadata": {},
   "source": [
    "# 6. Fourth Experiment"
   ]
  },
  {
   "cell_type": "markdown",
   "metadata": {},
   "source": [
    "## 6.1 Parameters"
   ]
  },
  {
   "cell_type": "markdown",
   "metadata": {},
   "source": [
    "| Parameter                  |         Value        |\n",
    "|----------------------------|:--------------------:|\n",
    "| Project                    |        Eclipse, Freedesktop, Gcc, Gnome, Mozilla, WineHQ       |\n",
    "| Algorithms                 |        NN |\n",
    "| Metrics                    | Accuracy |\n",
    "| Features                   | Long Description |\n",
    "| Number of Terms            |        100       |\n",
    "| Balancing                  |        Smote   |\n",
    "| Resampling                 |        Repeated CV 5 x 2       |\n",
    "| Threshold                  |        365       |\n",
    "\n",
    "\n",
    "\n",
    "\n",
    "\n",
    "\n",
    "\n",
    "\n",
    "Every bug which its report have indicated that the number of days to resolve is less than or equal to **threshold fixed** was considered a **non-long lived bug** and that which the number of days to resolve is greater than this threshold was considered as a **long-live bug**."
   ]
  },
  {
   "cell_type": "markdown",
   "metadata": {},
   "source": [
    "## 6.2 Review Data"
   ]
  },
  {
   "cell_type": "code",
   "execution_count": null,
   "metadata": {},
   "outputs": [],
   "source": [
    "e4_metrics_data.sort_values('balanced_acc', ascending=False).head(6)"
   ]
  },
  {
   "cell_type": "markdown",
   "metadata": {},
   "source": [
    "## 6.3 Evaluation Metrics"
   ]
  },
  {
   "cell_type": "code",
   "execution_count": null,
   "metadata": {},
   "outputs": [],
   "source": []
  },
  {
   "cell_type": "code",
   "execution_count": null,
   "metadata": {},
   "outputs": [],
   "source": [
    "sns.despine(offset=5)\n",
    "sns.set(style=\"whitegrid\")\n",
    "e4_metrics_data_melted = e4_metrics_data[['project', 'sensitivity', 'specificity', 'balanced_acc']].melt(id_vars=['project']) \n",
    "g = sns.catplot(data=e4_metrics_data_melted\n",
    "                , kind=\"bar\"\n",
    "                , x=\"project\"\n",
    "                , y=\"value\"\n",
    "                , hue=\"variable\"\n",
    "                #, saturation=.5\n",
    "                , height=6\n",
    "                , aspect=2\n",
    "                , palette=[\"tab:green\", \"tab:blue\", \"tab:red\"])\n",
    "(g.set_axis_labels(\"\", \"\")\n",
    "  .set_titles(\" GCC: Neural Network Performance\")\n",
    "  .set(ylim=(0,1))\n",
    "  .despine(left=True))\n",
    "\n",
    "# Format y scale in percentage format. \n",
    "for ax in g.axes.flat:\n",
    "    ax.yaxis.set_major_formatter(PercentFormatter(1))\n",
    "\n",
    "# Change and ajust legend. \n",
    "box = g.ax.get_position()\n",
    "g.ax.set_position([box.x0, box.y0, box.width * 0.95, box.height]) # resize position\n",
    "g._legend.set_title(\"Evaluating Metrics\")\n",
    "for t, l in zip(g._legend.texts, ['Sensitivity', 'Specificity', 'Balanced Accuracy']): t.set_text(l)\n",
    "\n",
    "plt.show(g)\n",
    "plt.savefig(\"figures/r4e4_performace_algorithms_on_eclipse_dataset.pdf\", format=\"pdf\", dpi=600, bbox_inches='tight')"
   ]
  },
  {
   "cell_type": "code",
   "execution_count": null,
   "metadata": {},
   "outputs": [],
   "source": [
    "from pandas import DataFrame\n",
    "\n",
    "metrics = {'dataset': ['Eclipse', 'Freedesktop', 'Gnome', 'Mozilla', 'Gcc', 'WineHQ'],\n",
    "        '% of Long-Lived Bugs': [7.7, 13.6, 14.4, 18.1, 29.2, 40.7],\n",
    "        'Balanced Accuracy (%)': [54.21, 55.44, 59.48, 61.84, 70.77, 56.46]}\n",
    "\n",
    "df = DataFrame(metrics)\n",
    "\n",
    "print (df) "
   ]
  },
  {
   "cell_type": "code",
   "execution_count": null,
   "metadata": {},
   "outputs": [],
   "source": [
    "plt.rc('figure', figsize=(20, 20))\n",
    "plt.style.use('default')\n",
    "\n",
    "x=df['% of Long-Lived Bugs']\n",
    "y=df['Balanced Accuracy (%)']\n",
    "\n",
    "plt.scatter(x, y, s=100, color=['tab:blue', 'tab:pink', 'tab:green', 'tab:purple', 'tab:orange', 'tab:red'])\n",
    "plt.xlim(0,50)\n",
    "plt.ylim(50, 75)\n",
    "plt.text(6, 55.5, 'Eclipse')\n",
    "plt.text(10, 56.5, 'Freedesktop')\n",
    "plt.text(12, 60.5, 'Gnome')\n",
    "plt.text(16, 63.0, 'Mozilla')\n",
    "plt.text(27.5, 72, 'GCC')\n",
    "plt.text(38.5, 57.5, 'WineHQ')\n",
    "plt.grid(linestyle='--', linewidth=0.5, alpha=0.5)\n",
    "plt.xlabel('% of Long-Lived Bugs')\n",
    "plt.ylabel('Balance Accuracy (%)')\n",
    "\n",
    "sns.despine(offset=5, trim=True)\n"
   ]
  },
  {
   "cell_type": "markdown",
   "metadata": {},
   "source": [
    "## 6.4 Tests Results"
   ]
  },
  {
   "cell_type": "code",
   "execution_count": null,
   "metadata": {},
   "outputs": [],
   "source": [
    "e4_tests_data = pd.read_csv(e4_tests_path)\n",
    "bug_reports_data = pd.read_csv(bug_reports_gcc_path)\n",
    "test_e4_merged_data = pd.merge(\n",
    "    bug_reports_data,\n",
    "    e4_tests_data[['bug_id', 'long_lived', 'y_hat']],\n",
    "    left_on='bug_id',\n",
    "    right_on='bug_id',\n",
    "    how='inner'\n",
    ")\n",
    "correct_predicted_bugs = test_e4_merged_data.query('long_lived == \"Y\" and y_hat == \"N\"')\n",
    "#correct_predicted_bugs.head()\n",
    "correct_predicted_bugs.groupby('long_lived')['long_lived'].agg(['count'])"
   ]
  },
  {
   "cell_type": "code",
   "execution_count": null,
   "metadata": {},
   "outputs": [],
   "source": []
  }
 ],
 "metadata": {
  "kernelspec": {
   "display_name": "Python 3",
   "language": "python",
   "name": "python3"
  },
  "language_info": {
   "codemirror_mode": {
    "name": "ipython",
    "version": 3
   },
   "file_extension": ".py",
   "mimetype": "text/x-python",
   "name": "python",
   "nbconvert_exporter": "python",
   "pygments_lexer": "ipython3",
   "version": "3.8.2"
  }
 },
 "nbformat": 4,
 "nbformat_minor": 2
}
