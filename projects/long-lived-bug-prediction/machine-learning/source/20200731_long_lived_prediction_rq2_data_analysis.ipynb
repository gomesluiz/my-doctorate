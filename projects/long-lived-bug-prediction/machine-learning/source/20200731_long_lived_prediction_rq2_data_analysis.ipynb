{
 "cells": [
  {
   "cell_type": "markdown",
   "metadata": {},
   "source": [
    "# Research Question No. 2"
   ]
  },
  {
   "cell_type": "markdown",
   "metadata": {},
   "source": [
    "## How frequent are long-lived bugs in FLOSS project?"
   ]
  },
  {
   "cell_type": "markdown",
   "metadata": {},
   "source": [
    "## Experimental parameters"
   ]
  },
  {
   "cell_type": "markdown",
   "metadata": {},
   "source": [
    "\n",
    "| Project                    |         #Reports     |       #Thesholds     |\n",
    "|----------------------------|:--------------------:|:--------------------:|\n",
    "| Eclipse                    |        9998         |         365          |\n",
    "| GCC                        |        9998         |         365          |\n",
    "| Gnome                      |        7991          |         365          |\n",
    "| Freedesktop                |        7712          |         365          |\n",
    "| Mozilla                    |        9998          |         365          |\n",
    "| WineHQ                     |        6073          |         365          |\n",
    "\n",
    "Every bug which its report have indicated that the number of days to resolve is less than or equal to **threshold fixed** was considered a **non-long lived bug** and that which the number of days to resolve is greater than this threshold was considered as a **long-live bug**. "
   ]
  },
  {
   "cell_type": "markdown",
   "metadata": {},
   "source": [
    "## Step1. Setup environment."
   ]
  },
  {
   "cell_type": "code",
   "execution_count": 5,
   "metadata": {},
   "outputs": [
    {
     "data": {
      "application/javascript": [
       "IPython.OutputArea.prototype._should_scroll = function(lines) {\n",
       "    return false;\n",
       "}\n"
      ],
      "text/plain": [
       "<IPython.core.display.Javascript object>"
      ]
     },
     "metadata": {},
     "output_type": "display_data"
    }
   ],
   "source": [
    "%%javascript\n",
    "IPython.OutputArea.prototype._should_scroll = function(lines) {\n",
    "    return false;\n",
    "}"
   ]
  },
  {
   "cell_type": "code",
   "execution_count": 30,
   "metadata": {},
   "outputs": [
    {
     "name": "stdout",
     "output_type": "stream",
     "text": [
      "Setup complete\n"
     ]
    },
    {
     "name": "stderr",
     "output_type": "stream",
     "text": [
      "[nltk_data] Downloading package punkt to /home/gomes/nltk_data...\n",
      "[nltk_data]   Package punkt is already up-to-date!\n",
      "[nltk_data] Downloading package stopwords to /home/gomes/nltk_data...\n",
      "[nltk_data]   Package stopwords is already up-to-date!\n"
     ]
    }
   ],
   "source": [
    "import matplotlib.pyplot as plt \n",
    "import nltk \n",
    "import numpy as np\n",
    "import os \n",
    "import pandas as pd\n",
    "import seaborn as sns \n",
    "import string\n",
    "\n",
    "from nltk.stem   import PorterStemmer\n",
    "from nltk.corpus import stopwords\n",
    "from nltk.tokenize import sent_tokenize, word_tokenize\n",
    "from wordcloud import WordCloud, STOPWORDS, ImageColorGenerator\n",
    "\n",
    "# Setup Seaborn\n",
    "sns.set_context(\"paper\")\n",
    "sns.set(style=\"ticks\", color_codes=True, font_scale=2)\n",
    "\n",
    "# Setup Matplotlib\n",
    "plt.rc('figure', figsize=(20, 20))\n",
    "plt.style.use('default')\n",
    "SMALL_SIZE  = 10\n",
    "MEDIUM_SIZE = 12\n",
    "BIGGER_SIZE = 14\n",
    "plt.rc('font',   size=SMALL_SIZE)       # controls default text sizes\n",
    "plt.rc('axes',   titlesize=SMALL_SIZE)  # fontsize of the axes title\n",
    "plt.rc('axes',   labelsize=SMALL_SIZE)  # fontsize of the x and y labels\n",
    "plt.rc('xtick',  labelsize=SMALL_SIZE)  # fontsize of the tick labels\n",
    "plt.rc('ytick',  labelsize=SMALL_SIZE)  # fontsize of the tick labels\n",
    "plt.rc('legend', fontsize=SMALL_SIZE)   # legend fontsize\n",
    "plt.rc('figure', titlesize=SMALL_SIZE)  # fontsize of the figure title\n",
    "#%matplotlib inline \n",
    "\n",
    "# Setup NLTK\n",
    "stemmer = PorterStemmer()\n",
    "nltk.download('punkt')\n",
    "nltk.download('stopwords')\n",
    "\n",
    "# Path of the file to read.\n",
    "projects = ['eclipse', 'freedesktop', 'gnome', 'mozilla', 'gcc', 'winehq']\n",
    "\n",
    "# Fixed time threshold.\n",
    "bug_fix_time_threshold = 365\n",
    "print(\"Setup complete\")"
   ]
  },
  {
   "cell_type": "markdown",
   "metadata": {},
   "source": [
    "## Step 2. Load data."
   ]
  },
  {
   "cell_type": "code",
   "execution_count": 35,
   "metadata": {},
   "outputs": [],
   "source": [
    "bug_reports_path = f\"datasets/bug_reports_all_data.csv\"\n",
    "bug_reports_all_data = pd.read_csv(bug_reports_path)"
   ]
  },
  {
   "cell_type": "markdown",
   "metadata": {},
   "source": [
    "## Step 3. Exploring data analysis"
   ]
  },
  {
   "cell_type": "code",
   "execution_count": 37,
   "metadata": {},
   "outputs": [
    {
     "data": {
      "text/plain": [
       "mozilla        9998\n",
       "eclipse        9998\n",
       "gcc            9998\n",
       "gnome          7991\n",
       "freedesktop    7712\n",
       "winehq         6073\n",
       "Name: project, dtype: int64"
      ]
     },
     "execution_count": 37,
     "metadata": {},
     "output_type": "execute_result"
    }
   ],
   "source": [
    "bug_reports_all_data['project'].value_counts()"
   ]
  },
  {
   "cell_type": "code",
   "execution_count": 38,
   "metadata": {},
   "outputs": [
    {
     "data": {
      "text/html": [
       "<div>\n",
       "<style scoped>\n",
       "    .dataframe tbody tr th:only-of-type {\n",
       "        vertical-align: middle;\n",
       "    }\n",
       "\n",
       "    .dataframe tbody tr th {\n",
       "        vertical-align: top;\n",
       "    }\n",
       "\n",
       "    .dataframe thead th {\n",
       "        text-align: right;\n",
       "    }\n",
       "</style>\n",
       "<table border=\"1\" class=\"dataframe\">\n",
       "  <thead>\n",
       "    <tr style=\"text-align: right;\">\n",
       "      <th></th>\n",
       "      <th>bug_id</th>\n",
       "      <th>creation_date</th>\n",
       "      <th>component_name</th>\n",
       "      <th>product_name</th>\n",
       "      <th>short_description</th>\n",
       "      <th>long_description</th>\n",
       "      <th>assignee_name</th>\n",
       "      <th>reporter_name</th>\n",
       "      <th>resolution_category</th>\n",
       "      <th>resolution_code</th>\n",
       "      <th>...</th>\n",
       "      <th>quantity_of_comments</th>\n",
       "      <th>resolution_date</th>\n",
       "      <th>bug_fix_time</th>\n",
       "      <th>severity_category</th>\n",
       "      <th>severity_code</th>\n",
       "      <th>project</th>\n",
       "      <th>short_description_words</th>\n",
       "      <th>long_description_words</th>\n",
       "      <th>long_lived?</th>\n",
       "      <th>file_size</th>\n",
       "    </tr>\n",
       "  </thead>\n",
       "  <tbody>\n",
       "    <tr>\n",
       "      <th>0</th>\n",
       "      <td>EMF-354412</td>\n",
       "      <td>2011-08-10</td>\n",
       "      <td>cdo.core</td>\n",
       "      <td>EMF</td>\n",
       "      <td>containsAll returns wrong result in case of de...</td>\n",
       "      <td>Cloned from: 354395: containsAll returns wrong...</td>\n",
       "      <td>stepper</td>\n",
       "      <td>stepper</td>\n",
       "      <td>fixed</td>\n",
       "      <td>1</td>\n",
       "      <td>...</td>\n",
       "      <td>5</td>\n",
       "      <td>2011-08-10</td>\n",
       "      <td>0</td>\n",
       "      <td>normal</td>\n",
       "      <td>2</td>\n",
       "      <td>eclipse</td>\n",
       "      <td>7</td>\n",
       "      <td>52</td>\n",
       "      <td>short-lived</td>\n",
       "      <td>0.018005</td>\n",
       "    </tr>\n",
       "    <tr>\n",
       "      <th>1</th>\n",
       "      <td>JSDT-253166</td>\n",
       "      <td>2008-11-03</td>\n",
       "      <td>General</td>\n",
       "      <td>JSDT</td>\n",
       "      <td>Javascript validation has several errors with ...</td>\n",
       "      <td>Some of our javascript-files yield parse-error...</td>\n",
       "      <td>cmjaun</td>\n",
       "      <td>acm</td>\n",
       "      <td>fixed</td>\n",
       "      <td>1</td>\n",
       "      <td>...</td>\n",
       "      <td>6</td>\n",
       "      <td>2009-04-29</td>\n",
       "      <td>177</td>\n",
       "      <td>normal</td>\n",
       "      <td>2</td>\n",
       "      <td>eclipse</td>\n",
       "      <td>6</td>\n",
       "      <td>75</td>\n",
       "      <td>short-lived</td>\n",
       "      <td>0.007505</td>\n",
       "    </tr>\n",
       "    <tr>\n",
       "      <th>2</th>\n",
       "      <td>ECLIPSELINK-338573</td>\n",
       "      <td>2011-03-01</td>\n",
       "      <td>SDO</td>\n",
       "      <td>ECLIPSELINK</td>\n",
       "      <td>Memory Improvement:  Reduce the instances of S...</td>\n",
       "      <td>Currently the SDO/OXM metadata is referring to...</td>\n",
       "      <td>blaise.doughan</td>\n",
       "      <td>blaise.doughan</td>\n",
       "      <td>fixed</td>\n",
       "      <td>1</td>\n",
       "      <td>...</td>\n",
       "      <td>5</td>\n",
       "      <td>2011-03-02</td>\n",
       "      <td>1</td>\n",
       "      <td>normal</td>\n",
       "      <td>2</td>\n",
       "      <td>eclipse</td>\n",
       "      <td>5</td>\n",
       "      <td>13</td>\n",
       "      <td>short-lived</td>\n",
       "      <td>0.013511</td>\n",
       "    </tr>\n",
       "    <tr>\n",
       "      <th>3</th>\n",
       "      <td>BIRT-150200</td>\n",
       "      <td>2006-07-10</td>\n",
       "      <td>Chart</td>\n",
       "      <td>BIRT</td>\n",
       "      <td>Stacked Area Chart: fill.set() ignored in befo...</td>\n",
       "      <td>In the attached report the fill.set() is being...</td>\n",
       "      <td>nli</td>\n",
       "      <td>eclipse</td>\n",
       "      <td>fixed</td>\n",
       "      <td>1</td>\n",
       "      <td>...</td>\n",
       "      <td>7</td>\n",
       "      <td>2006-08-29</td>\n",
       "      <td>50</td>\n",
       "      <td>major</td>\n",
       "      <td>4</td>\n",
       "      <td>eclipse</td>\n",
       "      <td>6</td>\n",
       "      <td>15</td>\n",
       "      <td>short-lived</td>\n",
       "      <td>0.054118</td>\n",
       "    </tr>\n",
       "    <tr>\n",
       "      <th>4</th>\n",
       "      <td>PAPYRUS-384964</td>\n",
       "      <td>2012-07-12</td>\n",
       "      <td>Core</td>\n",
       "      <td>PAPYRUS</td>\n",
       "      <td>[StateMachine Diagram] Papyrus does not forbid...</td>\n",
       "      <td>In some situation (seem to be when an element ...</td>\n",
       "      <td>ansgar.radermacher</td>\n",
       "      <td>yann.tanguy</td>\n",
       "      <td>fixed</td>\n",
       "      <td>1</td>\n",
       "      <td>...</td>\n",
       "      <td>3</td>\n",
       "      <td>2013-04-02</td>\n",
       "      <td>264</td>\n",
       "      <td>critical</td>\n",
       "      <td>5</td>\n",
       "      <td>eclipse</td>\n",
       "      <td>6</td>\n",
       "      <td>29</td>\n",
       "      <td>short-lived</td>\n",
       "      <td>0.062972</td>\n",
       "    </tr>\n",
       "  </tbody>\n",
       "</table>\n",
       "<p>5 rows × 24 columns</p>\n",
       "</div>"
      ],
      "text/plain": [
       "               bug_id creation_date component_name product_name  \\\n",
       "0          EMF-354412    2011-08-10       cdo.core          EMF   \n",
       "1         JSDT-253166    2008-11-03        General         JSDT   \n",
       "2  ECLIPSELINK-338573    2011-03-01            SDO  ECLIPSELINK   \n",
       "3         BIRT-150200    2006-07-10          Chart         BIRT   \n",
       "4      PAPYRUS-384964    2012-07-12           Core      PAPYRUS   \n",
       "\n",
       "                                   short_description  \\\n",
       "0  containsAll returns wrong result in case of de...   \n",
       "1  Javascript validation has several errors with ...   \n",
       "2  Memory Improvement:  Reduce the instances of S...   \n",
       "3  Stacked Area Chart: fill.set() ignored in befo...   \n",
       "4  [StateMachine Diagram] Papyrus does not forbid...   \n",
       "\n",
       "                                    long_description       assignee_name  \\\n",
       "0  Cloned from: 354395: containsAll returns wrong...             stepper   \n",
       "1  Some of our javascript-files yield parse-error...              cmjaun   \n",
       "2  Currently the SDO/OXM metadata is referring to...      blaise.doughan   \n",
       "3  In the attached report the fill.set() is being...                 nli   \n",
       "4  In some situation (seem to be when an element ...  ansgar.radermacher   \n",
       "\n",
       "    reporter_name resolution_category  resolution_code  ...  \\\n",
       "0         stepper               fixed                1  ...   \n",
       "1             acm               fixed                1  ...   \n",
       "2  blaise.doughan               fixed                1  ...   \n",
       "3         eclipse               fixed                1  ...   \n",
       "4     yann.tanguy               fixed                1  ...   \n",
       "\n",
       "  quantity_of_comments  resolution_date bug_fix_time  severity_category  \\\n",
       "0                    5       2011-08-10            0             normal   \n",
       "1                    6       2009-04-29          177             normal   \n",
       "2                    5       2011-03-02            1             normal   \n",
       "3                    7       2006-08-29           50              major   \n",
       "4                    3       2013-04-02          264           critical   \n",
       "\n",
       "   severity_code  project  short_description_words long_description_words  \\\n",
       "0              2  eclipse                        7                     52   \n",
       "1              2  eclipse                        6                     75   \n",
       "2              2  eclipse                        5                     13   \n",
       "3              4  eclipse                        6                     15   \n",
       "4              5  eclipse                        6                     29   \n",
       "\n",
       "   long_lived? file_size  \n",
       "0  short-lived  0.018005  \n",
       "1  short-lived  0.007505  \n",
       "2  short-lived  0.013511  \n",
       "3  short-lived  0.054118  \n",
       "4  short-lived  0.062972  \n",
       "\n",
       "[5 rows x 24 columns]"
      ]
     },
     "execution_count": 38,
     "metadata": {},
     "output_type": "execute_result"
    }
   ],
   "source": [
    "bug_reports_all_data.head()"
   ]
  },
  {
   "cell_type": "code",
   "execution_count": 39,
   "metadata": {},
   "outputs": [
    {
     "data": {
      "text/html": [
       "<div>\n",
       "<style scoped>\n",
       "    .dataframe tbody tr th:only-of-type {\n",
       "        vertical-align: middle;\n",
       "    }\n",
       "\n",
       "    .dataframe tbody tr th {\n",
       "        vertical-align: top;\n",
       "    }\n",
       "\n",
       "    .dataframe thead th {\n",
       "        text-align: right;\n",
       "    }\n",
       "</style>\n",
       "<table border=\"1\" class=\"dataframe\">\n",
       "  <thead>\n",
       "    <tr style=\"text-align: right;\">\n",
       "      <th></th>\n",
       "      <th>bug_id</th>\n",
       "      <th>creation_date</th>\n",
       "      <th>component_name</th>\n",
       "      <th>product_name</th>\n",
       "      <th>short_description</th>\n",
       "      <th>long_description</th>\n",
       "      <th>assignee_name</th>\n",
       "      <th>reporter_name</th>\n",
       "      <th>resolution_category</th>\n",
       "      <th>resolution_code</th>\n",
       "      <th>...</th>\n",
       "      <th>quantity_of_comments</th>\n",
       "      <th>resolution_date</th>\n",
       "      <th>bug_fix_time</th>\n",
       "      <th>severity_category</th>\n",
       "      <th>severity_code</th>\n",
       "      <th>project</th>\n",
       "      <th>short_description_words</th>\n",
       "      <th>long_description_words</th>\n",
       "      <th>long_lived?</th>\n",
       "      <th>file_size</th>\n",
       "    </tr>\n",
       "  </thead>\n",
       "  <tbody>\n",
       "    <tr>\n",
       "      <th>5033</th>\n",
       "      <td>PLATFORM-34970</td>\n",
       "      <td>2003-03-13</td>\n",
       "      <td>SWT</td>\n",
       "      <td>PLATFORM</td>\n",
       "      <td>[Program] System editor not found in HP-UX 11.00</td>\n",
       "      <td>Problem description:\\nOn HP-UX 11.00 selecting...</td>\n",
       "      <td>billy.biggs</td>\n",
       "      <td>rhounsel</td>\n",
       "      <td>fixed</td>\n",
       "      <td>1</td>\n",
       "      <td>...</td>\n",
       "      <td>12</td>\n",
       "      <td>2016-10-11</td>\n",
       "      <td>4961</td>\n",
       "      <td>normal</td>\n",
       "      <td>2</td>\n",
       "      <td>eclipse</td>\n",
       "      <td>6</td>\n",
       "      <td>57</td>\n",
       "      <td>long-lived</td>\n",
       "      <td>0.006930</td>\n",
       "    </tr>\n",
       "    <tr>\n",
       "      <th>5644</th>\n",
       "      <td>PLATFORM-143992</td>\n",
       "      <td>2006-05-26</td>\n",
       "      <td>UI</td>\n",
       "      <td>PLATFORM</td>\n",
       "      <td>Deprecate the org.eclipse.core.commands.util p...</td>\n",
       "      <td>RC5\\n\\norg.eclipse.core.commands.util is marke...</td>\n",
       "      <td>Lars.Vogel</td>\n",
       "      <td>Tod_Creasey</td>\n",
       "      <td>fixed</td>\n",
       "      <td>1</td>\n",
       "      <td>...</td>\n",
       "      <td>11</td>\n",
       "      <td>2019-02-05</td>\n",
       "      <td>4638</td>\n",
       "      <td>normal</td>\n",
       "      <td>2</td>\n",
       "      <td>eclipse</td>\n",
       "      <td>5</td>\n",
       "      <td>13</td>\n",
       "      <td>long-lived</td>\n",
       "      <td>0.006877</td>\n",
       "    </tr>\n",
       "    <tr>\n",
       "      <th>2061</th>\n",
       "      <td>PLATFORM-185247</td>\n",
       "      <td>2007-05-02</td>\n",
       "      <td>Resources</td>\n",
       "      <td>PLATFORM</td>\n",
       "      <td>JUnit tests for recursive symlinks</td>\n",
       "      <td>Build: I20070501-0010\\n\\nThe fix for bug 10555...</td>\n",
       "      <td>simeon.danailov.andreev</td>\n",
       "      <td>john.arthorne</td>\n",
       "      <td>fixed</td>\n",
       "      <td>1</td>\n",
       "      <td>...</td>\n",
       "      <td>13</td>\n",
       "      <td>2018-11-23</td>\n",
       "      <td>4223</td>\n",
       "      <td>normal</td>\n",
       "      <td>2</td>\n",
       "      <td>eclipse</td>\n",
       "      <td>4</td>\n",
       "      <td>17</td>\n",
       "      <td>long-lived</td>\n",
       "      <td>0.011772</td>\n",
       "    </tr>\n",
       "    <tr>\n",
       "      <th>9213</th>\n",
       "      <td>JDT-68233</td>\n",
       "      <td>2004-06-22</td>\n",
       "      <td>Debug</td>\n",
       "      <td>JDT</td>\n",
       "      <td>Null Pointer in JavaBreakpoint</td>\n",
       "      <td>I was using RC3 and doing hyades development h...</td>\n",
       "      <td>sarika.sinha</td>\n",
       "      <td>aaron</td>\n",
       "      <td>fixed</td>\n",
       "      <td>1</td>\n",
       "      <td>...</td>\n",
       "      <td>7</td>\n",
       "      <td>2015-10-19</td>\n",
       "      <td>4136</td>\n",
       "      <td>normal</td>\n",
       "      <td>2</td>\n",
       "      <td>eclipse</td>\n",
       "      <td>3</td>\n",
       "      <td>109</td>\n",
       "      <td>long-lived</td>\n",
       "      <td>0.006233</td>\n",
       "    </tr>\n",
       "    <tr>\n",
       "      <th>616</th>\n",
       "      <td>JDT-86726</td>\n",
       "      <td>2005-02-25</td>\n",
       "      <td>Text</td>\n",
       "      <td>JDT</td>\n",
       "      <td>[formatting] 'New line after @param tags' not ...</td>\n",
       "      <td>After uncheck the New line after @param tags t...</td>\n",
       "      <td>jdt-text-inbox</td>\n",
       "      <td>nqw2000</td>\n",
       "      <td>fixed</td>\n",
       "      <td>1</td>\n",
       "      <td>...</td>\n",
       "      <td>4</td>\n",
       "      <td>2016-01-08</td>\n",
       "      <td>3969</td>\n",
       "      <td>normal</td>\n",
       "      <td>2</td>\n",
       "      <td>eclipse</td>\n",
       "      <td>6</td>\n",
       "      <td>42</td>\n",
       "      <td>long-lived</td>\n",
       "      <td>0.003409</td>\n",
       "    </tr>\n",
       "    <tr>\n",
       "      <th>579</th>\n",
       "      <td>PLATFORM-80900</td>\n",
       "      <td>2004-12-14</td>\n",
       "      <td>UI</td>\n",
       "      <td>PLATFORM</td>\n",
       "      <td>[PerspectiveBar] Platform does not remember or...</td>\n",
       "      <td>Using I200412081200\\n\\nMostly using the follow...</td>\n",
       "      <td>platform-ui-triaged</td>\n",
       "      <td>erol_koc_OTI</td>\n",
       "      <td>fixed</td>\n",
       "      <td>1</td>\n",
       "      <td>...</td>\n",
       "      <td>4</td>\n",
       "      <td>2015-09-19</td>\n",
       "      <td>3931</td>\n",
       "      <td>normal</td>\n",
       "      <td>2</td>\n",
       "      <td>eclipse</td>\n",
       "      <td>6</td>\n",
       "      <td>28</td>\n",
       "      <td>long-lived</td>\n",
       "      <td>0.003165</td>\n",
       "    </tr>\n",
       "    <tr>\n",
       "      <th>3500</th>\n",
       "      <td>WTP_SERVERTOOLS-218633</td>\n",
       "      <td>2008-02-12</td>\n",
       "      <td>wst.server</td>\n",
       "      <td>WTP_SERVERTOOLS</td>\n",
       "      <td>Modifying the Server Host name results in one ...</td>\n",
       "      <td>Build ID: I20071213-1700\\n\\nSteps To Reproduce...</td>\n",
       "      <td>eyuen</td>\n",
       "      <td>ktsao</td>\n",
       "      <td>fixed</td>\n",
       "      <td>1</td>\n",
       "      <td>...</td>\n",
       "      <td>15</td>\n",
       "      <td>2018-11-15</td>\n",
       "      <td>3929</td>\n",
       "      <td>normal</td>\n",
       "      <td>2</td>\n",
       "      <td>eclipse</td>\n",
       "      <td>12</td>\n",
       "      <td>24</td>\n",
       "      <td>long-lived</td>\n",
       "      <td>0.010682</td>\n",
       "    </tr>\n",
       "    <tr>\n",
       "      <th>6561</th>\n",
       "      <td>PLATFORM-53988</td>\n",
       "      <td>2004-03-07</td>\n",
       "      <td>UI</td>\n",
       "      <td>PLATFORM</td>\n",
       "      <td>[Dialogs] New (Source) Folder dialog does not ...</td>\n",
       "      <td>Reached through:\\n\\nProperties of a Java proje...</td>\n",
       "      <td>platform-ui-triaged</td>\n",
       "      <td>sdavids</td>\n",
       "      <td>fixed</td>\n",
       "      <td>1</td>\n",
       "      <td>...</td>\n",
       "      <td>8</td>\n",
       "      <td>2014-06-26</td>\n",
       "      <td>3763</td>\n",
       "      <td>normal</td>\n",
       "      <td>2</td>\n",
       "      <td>eclipse</td>\n",
       "      <td>7</td>\n",
       "      <td>17</td>\n",
       "      <td>long-lived</td>\n",
       "      <td>0.018563</td>\n",
       "    </tr>\n",
       "    <tr>\n",
       "      <th>3476</th>\n",
       "      <td>NEBULA-268499</td>\n",
       "      <td>2009-03-13</td>\n",
       "      <td>Core</td>\n",
       "      <td>NEBULA</td>\n",
       "      <td>[Component-Proposal] CTreeCombo-Widget</td>\n",
       "      <td>Some time ago I write CTreeCombo widget (I sim...</td>\n",
       "      <td>laurent.caron</td>\n",
       "      <td>tom.schindl</td>\n",
       "      <td>fixed</td>\n",
       "      <td>1</td>\n",
       "      <td>...</td>\n",
       "      <td>5</td>\n",
       "      <td>2019-03-25</td>\n",
       "      <td>3664</td>\n",
       "      <td>normal</td>\n",
       "      <td>2</td>\n",
       "      <td>eclipse</td>\n",
       "      <td>2</td>\n",
       "      <td>18</td>\n",
       "      <td>long-lived</td>\n",
       "      <td>0.003527</td>\n",
       "    </tr>\n",
       "    <tr>\n",
       "      <th>9743</th>\n",
       "      <td>PDE-255266</td>\n",
       "      <td>2008-11-13</td>\n",
       "      <td>Build</td>\n",
       "      <td>PDE</td>\n",
       "      <td>Compare map files to suggest version changes</td>\n",
       "      <td>There is a general problem of version numbers ...</td>\n",
       "      <td>pde-build-inbox</td>\n",
       "      <td>andrew.niefer</td>\n",
       "      <td>fixed</td>\n",
       "      <td>1</td>\n",
       "      <td>...</td>\n",
       "      <td>7</td>\n",
       "      <td>2018-11-12</td>\n",
       "      <td>3651</td>\n",
       "      <td>normal</td>\n",
       "      <td>2</td>\n",
       "      <td>eclipse</td>\n",
       "      <td>6</td>\n",
       "      <td>49</td>\n",
       "      <td>long-lived</td>\n",
       "      <td>0.006041</td>\n",
       "    </tr>\n",
       "  </tbody>\n",
       "</table>\n",
       "<p>10 rows × 24 columns</p>\n",
       "</div>"
      ],
      "text/plain": [
       "                      bug_id creation_date component_name     product_name  \\\n",
       "5033          PLATFORM-34970    2003-03-13            SWT         PLATFORM   \n",
       "5644         PLATFORM-143992    2006-05-26             UI         PLATFORM   \n",
       "2061         PLATFORM-185247    2007-05-02      Resources         PLATFORM   \n",
       "9213               JDT-68233    2004-06-22          Debug              JDT   \n",
       "616                JDT-86726    2005-02-25           Text              JDT   \n",
       "579           PLATFORM-80900    2004-12-14             UI         PLATFORM   \n",
       "3500  WTP_SERVERTOOLS-218633    2008-02-12     wst.server  WTP_SERVERTOOLS   \n",
       "6561          PLATFORM-53988    2004-03-07             UI         PLATFORM   \n",
       "3476           NEBULA-268499    2009-03-13           Core           NEBULA   \n",
       "9743              PDE-255266    2008-11-13          Build              PDE   \n",
       "\n",
       "                                      short_description  \\\n",
       "5033   [Program] System editor not found in HP-UX 11.00   \n",
       "5644  Deprecate the org.eclipse.core.commands.util p...   \n",
       "2061                 JUnit tests for recursive symlinks   \n",
       "9213                     Null Pointer in JavaBreakpoint   \n",
       "616   [formatting] 'New line after @param tags' not ...   \n",
       "579   [PerspectiveBar] Platform does not remember or...   \n",
       "3500  Modifying the Server Host name results in one ...   \n",
       "6561  [Dialogs] New (Source) Folder dialog does not ...   \n",
       "3476             [Component-Proposal] CTreeCombo-Widget   \n",
       "9743       Compare map files to suggest version changes   \n",
       "\n",
       "                                       long_description  \\\n",
       "5033  Problem description:\\nOn HP-UX 11.00 selecting...   \n",
       "5644  RC5\\n\\norg.eclipse.core.commands.util is marke...   \n",
       "2061  Build: I20070501-0010\\n\\nThe fix for bug 10555...   \n",
       "9213  I was using RC3 and doing hyades development h...   \n",
       "616   After uncheck the New line after @param tags t...   \n",
       "579   Using I200412081200\\n\\nMostly using the follow...   \n",
       "3500  Build ID: I20071213-1700\\n\\nSteps To Reproduce...   \n",
       "6561  Reached through:\\n\\nProperties of a Java proje...   \n",
       "3476  Some time ago I write CTreeCombo widget (I sim...   \n",
       "9743  There is a general problem of version numbers ...   \n",
       "\n",
       "                assignee_name  reporter_name resolution_category  \\\n",
       "5033              billy.biggs       rhounsel               fixed   \n",
       "5644               Lars.Vogel    Tod_Creasey               fixed   \n",
       "2061  simeon.danailov.andreev  john.arthorne               fixed   \n",
       "9213             sarika.sinha          aaron               fixed   \n",
       "616            jdt-text-inbox        nqw2000               fixed   \n",
       "579       platform-ui-triaged   erol_koc_OTI               fixed   \n",
       "3500                    eyuen          ktsao               fixed   \n",
       "6561      platform-ui-triaged        sdavids               fixed   \n",
       "3476            laurent.caron    tom.schindl               fixed   \n",
       "9743          pde-build-inbox  andrew.niefer               fixed   \n",
       "\n",
       "      resolution_code  ... quantity_of_comments  resolution_date bug_fix_time  \\\n",
       "5033                1  ...                   12       2016-10-11         4961   \n",
       "5644                1  ...                   11       2019-02-05         4638   \n",
       "2061                1  ...                   13       2018-11-23         4223   \n",
       "9213                1  ...                    7       2015-10-19         4136   \n",
       "616                 1  ...                    4       2016-01-08         3969   \n",
       "579                 1  ...                    4       2015-09-19         3931   \n",
       "3500                1  ...                   15       2018-11-15         3929   \n",
       "6561                1  ...                    8       2014-06-26         3763   \n",
       "3476                1  ...                    5       2019-03-25         3664   \n",
       "9743                1  ...                    7       2018-11-12         3651   \n",
       "\n",
       "      severity_category  severity_code  project  short_description_words  \\\n",
       "5033             normal              2  eclipse                        6   \n",
       "5644             normal              2  eclipse                        5   \n",
       "2061             normal              2  eclipse                        4   \n",
       "9213             normal              2  eclipse                        3   \n",
       "616              normal              2  eclipse                        6   \n",
       "579              normal              2  eclipse                        6   \n",
       "3500             normal              2  eclipse                       12   \n",
       "6561             normal              2  eclipse                        7   \n",
       "3476             normal              2  eclipse                        2   \n",
       "9743             normal              2  eclipse                        6   \n",
       "\n",
       "     long_description_words  long_lived? file_size  \n",
       "5033                     57   long-lived  0.006930  \n",
       "5644                     13   long-lived  0.006877  \n",
       "2061                     17   long-lived  0.011772  \n",
       "9213                    109   long-lived  0.006233  \n",
       "616                      42   long-lived  0.003409  \n",
       "579                      28   long-lived  0.003165  \n",
       "3500                     24   long-lived  0.010682  \n",
       "6561                     17   long-lived  0.018563  \n",
       "3476                     18   long-lived  0.003527  \n",
       "9743                     49   long-lived  0.006041  \n",
       "\n",
       "[10 rows x 24 columns]"
      ]
     },
     "execution_count": 39,
     "metadata": {},
     "output_type": "execute_result"
    }
   ],
   "source": [
    "bug_reports_all_data.loc[bug_reports_all_data['project']=='eclipse'].nlargest(10, 'bug_fix_time')"
   ]
  },
  {
   "cell_type": "code",
   "execution_count": 40,
   "metadata": {},
   "outputs": [
    {
     "data": {
      "text/plain": [
       "'eclipse'"
      ]
     },
     "metadata": {},
     "output_type": "display_data"
    },
    {
     "data": {
      "text/plain": [
       "count    9998.000000\n",
       "mean      108.538708\n",
       "std       317.687949\n",
       "min         0.000000\n",
       "25%         1.000000\n",
       "50%         8.000000\n",
       "75%        63.000000\n",
       "max      4961.000000\n",
       "Name: bug_fix_time, dtype: float64"
      ]
     },
     "metadata": {},
     "output_type": "display_data"
    },
    {
     "name": "stdout",
     "output_type": "stream",
     "text": [
      "Percentiles: 25th=1.000, 75th=63.000, IQR=62.000\n",
      "Identified outliers: 15.203\n"
     ]
    },
    {
     "data": {
      "text/plain": [
       "'freedesktop'"
      ]
     },
     "metadata": {},
     "output_type": "display_data"
    },
    {
     "data": {
      "text/plain": [
       "count    7712.000000\n",
       "mean      173.236385\n",
       "std       384.633005\n",
       "min         0.000000\n",
       "25%         3.000000\n",
       "50%        28.000000\n",
       "75%       162.000000\n",
       "max      4896.000000\n",
       "Name: bug_fix_time, dtype: float64"
      ]
     },
     "metadata": {},
     "output_type": "display_data"
    },
    {
     "name": "stdout",
     "output_type": "stream",
     "text": [
      "Percentiles: 25th=3.000, 75th=162.000, IQR=159.000\n",
      "Identified outliers: 12.254\n"
     ]
    },
    {
     "data": {
      "text/plain": [
       "'gnome'"
      ]
     },
     "metadata": {},
     "output_type": "display_data"
    },
    {
     "data": {
      "text/plain": [
       "count    7991.000000\n",
       "mean      202.465524\n",
       "std       475.371999\n",
       "min         0.000000\n",
       "25%         2.000000\n",
       "50%        23.000000\n",
       "75%       162.000000\n",
       "max      5577.000000\n",
       "Name: bug_fix_time, dtype: float64"
      ]
     },
     "metadata": {},
     "output_type": "display_data"
    },
    {
     "name": "stdout",
     "output_type": "stream",
     "text": [
      "Percentiles: 25th=2.000, 75th=162.000, IQR=160.000\n",
      "Identified outliers: 13.302\n"
     ]
    },
    {
     "data": {
      "text/plain": [
       "'mozilla'"
      ]
     },
     "metadata": {},
     "output_type": "display_data"
    },
    {
     "data": {
      "text/plain": [
       "count    9998.000000\n",
       "mean      278.055011\n",
       "std       661.505883\n",
       "min         0.000000\n",
       "25%         3.000000\n",
       "50%        24.000000\n",
       "75%       187.750000\n",
       "max      7294.000000\n",
       "Name: bug_fix_time, dtype: float64"
      ]
     },
     "metadata": {},
     "output_type": "display_data"
    },
    {
     "name": "stdout",
     "output_type": "stream",
     "text": [
      "Percentiles: 25th=3.000, 75th=187.750, IQR=184.750\n",
      "Identified outliers: 15.503\n"
     ]
    },
    {
     "data": {
      "text/plain": [
       "'gcc'"
      ]
     },
     "metadata": {},
     "output_type": "display_data"
    },
    {
     "data": {
      "text/plain": [
       "count    9998.000000\n",
       "mean      337.904081\n",
       "std       591.241826\n",
       "min         0.000000\n",
       "25%         5.000000\n",
       "50%        63.000000\n",
       "75%       475.000000\n",
       "max      6898.000000\n",
       "Name: bug_fix_time, dtype: float64"
      ]
     },
     "metadata": {},
     "output_type": "display_data"
    },
    {
     "name": "stdout",
     "output_type": "stream",
     "text": [
      "Percentiles: 25th=5.000, 75th=475.000, IQR=470.000\n",
      "Identified outliers: 6.181\n"
     ]
    },
    {
     "data": {
      "text/plain": [
       "'winehq'"
      ]
     },
     "metadata": {},
     "output_type": "display_data"
    },
    {
     "data": {
      "text/plain": [
       "count    6073.00000\n",
       "mean      491.18327\n",
       "std       667.48611\n",
       "min         0.00000\n",
       "25%        22.00000\n",
       "50%       220.00000\n",
       "75%       709.00000\n",
       "max      5636.00000\n",
       "Name: bug_fix_time, dtype: float64"
      ]
     },
     "metadata": {},
     "output_type": "display_data"
    },
    {
     "name": "stdout",
     "output_type": "stream",
     "text": [
      "Percentiles: 25th=22.000, 75th=709.000, IQR=687.000\n",
      "Identified outliers: 6.158\n"
     ]
    }
   ],
   "source": [
    "from numpy import percentile\n",
    "for project in projects:\n",
    "    display(project)\n",
    "    bug_reports_data = bug_reports_all_data.loc[bug_reports_all_data['project']==project]\n",
    "    display(bug_reports_data['bug_fix_time'].describe())\n",
    "    q25, q75 = percentile(bug_reports_data['bug_fix_time'], 25), percentile(bug_reports_data['bug_fix_time'], 75)\n",
    "    iqr = q75 - q25\n",
    "    cut_off = iqr * 1.5\n",
    "    lower, upper = q25 - cut_off, q75 + cut_off\n",
    "    \n",
    "    print('Percentiles: 25th=%.3f, 75th=%.3f, IQR=%.3f' % (q25, q75, iqr))\n",
    "    outliers =  [x for x in bug_reports_data['bug_fix_time'] if x < lower or x > upper]\n",
    "    # identify outliers\n",
    "    outliers = [x for x in bug_reports_data['bug_fix_time'] if x < lower or x > upper]\n",
    "    print('Identified outliers: %.3f' % (len(outliers)/len(bug_reports_data)*100))"
   ]
  },
  {
   "cell_type": "code",
   "execution_count": 41,
   "metadata": {},
   "outputs": [
    {
     "data": {
      "text/html": [
       "<div>\n",
       "<style scoped>\n",
       "    .dataframe tbody tr th:only-of-type {\n",
       "        vertical-align: middle;\n",
       "    }\n",
       "\n",
       "    .dataframe tbody tr th {\n",
       "        vertical-align: top;\n",
       "    }\n",
       "\n",
       "    .dataframe thead tr th {\n",
       "        text-align: left;\n",
       "    }\n",
       "\n",
       "    .dataframe thead tr:last-of-type th {\n",
       "        text-align: right;\n",
       "    }\n",
       "</style>\n",
       "<table border=\"1\" class=\"dataframe\">\n",
       "  <thead>\n",
       "    <tr>\n",
       "      <th></th>\n",
       "      <th colspan=\"2\" halign=\"left\">creation_date</th>\n",
       "    </tr>\n",
       "    <tr>\n",
       "      <th></th>\n",
       "      <th>amin</th>\n",
       "      <th>amax</th>\n",
       "    </tr>\n",
       "    <tr>\n",
       "      <th>project</th>\n",
       "      <th></th>\n",
       "      <th></th>\n",
       "    </tr>\n",
       "  </thead>\n",
       "  <tbody>\n",
       "    <tr>\n",
       "      <th>eclipse</th>\n",
       "      <td>2001-10-10</td>\n",
       "      <td>2018-01-30</td>\n",
       "    </tr>\n",
       "    <tr>\n",
       "      <th>freedesktop</th>\n",
       "      <td>2003-02-05</td>\n",
       "      <td>2019-08-15</td>\n",
       "    </tr>\n",
       "    <tr>\n",
       "      <th>gcc</th>\n",
       "      <td>1999-08-26</td>\n",
       "      <td>2018-01-31</td>\n",
       "    </tr>\n",
       "    <tr>\n",
       "      <th>gnome</th>\n",
       "      <td>1999-01-02</td>\n",
       "      <td>2018-01-24</td>\n",
       "    </tr>\n",
       "    <tr>\n",
       "      <th>mozilla</th>\n",
       "      <td>1998-04-15</td>\n",
       "      <td>2014-04-22</td>\n",
       "    </tr>\n",
       "    <tr>\n",
       "      <th>winehq</th>\n",
       "      <td>2000-09-27</td>\n",
       "      <td>2018-04-17</td>\n",
       "    </tr>\n",
       "  </tbody>\n",
       "</table>\n",
       "</div>"
      ],
      "text/plain": [
       "            creation_date            \n",
       "                     amin        amax\n",
       "project                              \n",
       "eclipse        2001-10-10  2018-01-30\n",
       "freedesktop    2003-02-05  2019-08-15\n",
       "gcc            1999-08-26  2018-01-31\n",
       "gnome          1999-01-02  2018-01-24\n",
       "mozilla        1998-04-15  2014-04-22\n",
       "winehq         2000-09-27  2018-04-17"
      ]
     },
     "execution_count": 41,
     "metadata": {},
     "output_type": "execute_result"
    }
   ],
   "source": [
    "bug_reports_all_data.groupby('project').agg({'creation_date':[np.min, np.max]})"
   ]
  },
  {
   "cell_type": "markdown",
   "metadata": {},
   "source": [
    "### Step 4. Bug Fixing Time Distribution"
   ]
  },
  {
   "cell_type": "code",
   "execution_count": 42,
   "metadata": {},
   "outputs": [
    {
     "data": {
      "text/plain": [
       "<Figure size 640x480 with 0 Axes>"
      ]
     },
     "metadata": {},
     "output_type": "display_data"
    },
    {
     "data": {
      "image/png": "[encoded data removed]",
      "text/plain": [
       "<Figure size 800x500 with 1 Axes>"
      ]
     },
     "metadata": {},
     "output_type": "display_data"
    }
   ],
   "source": [
    "from matplotlib.ticker import (AutoMinorLocator, MultipleLocator)\n",
    "sns.despine(offset=10)\n",
    "sns.set_style(\"ticks\")\n",
    "threshold = 8000\n",
    "\n",
    "fig, ax = plt.subplots(figsize=(8, 5))\n",
    "df = bug_reports_all_data.loc[(bug_reports_all_data[\"bug_fix_time\"] < threshold)] \n",
    "g  = sns.boxplot(data=df, x=\"bug_fix_time\", y=\"project\", palette=\"Set2\", ax=ax, showfliers = True, flierprops = dict(markerfacecolor = '.10', markersize = 2))\n",
    "plt.ylabel(\"\", fontsize= 12)\n",
    "plt.xlabel(\"Bug-Fixing Time (days)\", fontsize= 12)\n",
    "plt.title(\"\", fontsize= 15)\n",
    "ax.yaxis.grid(True)\n",
    "ax.grid(which='major', color='#CCCCCC', linestyle='--')\n",
    "ax.grid(which='minor', color='#CCCCCC', linestyle=':')\n",
    "ax.xaxis.set_major_locator(MultipleLocator(1000))\n",
    "ax.xaxis.set_minor_locator(AutoMinorLocator(10))\n",
    "ax.set(xlim=( -10, threshold))\n",
    "sns.despine(trim=True, left=True)\n",
    "plt.savefig(f\"figures/rq2-bug-fix-time-distribution.pdf\", format=\"pdf\", dpi=600, bbox_inches='tight')"
   ]
  },
  {
   "cell_type": "markdown",
   "metadata": {},
   "source": [
    "### Step 5. How frequent are long-lived bugs?"
   ]
  },
  {
   "cell_type": "code",
   "execution_count": 45,
   "metadata": {},
   "outputs": [],
   "source": [
    "def plot_pyramid (data, column, filename):\n",
    "  \n",
    "    top_g = data.groupby(column)[column].agg(['count'])\n",
    "    top_s = top_g.sort_values('count', ascending=False)\n",
    "    top_n = data.loc[data[column].isin(top_s.index)].groupby(column)['long_lived?'].value_counts(normalize=True).unstack()\n",
    "    top_n.fillna(0, inplace=True)\n",
    "    \n",
    "    top_n.reset_index(inplace=True)\n",
    "    top_n = top_n.sort_values('long-lived', ascending=True)\n",
    "    \n",
    "    print(top_n)\n",
    "    \n",
    "    fig, axes = plt.subplots(figsize=(10, 10), ncols=2, sharey=False, gridspec_kw = {'wspace':0, 'hspace':0})\n",
    "\n",
    "    plt.rcParams[\"axes.grid.axis\"] =\"x\"\n",
    "    plt.rcParams[\"axes.grid\"] = True\n",
    "\n",
    "    sns.despine(offset=0.5)\n",
    "    sns.barplot(x=\"long-lived\", y=column, color=\"tab:red\", ax=axes[0], data=top_n)\n",
    "    sns.barplot(x=\"short-lived\", y=column,  color=\"tab:blue\", ax=axes[1], data=top_n)\n",
    "    \n",
    "    axes[0].set(xlim=(0, 1))\n",
    "    axes[0].invert_xaxis()\n",
    "    axes[0].spines['left'].set_visible(False)\n",
    "    axes[0].tick_params(axis=\"x\", labelsize=MEDIUM_SIZE+3)\n",
    "    axes[0].tick_params(axis=\"y\", labelsize=MEDIUM_SIZE+3)\n",
    "    axes[0].set_ylabel(column.title().replace(\"_\", \" \").replace(\"Category\", \"Level\"), fontsize=MEDIUM_SIZE+2)\n",
    "    axes[0].set_xlabel(\"Long-lived\", fontsize=MEDIUM_SIZE+3)    \n",
    "    axes[0].set_xticklabels(['{:,.0%}'.format(x) for x in axes[0].get_xticks()])\n",
    "    \n",
    "    axes[1].set(xlim=(0, 1))\n",
    "    axes[1].set_yticks([])\n",
    "    axes[1].set(ylabel=\"\")\n",
    "    axes[1].tick_params(axis=\"x\", labelsize=MEDIUM_SIZE+3)\n",
    "    axes[1].set_xlabel(\"Short-lived\", fontsize=MEDIUM_SIZE+3)\n",
    "    axes[1].set_xticklabels(['{:,.0%}'.format(x) for x in axes[1].get_xticks()])\n",
    "    \n",
    "    #sns.despine(offset=0.5)\n",
    "    s = axes[1].twinx()\n",
    "    labels = [i.get_text() for i in axes[0].get_yticklabels()]\n",
    "    labels_new = [top_s.loc[top_s.index==i, 'count'].values[0] for i in labels]\n",
    "    s.set_yticks(axes[0].get_yticks())\n",
    "    s.set_ylim(axes[0].get_ylim())\n",
    "    s.set_yticklabels(labels_new)\n",
    "    s.tick_params(axis=\"y\", labelsize=MEDIUM_SIZE+3)\n",
    "    \n",
    "    s.spines['top'].set_visible(False)\n",
    "    s.spines['bottom'].set_visible(False)\n",
    "    s.spines['right'].set_visible(False)\n",
    "    s.spines['left'].set_visible(False)\n",
    "        \n",
    "    #fig.suptitle(project, fontsize=BIGGER_SIZE)\n",
    "    plt.savefig(f\"figures/{filename}\", format=\"pdf\", dpi=600, bbox_inches='tight')\n",
    "\n",
    "def plot_bar (data, filename):\n",
    "    \n",
    "    top_g = data.groupby(\"project\")[\"project\"].agg(['count'])\n",
    "    top_s = top_g.sort_values('count', ascending=False)\n",
    "    top_n = data.loc[data['project'].isin(top_s.index)].groupby('project')['long_lived?'].value_counts(normalize=True).unstack()\n",
    "    \n",
    "    plt.figure(figsize=(20,20))\n",
    "    fig, axis = plt.subplots(figsize=(10, 10)) \n",
    "    \n",
    "    sns.despine(offset=5)\n",
    "    primary   = top_n.plot(kind='barh', stacked='True',  grid='True', color=[\"tab:red\", \"tab:blue\"], ax=axis)\n",
    "    secondary = primary.twinx()\n",
    "    \n",
    "    labels = [i.get_text() for i in primary.get_yticklabels()]\n",
    "    labels_new = [top_s.loc[top_s.index==i, 'count'].values[0] for i in labels]\n",
    "    \n",
    "    primary.set(xlim=(0, 1))\n",
    "    primary.set_xlabel('percentage', fontsize=MEDIUM_SIZE)\n",
    "    primary.set_ylabel('FLOSS Projects', fontsize=MEDIUM_SIZE) \n",
    "    primary.set_title(\"project\", fontsize=BIGGER_SIZE)\n",
    "    primary.tick_params(axis=\"y\", labelsize=MEDIUM_SIZE)\n",
    "    primary.tick_params(axis=\"x\", labelsize=MEDIUM_SIZE)\n",
    "    \n",
    "    secondary.set_yticks(primary.get_yticks())\n",
    "    secondary.set_ylim(primary.get_ylim())\n",
    "    secondary.set_yticklabels(labels_new)\n",
    "    secondary.tick_params(axis=\"y\", labelsize=MEDIUM_SIZE)\n",
    "    \n",
    "    plt.savefig(f\"figures/{filename}\", format=\"pdf\", dpi=600, bbox_inches='tight')\n"
   ]
  },
  {
   "cell_type": "code",
   "execution_count": 46,
   "metadata": {},
   "outputs": [
    {
     "name": "stdout",
     "output_type": "stream",
     "text": [
      "long_lived?      project  long-lived  short-lived\n",
      "0                eclipse    0.076615     0.923385\n",
      "1            freedesktop    0.136411     0.863589\n",
      "3                  gnome    0.144162     0.855838\n",
      "4                mozilla    0.180636     0.819364\n",
      "2                    gcc    0.291558     0.708442\n",
      "5                 winehq    0.406883     0.593117\n"
     ]
    },
    {
     "data": {
      "image/png": "[encoded data removed]",
      "text/plain": [
       "<Figure size 1000x1000 with 3 Axes>"
      ]
     },
     "metadata": {},
     "output_type": "display_data"
    }
   ],
   "source": [
    "plot_pyramid(bug_reports_all_data, 'project', 'rq2-all-percentage-of-long-lived-bugs.pdf')"
   ]
  },
  {
   "cell_type": "code",
   "execution_count": null,
   "metadata": {},
   "outputs": [],
   "source": []
  }
 ],
 "metadata": {
  "kernelspec": {
   "display_name": "Python 3",
   "language": "python",
   "name": "python3"
  },
  "language_info": {
   "codemirror_mode": {
    "name": "ipython",
    "version": 3
   },
   "file_extension": ".py",
   "mimetype": "text/x-python",
   "name": "python",
   "nbconvert_exporter": "python",
   "pygments_lexer": "ipython3",
   "version": "3.8.5"
  }
 },
 "nbformat": 4,
 "nbformat_minor": 2
}
