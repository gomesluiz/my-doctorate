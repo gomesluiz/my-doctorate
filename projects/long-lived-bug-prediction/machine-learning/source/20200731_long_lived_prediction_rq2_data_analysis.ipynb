{
 "cells": [
  {
   "cell_type": "markdown",
   "metadata": {},
   "source": [
    "# Research Question No. 2"
   ]
  },
  {
   "cell_type": "markdown",
   "metadata": {},
   "source": [
    "## How frequent are long-lived bugs in FLOSS project?"
   ]
  },
  {
   "cell_type": "markdown",
   "metadata": {},
   "source": [
    "## Experimental parameters"
   ]
  },
  {
   "cell_type": "markdown",
   "metadata": {},
   "source": [
    "\n",
    "| Project                    |         #Reports     |       #Thesholds     |\n",
    "|----------------------------|:--------------------:|:--------------------:|\n",
    "| Eclipse                    |        9998         |         365          |\n",
    "| GCC                        |        9998         |         365          |\n",
    "| Gnome                      |        7991          |         365          |\n",
    "| Freedesktop                |        7712          |         365          |\n",
    "| Mozilla                    |        9998          |         365          |\n",
    "| WineHQ                     |        6073          |         365          |\n",
    "\n",
    "Every bug which its report have indicated that the number of days to resolve is less than or equal to **threshold fixed** was considered a **non-long lived bug** and that which the number of days to resolve is greater than this threshold was considered as a **long-live bug**. "
   ]
  },
  {
   "cell_type": "markdown",
   "metadata": {},
   "source": [
    "## Step1. Setup environment."
   ]
  },
  {
   "cell_type": "code",
   "execution_count": 1,
   "metadata": {},
   "outputs": [
    {
     "data": {
      "application/javascript": [
       "IPython.OutputArea.prototype._should_scroll = function(lines) {\n",
       "    return false;\n",
       "}\n"
      ],
      "text/plain": [
       "<IPython.core.display.Javascript object>"
      ]
     },
     "metadata": {},
     "output_type": "display_data"
    }
   ],
   "source": [
    "%%javascript\n",
    "IPython.OutputArea.prototype._should_scroll = function(lines) {\n",
    "    return false;\n",
    "}"
   ]
  },
  {
   "cell_type": "code",
   "execution_count": 2,
   "metadata": {},
   "outputs": [
    {
     "name": "stderr",
     "output_type": "stream",
     "text": [
      "[nltk_data] Downloading package punkt to /home/gomes/nltk_data...\n",
      "[nltk_data]   Package punkt is already up-to-date!\n",
      "[nltk_data] Downloading package stopwords to /home/gomes/nltk_data...\n"
     ]
    },
    {
     "name": "stdout",
     "output_type": "stream",
     "text": [
      "Setup complete\n"
     ]
    },
    {
     "name": "stderr",
     "output_type": "stream",
     "text": [
      "[nltk_data]   Package stopwords is already up-to-date!\n"
     ]
    }
   ],
   "source": [
    "import matplotlib.pyplot as plt \n",
    "import nltk \n",
    "import numpy as np\n",
    "import os \n",
    "import pandas as pd\n",
    "import seaborn as sns \n",
    "import string\n",
    "import re\n",
    "\n",
    "from nltk.stem   import PorterStemmer\n",
    "from nltk.corpus import stopwords\n",
    "from nltk.tokenize import sent_tokenize, word_tokenize\n",
    "from wordcloud import WordCloud, STOPWORDS, ImageColorGenerator\n",
    "\n",
    "# Setup Seaborn\n",
    "sns.set_context(\"paper\")\n",
    "sns.set(style=\"ticks\", color_codes=True, font_scale=2)\n",
    "\n",
    "# Setup Matplotlib\n",
    "plt.rc('figure', figsize=(20, 20))\n",
    "plt.style.use('default')\n",
    "SMALL_SIZE  = 10\n",
    "MEDIUM_SIZE = 12\n",
    "BIGGER_SIZE = 14\n",
    "plt.rc('font',   size=SMALL_SIZE)       # controls default text sizes\n",
    "plt.rc('axes',   titlesize=SMALL_SIZE)  # fontsize of the axes title\n",
    "plt.rc('axes',   labelsize=SMALL_SIZE)  # fontsize of the x and y labels\n",
    "plt.rc('xtick',  labelsize=SMALL_SIZE)  # fontsize of the tick labels\n",
    "plt.rc('ytick',  labelsize=SMALL_SIZE)  # fontsize of the tick labels\n",
    "plt.rc('legend', fontsize=SMALL_SIZE)   # legend fontsize\n",
    "plt.rc('figure', titlesize=SMALL_SIZE)  # fontsize of the figure title\n",
    "#%matplotlib inline \n",
    "\n",
    "# Setup NLTK\n",
    "stemmer = PorterStemmer()\n",
    "nltk.download('punkt')\n",
    "nltk.download('stopwords')\n",
    "\n",
    "# Path of the file to read.\n",
    "projects = ['eclipse', 'freedesktop', 'gnome', 'mozilla', 'gcc', 'winehq']\n",
    "\n",
    "# Fixed time threshold.\n",
    "bug_reports_file_prefix  = '20190917'\n",
    "bug_fix_time_threshold   = 365\n",
    "print(\"Setup complete\")"
   ]
  },
  {
   "cell_type": "markdown",
   "metadata": {},
   "source": [
    "## Step 2. Load data."
   ]
  },
  {
   "cell_type": "code",
   "execution_count": 3,
   "metadata": {},
   "outputs": [
    {
     "name": "stdout",
     "output_type": "stream",
     "text": [
      "There are 10000 rows and 19 columns in datasets/20190917_eclipse_bug_report_data.csv.\n",
      "\n",
      "Mean of bug fix time: 108.5303.\n",
      "\n",
      "There are 7714 rows and 19 columns in datasets/20190917_freedesktop_bug_report_data.csv.\n",
      "\n",
      "Mean of bug fix time: 173.19665543168264.\n",
      "\n",
      "There are 7993 rows and 19 columns in datasets/20190917_gnome_bug_report_data.csv.\n",
      "\n",
      "Mean of bug fix time: 202.4147378956587.\n",
      "\n",
      "There are 10000 rows and 19 columns in datasets/20190917_mozilla_bug_report_data.csv.\n",
      "\n",
      "Mean of bug fix time: 278.071.\n",
      "\n",
      "There are 10000 rows and 19 columns in datasets/20190917_gcc_bug_report_data.csv.\n",
      "\n",
      "Mean of bug fix time: 337.8563.\n",
      "\n",
      "There are 6074 rows and 19 columns in datasets/20190917_winehq_bug_report_data.csv.\n",
      "\n",
      "Mean of bug fix time: 491.10273296015805.\n",
      "\n"
     ]
    }
   ],
   "source": [
    "bug_reports_data_list = []\n",
    "for project in projects:\n",
    "    bug_reports_path = f\"datasets/{bug_reports_file_prefix}_{project}_bug_report_data.csv\"\n",
    "\n",
    "    # read bug reports data.\n",
    "    bug_reports_data = pd.read_csv(bug_reports_path)[0:10000]\n",
    "    rows_and_cols = bug_reports_data.shape\n",
    "    print(f\"There are {rows_and_cols[0]} rows and {rows_and_cols[1]} columns in {bug_reports_path}.\\n\")\n",
    "    print(f\"Mean of bug fix time: {bug_reports_data['bug_fix_time'].mean(axis=0)}.\\n\")\n",
    "   \n",
    "    bug_reports_data[\"project\"] = project  \n",
    "    bug_reports_data_list.append(bug_reports_data) \n",
    "\n",
    "# concatenate all bug_reports_data \n",
    "bug_reports_all_data = pd.concat(bug_reports_data_list)"
   ]
  },
  {
   "cell_type": "markdown",
   "metadata": {},
   "source": [
    "## Step 3. Preprocess data."
   ]
  },
  {
   "cell_type": "code",
   "execution_count": 4,
   "metadata": {},
   "outputs": [],
   "source": [
    "def stem_sentence(sentence):\n",
    "    token_words=word_tokenize(sentence)\n",
    "    token_words\n",
    "    stem_sentence=set()\n",
    "    for word in token_words:\n",
    "        stem_sentence.add(stemmer.stem(word))\n",
    "        \n",
    "    return ' '.join(list(stem_sentence))\n",
    "\n",
    "def clean_text(text):\n",
    "    \"\"\"Clean a text.\n",
    "\n",
    "    Parameters\n",
    "    ----------\n",
    "    text: string\n",
    "        A text string.\n",
    "\n",
    "    Returns\n",
    "    -------\n",
    "    text:string\n",
    "        A modified initial text string\n",
    "    \"\"\"\n",
    "    if text != text:\n",
    "        return ' '\n",
    "\n",
    "    replace_by_space = re.compile(\"[/(){}\\[\\]\\|@,;]\")\n",
    "    replace_bad_symbols = re.compile('[^0-9a-z #+_]')\n",
    "    english_stopwords = set(stopwords.words('english'))\n",
    "    text = text.lower()\n",
    "    text = replace_by_space.sub(' ', text)\n",
    "    text = replace_bad_symbols.sub('', text)\n",
    "    text = ' '.join(word for word in text.split() if word not in english_stopwords)\n",
    "    return stem_sentence(text)\n",
    "\n",
    "def get_file_size(project, bugid):\n",
    "    bugid = re.findall(r\"\\d+$\", bugid)[0]\n",
    "    file_name=f\"/home/gomes/Workspace/doctorate/data/{project}/xml/{project.upper()}-{bugid}.xml\"\n",
    "    info = os.stat(file_name) \n",
    "    return info.st_size * 0.000001\n",
    "    "
   ]
  },
  {
   "cell_type": "code",
   "execution_count": 5,
   "metadata": {},
   "outputs": [
    {
     "name": "stdout",
     "output_type": "stream",
     "text": [
      "datasets/20190917_bug_reports_all_data.csv exists, read data from it!\n"
     ]
    }
   ],
   "source": [
    "bug_reports_path = f\"datasets/{bug_reports_file_prefix}_bug_reports_all_data.csv\"\n",
    "if (not os.path.exists(bug_reports_path)):\n",
    "    bug_reports_all_data['short_description'] = bug_reports_all_data['short_description'].fillna(\" \")\n",
    "    bug_reports_all_data['long_description']  = bug_reports_all_data['long_description'].fillna(\" \")\n",
    "    #bug_reports_all_data['short_description_words'] = bug_reports_all_data['short_description'].apply(lambda s: len(clean_text(s).split()))\n",
    "    #bug_reports_all_data['long_description_words']  = bug_reports_all_data['long_description'].apply(lambda s: len(clean_text(s).split()))\n",
    "    bug_reports_all_data['long_lived?']  = bug_reports_all_data['bug_fix_time'].apply(lambda t: 'long-lived' if t > bug_fix_time_threshold else 'short-lived')\n",
    "\n",
    "    bug_reports_all_data.drop(bug_reports_all_data[bug_reports_all_data['severity_category'] == 'not set'].index, inplace=True)\n",
    "    bug_reports_all_data.drop(bug_reports_all_data[bug_reports_all_data['bug_fix_time'] < 0 ].index, inplace=True)\n",
    "\n",
    "    #bug_reports_all_data = pd.read_csv(bug_reports_path)\n",
    "    #bug_reports_dir   = os.path.join('/home/gomes/Workspace/doctorate/data/eclipse/xml/')\n",
    "    #bug_reports_files = os.listdir(bug_reports_dir)\n",
    "    #bug_reports_all_data['file_size'] = bug_reports_all_data.apply(lambda x: get_file_size(x['project'], x['bug_id']), axis=1)\n",
    "    #bug_reports_all_data.nlargest(10, 'file_size')\n",
    "\n",
    "    bug_reports_all_data.to_csv(bug_reports_path, index=False)\n",
    "else:\n",
    "    print(f\"{bug_reports_path} exists, read data from it!\")\n",
    "    bug_reports_all_data = pd.read_csv(bug_reports_path)\n",
    "\n"
   ]
  },
  {
   "cell_type": "markdown",
   "metadata": {},
   "source": [
    "## Step 3. Exploring data analysis"
   ]
  },
  {
   "cell_type": "code",
   "execution_count": 6,
   "metadata": {},
   "outputs": [
    {
     "data": {
      "text/plain": [
       "mozilla        9998\n",
       "gcc            9998\n",
       "eclipse        9998\n",
       "gnome          7991\n",
       "freedesktop    7712\n",
       "winehq         6073\n",
       "Name: project, dtype: int64"
      ]
     },
     "execution_count": 6,
     "metadata": {},
     "output_type": "execute_result"
    }
   ],
   "source": [
    "bug_reports_all_data['project'].value_counts()"
   ]
  },
  {
   "cell_type": "code",
   "execution_count": 7,
   "metadata": {},
   "outputs": [
    {
     "data": {
      "text/html": [
       "<div>\n",
       "<style scoped>\n",
       "    .dataframe tbody tr th:only-of-type {\n",
       "        vertical-align: middle;\n",
       "    }\n",
       "\n",
       "    .dataframe tbody tr th {\n",
       "        vertical-align: top;\n",
       "    }\n",
       "\n",
       "    .dataframe thead th {\n",
       "        text-align: right;\n",
       "    }\n",
       "</style>\n",
       "<table border=\"1\" class=\"dataframe\">\n",
       "  <thead>\n",
       "    <tr style=\"text-align: right;\">\n",
       "      <th></th>\n",
       "      <th>bug_id</th>\n",
       "      <th>creation_date</th>\n",
       "      <th>component_name</th>\n",
       "      <th>product_name</th>\n",
       "      <th>short_description</th>\n",
       "      <th>long_description</th>\n",
       "      <th>assignee_name</th>\n",
       "      <th>reporter_name</th>\n",
       "      <th>resolution_category</th>\n",
       "      <th>resolution_code</th>\n",
       "      <th>...</th>\n",
       "      <th>status_code</th>\n",
       "      <th>update_date</th>\n",
       "      <th>quantity_of_votes</th>\n",
       "      <th>quantity_of_comments</th>\n",
       "      <th>resolution_date</th>\n",
       "      <th>bug_fix_time</th>\n",
       "      <th>severity_category</th>\n",
       "      <th>severity_code</th>\n",
       "      <th>project</th>\n",
       "      <th>long_lived?</th>\n",
       "    </tr>\n",
       "  </thead>\n",
       "  <tbody>\n",
       "    <tr>\n",
       "      <th>0</th>\n",
       "      <td>EMF-354412</td>\n",
       "      <td>2011-08-10</td>\n",
       "      <td>cdo.core</td>\n",
       "      <td>EMF</td>\n",
       "      <td>containsAll returns wrong result in case of de...</td>\n",
       "      <td>Cloned from: 354395: containsAll returns wrong...</td>\n",
       "      <td>stepper</td>\n",
       "      <td>stepper</td>\n",
       "      <td>fixed</td>\n",
       "      <td>1</td>\n",
       "      <td>...</td>\n",
       "      <td>6</td>\n",
       "      <td>2012-09-21</td>\n",
       "      <td>0</td>\n",
       "      <td>5</td>\n",
       "      <td>2011-08-10</td>\n",
       "      <td>0</td>\n",
       "      <td>normal</td>\n",
       "      <td>2</td>\n",
       "      <td>eclipse</td>\n",
       "      <td>short-lived</td>\n",
       "    </tr>\n",
       "    <tr>\n",
       "      <th>1</th>\n",
       "      <td>JSDT-253166</td>\n",
       "      <td>2008-11-03</td>\n",
       "      <td>General</td>\n",
       "      <td>JSDT</td>\n",
       "      <td>Javascript validation has several errors with ...</td>\n",
       "      <td>Some of our javascript-files yield parse-error...</td>\n",
       "      <td>cmjaun</td>\n",
       "      <td>acm</td>\n",
       "      <td>fixed</td>\n",
       "      <td>1</td>\n",
       "      <td>...</td>\n",
       "      <td>4</td>\n",
       "      <td>2010-03-03</td>\n",
       "      <td>0</td>\n",
       "      <td>6</td>\n",
       "      <td>2009-04-29</td>\n",
       "      <td>177</td>\n",
       "      <td>normal</td>\n",
       "      <td>2</td>\n",
       "      <td>eclipse</td>\n",
       "      <td>short-lived</td>\n",
       "    </tr>\n",
       "    <tr>\n",
       "      <th>2</th>\n",
       "      <td>ECLIPSELINK-338573</td>\n",
       "      <td>2011-03-01</td>\n",
       "      <td>SDO</td>\n",
       "      <td>ECLIPSELINK</td>\n",
       "      <td>Memory Improvement:  Reduce the instances of S...</td>\n",
       "      <td>Currently the SDO/OXM metadata is referring to...</td>\n",
       "      <td>blaise.doughan</td>\n",
       "      <td>blaise.doughan</td>\n",
       "      <td>fixed</td>\n",
       "      <td>1</td>\n",
       "      <td>...</td>\n",
       "      <td>4</td>\n",
       "      <td>2011-03-02</td>\n",
       "      <td>0</td>\n",
       "      <td>5</td>\n",
       "      <td>2011-03-02</td>\n",
       "      <td>1</td>\n",
       "      <td>normal</td>\n",
       "      <td>2</td>\n",
       "      <td>eclipse</td>\n",
       "      <td>short-lived</td>\n",
       "    </tr>\n",
       "    <tr>\n",
       "      <th>3</th>\n",
       "      <td>BIRT-150200</td>\n",
       "      <td>2006-07-10</td>\n",
       "      <td>Chart</td>\n",
       "      <td>BIRT</td>\n",
       "      <td>Stacked Area Chart: fill.set() ignored in befo...</td>\n",
       "      <td>In the attached report the fill.set() is being...</td>\n",
       "      <td>nli</td>\n",
       "      <td>eclipse</td>\n",
       "      <td>fixed</td>\n",
       "      <td>1</td>\n",
       "      <td>...</td>\n",
       "      <td>4</td>\n",
       "      <td>2010-03-24</td>\n",
       "      <td>0</td>\n",
       "      <td>7</td>\n",
       "      <td>2006-08-29</td>\n",
       "      <td>50</td>\n",
       "      <td>major</td>\n",
       "      <td>4</td>\n",
       "      <td>eclipse</td>\n",
       "      <td>short-lived</td>\n",
       "    </tr>\n",
       "    <tr>\n",
       "      <th>4</th>\n",
       "      <td>PAPYRUS-384964</td>\n",
       "      <td>2012-07-12</td>\n",
       "      <td>Core</td>\n",
       "      <td>PAPYRUS</td>\n",
       "      <td>[StateMachine Diagram] Papyrus does not forbid...</td>\n",
       "      <td>In some situation (seem to be when an element ...</td>\n",
       "      <td>ansgar.radermacher</td>\n",
       "      <td>yann.tanguy</td>\n",
       "      <td>fixed</td>\n",
       "      <td>1</td>\n",
       "      <td>...</td>\n",
       "      <td>4</td>\n",
       "      <td>2013-04-02</td>\n",
       "      <td>0</td>\n",
       "      <td>3</td>\n",
       "      <td>2013-04-02</td>\n",
       "      <td>264</td>\n",
       "      <td>critical</td>\n",
       "      <td>5</td>\n",
       "      <td>eclipse</td>\n",
       "      <td>short-lived</td>\n",
       "    </tr>\n",
       "  </tbody>\n",
       "</table>\n",
       "<p>5 rows × 21 columns</p>\n",
       "</div>"
      ],
      "text/plain": [
       "               bug_id creation_date component_name product_name  \\\n",
       "0          EMF-354412    2011-08-10       cdo.core          EMF   \n",
       "1         JSDT-253166    2008-11-03        General         JSDT   \n",
       "2  ECLIPSELINK-338573    2011-03-01            SDO  ECLIPSELINK   \n",
       "3         BIRT-150200    2006-07-10          Chart         BIRT   \n",
       "4      PAPYRUS-384964    2012-07-12           Core      PAPYRUS   \n",
       "\n",
       "                                   short_description  \\\n",
       "0  containsAll returns wrong result in case of de...   \n",
       "1  Javascript validation has several errors with ...   \n",
       "2  Memory Improvement:  Reduce the instances of S...   \n",
       "3  Stacked Area Chart: fill.set() ignored in befo...   \n",
       "4  [StateMachine Diagram] Papyrus does not forbid...   \n",
       "\n",
       "                                    long_description       assignee_name  \\\n",
       "0  Cloned from: 354395: containsAll returns wrong...             stepper   \n",
       "1  Some of our javascript-files yield parse-error...              cmjaun   \n",
       "2  Currently the SDO/OXM metadata is referring to...      blaise.doughan   \n",
       "3  In the attached report the fill.set() is being...                 nli   \n",
       "4  In some situation (seem to be when an element ...  ansgar.radermacher   \n",
       "\n",
       "    reporter_name resolution_category  resolution_code  ... status_code  \\\n",
       "0         stepper               fixed                1  ...           6   \n",
       "1             acm               fixed                1  ...           4   \n",
       "2  blaise.doughan               fixed                1  ...           4   \n",
       "3         eclipse               fixed                1  ...           4   \n",
       "4     yann.tanguy               fixed                1  ...           4   \n",
       "\n",
       "   update_date quantity_of_votes  quantity_of_comments  resolution_date  \\\n",
       "0   2012-09-21                 0                     5       2011-08-10   \n",
       "1   2010-03-03                 0                     6       2009-04-29   \n",
       "2   2011-03-02                 0                     5       2011-03-02   \n",
       "3   2010-03-24                 0                     7       2006-08-29   \n",
       "4   2013-04-02                 0                     3       2013-04-02   \n",
       "\n",
       "  bug_fix_time  severity_category severity_code  project  long_lived?  \n",
       "0            0             normal             2  eclipse  short-lived  \n",
       "1          177             normal             2  eclipse  short-lived  \n",
       "2            1             normal             2  eclipse  short-lived  \n",
       "3           50              major             4  eclipse  short-lived  \n",
       "4          264           critical             5  eclipse  short-lived  \n",
       "\n",
       "[5 rows x 21 columns]"
      ]
     },
     "execution_count": 7,
     "metadata": {},
     "output_type": "execute_result"
    }
   ],
   "source": [
    "bug_reports_all_data.head()"
   ]
  },
  {
   "cell_type": "code",
   "execution_count": 8,
   "metadata": {},
   "outputs": [
    {
     "data": {
      "text/html": [
       "<div>\n",
       "<style scoped>\n",
       "    .dataframe tbody tr th:only-of-type {\n",
       "        vertical-align: middle;\n",
       "    }\n",
       "\n",
       "    .dataframe tbody tr th {\n",
       "        vertical-align: top;\n",
       "    }\n",
       "\n",
       "    .dataframe thead th {\n",
       "        text-align: right;\n",
       "    }\n",
       "</style>\n",
       "<table border=\"1\" class=\"dataframe\">\n",
       "  <thead>\n",
       "    <tr style=\"text-align: right;\">\n",
       "      <th></th>\n",
       "      <th>bug_id</th>\n",
       "      <th>creation_date</th>\n",
       "      <th>component_name</th>\n",
       "      <th>product_name</th>\n",
       "      <th>short_description</th>\n",
       "      <th>long_description</th>\n",
       "      <th>assignee_name</th>\n",
       "      <th>reporter_name</th>\n",
       "      <th>resolution_category</th>\n",
       "      <th>resolution_code</th>\n",
       "      <th>...</th>\n",
       "      <th>status_code</th>\n",
       "      <th>update_date</th>\n",
       "      <th>quantity_of_votes</th>\n",
       "      <th>quantity_of_comments</th>\n",
       "      <th>resolution_date</th>\n",
       "      <th>bug_fix_time</th>\n",
       "      <th>severity_category</th>\n",
       "      <th>severity_code</th>\n",
       "      <th>project</th>\n",
       "      <th>long_lived?</th>\n",
       "    </tr>\n",
       "  </thead>\n",
       "  <tbody>\n",
       "    <tr>\n",
       "      <th>41728</th>\n",
       "      <td>GCC-9</td>\n",
       "      <td>2000-02-29</td>\n",
       "      <td>c++</td>\n",
       "      <td>GCC</td>\n",
       "      <td>local class and -O1</td>\n",
       "      <td>[Original report in ]\\nI'm not sure if this a ...</td>\n",
       "      <td>jason</td>\n",
       "      <td>martin</td>\n",
       "      <td>fixed</td>\n",
       "      <td>1</td>\n",
       "      <td>...</td>\n",
       "      <td>4</td>\n",
       "      <td>2019-01-18</td>\n",
       "      <td>0</td>\n",
       "      <td>10</td>\n",
       "      <td>2019-01-18</td>\n",
       "      <td>6898</td>\n",
       "      <td>normal</td>\n",
       "      <td>2</td>\n",
       "      <td>gcc</td>\n",
       "      <td>long-lived</td>\n",
       "    </tr>\n",
       "  </tbody>\n",
       "</table>\n",
       "<p>1 rows × 21 columns</p>\n",
       "</div>"
      ],
      "text/plain": [
       "      bug_id creation_date component_name product_name    short_description  \\\n",
       "41728  GCC-9    2000-02-29            c++          GCC  local class and -O1   \n",
       "\n",
       "                                        long_description assignee_name  \\\n",
       "41728  [Original report in ]\\nI'm not sure if this a ...         jason   \n",
       "\n",
       "      reporter_name resolution_category  resolution_code  ... status_code  \\\n",
       "41728        martin               fixed                1  ...           4   \n",
       "\n",
       "       update_date quantity_of_votes  quantity_of_comments  resolution_date  \\\n",
       "41728   2019-01-18                 0                    10       2019-01-18   \n",
       "\n",
       "      bug_fix_time  severity_category severity_code  project long_lived?  \n",
       "41728         6898             normal             2      gcc  long-lived  \n",
       "\n",
       "[1 rows x 21 columns]"
      ]
     },
     "execution_count": 8,
     "metadata": {},
     "output_type": "execute_result"
    }
   ],
   "source": [
    "bug_reports_all_data.loc[bug_reports_all_data['project']=='gcc'].nlargest(1, 'bug_fix_time')"
   ]
  },
  {
   "cell_type": "code",
   "execution_count": 9,
   "metadata": {},
   "outputs": [
    {
     "data": {
      "text/plain": [
       "'eclipse'"
      ]
     },
     "metadata": {},
     "output_type": "display_data"
    },
    {
     "data": {
      "text/plain": [
       "count    9998.000000\n",
       "mean      108.538708\n",
       "std       317.687949\n",
       "min         0.000000\n",
       "25%         1.000000\n",
       "50%         8.000000\n",
       "75%        63.000000\n",
       "max      4961.000000\n",
       "Name: bug_fix_time, dtype: float64"
      ]
     },
     "metadata": {},
     "output_type": "display_data"
    },
    {
     "name": "stdout",
     "output_type": "stream",
     "text": [
      "Percentiles: 25th=1.000, 75th=63.000, IQR=62.000\n",
      "Identified outliers: 15.203\n"
     ]
    },
    {
     "data": {
      "text/plain": [
       "'freedesktop'"
      ]
     },
     "metadata": {},
     "output_type": "display_data"
    },
    {
     "data": {
      "text/plain": [
       "count    7712.000000\n",
       "mean      173.236385\n",
       "std       384.633005\n",
       "min         0.000000\n",
       "25%         3.000000\n",
       "50%        28.000000\n",
       "75%       162.000000\n",
       "max      4896.000000\n",
       "Name: bug_fix_time, dtype: float64"
      ]
     },
     "metadata": {},
     "output_type": "display_data"
    },
    {
     "name": "stdout",
     "output_type": "stream",
     "text": [
      "Percentiles: 25th=3.000, 75th=162.000, IQR=159.000\n",
      "Identified outliers: 12.254\n"
     ]
    },
    {
     "data": {
      "text/plain": [
       "'gnome'"
      ]
     },
     "metadata": {},
     "output_type": "display_data"
    },
    {
     "data": {
      "text/plain": [
       "count    7991.000000\n",
       "mean      202.465524\n",
       "std       475.371999\n",
       "min         0.000000\n",
       "25%         2.000000\n",
       "50%        23.000000\n",
       "75%       162.000000\n",
       "max      5577.000000\n",
       "Name: bug_fix_time, dtype: float64"
      ]
     },
     "metadata": {},
     "output_type": "display_data"
    },
    {
     "name": "stdout",
     "output_type": "stream",
     "text": [
      "Percentiles: 25th=2.000, 75th=162.000, IQR=160.000\n",
      "Identified outliers: 13.302\n"
     ]
    },
    {
     "data": {
      "text/plain": [
       "'mozilla'"
      ]
     },
     "metadata": {},
     "output_type": "display_data"
    },
    {
     "data": {
      "text/plain": [
       "count    9998.000000\n",
       "mean      278.055011\n",
       "std       661.505883\n",
       "min         0.000000\n",
       "25%         3.000000\n",
       "50%        24.000000\n",
       "75%       187.750000\n",
       "max      7294.000000\n",
       "Name: bug_fix_time, dtype: float64"
      ]
     },
     "metadata": {},
     "output_type": "display_data"
    },
    {
     "name": "stdout",
     "output_type": "stream",
     "text": [
      "Percentiles: 25th=3.000, 75th=187.750, IQR=184.750\n",
      "Identified outliers: 15.503\n"
     ]
    },
    {
     "data": {
      "text/plain": [
       "'gcc'"
      ]
     },
     "metadata": {},
     "output_type": "display_data"
    },
    {
     "data": {
      "text/plain": [
       "count    9998.000000\n",
       "mean      337.904081\n",
       "std       591.241826\n",
       "min         0.000000\n",
       "25%         5.000000\n",
       "50%        63.000000\n",
       "75%       475.000000\n",
       "max      6898.000000\n",
       "Name: bug_fix_time, dtype: float64"
      ]
     },
     "metadata": {},
     "output_type": "display_data"
    },
    {
     "name": "stdout",
     "output_type": "stream",
     "text": [
      "Percentiles: 25th=5.000, 75th=475.000, IQR=470.000\n",
      "Identified outliers: 6.181\n"
     ]
    },
    {
     "data": {
      "text/plain": [
       "'winehq'"
      ]
     },
     "metadata": {},
     "output_type": "display_data"
    },
    {
     "data": {
      "text/plain": [
       "count    6073.00000\n",
       "mean      491.18327\n",
       "std       667.48611\n",
       "min         0.00000\n",
       "25%        22.00000\n",
       "50%       220.00000\n",
       "75%       709.00000\n",
       "max      5636.00000\n",
       "Name: bug_fix_time, dtype: float64"
      ]
     },
     "metadata": {},
     "output_type": "display_data"
    },
    {
     "name": "stdout",
     "output_type": "stream",
     "text": [
      "Percentiles: 25th=22.000, 75th=709.000, IQR=687.000\n",
      "Identified outliers: 6.158\n"
     ]
    }
   ],
   "source": [
    "from numpy import percentile\n",
    "for project in projects:\n",
    "    display(project)\n",
    "    bug_reports_data = bug_reports_all_data.loc[bug_reports_all_data['project']==project]\n",
    "    display(bug_reports_data['bug_fix_time'].describe())\n",
    "    q25, q75 = percentile(bug_reports_data['bug_fix_time'], 25), percentile(bug_reports_data['bug_fix_time'], 75)\n",
    "    iqr = q75 - q25\n",
    "    cut_off = iqr * 1.5\n",
    "    lower, upper = q25 - cut_off, q75 + cut_off\n",
    "    \n",
    "    print('Percentiles: 25th=%.3f, 75th=%.3f, IQR=%.3f' % (q25, q75, iqr))\n",
    "    outliers =  [x for x in bug_reports_data['bug_fix_time'] if x < lower or x > upper]\n",
    "    # identify outliers\n",
    "    outliers = [x for x in bug_reports_data['bug_fix_time'] if x < lower or x > upper]\n",
    "    print('Identified outliers: %.3f' % (len(outliers)/len(bug_reports_data)*100))"
   ]
  },
  {
   "cell_type": "code",
   "execution_count": 10,
   "metadata": {},
   "outputs": [
    {
     "data": {
      "text/html": [
       "<div>\n",
       "<style scoped>\n",
       "    .dataframe tbody tr th:only-of-type {\n",
       "        vertical-align: middle;\n",
       "    }\n",
       "\n",
       "    .dataframe tbody tr th {\n",
       "        vertical-align: top;\n",
       "    }\n",
       "\n",
       "    .dataframe thead tr th {\n",
       "        text-align: left;\n",
       "    }\n",
       "\n",
       "    .dataframe thead tr:last-of-type th {\n",
       "        text-align: right;\n",
       "    }\n",
       "</style>\n",
       "<table border=\"1\" class=\"dataframe\">\n",
       "  <thead>\n",
       "    <tr>\n",
       "      <th></th>\n",
       "      <th colspan=\"2\" halign=\"left\">creation_date</th>\n",
       "    </tr>\n",
       "    <tr>\n",
       "      <th></th>\n",
       "      <th>amin</th>\n",
       "      <th>amax</th>\n",
       "    </tr>\n",
       "    <tr>\n",
       "      <th>project</th>\n",
       "      <th></th>\n",
       "      <th></th>\n",
       "    </tr>\n",
       "  </thead>\n",
       "  <tbody>\n",
       "    <tr>\n",
       "      <th>eclipse</th>\n",
       "      <td>2001-10-10</td>\n",
       "      <td>2018-01-30</td>\n",
       "    </tr>\n",
       "    <tr>\n",
       "      <th>freedesktop</th>\n",
       "      <td>2003-02-05</td>\n",
       "      <td>2019-08-15</td>\n",
       "    </tr>\n",
       "    <tr>\n",
       "      <th>gcc</th>\n",
       "      <td>1999-08-26</td>\n",
       "      <td>2018-01-31</td>\n",
       "    </tr>\n",
       "    <tr>\n",
       "      <th>gnome</th>\n",
       "      <td>1999-01-02</td>\n",
       "      <td>2018-01-24</td>\n",
       "    </tr>\n",
       "    <tr>\n",
       "      <th>mozilla</th>\n",
       "      <td>1998-04-15</td>\n",
       "      <td>2014-04-22</td>\n",
       "    </tr>\n",
       "    <tr>\n",
       "      <th>winehq</th>\n",
       "      <td>2000-09-27</td>\n",
       "      <td>2018-04-17</td>\n",
       "    </tr>\n",
       "  </tbody>\n",
       "</table>\n",
       "</div>"
      ],
      "text/plain": [
       "            creation_date            \n",
       "                     amin        amax\n",
       "project                              \n",
       "eclipse        2001-10-10  2018-01-30\n",
       "freedesktop    2003-02-05  2019-08-15\n",
       "gcc            1999-08-26  2018-01-31\n",
       "gnome          1999-01-02  2018-01-24\n",
       "mozilla        1998-04-15  2014-04-22\n",
       "winehq         2000-09-27  2018-04-17"
      ]
     },
     "execution_count": 10,
     "metadata": {},
     "output_type": "execute_result"
    }
   ],
   "source": [
    "bug_reports_all_data.groupby('project').agg({'creation_date':[np.min, np.max]})"
   ]
  },
  {
   "cell_type": "markdown",
   "metadata": {},
   "source": [
    "### Step 4. Bug Fixing Time Distribution"
   ]
  },
  {
   "cell_type": "code",
   "execution_count": 11,
   "metadata": {},
   "outputs": [
    {
     "data": {
      "text/plain": [
       "<Figure size 640x480 with 0 Axes>"
      ]
     },
     "metadata": {},
     "output_type": "display_data"
    },
    {
     "data": {
      "image/png": "[encoded data removed]",
      "text/plain": [
       "<Figure size 800x500 with 1 Axes>"
      ]
     },
     "metadata": {},
     "output_type": "display_data"
    }
   ],
   "source": [
    "from matplotlib.ticker import (AutoMinorLocator, MultipleLocator)\n",
    "sns.despine(offset=10)\n",
    "sns.set_style(\"ticks\")\n",
    "threshold = 8000\n",
    "\n",
    "fig, ax = plt.subplots(figsize=(8, 5))\n",
    "df = bug_reports_all_data.loc[(bug_reports_all_data[\"bug_fix_time\"] < threshold)] \n",
    "g  = sns.boxplot(data=df, x=\"bug_fix_time\", y=\"project\", palette=\"Set2\", ax=ax, showfliers = True, flierprops = dict(markerfacecolor = '.10', markersize = 2))\n",
    "plt.ylabel(\"\", fontsize= 12)\n",
    "plt.xlabel(\"Bug-Fixing Time (days)\", fontsize= 12)\n",
    "plt.title(\"\", fontsize= 15)\n",
    "ax.yaxis.grid(True)\n",
    "ax.grid(which='major', color='#CCCCCC', linestyle='--')\n",
    "ax.grid(which='minor', color='#CCCCCC', linestyle=':')\n",
    "ax.xaxis.set_major_locator(MultipleLocator(1000))\n",
    "ax.xaxis.set_minor_locator(AutoMinorLocator(10))\n",
    "ax.set(xlim=( -10, threshold))\n",
    "sns.despine(trim=True, left=True)\n",
    "plt.savefig(f\"figures/rq2-bug-fix-time-distribution.pdf\", format=\"pdf\", dpi=600, bbox_inches='tight')"
   ]
  },
  {
   "cell_type": "markdown",
   "metadata": {},
   "source": [
    "### Step 5. How frequent are long-lived bugs?"
   ]
  },
  {
   "cell_type": "code",
   "execution_count": 12,
   "metadata": {},
   "outputs": [],
   "source": [
    "def plot_pyramid (data, column, filename):\n",
    "  \n",
    "    top_g = data.groupby(column)[column].agg(['count'])\n",
    "    top_s = top_g.sort_values('count', ascending=False)\n",
    "    top_n = data.loc[data[column].isin(top_s.index)].groupby(column)['long_lived?'].value_counts(normalize=True).unstack()\n",
    "    top_n.fillna(0, inplace=True)\n",
    "    \n",
    "    top_n.reset_index(inplace=True)\n",
    "    top_n = top_n.sort_values('long-lived', ascending=True)\n",
    "    \n",
    "    print(top_n)\n",
    "    \n",
    "    fig, axes = plt.subplots(figsize=(10, 10), ncols=2, sharey=False, gridspec_kw = {'wspace':0, 'hspace':0})\n",
    "\n",
    "    plt.rcParams[\"axes.grid.axis\"] =\"x\"\n",
    "    plt.rcParams[\"axes.grid\"] = True\n",
    "\n",
    "    sns.despine(offset=0.5)\n",
    "    sns.barplot(x=\"long-lived\", y=column, color=\"tab:red\", ax=axes[0], data=top_n)\n",
    "    sns.barplot(x=\"short-lived\", y=column,  color=\"tab:blue\", ax=axes[1], data=top_n)\n",
    "    \n",
    "    axes[0].set(xlim=(0, 1))\n",
    "    axes[0].invert_xaxis()\n",
    "    axes[0].spines['left'].set_visible(False)\n",
    "    axes[0].tick_params(axis=\"x\", labelsize=MEDIUM_SIZE+3)\n",
    "    axes[0].tick_params(axis=\"y\", labelsize=MEDIUM_SIZE+3)\n",
    "    axes[0].set_ylabel(column.title().replace(\"_\", \" \").replace(\"Category\", \"Level\"), fontsize=MEDIUM_SIZE+2)\n",
    "    axes[0].set_xlabel(\"Long-lived\", fontsize=MEDIUM_SIZE+3)    \n",
    "    axes[0].set_xticklabels(['{:,.0%}'.format(x) for x in axes[0].get_xticks()])\n",
    "    \n",
    "    axes[1].set(xlim=(0, 1))\n",
    "    axes[1].set_yticks([])\n",
    "    axes[1].set(ylabel=\"\")\n",
    "    axes[1].tick_params(axis=\"x\", labelsize=MEDIUM_SIZE+3)\n",
    "    axes[1].set_xlabel(\"Short-lived\", fontsize=MEDIUM_SIZE+3)\n",
    "    axes[1].set_xticklabels(['{:,.0%}'.format(x) for x in axes[1].get_xticks()])\n",
    "    \n",
    "    #sns.despine(offset=0.5)\n",
    "    s = axes[1].twinx()\n",
    "    labels = [i.get_text() for i in axes[0].get_yticklabels()]\n",
    "    labels_new = [top_s.loc[top_s.index==i, 'count'].values[0] for i in labels]\n",
    "    s.set_yticks(axes[0].get_yticks())\n",
    "    s.set_ylim(axes[0].get_ylim())\n",
    "    s.set_yticklabels(labels_new)\n",
    "    s.tick_params(axis=\"y\", labelsize=MEDIUM_SIZE+3)\n",
    "    \n",
    "    s.spines['top'].set_visible(False)\n",
    "    s.spines['bottom'].set_visible(False)\n",
    "    s.spines['right'].set_visible(False)\n",
    "    s.spines['left'].set_visible(False)\n",
    "        \n",
    "    #fig.suptitle(project, fontsize=BIGGER_SIZE)\n",
    "    plt.savefig(f\"figures/{filename}\", format=\"pdf\", dpi=600, bbox_inches='tight')\n",
    "\n",
    "def plot_bar (data, filename):\n",
    "    \n",
    "    top_g = data.groupby(\"project\")[\"project\"].agg(['count'])\n",
    "    top_s = top_g.sort_values('count', ascending=False)\n",
    "    top_n = data.loc[data['project'].isin(top_s.index)].groupby('project')['long_lived?'].value_counts(normalize=True).unstack()\n",
    "    \n",
    "    plt.figure(figsize=(20,20))\n",
    "    fig, axis = plt.subplots(figsize=(10, 10)) \n",
    "    \n",
    "    sns.despine(offset=5)\n",
    "    primary   = top_n.plot(kind='barh', stacked='True',  grid='True', color=[\"tab:red\", \"tab:blue\"], ax=axis)\n",
    "    secondary = primary.twinx()\n",
    "    \n",
    "    labels = [i.get_text() for i in primary.get_yticklabels()]\n",
    "    labels_new = [top_s.loc[top_s.index==i, 'count'].values[0] for i in labels]\n",
    "    \n",
    "    primary.set(xlim=(0, 1))\n",
    "    primary.set_xlabel('percentage', fontsize=MEDIUM_SIZE)\n",
    "    primary.set_ylabel('FLOSS Projects', fontsize=MEDIUM_SIZE) \n",
    "    primary.set_title(\"project\", fontsize=BIGGER_SIZE)\n",
    "    primary.tick_params(axis=\"y\", labelsize=MEDIUM_SIZE)\n",
    "    primary.tick_params(axis=\"x\", labelsize=MEDIUM_SIZE)\n",
    "    \n",
    "    secondary.set_yticks(primary.get_yticks())\n",
    "    secondary.set_ylim(primary.get_ylim())\n",
    "    secondary.set_yticklabels(labels_new)\n",
    "    secondary.tick_params(axis=\"y\", labelsize=MEDIUM_SIZE)\n",
    "    \n",
    "    plt.savefig(f\"figures/{filename}\", format=\"pdf\", dpi=600, bbox_inches='tight')\n"
   ]
  },
  {
   "cell_type": "code",
   "execution_count": 13,
   "metadata": {},
   "outputs": [
    {
     "name": "stdout",
     "output_type": "stream",
     "text": [
      "long_lived?      project  long-lived  short-lived\n",
      "0                eclipse    0.076615     0.923385\n",
      "1            freedesktop    0.136411     0.863589\n",
      "3                  gnome    0.144162     0.855838\n",
      "4                mozilla    0.180636     0.819364\n",
      "2                    gcc    0.291558     0.708442\n",
      "5                 winehq    0.406883     0.593117\n"
     ]
    },
    {
     "name": "stderr",
     "output_type": "stream",
     "text": [
      "<ipython-input-12-d86437b31e68>:29: UserWarning: FixedFormatter should only be used together with FixedLocator\n",
      "  axes[0].set_xticklabels(['{:,.0%}'.format(x) for x in axes[0].get_xticks()])\n",
      "<ipython-input-12-d86437b31e68>:36: UserWarning: FixedFormatter should only be used together with FixedLocator\n",
      "  axes[1].set_xticklabels(['{:,.0%}'.format(x) for x in axes[1].get_xticks()])\n"
     ]
    },
    {
     "data": {
      "image/png": "[encoded data removed]",
      "text/plain": [
       "<Figure size 1000x1000 with 3 Axes>"
      ]
     },
     "metadata": {},
     "output_type": "display_data"
    }
   ],
   "source": [
    "plot_pyramid(bug_reports_all_data, 'project', 'rq2-all-percentage-of-long-lived-bugs.pdf')"
   ]
  },
  {
   "cell_type": "code",
   "execution_count": null,
   "metadata": {},
   "outputs": [],
   "source": []
  }
 ],
 "metadata": {
  "kernelspec": {
   "display_name": "Python 3",
   "language": "python",
   "name": "python3"
  },
  "language_info": {
   "codemirror_mode": {
    "name": "ipython",
    "version": 3
   },
   "file_extension": ".py",
   "mimetype": "text/x-python",
   "name": "python",
   "nbconvert_exporter": "python",
   "pygments_lexer": "ipython3",
   "version": "3.8.5"
  }
 },
 "nbformat": 4,
 "nbformat_minor": 2
}
