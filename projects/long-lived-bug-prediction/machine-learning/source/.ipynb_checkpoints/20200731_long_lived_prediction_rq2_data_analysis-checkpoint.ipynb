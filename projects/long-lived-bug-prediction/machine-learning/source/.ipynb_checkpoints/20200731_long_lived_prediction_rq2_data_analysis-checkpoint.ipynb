{
 "cells": [
  {
   "cell_type": "markdown",
   "metadata": {},
   "source": [
    "# Research Question No. 2"
   ]
  },
  {
   "cell_type": "markdown",
   "metadata": {},
   "source": [
    "## How frequent are long-lived bugs in FLOSS project?"
   ]
  },
  {
   "cell_type": "markdown",
   "metadata": {},
   "source": [
    "## Experimental parameters"
   ]
  },
  {
   "cell_type": "markdown",
   "metadata": {},
   "source": [
    "\n",
    "| Project                    |         #Reports     |       #Thesholds     |\n",
    "|----------------------------|:--------------------:|:--------------------:|\n",
    "| Eclipse                    |        9998         |         365          |\n",
    "| GCC                        |        9998         |         365          |\n",
    "| Gnome                      |        7991          |         365          |\n",
    "| Freedesktop                |        7712          |         365          |\n",
    "| Mozilla                    |        9998          |         365          |\n",
    "| WineHQ                     |        6073          |         365          |\n",
    "\n",
    "Every bug which its report have indicated that the number of days to resolve is less than or equal to **threshold fixed** was considered a **non-long lived bug** and that which the number of days to resolve is greater than this threshold was considered as a **long-live bug**. "
   ]
  },
  {
   "cell_type": "markdown",
   "metadata": {},
   "source": [
    "## Step1. Setup environment."
   ]
  },
  {
   "cell_type": "code",
   "execution_count": 34,
   "metadata": {},
   "outputs": [
    {
     "data": {
      "application/javascript": [
       "IPython.OutputArea.prototype._should_scroll = function(lines) {\n",
       "    return false;\n",
       "}\n"
      ],
      "text/plain": [
       "<IPython.core.display.Javascript object>"
      ]
     },
     "metadata": {},
     "output_type": "display_data"
    }
   ],
   "source": [
    "%%javascript\n",
    "IPython.OutputArea.prototype._should_scroll = function(lines) {\n",
    "    return false;\n",
    "}"
   ]
  },
  {
   "cell_type": "code",
   "execution_count": 35,
   "metadata": {},
   "outputs": [
    {
     "name": "stdout",
     "output_type": "stream",
     "text": [
      "Setup complete\n"
     ]
    },
    {
     "name": "stderr",
     "output_type": "stream",
     "text": [
      "[nltk_data] Downloading package punkt to /home/gomes/nltk_data...\n",
      "[nltk_data]   Package punkt is already up-to-date!\n",
      "[nltk_data] Downloading package stopwords to /home/gomes/nltk_data...\n",
      "[nltk_data]   Package stopwords is already up-to-date!\n"
     ]
    }
   ],
   "source": [
    "import matplotlib.pyplot as plt \n",
    "import nltk \n",
    "import numpy as np\n",
    "import os \n",
    "import pandas as pd\n",
    "import seaborn as sns \n",
    "import string\n",
    "\n",
    "from nltk.stem   import PorterStemmer\n",
    "from nltk.corpus import stopwords\n",
    "from nltk.tokenize import sent_tokenize, word_tokenize\n",
    "from wordcloud import WordCloud, STOPWORDS, ImageColorGenerator\n",
    "\n",
    "# Setup Seaborn\n",
    "sns.set_context(\"paper\")\n",
    "sns.set(style=\"ticks\", color_codes=True, font_scale=2)\n",
    "\n",
    "# Setup Matplotlib\n",
    "plt.rc('figure', figsize=(20, 20))\n",
    "plt.style.use('default')\n",
    "SMALL_SIZE  = 10\n",
    "MEDIUM_SIZE = 12\n",
    "BIGGER_SIZE = 14\n",
    "plt.rc('font',   size=SMALL_SIZE)       # controls default text sizes\n",
    "plt.rc('axes',   titlesize=SMALL_SIZE)  # fontsize of the axes title\n",
    "plt.rc('axes',   labelsize=SMALL_SIZE)  # fontsize of the x and y labels\n",
    "plt.rc('xtick',  labelsize=SMALL_SIZE)  # fontsize of the tick labels\n",
    "plt.rc('ytick',  labelsize=SMALL_SIZE)  # fontsize of the tick labels\n",
    "plt.rc('legend', fontsize=SMALL_SIZE)   # legend fontsize\n",
    "plt.rc('figure', titlesize=SMALL_SIZE)  # fontsize of the figure title\n",
    "#%matplotlib inline \n",
    "\n",
    "# Setup NLTK\n",
    "stemmer = PorterStemmer()\n",
    "nltk.download('punkt')\n",
    "nltk.download('stopwords')\n",
    "\n",
    "# Path of the file to read.\n",
    "projects = ['Eclipse', 'Freedesktop', 'Gnome', 'Mozilla', 'Gcc', 'Winehq']\n",
    "\n",
    "# Fixed time threshold.\n",
    "bug_fix_time_threshold = 365\n",
    "print(\"Setup complete\")"
   ]
  },
  {
   "cell_type": "markdown",
   "metadata": {},
   "source": [
    "## Step 2. Load data."
   ]
  },
  {
   "cell_type": "code",
   "execution_count": 36,
   "metadata": {},
   "outputs": [
    {
     "name": "stdout",
     "output_type": "stream",
     "text": [
      "There are 10000 rows and 19 columns in datasets/20190917_eclipse_bug_report_data.csv.\n",
      "\n"
     ]
    },
    {
     "data": {
      "text/plain": [
       "count    10000.000000\n",
       "mean       108.530300\n",
       "std        317.657809\n",
       "min          0.000000\n",
       "25%          1.000000\n",
       "50%          8.000000\n",
       "75%         63.000000\n",
       "max       4961.000000\n",
       "Name: bug_fix_time, dtype: float64"
      ]
     },
     "metadata": {},
     "output_type": "display_data"
    },
    {
     "name": "stdout",
     "output_type": "stream",
     "text": [
      "There are 7714 rows and 19 columns in datasets/20190917_freedesktop_bug_report_data.csv.\n",
      "\n"
     ]
    },
    {
     "data": {
      "text/plain": [
       "count    7714.000000\n",
       "mean      173.196655\n",
       "std       384.591169\n",
       "min         0.000000\n",
       "25%         3.000000\n",
       "50%        28.000000\n",
       "75%       162.000000\n",
       "max      4896.000000\n",
       "Name: bug_fix_time, dtype: float64"
      ]
     },
     "metadata": {},
     "output_type": "display_data"
    },
    {
     "name": "stdout",
     "output_type": "stream",
     "text": [
      "There are 7993 rows and 19 columns in datasets/20190917_gnome_bug_report_data.csv.\n",
      "\n"
     ]
    },
    {
     "data": {
      "text/plain": [
       "count    7993.000000\n",
       "mean      202.414738\n",
       "std       475.323356\n",
       "min        -1.000000\n",
       "25%         2.000000\n",
       "50%        23.000000\n",
       "75%       162.000000\n",
       "max      5577.000000\n",
       "Name: bug_fix_time, dtype: float64"
      ]
     },
     "metadata": {},
     "output_type": "display_data"
    },
    {
     "name": "stdout",
     "output_type": "stream",
     "text": [
      "There are 10000 rows and 19 columns in datasets/20190917_mozilla_bug_report_data.csv.\n",
      "\n"
     ]
    },
    {
     "data": {
      "text/plain": [
       "count    10000.000000\n",
       "mean       278.071000\n",
       "std        661.460066\n",
       "min          0.000000\n",
       "25%          3.000000\n",
       "50%         24.000000\n",
       "75%        188.000000\n",
       "max       7294.000000\n",
       "Name: bug_fix_time, dtype: float64"
      ]
     },
     "metadata": {},
     "output_type": "display_data"
    },
    {
     "name": "stdout",
     "output_type": "stream",
     "text": [
      "There are 10000 rows and 19 columns in datasets/20190917_gcc_bug_report_data.csv.\n",
      "\n"
     ]
    },
    {
     "data": {
      "text/plain": [
       "count    10000.000000\n",
       "mean       337.856300\n",
       "std        591.193483\n",
       "min          0.000000\n",
       "25%          5.000000\n",
       "50%         63.000000\n",
       "75%        475.000000\n",
       "max       6898.000000\n",
       "Name: bug_fix_time, dtype: float64"
      ]
     },
     "metadata": {},
     "output_type": "display_data"
    },
    {
     "name": "stdout",
     "output_type": "stream",
     "text": [
      "There are 6074 rows and 19 columns in datasets/20190917_winehq_bug_report_data.csv.\n",
      "\n"
     ]
    },
    {
     "data": {
      "text/plain": [
       "count    6074.000000\n",
       "mean      491.102733\n",
       "std       667.460666\n",
       "min         0.000000\n",
       "25%        22.000000\n",
       "50%       220.000000\n",
       "75%       708.750000\n",
       "max      5636.000000\n",
       "Name: bug_fix_time, dtype: float64"
      ]
     },
     "metadata": {},
     "output_type": "display_data"
    }
   ],
   "source": [
    "bug_reports_data_list = []\n",
    "for project in projects:\n",
    "    bug_reports_path = f\"datasets/20190917_{project.lower()}_bug_report_data.csv\"\n",
    "\n",
    "    # read bug reports data.\n",
    "    bug_reports_data = pd.read_csv(bug_reports_path)[0:10000]\n",
    "    rows_and_cols = bug_reports_data.shape\n",
    "    print(f\"There are {rows_and_cols[0]} rows and {rows_and_cols[1]} columns in {bug_reports_path}.\\n\")\n",
    "    #print(f\"Mean of bug fix time: {bug_reports_data['bug_fix_time'].mean(axis=0)}.\\n\")\n",
    "    display(bug_reports_data['bug_fix_time'].describe())\n",
    "    bug_reports_data[\"project\"] = project.capitalize()  \n",
    "    bug_reports_data_list.append(bug_reports_data) \n",
    "\n",
    "# concatenate all bug_reports_data \n",
    "bug_reports_all_data = pd.concat(bug_reports_data_list)"
   ]
  },
  {
   "cell_type": "code",
   "execution_count": 37,
   "metadata": {},
   "outputs": [
    {
     "name": "stdout",
     "output_type": "stream",
     "text": [
      "There are 79279 rows and 6 columns in datasets/20190917_eclipse_bug_report_history_data.csv.\n",
      "\n",
      "There are 51724 rows and 6 columns in datasets/20190917_freedesktop_bug_report_history_data.csv.\n",
      "\n",
      "There are 52102 rows and 6 columns in datasets/20190917_gnome_bug_report_history_data.csv.\n",
      "\n",
      "There are 191270 rows and 6 columns in datasets/20190917_mozilla_bug_report_history_data.csv.\n",
      "\n",
      "There are 98055 rows and 6 columns in datasets/20190917_gcc_bug_report_history_data.csv.\n",
      "\n",
      "There are 60992 rows and 6 columns in datasets/20190917_winehq_bug_report_history_data.csv.\n",
      "\n"
     ]
    }
   ],
   "source": [
    "bug_reports_history_data_list = []\n",
    "for project in projects:\n",
    "    bug_reports_history_path = f\"datasets/20190917_{project.lower()}_bug_report_history_data.csv\"\n",
    "\n",
    "    # read bug reports data.\n",
    "    bug_reports_history_data = pd.read_csv(bug_reports_history_path, sep=',')\n",
    " \n",
    "    # print dataframe information\n",
    "    rows_and_cols = bug_reports_history_data.shape\n",
    "    print(f\"There are {rows_and_cols[0]} rows and {rows_and_cols[1]} columns in {bug_reports_history_path}.\\n\")\n",
    "    \n",
    "    bug_reports_history_data_list.append(bug_reports_history_data) \n",
    "\n",
    "# concatenate all bug_reports_data \n",
    "bug_reports_all_history_data = pd.concat(bug_reports_history_data_list)"
   ]
  },
  {
   "cell_type": "markdown",
   "metadata": {},
   "source": [
    "## Step 3. Review the data"
   ]
  },
  {
   "cell_type": "code",
   "execution_count": null,
   "metadata": {},
   "outputs": [],
   "source": []
  },
  {
   "cell_type": "code",
   "execution_count": 38,
   "metadata": {},
   "outputs": [
    {
     "data": {
      "text/html": [
       "<div>\n",
       "<style scoped>\n",
       "    .dataframe tbody tr th:only-of-type {\n",
       "        vertical-align: middle;\n",
       "    }\n",
       "\n",
       "    .dataframe tbody tr th {\n",
       "        vertical-align: top;\n",
       "    }\n",
       "\n",
       "    .dataframe thead th {\n",
       "        text-align: right;\n",
       "    }\n",
       "</style>\n",
       "<table border=\"1\" class=\"dataframe\">\n",
       "  <thead>\n",
       "    <tr style=\"text-align: right;\">\n",
       "      <th></th>\n",
       "      <th>bug_id</th>\n",
       "      <th>creation_date</th>\n",
       "      <th>component_name</th>\n",
       "      <th>product_name</th>\n",
       "      <th>short_description</th>\n",
       "      <th>long_description</th>\n",
       "      <th>assignee_name</th>\n",
       "      <th>reporter_name</th>\n",
       "      <th>resolution_category</th>\n",
       "      <th>resolution_code</th>\n",
       "      <th>status_category</th>\n",
       "      <th>status_code</th>\n",
       "      <th>update_date</th>\n",
       "      <th>quantity_of_votes</th>\n",
       "      <th>quantity_of_comments</th>\n",
       "      <th>resolution_date</th>\n",
       "      <th>bug_fix_time</th>\n",
       "      <th>severity_category</th>\n",
       "      <th>severity_code</th>\n",
       "      <th>project</th>\n",
       "    </tr>\n",
       "  </thead>\n",
       "  <tbody>\n",
       "    <tr>\n",
       "      <th>5033</th>\n",
       "      <td>PLATFORM-34970</td>\n",
       "      <td>2003-03-13</td>\n",
       "      <td>SWT</td>\n",
       "      <td>PLATFORM</td>\n",
       "      <td>[Program] System editor not found in HP-UX 11.00</td>\n",
       "      <td>Problem description:\\nOn HP-UX 11.00 selecting...</td>\n",
       "      <td>billy.biggs</td>\n",
       "      <td>rhounsel</td>\n",
       "      <td>fixed</td>\n",
       "      <td>1</td>\n",
       "      <td>resolved</td>\n",
       "      <td>4</td>\n",
       "      <td>2016-10-11</td>\n",
       "      <td>0</td>\n",
       "      <td>12</td>\n",
       "      <td>2016-10-11</td>\n",
       "      <td>4961</td>\n",
       "      <td>normal</td>\n",
       "      <td>2</td>\n",
       "      <td>Eclipse</td>\n",
       "    </tr>\n",
       "    <tr>\n",
       "      <th>5645</th>\n",
       "      <td>PLATFORM-143992</td>\n",
       "      <td>2006-05-26</td>\n",
       "      <td>UI</td>\n",
       "      <td>PLATFORM</td>\n",
       "      <td>Deprecate the org.eclipse.core.commands.util p...</td>\n",
       "      <td>RC5\\n\\norg.eclipse.core.commands.util is marke...</td>\n",
       "      <td>Lars.Vogel</td>\n",
       "      <td>Tod_Creasey</td>\n",
       "      <td>fixed</td>\n",
       "      <td>1</td>\n",
       "      <td>resolved</td>\n",
       "      <td>4</td>\n",
       "      <td>2019-02-05</td>\n",
       "      <td>0</td>\n",
       "      <td>11</td>\n",
       "      <td>2019-02-05</td>\n",
       "      <td>4638</td>\n",
       "      <td>normal</td>\n",
       "      <td>2</td>\n",
       "      <td>Eclipse</td>\n",
       "    </tr>\n",
       "    <tr>\n",
       "      <th>2061</th>\n",
       "      <td>PLATFORM-185247</td>\n",
       "      <td>2007-05-02</td>\n",
       "      <td>Resources</td>\n",
       "      <td>PLATFORM</td>\n",
       "      <td>JUnit tests for recursive symlinks</td>\n",
       "      <td>Build: I20070501-0010\\n\\nThe fix for bug 10555...</td>\n",
       "      <td>simeon.danailov.andreev</td>\n",
       "      <td>john.arthorne</td>\n",
       "      <td>fixed</td>\n",
       "      <td>1</td>\n",
       "      <td>resolved</td>\n",
       "      <td>4</td>\n",
       "      <td>2018-11-23</td>\n",
       "      <td>0</td>\n",
       "      <td>13</td>\n",
       "      <td>2018-11-23</td>\n",
       "      <td>4223</td>\n",
       "      <td>normal</td>\n",
       "      <td>2</td>\n",
       "      <td>Eclipse</td>\n",
       "    </tr>\n",
       "    <tr>\n",
       "      <th>9215</th>\n",
       "      <td>JDT-68233</td>\n",
       "      <td>2004-06-22</td>\n",
       "      <td>Debug</td>\n",
       "      <td>JDT</td>\n",
       "      <td>Null Pointer in JavaBreakpoint</td>\n",
       "      <td>I was using RC3 and doing hyades development h...</td>\n",
       "      <td>sarika.sinha</td>\n",
       "      <td>aaron</td>\n",
       "      <td>fixed</td>\n",
       "      <td>1</td>\n",
       "      <td>resolved</td>\n",
       "      <td>4</td>\n",
       "      <td>2015-10-19</td>\n",
       "      <td>0</td>\n",
       "      <td>7</td>\n",
       "      <td>2015-10-19</td>\n",
       "      <td>4136</td>\n",
       "      <td>normal</td>\n",
       "      <td>2</td>\n",
       "      <td>Eclipse</td>\n",
       "    </tr>\n",
       "    <tr>\n",
       "      <th>616</th>\n",
       "      <td>JDT-86726</td>\n",
       "      <td>2005-02-25</td>\n",
       "      <td>Text</td>\n",
       "      <td>JDT</td>\n",
       "      <td>[formatting] 'New line after @param tags' not ...</td>\n",
       "      <td>After uncheck the New line after @param tags t...</td>\n",
       "      <td>jdt-text-inbox</td>\n",
       "      <td>nqw2000</td>\n",
       "      <td>fixed</td>\n",
       "      <td>1</td>\n",
       "      <td>closed</td>\n",
       "      <td>6</td>\n",
       "      <td>2016-01-08</td>\n",
       "      <td>0</td>\n",
       "      <td>4</td>\n",
       "      <td>2016-01-08</td>\n",
       "      <td>3969</td>\n",
       "      <td>normal</td>\n",
       "      <td>2</td>\n",
       "      <td>Eclipse</td>\n",
       "    </tr>\n",
       "    <tr>\n",
       "      <th>579</th>\n",
       "      <td>PLATFORM-80900</td>\n",
       "      <td>2004-12-14</td>\n",
       "      <td>UI</td>\n",
       "      <td>PLATFORM</td>\n",
       "      <td>[PerspectiveBar] Platform does not remember or...</td>\n",
       "      <td>Using I200412081200\\n\\nMostly using the follow...</td>\n",
       "      <td>platform-ui-triaged</td>\n",
       "      <td>erol_koc_OTI</td>\n",
       "      <td>fixed</td>\n",
       "      <td>1</td>\n",
       "      <td>closed</td>\n",
       "      <td>6</td>\n",
       "      <td>2015-09-19</td>\n",
       "      <td>0</td>\n",
       "      <td>4</td>\n",
       "      <td>2015-09-19</td>\n",
       "      <td>3931</td>\n",
       "      <td>normal</td>\n",
       "      <td>2</td>\n",
       "      <td>Eclipse</td>\n",
       "    </tr>\n",
       "    <tr>\n",
       "      <th>3500</th>\n",
       "      <td>WTP_SERVERTOOLS-218633</td>\n",
       "      <td>2008-02-12</td>\n",
       "      <td>wst.server</td>\n",
       "      <td>WTP_SERVERTOOLS</td>\n",
       "      <td>Modifying the Server Host name results in one ...</td>\n",
       "      <td>Build ID: I20071213-1700\\n\\nSteps To Reproduce...</td>\n",
       "      <td>eyuen</td>\n",
       "      <td>ktsao</td>\n",
       "      <td>fixed</td>\n",
       "      <td>1</td>\n",
       "      <td>resolved</td>\n",
       "      <td>4</td>\n",
       "      <td>2018-11-15</td>\n",
       "      <td>2</td>\n",
       "      <td>15</td>\n",
       "      <td>2018-11-15</td>\n",
       "      <td>3929</td>\n",
       "      <td>normal</td>\n",
       "      <td>2</td>\n",
       "      <td>Eclipse</td>\n",
       "    </tr>\n",
       "    <tr>\n",
       "      <th>6562</th>\n",
       "      <td>PLATFORM-53988</td>\n",
       "      <td>2004-03-07</td>\n",
       "      <td>UI</td>\n",
       "      <td>PLATFORM</td>\n",
       "      <td>[Dialogs] New (Source) Folder dialog does not ...</td>\n",
       "      <td>Reached through:\\n\\nProperties of a Java proje...</td>\n",
       "      <td>platform-ui-triaged</td>\n",
       "      <td>sdavids</td>\n",
       "      <td>fixed</td>\n",
       "      <td>1</td>\n",
       "      <td>closed</td>\n",
       "      <td>6</td>\n",
       "      <td>2014-06-26</td>\n",
       "      <td>0</td>\n",
       "      <td>8</td>\n",
       "      <td>2014-06-26</td>\n",
       "      <td>3763</td>\n",
       "      <td>normal</td>\n",
       "      <td>2</td>\n",
       "      <td>Eclipse</td>\n",
       "    </tr>\n",
       "    <tr>\n",
       "      <th>3476</th>\n",
       "      <td>NEBULA-268499</td>\n",
       "      <td>2009-03-13</td>\n",
       "      <td>Core</td>\n",
       "      <td>NEBULA</td>\n",
       "      <td>[Component-Proposal] CTreeCombo-Widget</td>\n",
       "      <td>Some time ago I write CTreeCombo widget (I sim...</td>\n",
       "      <td>laurent.caron</td>\n",
       "      <td>tom.schindl</td>\n",
       "      <td>fixed</td>\n",
       "      <td>1</td>\n",
       "      <td>resolved</td>\n",
       "      <td>4</td>\n",
       "      <td>2019-05-17</td>\n",
       "      <td>0</td>\n",
       "      <td>5</td>\n",
       "      <td>2019-03-25</td>\n",
       "      <td>3664</td>\n",
       "      <td>normal</td>\n",
       "      <td>2</td>\n",
       "      <td>Eclipse</td>\n",
       "    </tr>\n",
       "    <tr>\n",
       "      <th>9745</th>\n",
       "      <td>PDE-255266</td>\n",
       "      <td>2008-11-13</td>\n",
       "      <td>Build</td>\n",
       "      <td>PDE</td>\n",
       "      <td>Compare map files to suggest version changes</td>\n",
       "      <td>There is a general problem of version numbers ...</td>\n",
       "      <td>pde-build-inbox</td>\n",
       "      <td>andrew.niefer</td>\n",
       "      <td>fixed</td>\n",
       "      <td>1</td>\n",
       "      <td>closed</td>\n",
       "      <td>6</td>\n",
       "      <td>2018-11-12</td>\n",
       "      <td>0</td>\n",
       "      <td>7</td>\n",
       "      <td>2018-11-12</td>\n",
       "      <td>3651</td>\n",
       "      <td>normal</td>\n",
       "      <td>2</td>\n",
       "      <td>Eclipse</td>\n",
       "    </tr>\n",
       "  </tbody>\n",
       "</table>\n",
       "</div>"
      ],
      "text/plain": [
       "                      bug_id creation_date component_name     product_name  \\\n",
       "5033          PLATFORM-34970    2003-03-13            SWT         PLATFORM   \n",
       "5645         PLATFORM-143992    2006-05-26             UI         PLATFORM   \n",
       "2061         PLATFORM-185247    2007-05-02      Resources         PLATFORM   \n",
       "9215               JDT-68233    2004-06-22          Debug              JDT   \n",
       "616                JDT-86726    2005-02-25           Text              JDT   \n",
       "579           PLATFORM-80900    2004-12-14             UI         PLATFORM   \n",
       "3500  WTP_SERVERTOOLS-218633    2008-02-12     wst.server  WTP_SERVERTOOLS   \n",
       "6562          PLATFORM-53988    2004-03-07             UI         PLATFORM   \n",
       "3476           NEBULA-268499    2009-03-13           Core           NEBULA   \n",
       "9745              PDE-255266    2008-11-13          Build              PDE   \n",
       "\n",
       "                                      short_description  \\\n",
       "5033   [Program] System editor not found in HP-UX 11.00   \n",
       "5645  Deprecate the org.eclipse.core.commands.util p...   \n",
       "2061                 JUnit tests for recursive symlinks   \n",
       "9215                     Null Pointer in JavaBreakpoint   \n",
       "616   [formatting] 'New line after @param tags' not ...   \n",
       "579   [PerspectiveBar] Platform does not remember or...   \n",
       "3500  Modifying the Server Host name results in one ...   \n",
       "6562  [Dialogs] New (Source) Folder dialog does not ...   \n",
       "3476             [Component-Proposal] CTreeCombo-Widget   \n",
       "9745       Compare map files to suggest version changes   \n",
       "\n",
       "                                       long_description  \\\n",
       "5033  Problem description:\\nOn HP-UX 11.00 selecting...   \n",
       "5645  RC5\\n\\norg.eclipse.core.commands.util is marke...   \n",
       "2061  Build: I20070501-0010\\n\\nThe fix for bug 10555...   \n",
       "9215  I was using RC3 and doing hyades development h...   \n",
       "616   After uncheck the New line after @param tags t...   \n",
       "579   Using I200412081200\\n\\nMostly using the follow...   \n",
       "3500  Build ID: I20071213-1700\\n\\nSteps To Reproduce...   \n",
       "6562  Reached through:\\n\\nProperties of a Java proje...   \n",
       "3476  Some time ago I write CTreeCombo widget (I sim...   \n",
       "9745  There is a general problem of version numbers ...   \n",
       "\n",
       "                assignee_name  reporter_name resolution_category  \\\n",
       "5033              billy.biggs       rhounsel               fixed   \n",
       "5645               Lars.Vogel    Tod_Creasey               fixed   \n",
       "2061  simeon.danailov.andreev  john.arthorne               fixed   \n",
       "9215             sarika.sinha          aaron               fixed   \n",
       "616            jdt-text-inbox        nqw2000               fixed   \n",
       "579       platform-ui-triaged   erol_koc_OTI               fixed   \n",
       "3500                    eyuen          ktsao               fixed   \n",
       "6562      platform-ui-triaged        sdavids               fixed   \n",
       "3476            laurent.caron    tom.schindl               fixed   \n",
       "9745          pde-build-inbox  andrew.niefer               fixed   \n",
       "\n",
       "      resolution_code status_category  status_code update_date  \\\n",
       "5033                1        resolved            4  2016-10-11   \n",
       "5645                1        resolved            4  2019-02-05   \n",
       "2061                1        resolved            4  2018-11-23   \n",
       "9215                1        resolved            4  2015-10-19   \n",
       "616                 1          closed            6  2016-01-08   \n",
       "579                 1          closed            6  2015-09-19   \n",
       "3500                1        resolved            4  2018-11-15   \n",
       "6562                1          closed            6  2014-06-26   \n",
       "3476                1        resolved            4  2019-05-17   \n",
       "9745                1          closed            6  2018-11-12   \n",
       "\n",
       "      quantity_of_votes  quantity_of_comments resolution_date  bug_fix_time  \\\n",
       "5033                  0                    12      2016-10-11          4961   \n",
       "5645                  0                    11      2019-02-05          4638   \n",
       "2061                  0                    13      2018-11-23          4223   \n",
       "9215                  0                     7      2015-10-19          4136   \n",
       "616                   0                     4      2016-01-08          3969   \n",
       "579                   0                     4      2015-09-19          3931   \n",
       "3500                  2                    15      2018-11-15          3929   \n",
       "6562                  0                     8      2014-06-26          3763   \n",
       "3476                  0                     5      2019-03-25          3664   \n",
       "9745                  0                     7      2018-11-12          3651   \n",
       "\n",
       "     severity_category  severity_code  project  \n",
       "5033            normal              2  Eclipse  \n",
       "5645            normal              2  Eclipse  \n",
       "2061            normal              2  Eclipse  \n",
       "9215            normal              2  Eclipse  \n",
       "616             normal              2  Eclipse  \n",
       "579             normal              2  Eclipse  \n",
       "3500            normal              2  Eclipse  \n",
       "6562            normal              2  Eclipse  \n",
       "3476            normal              2  Eclipse  \n",
       "9745            normal              2  Eclipse  "
      ]
     },
     "execution_count": 38,
     "metadata": {},
     "output_type": "execute_result"
    }
   ],
   "source": [
    "bug_reports_all_data.loc[bug_reports_all_data['project']=='Eclipse'].nlargest(10, 'bug_fix_time')\n"
   ]
  },
  {
   "cell_type": "code",
   "execution_count": 39,
   "metadata": {},
   "outputs": [
    {
     "data": {
      "text/html": [
       "<div>\n",
       "<style scoped>\n",
       "    .dataframe tbody tr th:only-of-type {\n",
       "        vertical-align: middle;\n",
       "    }\n",
       "\n",
       "    .dataframe tbody tr th {\n",
       "        vertical-align: top;\n",
       "    }\n",
       "\n",
       "    .dataframe thead th {\n",
       "        text-align: right;\n",
       "    }\n",
       "</style>\n",
       "<table border=\"1\" class=\"dataframe\">\n",
       "  <thead>\n",
       "    <tr style=\"text-align: right;\">\n",
       "      <th></th>\n",
       "      <th>bug_id</th>\n",
       "      <th>creation_date</th>\n",
       "      <th>component_name</th>\n",
       "      <th>product_name</th>\n",
       "      <th>short_description</th>\n",
       "      <th>long_description</th>\n",
       "      <th>assignee_name</th>\n",
       "      <th>reporter_name</th>\n",
       "      <th>resolution_category</th>\n",
       "      <th>resolution_code</th>\n",
       "      <th>status_category</th>\n",
       "      <th>status_code</th>\n",
       "      <th>update_date</th>\n",
       "      <th>quantity_of_votes</th>\n",
       "      <th>quantity_of_comments</th>\n",
       "      <th>resolution_date</th>\n",
       "      <th>bug_fix_time</th>\n",
       "      <th>severity_category</th>\n",
       "      <th>severity_code</th>\n",
       "      <th>project</th>\n",
       "    </tr>\n",
       "  </thead>\n",
       "  <tbody>\n",
       "    <tr>\n",
       "      <th>0</th>\n",
       "      <td>EMF-354412</td>\n",
       "      <td>2011-08-10</td>\n",
       "      <td>cdo.core</td>\n",
       "      <td>EMF</td>\n",
       "      <td>containsAll returns wrong result in case of de...</td>\n",
       "      <td>Cloned from: 354395: containsAll returns wrong...</td>\n",
       "      <td>stepper</td>\n",
       "      <td>stepper</td>\n",
       "      <td>fixed</td>\n",
       "      <td>1</td>\n",
       "      <td>closed</td>\n",
       "      <td>6</td>\n",
       "      <td>2012-09-21</td>\n",
       "      <td>0</td>\n",
       "      <td>5</td>\n",
       "      <td>2011-08-10</td>\n",
       "      <td>0</td>\n",
       "      <td>normal</td>\n",
       "      <td>2</td>\n",
       "      <td>Eclipse</td>\n",
       "    </tr>\n",
       "    <tr>\n",
       "      <th>1</th>\n",
       "      <td>JSDT-253166</td>\n",
       "      <td>2008-11-03</td>\n",
       "      <td>General</td>\n",
       "      <td>JSDT</td>\n",
       "      <td>Javascript validation has several errors with ...</td>\n",
       "      <td>Some of our javascript-files yield parse-error...</td>\n",
       "      <td>cmjaun</td>\n",
       "      <td>acm</td>\n",
       "      <td>fixed</td>\n",
       "      <td>1</td>\n",
       "      <td>resolved</td>\n",
       "      <td>4</td>\n",
       "      <td>2010-03-03</td>\n",
       "      <td>0</td>\n",
       "      <td>6</td>\n",
       "      <td>2009-04-29</td>\n",
       "      <td>177</td>\n",
       "      <td>normal</td>\n",
       "      <td>2</td>\n",
       "      <td>Eclipse</td>\n",
       "    </tr>\n",
       "    <tr>\n",
       "      <th>2</th>\n",
       "      <td>ECLIPSELINK-338573</td>\n",
       "      <td>2011-03-01</td>\n",
       "      <td>SDO</td>\n",
       "      <td>ECLIPSELINK</td>\n",
       "      <td>Memory Improvement:  Reduce the instances of S...</td>\n",
       "      <td>Currently the SDO/OXM metadata is referring to...</td>\n",
       "      <td>blaise.doughan</td>\n",
       "      <td>blaise.doughan</td>\n",
       "      <td>fixed</td>\n",
       "      <td>1</td>\n",
       "      <td>resolved</td>\n",
       "      <td>4</td>\n",
       "      <td>2011-03-02</td>\n",
       "      <td>0</td>\n",
       "      <td>5</td>\n",
       "      <td>2011-03-02</td>\n",
       "      <td>1</td>\n",
       "      <td>normal</td>\n",
       "      <td>2</td>\n",
       "      <td>Eclipse</td>\n",
       "    </tr>\n",
       "    <tr>\n",
       "      <th>3</th>\n",
       "      <td>BIRT-150200</td>\n",
       "      <td>2006-07-10</td>\n",
       "      <td>Chart</td>\n",
       "      <td>BIRT</td>\n",
       "      <td>Stacked Area Chart: fill.set() ignored in befo...</td>\n",
       "      <td>In the attached report the fill.set() is being...</td>\n",
       "      <td>nli</td>\n",
       "      <td>eclipse</td>\n",
       "      <td>fixed</td>\n",
       "      <td>1</td>\n",
       "      <td>resolved</td>\n",
       "      <td>4</td>\n",
       "      <td>2010-03-24</td>\n",
       "      <td>0</td>\n",
       "      <td>7</td>\n",
       "      <td>2006-08-29</td>\n",
       "      <td>50</td>\n",
       "      <td>major</td>\n",
       "      <td>4</td>\n",
       "      <td>Eclipse</td>\n",
       "    </tr>\n",
       "    <tr>\n",
       "      <th>4</th>\n",
       "      <td>PAPYRUS-384964</td>\n",
       "      <td>2012-07-12</td>\n",
       "      <td>Core</td>\n",
       "      <td>PAPYRUS</td>\n",
       "      <td>[StateMachine Diagram] Papyrus does not forbid...</td>\n",
       "      <td>In some situation (seem to be when an element ...</td>\n",
       "      <td>ansgar.radermacher</td>\n",
       "      <td>yann.tanguy</td>\n",
       "      <td>fixed</td>\n",
       "      <td>1</td>\n",
       "      <td>resolved</td>\n",
       "      <td>4</td>\n",
       "      <td>2013-04-02</td>\n",
       "      <td>0</td>\n",
       "      <td>3</td>\n",
       "      <td>2013-04-02</td>\n",
       "      <td>264</td>\n",
       "      <td>critical</td>\n",
       "      <td>5</td>\n",
       "      <td>Eclipse</td>\n",
       "    </tr>\n",
       "  </tbody>\n",
       "</table>\n",
       "</div>"
      ],
      "text/plain": [
       "               bug_id creation_date component_name product_name  \\\n",
       "0          EMF-354412    2011-08-10       cdo.core          EMF   \n",
       "1         JSDT-253166    2008-11-03        General         JSDT   \n",
       "2  ECLIPSELINK-338573    2011-03-01            SDO  ECLIPSELINK   \n",
       "3         BIRT-150200    2006-07-10          Chart         BIRT   \n",
       "4      PAPYRUS-384964    2012-07-12           Core      PAPYRUS   \n",
       "\n",
       "                                   short_description  \\\n",
       "0  containsAll returns wrong result in case of de...   \n",
       "1  Javascript validation has several errors with ...   \n",
       "2  Memory Improvement:  Reduce the instances of S...   \n",
       "3  Stacked Area Chart: fill.set() ignored in befo...   \n",
       "4  [StateMachine Diagram] Papyrus does not forbid...   \n",
       "\n",
       "                                    long_description       assignee_name  \\\n",
       "0  Cloned from: 354395: containsAll returns wrong...             stepper   \n",
       "1  Some of our javascript-files yield parse-error...              cmjaun   \n",
       "2  Currently the SDO/OXM metadata is referring to...      blaise.doughan   \n",
       "3  In the attached report the fill.set() is being...                 nli   \n",
       "4  In some situation (seem to be when an element ...  ansgar.radermacher   \n",
       "\n",
       "    reporter_name resolution_category  resolution_code status_category  \\\n",
       "0         stepper               fixed                1          closed   \n",
       "1             acm               fixed                1        resolved   \n",
       "2  blaise.doughan               fixed                1        resolved   \n",
       "3         eclipse               fixed                1        resolved   \n",
       "4     yann.tanguy               fixed                1        resolved   \n",
       "\n",
       "   status_code update_date  quantity_of_votes  quantity_of_comments  \\\n",
       "0            6  2012-09-21                  0                     5   \n",
       "1            4  2010-03-03                  0                     6   \n",
       "2            4  2011-03-02                  0                     5   \n",
       "3            4  2010-03-24                  0                     7   \n",
       "4            4  2013-04-02                  0                     3   \n",
       "\n",
       "  resolution_date  bug_fix_time severity_category  severity_code  project  \n",
       "0      2011-08-10             0            normal              2  Eclipse  \n",
       "1      2009-04-29           177            normal              2  Eclipse  \n",
       "2      2011-03-02             1            normal              2  Eclipse  \n",
       "3      2006-08-29            50             major              4  Eclipse  \n",
       "4      2013-04-02           264          critical              5  Eclipse  "
      ]
     },
     "execution_count": 39,
     "metadata": {},
     "output_type": "execute_result"
    }
   ],
   "source": [
    "bug_reports_all_data.head()"
   ]
  },
  {
   "cell_type": "code",
   "execution_count": 40,
   "metadata": {},
   "outputs": [
    {
     "data": {
      "text/html": [
       "<div>\n",
       "<style scoped>\n",
       "    .dataframe tbody tr th:only-of-type {\n",
       "        vertical-align: middle;\n",
       "    }\n",
       "\n",
       "    .dataframe tbody tr th {\n",
       "        vertical-align: top;\n",
       "    }\n",
       "\n",
       "    .dataframe thead th {\n",
       "        text-align: right;\n",
       "    }\n",
       "</style>\n",
       "<table border=\"1\" class=\"dataframe\">\n",
       "  <thead>\n",
       "    <tr style=\"text-align: right;\">\n",
       "      <th></th>\n",
       "      <th>resolution_code</th>\n",
       "      <th>status_code</th>\n",
       "      <th>quantity_of_votes</th>\n",
       "      <th>quantity_of_comments</th>\n",
       "      <th>bug_fix_time</th>\n",
       "      <th>severity_code</th>\n",
       "    </tr>\n",
       "  </thead>\n",
       "  <tbody>\n",
       "    <tr>\n",
       "      <th>count</th>\n",
       "      <td>51781.0</td>\n",
       "      <td>51781.000000</td>\n",
       "      <td>51781.000000</td>\n",
       "      <td>51781.000000</td>\n",
       "      <td>51781.000000</td>\n",
       "      <td>51781.000000</td>\n",
       "    </tr>\n",
       "    <tr>\n",
       "      <th>mean</th>\n",
       "      <td>1.0</td>\n",
       "      <td>4.409957</td>\n",
       "      <td>0.078832</td>\n",
       "      <td>8.664896</td>\n",
       "      <td>254.561982</td>\n",
       "      <td>2.355710</td>\n",
       "    </tr>\n",
       "    <tr>\n",
       "      <th>std</th>\n",
       "      <td>0.0</td>\n",
       "      <td>0.807380</td>\n",
       "      <td>1.303383</td>\n",
       "      <td>12.267116</td>\n",
       "      <td>542.361709</td>\n",
       "      <td>0.987261</td>\n",
       "    </tr>\n",
       "    <tr>\n",
       "      <th>min</th>\n",
       "      <td>1.0</td>\n",
       "      <td>4.000000</td>\n",
       "      <td>0.000000</td>\n",
       "      <td>0.000000</td>\n",
       "      <td>-1.000000</td>\n",
       "      <td>0.000000</td>\n",
       "    </tr>\n",
       "    <tr>\n",
       "      <th>25%</th>\n",
       "      <td>1.0</td>\n",
       "      <td>4.000000</td>\n",
       "      <td>0.000000</td>\n",
       "      <td>3.000000</td>\n",
       "      <td>3.000000</td>\n",
       "      <td>2.000000</td>\n",
       "    </tr>\n",
       "    <tr>\n",
       "      <th>50%</th>\n",
       "      <td>1.0</td>\n",
       "      <td>4.000000</td>\n",
       "      <td>0.000000</td>\n",
       "      <td>6.000000</td>\n",
       "      <td>29.000000</td>\n",
       "      <td>2.000000</td>\n",
       "    </tr>\n",
       "    <tr>\n",
       "      <th>75%</th>\n",
       "      <td>1.0</td>\n",
       "      <td>4.000000</td>\n",
       "      <td>0.000000</td>\n",
       "      <td>10.000000</td>\n",
       "      <td>235.000000</td>\n",
       "      <td>2.000000</td>\n",
       "    </tr>\n",
       "    <tr>\n",
       "      <th>max</th>\n",
       "      <td>1.0</td>\n",
       "      <td>6.000000</td>\n",
       "      <td>101.000000</td>\n",
       "      <td>810.000000</td>\n",
       "      <td>7294.000000</td>\n",
       "      <td>6.000000</td>\n",
       "    </tr>\n",
       "  </tbody>\n",
       "</table>\n",
       "</div>"
      ],
      "text/plain": [
       "       resolution_code   status_code  quantity_of_votes  quantity_of_comments  \\\n",
       "count          51781.0  51781.000000       51781.000000          51781.000000   \n",
       "mean               1.0      4.409957           0.078832              8.664896   \n",
       "std                0.0      0.807380           1.303383             12.267116   \n",
       "min                1.0      4.000000           0.000000              0.000000   \n",
       "25%                1.0      4.000000           0.000000              3.000000   \n",
       "50%                1.0      4.000000           0.000000              6.000000   \n",
       "75%                1.0      4.000000           0.000000             10.000000   \n",
       "max                1.0      6.000000         101.000000            810.000000   \n",
       "\n",
       "       bug_fix_time  severity_code  \n",
       "count  51781.000000   51781.000000  \n",
       "mean     254.561982       2.355710  \n",
       "std      542.361709       0.987261  \n",
       "min       -1.000000       0.000000  \n",
       "25%        3.000000       2.000000  \n",
       "50%       29.000000       2.000000  \n",
       "75%      235.000000       2.000000  \n",
       "max     7294.000000       6.000000  "
      ]
     },
     "execution_count": 40,
     "metadata": {},
     "output_type": "execute_result"
    }
   ],
   "source": [
    "bug_reports_all_data.describe()"
   ]
  },
  {
   "cell_type": "code",
   "execution_count": 41,
   "metadata": {},
   "outputs": [
    {
     "data": {
      "text/html": [
       "<div>\n",
       "<style scoped>\n",
       "    .dataframe tbody tr th:only-of-type {\n",
       "        vertical-align: middle;\n",
       "    }\n",
       "\n",
       "    .dataframe tbody tr th {\n",
       "        vertical-align: top;\n",
       "    }\n",
       "\n",
       "    .dataframe thead th {\n",
       "        text-align: right;\n",
       "    }\n",
       "</style>\n",
       "<table border=\"1\" class=\"dataframe\">\n",
       "  <thead>\n",
       "    <tr style=\"text-align: right;\">\n",
       "      <th></th>\n",
       "      <th>bug_id</th>\n",
       "      <th>creation_date</th>\n",
       "      <th>component_name</th>\n",
       "      <th>product_name</th>\n",
       "      <th>short_description</th>\n",
       "      <th>long_description</th>\n",
       "      <th>assignee_name</th>\n",
       "      <th>reporter_name</th>\n",
       "      <th>resolution_category</th>\n",
       "      <th>resolution_code</th>\n",
       "      <th>status_category</th>\n",
       "      <th>status_code</th>\n",
       "      <th>update_date</th>\n",
       "      <th>quantity_of_votes</th>\n",
       "      <th>quantity_of_comments</th>\n",
       "      <th>resolution_date</th>\n",
       "      <th>bug_fix_time</th>\n",
       "      <th>severity_category</th>\n",
       "      <th>severity_code</th>\n",
       "      <th>project</th>\n",
       "    </tr>\n",
       "  </thead>\n",
       "  <tbody>\n",
       "  </tbody>\n",
       "</table>\n",
       "</div>"
      ],
      "text/plain": [
       "Empty DataFrame\n",
       "Columns: [bug_id, creation_date, component_name, product_name, short_description, long_description, assignee_name, reporter_name, resolution_category, resolution_code, status_category, status_code, update_date, quantity_of_votes, quantity_of_comments, resolution_date, bug_fix_time, severity_category, severity_code, project]\n",
       "Index: []"
      ]
     },
     "execution_count": 41,
     "metadata": {},
     "output_type": "execute_result"
    }
   ],
   "source": [
    "bug_reports_all_data.drop(bug_reports_all_data.loc[bug_reports_all_data['bug_fix_time'] < 0].index, inplace=True)\n",
    "bug_reports_all_data.loc[bug_reports_all_data['bug_fix_time'] < 0]"
   ]
  },
  {
   "cell_type": "code",
   "execution_count": 42,
   "metadata": {},
   "outputs": [
    {
     "data": {
      "text/html": [
       "<div>\n",
       "<style scoped>\n",
       "    .dataframe tbody tr th:only-of-type {\n",
       "        vertical-align: middle;\n",
       "    }\n",
       "\n",
       "    .dataframe tbody tr th {\n",
       "        vertical-align: top;\n",
       "    }\n",
       "\n",
       "    .dataframe thead th {\n",
       "        text-align: right;\n",
       "    }\n",
       "</style>\n",
       "<table border=\"1\" class=\"dataframe\">\n",
       "  <thead>\n",
       "    <tr style=\"text-align: right;\">\n",
       "      <th></th>\n",
       "      <th>Key</th>\n",
       "      <th>Who</th>\n",
       "      <th>When</th>\n",
       "      <th>What</th>\n",
       "      <th>Removed</th>\n",
       "      <th>Added</th>\n",
       "    </tr>\n",
       "  </thead>\n",
       "  <tbody>\n",
       "    <tr>\n",
       "      <th>0</th>\n",
       "      <td>EMF-354412</td>\n",
       "      <td>stepper</td>\n",
       "      <td>2011-08-10</td>\n",
       "      <td>status</td>\n",
       "      <td>new</td>\n",
       "      <td>assigned</td>\n",
       "    </tr>\n",
       "    <tr>\n",
       "      <th>1</th>\n",
       "      <td>EMF-354412</td>\n",
       "      <td>stepper</td>\n",
       "      <td>2011-08-10</td>\n",
       "      <td>assignee</td>\n",
       "      <td>emf.cdo-inbox</td>\n",
       "      <td>stepper</td>\n",
       "    </tr>\n",
       "    <tr>\n",
       "      <th>2</th>\n",
       "      <td>EMF-354412</td>\n",
       "      <td>stepper</td>\n",
       "      <td>2011-08-10</td>\n",
       "      <td>status</td>\n",
       "      <td>assigned</td>\n",
       "      <td>resolved</td>\n",
       "    </tr>\n",
       "    <tr>\n",
       "      <th>3</th>\n",
       "      <td>EMF-354412</td>\n",
       "      <td>stepper</td>\n",
       "      <td>2011-08-10</td>\n",
       "      <td>resolution</td>\n",
       "      <td>---</td>\n",
       "      <td>fixed</td>\n",
       "    </tr>\n",
       "    <tr>\n",
       "      <th>4</th>\n",
       "      <td>EMF-354412</td>\n",
       "      <td>stepper</td>\n",
       "      <td>2012-09-21</td>\n",
       "      <td>status</td>\n",
       "      <td>resolved</td>\n",
       "      <td>closed</td>\n",
       "    </tr>\n",
       "  </tbody>\n",
       "</table>\n",
       "</div>"
      ],
      "text/plain": [
       "          Key      Who        When        What        Removed     Added\n",
       "0  EMF-354412  stepper  2011-08-10      status            new  assigned\n",
       "1  EMF-354412  stepper  2011-08-10    assignee  emf.cdo-inbox   stepper\n",
       "2  EMF-354412  stepper  2011-08-10      status       assigned  resolved\n",
       "3  EMF-354412  stepper  2011-08-10  resolution            ---     fixed\n",
       "4  EMF-354412  stepper  2012-09-21      status       resolved    closed"
      ]
     },
     "execution_count": 42,
     "metadata": {},
     "output_type": "execute_result"
    }
   ],
   "source": [
    "bug_reports_all_history_data.head()"
   ]
  },
  {
   "cell_type": "markdown",
   "metadata": {},
   "source": [
    "## Step 4. Pre-processing the data"
   ]
  },
  {
   "cell_type": "code",
   "execution_count": 43,
   "metadata": {},
   "outputs": [],
   "source": [
    "bug_reports_all_data['short_description'] = bug_reports_all_data['short_description'].fillna(\"\")\n",
    "bug_reports_all_data['long_description']  = bug_reports_all_data['long_description'].fillna(\"\")\n",
    "bug_reports_all_data['short_description_words'] = bug_reports_all_data['short_description'].str.split().apply(lambda l: len(l))\n",
    "bug_reports_all_data['long_description_words']  = bug_reports_all_data['long_description'].str.split().apply(lambda l: len(l))\n",
    "bug_reports_all_data['long_lived?']  = bug_reports_all_data['bug_fix_time'].apply(lambda t: 'long-lived' if t > bug_fix_time_threshold else 'short-lived')\n",
    "\n",
    "bug_reports_all_data.drop(bug_reports_all_data[bug_reports_all_data['severity_category'] == 'not set'].index, inplace=True)\n",
    "bug_reports_all_data.drop(bug_reports_all_data[bug_reports_all_data['bug_fix_time'] < 0 ].index, inplace=True)\n"
   ]
  },
  {
   "cell_type": "code",
   "execution_count": 44,
   "metadata": {},
   "outputs": [
    {
     "data": {
      "text/plain": [
       "Gcc            9998\n",
       "Eclipse        9998\n",
       "Mozilla        9998\n",
       "Gnome          7991\n",
       "Freedesktop    7712\n",
       "Winehq         6073\n",
       "Name: project, dtype: int64"
      ]
     },
     "execution_count": 44,
     "metadata": {},
     "output_type": "execute_result"
    }
   ],
   "source": [
    "bug_reports_all_data['project'].value_counts()"
   ]
  },
  {
   "cell_type": "code",
   "execution_count": 46,
   "metadata": {},
   "outputs": [
    {
     "data": {
      "text/plain": [
       "'Eclipse'"
      ]
     },
     "metadata": {},
     "output_type": "display_data"
    },
    {
     "data": {
      "text/plain": [
       "count    9998.000000\n",
       "mean      108.538708\n",
       "std       317.687949\n",
       "min         0.000000\n",
       "25%         1.000000\n",
       "50%         8.000000\n",
       "75%        63.000000\n",
       "max      4961.000000\n",
       "Name: bug_fix_time, dtype: float64"
      ]
     },
     "metadata": {},
     "output_type": "display_data"
    },
    {
     "name": "stdout",
     "output_type": "stream",
     "text": [
      "Percentiles: 25th=1.000, 75th=63.000, IQR=62.000\n",
      "Identified outliers: 15.203\n"
     ]
    },
    {
     "data": {
      "text/plain": [
       "'Freedesktop'"
      ]
     },
     "metadata": {},
     "output_type": "display_data"
    },
    {
     "data": {
      "text/plain": [
       "count    7712.000000\n",
       "mean      173.236385\n",
       "std       384.633005\n",
       "min         0.000000\n",
       "25%         3.000000\n",
       "50%        28.000000\n",
       "75%       162.000000\n",
       "max      4896.000000\n",
       "Name: bug_fix_time, dtype: float64"
      ]
     },
     "metadata": {},
     "output_type": "display_data"
    },
    {
     "name": "stdout",
     "output_type": "stream",
     "text": [
      "Percentiles: 25th=3.000, 75th=162.000, IQR=159.000\n",
      "Identified outliers: 12.254\n"
     ]
    },
    {
     "data": {
      "text/plain": [
       "'Gnome'"
      ]
     },
     "metadata": {},
     "output_type": "display_data"
    },
    {
     "data": {
      "text/plain": [
       "count    7991.000000\n",
       "mean      202.465524\n",
       "std       475.371999\n",
       "min         0.000000\n",
       "25%         2.000000\n",
       "50%        23.000000\n",
       "75%       162.000000\n",
       "max      5577.000000\n",
       "Name: bug_fix_time, dtype: float64"
      ]
     },
     "metadata": {},
     "output_type": "display_data"
    },
    {
     "name": "stdout",
     "output_type": "stream",
     "text": [
      "Percentiles: 25th=2.000, 75th=162.000, IQR=160.000\n",
      "Identified outliers: 13.302\n"
     ]
    },
    {
     "data": {
      "text/plain": [
       "'Mozilla'"
      ]
     },
     "metadata": {},
     "output_type": "display_data"
    },
    {
     "data": {
      "text/plain": [
       "count    9998.000000\n",
       "mean      278.055011\n",
       "std       661.505883\n",
       "min         0.000000\n",
       "25%         3.000000\n",
       "50%        24.000000\n",
       "75%       187.750000\n",
       "max      7294.000000\n",
       "Name: bug_fix_time, dtype: float64"
      ]
     },
     "metadata": {},
     "output_type": "display_data"
    },
    {
     "name": "stdout",
     "output_type": "stream",
     "text": [
      "Percentiles: 25th=3.000, 75th=187.750, IQR=184.750\n",
      "Identified outliers: 15.503\n"
     ]
    },
    {
     "data": {
      "text/plain": [
       "'Gcc'"
      ]
     },
     "metadata": {},
     "output_type": "display_data"
    },
    {
     "data": {
      "text/plain": [
       "count    9998.000000\n",
       "mean      337.904081\n",
       "std       591.241826\n",
       "min         0.000000\n",
       "25%         5.000000\n",
       "50%        63.000000\n",
       "75%       475.000000\n",
       "max      6898.000000\n",
       "Name: bug_fix_time, dtype: float64"
      ]
     },
     "metadata": {},
     "output_type": "display_data"
    },
    {
     "name": "stdout",
     "output_type": "stream",
     "text": [
      "Percentiles: 25th=5.000, 75th=475.000, IQR=470.000\n",
      "Identified outliers: 6.181\n"
     ]
    },
    {
     "data": {
      "text/plain": [
       "'Winehq'"
      ]
     },
     "metadata": {},
     "output_type": "display_data"
    },
    {
     "data": {
      "text/plain": [
       "count    6073.00000\n",
       "mean      491.18327\n",
       "std       667.48611\n",
       "min         0.00000\n",
       "25%        22.00000\n",
       "50%       220.00000\n",
       "75%       709.00000\n",
       "max      5636.00000\n",
       "Name: bug_fix_time, dtype: float64"
      ]
     },
     "metadata": {},
     "output_type": "display_data"
    },
    {
     "name": "stdout",
     "output_type": "stream",
     "text": [
      "Percentiles: 25th=22.000, 75th=709.000, IQR=687.000\n",
      "Identified outliers: 6.158\n"
     ]
    }
   ],
   "source": [
    "from numpy import percentile\n",
    "for project in projects:\n",
    "    display(project)\n",
    "    bug_reports_data = bug_reports_all_data.loc[bug_reports_all_data['project']==project]\n",
    "    display(bug_reports_data['bug_fix_time'].describe())\n",
    "    q25, q75 = percentile(bug_reports_data['bug_fix_time'], 25), percentile(bug_reports_data['bug_fix_time'], 75)\n",
    "    iqr = q75 - q25\n",
    "    cut_off = iqr * 1.5\n",
    "    lower, upper = q25 - cut_off, q75 + cut_off\n",
    "    \n",
    "    print('Percentiles: 25th=%.3f, 75th=%.3f, IQR=%.3f' % (q25, q75, iqr))\n",
    "    outliers =  [x for x in bug_reports_data['bug_fix_time'] if x < lower or x > upper]\n",
    "    # identify outliers\n",
    "    outliers = [x for x in bug_reports_data['bug_fix_time'] if x < lower or x > upper]\n",
    "    print('Identified outliers: %.3f' % (len(outliers)/len(bug_reports_data)*100))"
   ]
  },
  {
   "cell_type": "code",
   "execution_count": 30,
   "metadata": {},
   "outputs": [
    {
     "data": {
      "text/html": [
       "<div>\n",
       "<style scoped>\n",
       "    .dataframe tbody tr th:only-of-type {\n",
       "        vertical-align: middle;\n",
       "    }\n",
       "\n",
       "    .dataframe tbody tr th {\n",
       "        vertical-align: top;\n",
       "    }\n",
       "\n",
       "    .dataframe thead tr th {\n",
       "        text-align: left;\n",
       "    }\n",
       "\n",
       "    .dataframe thead tr:last-of-type th {\n",
       "        text-align: right;\n",
       "    }\n",
       "</style>\n",
       "<table border=\"1\" class=\"dataframe\">\n",
       "  <thead>\n",
       "    <tr>\n",
       "      <th></th>\n",
       "      <th colspan=\"2\" halign=\"left\">creation_date</th>\n",
       "    </tr>\n",
       "    <tr>\n",
       "      <th></th>\n",
       "      <th>amin</th>\n",
       "      <th>amax</th>\n",
       "    </tr>\n",
       "    <tr>\n",
       "      <th>project</th>\n",
       "      <th></th>\n",
       "      <th></th>\n",
       "    </tr>\n",
       "  </thead>\n",
       "  <tbody>\n",
       "    <tr>\n",
       "      <th>Eclipse</th>\n",
       "      <td>2001-10-10</td>\n",
       "      <td>2018-01-30</td>\n",
       "    </tr>\n",
       "    <tr>\n",
       "      <th>Freedesktop</th>\n",
       "      <td>2003-02-05</td>\n",
       "      <td>2019-08-15</td>\n",
       "    </tr>\n",
       "    <tr>\n",
       "      <th>Gcc</th>\n",
       "      <td>1999-08-26</td>\n",
       "      <td>2018-01-31</td>\n",
       "    </tr>\n",
       "    <tr>\n",
       "      <th>Gnome</th>\n",
       "      <td>1999-01-02</td>\n",
       "      <td>2018-01-24</td>\n",
       "    </tr>\n",
       "    <tr>\n",
       "      <th>Mozilla</th>\n",
       "      <td>1998-04-15</td>\n",
       "      <td>2014-04-22</td>\n",
       "    </tr>\n",
       "    <tr>\n",
       "      <th>Winehq</th>\n",
       "      <td>2000-09-27</td>\n",
       "      <td>2018-04-17</td>\n",
       "    </tr>\n",
       "  </tbody>\n",
       "</table>\n",
       "</div>"
      ],
      "text/plain": [
       "            creation_date            \n",
       "                     amin        amax\n",
       "project                              \n",
       "Eclipse        2001-10-10  2018-01-30\n",
       "Freedesktop    2003-02-05  2019-08-15\n",
       "Gcc            1999-08-26  2018-01-31\n",
       "Gnome          1999-01-02  2018-01-24\n",
       "Mozilla        1998-04-15  2014-04-22\n",
       "Winehq         2000-09-27  2018-04-17"
      ]
     },
     "execution_count": 30,
     "metadata": {},
     "output_type": "execute_result"
    }
   ],
   "source": [
    "bug_reports_all_data.groupby('project').agg({'creation_date':[np.min, np.max]})"
   ]
  },
  {
   "cell_type": "markdown",
   "metadata": {},
   "source": [
    "### Step 5. Bug Fixing Time Distribution\n"
   ]
  },
  {
   "cell_type": "code",
   "execution_count": 69,
   "metadata": {},
   "outputs": [
    {
     "data": {
      "text/plain": [
       "<Figure size 640x480 with 0 Axes>"
      ]
     },
     "metadata": {},
     "output_type": "display_data"
    },
    {
     "data": {
      "image/png": "[encoded data removed]",
      "text/plain": [
       "<Figure size 800x500 with 1 Axes>"
      ]
     },
     "metadata": {},
     "output_type": "display_data"
    }
   ],
   "source": [
    "from matplotlib.ticker import (AutoMinorLocator, MultipleLocator)\n",
    "sns.despine(offset=10)\n",
    "sns.set_style(\"ticks\")\n",
    "threshold = 8000\n",
    "\n",
    "fig, ax = plt.subplots(figsize=(8, 5))\n",
    "df = bug_reports_all_data.loc[(bug_reports_all_data[\"bug_fix_time\"] < threshold)] \n",
    "g  = sns.boxplot(data=df, x=\"bug_fix_time\", y=\"project\", palette=\"Set2\", ax=ax, showfliers = True, flierprops = dict(markerfacecolor = '.10', markersize = 2))\n",
    "plt.ylabel(\"\", fontsize= 12)\n",
    "plt.xlabel(\"Bug-Fixing Time (days)\", fontsize= 12)\n",
    "plt.title(\"\", fontsize= 15)\n",
    "ax.yaxis.grid(True)\n",
    "ax.grid(which='major', color='#CCCCCC', linestyle='--')\n",
    "ax.grid(which='minor', color='#CCCCCC', linestyle=':')\n",
    "ax.xaxis.set_major_locator(MultipleLocator(1000))\n",
    "ax.xaxis.set_minor_locator(AutoMinorLocator(10))\n",
    "ax.set(xlim=( -10, threshold))\n",
    "sns.despine(trim=True, left=True)\n",
    "plt.savefig(f\"figures/rq2-bug-fix-time-distribution.pdf\", format=\"pdf\", dpi=600, bbox_inches='tight')"
   ]
  },
  {
   "cell_type": "code",
   "execution_count": 23,
   "metadata": {},
   "outputs": [
    {
     "data": {
      "text/plain": [
       "<matplotlib.axes._subplots.AxesSubplot at 0x7f0f40449640>"
      ]
     },
     "execution_count": 23,
     "metadata": {},
     "output_type": "execute_result"
    },
    {
     "data": {
      "image/png": "[encoded data removed]",
      "text/plain": [
       "<Figure size 1500x600 with 1 Axes>"
      ]
     },
     "metadata": {},
     "output_type": "display_data"
    }
   ],
   "source": [
    "fig, ax   = plt.subplots(figsize=(15, 6))\n",
    "eclipse   = bug_reports_all_data.loc[(bug_reports_all_data[\"project\"]==\"eclipse\") & (bug_reports_all_data[\"bug_fix_time\"] < threshold)][\"bug_fix_time\"] \n",
    "sns.distplot(eclipse, hist=False, label=\"eclipse\")\n",
    "freedesktop = bug_reports_all_data.loc[(bug_reports_all_data[\"project\"]==\"freedesktop\") & (bug_reports_all_data[\"bug_fix_time\"] < threshold)][\"bug_fix_time\"] \n",
    "sns.distplot(freedesktop, hist=False, label=\"freedesktop\")\n",
    "gcc = bug_reports_all_data.loc[(bug_reports_all_data[\"project\"]==\"gcc\") & (bug_reports_all_data[\"bug_fix_time\"] < threshold)][\"bug_fix_time\"] \n",
    "sns.distplot(gcc, hist=False, label=\"gcc\")\n",
    "gnome = bug_reports_all_data.loc[(bug_reports_all_data[\"project\"]==\"gnome\") & (bug_reports_all_data[\"bug_fix_time\"] < threshold)][\"bug_fix_time\"] \n",
    "sns.distplot(gnome, hist=False, label=\"gnome\")\n",
    "mozilla = bug_reports_all_data.loc[(bug_reports_all_data[\"project\"]==\"mozilla\") & (bug_reports_all_data[\"bug_fix_time\"] < threshold)][\"bug_fix_time\"] \n",
    "sns.distplot(mozilla, hist=False, label=\"mozilla\")\n",
    "winehq = bug_reports_all_data.loc[(bug_reports_all_data[\"project\"]==\"winehq\") & (bug_reports_all_data[\"bug_fix_time\"] < threshold)][\"bug_fix_time\"] \n",
    "sns.distplot(winehq, hist=False, label=\"winehq\")"
   ]
  },
  {
   "cell_type": "code",
   "execution_count": 76,
   "metadata": {},
   "outputs": [
    {
     "data": {
      "text/plain": [
       "<seaborn.axisgrid.FacetGrid at 0x7f8084c7f9d0>"
      ]
     },
     "execution_count": 76,
     "metadata": {},
     "output_type": "execute_result"
    },
    {
     "data": {
      "image/png": "[encoded data removed]",
      "text/plain": [
       "<Figure size 1500x1500 with 6 Axes>"
      ]
     },
     "metadata": {},
     "output_type": "display_data"
    }
   ],
   "source": [
    "# Long-lived? histogram distribution\n",
    "def plot_hist(v, color=None):\n",
    "    m = np.median(v)\n",
    "    b = np.arange(0, 365, 30)\n",
    "    sns.despine(offset=10)\n",
    "    plt.axvline(m, color='tab:red', linestyle='--', linewidth=2.5)\n",
    "    plt.text(m + 3.0, 10250, f\"median:{m}\", bbox=dict(facecolor='tab:red', alpha=0.5))\n",
    "    plt.hist(v, bins=b, color='tab:blue')\n",
    "\n",
    "# plot histograms\n",
    "g = sns.FacetGrid(bug_reports_all_data, col=\"project\"\n",
    "                  , col_order=projects\n",
    "                  , col_wrap=2, height=5, aspect=1.5)\n",
    "g = g.map(plot_hist, \"bug_fix_time\")\n",
    "g.set_titles(\"{col_name}\")\n",
    "g.set_axis_labels(\"bug-fixing time\", \"count\")\n",
    "g.set(ylim=(0, 10000), xlim=(0, 365), xticks=list(range(0, 365, 365)))\n"
   ]
  },
  {
   "cell_type": "markdown",
   "metadata": {},
   "source": [
    "### Step 5. How frequent are long-lived bugs?"
   ]
  },
  {
   "cell_type": "code",
   "execution_count": 12,
   "metadata": {},
   "outputs": [],
   "source": [
    "def plot_pyramid (data, column, filename):\n",
    "  \n",
    "    top_g = data.groupby(column)[column].agg(['count'])\n",
    "    top_s = top_g.sort_values('count', ascending=False)\n",
    "    top_n = data.loc[data[column].isin(top_s.index)].groupby(column)['long_lived?'].value_counts(normalize=True).unstack()\n",
    "    top_n.fillna(0, inplace=True)\n",
    "    \n",
    "    top_n.reset_index(inplace=True)\n",
    "    top_n = top_n.sort_values('long-lived', ascending=True)\n",
    "    \n",
    "    print(top_n)\n",
    "    \n",
    "    fig, axes = plt.subplots(figsize=(10, 10), ncols=2, sharey=False, gridspec_kw = {'wspace':0, 'hspace':0})\n",
    "\n",
    "    plt.rcParams[\"axes.grid.axis\"] =\"x\"\n",
    "    plt.rcParams[\"axes.grid\"] = True\n",
    "\n",
    "    sns.despine(offset=0.5)\n",
    "    sns.barplot(x=\"long-lived\", y=column, color=\"tab:red\", ax=axes[0], data=top_n)\n",
    "    sns.barplot(x=\"short-lived\", y=column,  color=\"tab:blue\", ax=axes[1], data=top_n)\n",
    "    \n",
    "    axes[0].set(xlim=(0, 1))\n",
    "    axes[0].invert_xaxis()\n",
    "    axes[0].spines['left'].set_visible(False)\n",
    "    axes[0].tick_params(axis=\"x\", labelsize=MEDIUM_SIZE+3)\n",
    "    axes[0].tick_params(axis=\"y\", labelsize=MEDIUM_SIZE+3)\n",
    "    axes[0].set_ylabel(column.title().replace(\"_\", \" \").replace(\"Category\", \"Level\"), fontsize=MEDIUM_SIZE+2)\n",
    "    axes[0].set_xlabel(\"Long-lived\", fontsize=MEDIUM_SIZE+3)    \n",
    "    axes[0].set_xticklabels(['{:,.0%}'.format(x) for x in axes[0].get_xticks()])\n",
    "    \n",
    "    axes[1].set(xlim=(0, 1))\n",
    "    axes[1].set_yticks([])\n",
    "    axes[1].set(ylabel=\"\")\n",
    "    axes[1].tick_params(axis=\"x\", labelsize=MEDIUM_SIZE+3)\n",
    "    axes[1].set_xlabel(\"Short-lived\", fontsize=MEDIUM_SIZE+3)\n",
    "    axes[1].set_xticklabels(['{:,.0%}'.format(x) for x in axes[1].get_xticks()])\n",
    "    \n",
    "    #sns.despine(offset=0.5)\n",
    "    s = axes[1].twinx()\n",
    "    labels = [i.get_text() for i in axes[0].get_yticklabels()]\n",
    "    labels_new = [top_s.loc[top_s.index==i, 'count'].values[0] for i in labels]\n",
    "    s.set_yticks(axes[0].get_yticks())\n",
    "    s.set_ylim(axes[0].get_ylim())\n",
    "    s.set_yticklabels(labels_new)\n",
    "    s.tick_params(axis=\"y\", labelsize=MEDIUM_SIZE+3)\n",
    "    \n",
    "    s.spines['top'].set_visible(False)\n",
    "    s.spines['bottom'].set_visible(False)\n",
    "    s.spines['right'].set_visible(False)\n",
    "    s.spines['left'].set_visible(False)\n",
    "        \n",
    "    #fig.suptitle(project, fontsize=BIGGER_SIZE)\n",
    "    plt.savefig(f\"figures/{filename}\", format=\"pdf\", dpi=600, bbox_inches='tight')\n",
    "\n",
    "def plot_bar (data, filename):\n",
    "    \n",
    "    top_g = data.groupby(\"project\")[\"project\"].agg(['count'])\n",
    "    top_s = top_g.sort_values('count', ascending=False)\n",
    "    top_n = data.loc[data['project'].isin(top_s.index)].groupby('project')['long_lived?'].value_counts(normalize=True).unstack()\n",
    "    \n",
    "    plt.figure(figsize=(20,20))\n",
    "    fig, axis = plt.subplots(figsize=(10, 10)) \n",
    "    \n",
    "    sns.despine(offset=5)\n",
    "    primary   = top_n.plot(kind='barh', stacked='True',  grid='True', color=[\"tab:red\", \"tab:blue\"], ax=axis)\n",
    "    secondary = primary.twinx()\n",
    "    \n",
    "    labels = [i.get_text() for i in primary.get_yticklabels()]\n",
    "    labels_new = [top_s.loc[top_s.index==i, 'count'].values[0] for i in labels]\n",
    "    \n",
    "    primary.set(xlim=(0, 1))\n",
    "    primary.set_xlabel('percentage', fontsize=MEDIUM_SIZE)\n",
    "    primary.set_ylabel('FLOSS Projects', fontsize=MEDIUM_SIZE) \n",
    "    primary.set_title(\"project\", fontsize=BIGGER_SIZE)\n",
    "    primary.tick_params(axis=\"y\", labelsize=MEDIUM_SIZE)\n",
    "    primary.tick_params(axis=\"x\", labelsize=MEDIUM_SIZE)\n",
    "    \n",
    "    secondary.set_yticks(primary.get_yticks())\n",
    "    secondary.set_ylim(primary.get_ylim())\n",
    "    secondary.set_yticklabels(labels_new)\n",
    "    secondary.tick_params(axis=\"y\", labelsize=MEDIUM_SIZE)\n",
    "    \n",
    "    plt.savefig(f\"figures/{filename}\", format=\"pdf\", dpi=600, bbox_inches='tight')\n"
   ]
  },
  {
   "cell_type": "code",
   "execution_count": 20,
   "metadata": {},
   "outputs": [
    {
     "name": "stdout",
     "output_type": "stream",
     "text": [
      "long_lived?      project  long-lived  short-lived\n",
      "0                eclipse    0.076615     0.923385\n",
      "1            freedesktop    0.136411     0.863589\n",
      "3                  gnome    0.144162     0.855838\n",
      "4                mozilla    0.180636     0.819364\n",
      "2                    gcc    0.291558     0.708442\n",
      "5                 winehq    0.406883     0.593117\n"
     ]
    },
    {
     "data": {
      "image/png": "[encoded data removed]",
      "text/plain": [
       "<Figure size 720x720 with 3 Axes>"
      ]
     },
     "metadata": {},
     "output_type": "display_data"
    }
   ],
   "source": [
    "plot_pyramid(bug_reports_all_data, 'project', 'rq2-all-percentage-of-long-lived-bugs.pdf')"
   ]
  },
  {
   "cell_type": "code",
   "execution_count": 14,
   "metadata": {},
   "outputs": [
    {
     "data": {
      "image/png": "[encoded data removed]",
      "text/plain": [
       "<Figure size 252x252 with 1 Axes>"
      ]
     },
     "metadata": {},
     "output_type": "display_data"
    },
    {
     "data": {
      "image/png": "[encoded data removed]",
      "text/plain": [
       "<Figure size 252x252 with 1 Axes>"
      ]
     },
     "metadata": {},
     "output_type": "display_data"
    },
    {
     "data": {
      "image/png": "[encoded data removed]",
      "text/plain": [
       "<Figure size 252x252 with 1 Axes>"
      ]
     },
     "metadata": {},
     "output_type": "display_data"
    },
    {
     "data": {
      "image/png": "[encoded data removed]",
      "text/plain": [
       "<Figure size 252x252 with 1 Axes>"
      ]
     },
     "metadata": {},
     "output_type": "display_data"
    },
    {
     "data": {
      "image/png": "[encoded data removed]",
      "text/plain": [
       "<Figure size 252x252 with 1 Axes>"
      ]
     },
     "metadata": {},
     "output_type": "display_data"
    },
    {
     "data": {
      "image/png": "[encoded data removed]",
      "text/plain": [
       "<Figure size 252x252 with 1 Axes>"
      ]
     },
     "metadata": {},
     "output_type": "display_data"
    }
   ],
   "source": [
    "\n",
    "for project in projects:\n",
    "    # group data by project\n",
    "    counts_by_project  = bug_reports_all_data.loc[bug_reports_all_data['project']==project]['long_lived?'].value_counts()\n",
    "\n",
    "    # plot pie charts\n",
    "    sns.set_context(\"paper\")\n",
    "    sns.set(style=\"ticks\", color_codes=True)\n",
    "    fig = plt.figure(figsize=(3.5,3.5))\n",
    "    plt.pie(counts_by_project, autopct='%1.1f%%', labels=counts_by_project.index, colors=['tab:blue', 'tab:red'])\n",
    "    #plt.title(project.title())\n",
    "    plt.xlabel('')\n",
    "    plt.ylabel('')\n",
    "    plt.savefig(f\"figures/rq2-{project}-percentage-of-long-lived-bugs.pdf\", format=\"pdf\", dpi=fig.dpi, bbox_inches='tight', pad_inches=0)\n",
    "    "
   ]
  }
 ],
 "metadata": {
  "kernelspec": {
   "display_name": "Python 3",
   "language": "python",
   "name": "python3"
  },
  "language_info": {
   "codemirror_mode": {
    "name": "ipython",
    "version": 3
   },
   "file_extension": ".py",
   "mimetype": "text/x-python",
   "name": "python",
   "nbconvert_exporter": "python",
   "pygments_lexer": "ipython3",
   "version": "3.8.5"
  }
 },
 "nbformat": 4,
 "nbformat_minor": 2
}
