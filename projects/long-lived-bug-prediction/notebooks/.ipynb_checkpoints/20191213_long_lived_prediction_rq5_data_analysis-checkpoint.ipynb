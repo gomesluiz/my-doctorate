{
 "cells": [
  {
   "cell_type": "markdown",
   "metadata": {},
   "source": [
    "# Research Question No. 5\n",
    "This research question aims to investigate the characteristics of groups of bugs for which classifiers yield better accuracy."
   ]
  },
  {
   "cell_type": "markdown",
   "metadata": {},
   "source": [
    "# 1. Experimental parameters"
   ]
  },
  {
   "cell_type": "markdown",
   "metadata": {},
   "source": [
    "\n",
    "| Parameter                  |         Value        |\n",
    "|----------------------------|:--------------------:|\n",
    "| Project                    |        Eclipse, Freedesktop, Gcc, Gnome, Mozilla, WineHQ       |\n",
    "| Algorithms                 | NN |\n",
    "| Metrics                    | Accuracy |\n",
    "| Features                   | Long Description |\n",
    "| Number of Terms            |        100       |\n",
    "| Balancing                  |        Smote   |\n",
    "| Resampling                 |        Repeated CV 5 x 2       |\n",
    "| Threshold                  |        365       |\n",
    "\n",
    "\n",
    "\n",
    "\n",
    "\n",
    "\n",
    "\n",
    "\n",
    "Every bug which its report have indicated that the number of days to resolve is less than or equal to **threshold fixed** was considered a **non-long lived bug** and that which the number of days to resolve is greater than this threshold was considered as a **long-live bug**. "
   ]
  },
  {
   "cell_type": "markdown",
   "metadata": {},
   "source": [
    "# 2. Setup environment"
   ]
  },
  {
   "cell_type": "code",
   "execution_count": 47,
   "metadata": {},
   "outputs": [
    {
     "data": {
      "application/javascript": [
       "IPython.OutputArea.prototype._should_scroll = function(lines) {\n",
       "    return false;\n",
       "}\n"
      ],
      "text/plain": [
       "<IPython.core.display.Javascript object>"
      ]
     },
     "metadata": {},
     "output_type": "display_data"
    }
   ],
   "source": [
    "%%javascript\n",
    "IPython.OutputArea.prototype._should_scroll = function(lines) {\n",
    "    return false;\n",
    "}"
   ]
  },
  {
   "cell_type": "code",
   "execution_count": 48,
   "metadata": {},
   "outputs": [
    {
     "name": "stdout",
     "output_type": "stream",
     "text": [
      "Setup complete\n"
     ]
    }
   ],
   "source": [
    "import os \n",
    "import matplotlib.pyplot  as plt \n",
    "import matplotlib.patches as mpatches\n",
    "import numpy as np\n",
    "import pandas as pd\n",
    "import seaborn as sns \n",
    "from wordcloud import WordCloud\n",
    "from scipy.stats import friedmanchisquare\n",
    "from scipy.stats import kruskal\n",
    "\n",
    "# Setup Matplotlib\n",
    "plt.rc('figure', figsize=(20, 20))\n",
    "plt.style.use('default')\n",
    "SMALL_SIZE = 12\n",
    "MEDIUM_SIZE = 15\n",
    "BIGGER_SIZE = 20\n",
    "\n",
    "plt.rc('font', size=SMALL_SIZE)          # controls default text sizes\n",
    "plt.rc('axes', titlesize=SMALL_SIZE)     # fontsize of the axes title\n",
    "plt.rc('axes', labelsize=SMALL_SIZE)    # fontsize of the x and y labels\n",
    "plt.rc('xtick', labelsize=SMALL_SIZE)    # fontsize of the tick labels\n",
    "plt.rc('ytick', labelsize=SMALL_SIZE)    # fontsize of the tick labels\n",
    "plt.rc('legend', fontsize=SMALL_SIZE)    # legend fontsize\n",
    "plt.rc('figure', titlesize=SMALL_SIZE)  # fontsize of the figure title\n",
    "%matplotlib inline \n",
    "\n",
    "# Setup Seaborn\n",
    "sns.set_context(\"paper\")\n",
    "sns.set_style(\"ticks\")\n",
    "\n",
    "pd.set_option('display.max_columns', None)\n",
    "\n",
    "results_gcc_path = \"datasets/20190926143854_rq4e4_gcc_predict_long_lived_tests_balanced_acc.csv\"\n",
    "reports_gcc_path = \"datasets/20190917_gcc_bug_report_data.csv\"\n",
    "\n",
    "results_eclipse_path = \"datasets/20190926143854_rq4e4_eclipse_predict_long_lived_tests_balanced_acc.csv\"\n",
    "reports_eclipse_path = \"datasets/20190917_eclipse_bug_report_data.csv\"\n",
    "\n",
    "print(\"Setup complete\")"
   ]
  },
  {
   "cell_type": "markdown",
   "metadata": {},
   "source": [
    "# 3. Load data"
   ]
  },
  {
   "cell_type": "code",
   "execution_count": 49,
   "metadata": {},
   "outputs": [
    {
     "name": "stdout",
     "output_type": "stream",
     "text": [
      "\n",
      "Header of metrics file datasets/20190917_gcc_bug_report_data.csv\n",
      "bug_id,creation_date,component_name,product_name,short_description,long_description,assignee_name,reporter_name,resolution_category,resolution_code,status_category,status_code,update_date,quantity_of_votes,quantity_of_comments,resolution_date,bug_fix_time,severity_category,severity_code\n",
      "CLASSPATH-26758,2006-03-19,awt,CLASSPATH,GdkFontPeer.getPostScriptFontName unimplemented,The Openstreetmap applet expects java.awt.Font.getPSFontName() to return something non-null.,unassigned,roman,fixed,1,resolved,4,2006-05-20,0,12,2006-05-20,62,normal,2\n",
      "\n",
      "Number of lines in the file datasets/20190917_gcc_bug_report_data.csv\n",
      "489575 datasets/20190917_gcc_bug_report_data.csv\n",
      "\n",
      "Header of metrics file datasets/20190926143854_rq4e4_eclipse_predict_long_lived_tests_balanced_acc.csv\n",
      "bug_id,bug_fix_time,long_lived,y_hat\n",
      "4DIAC-489747,139,Y,N\n",
      "\n",
      "Number of lines in the file datasets/20190926143854_rq4e4_eclipse_predict_long_lived_tests_balanced_acc.csv\n",
      "2409 datasets/20190926143854_rq4e4_eclipse_predict_long_lived_tests_balanced_acc.csv\n"
     ]
    }
   ],
   "source": [
    "    !echo \"\\nHeader of metrics file $reports_gcc_path\"\n",
    "    !head -n 2 $reports_gcc_path\n",
    "\n",
    "    !echo \"\\nNumber of lines in the file $reports_gcc_path\"\n",
    "    !wc -l $reports_gcc_path\n",
    "    \n",
    "    !echo \"\\nHeader of metrics file $results_eclipse_path\"\n",
    "    !head -n 2 $results_eclipse_path\n",
    "\n",
    "    !echo \"\\nNumber of lines in the file $results_eclipse_path\"\n",
    "    !wc -l $results_eclipse_path"
   ]
  },
  {
   "cell_type": "code",
   "execution_count": 50,
   "metadata": {},
   "outputs": [
    {
     "name": "stdout",
     "output_type": "stream",
     "text": [
      "There are 10000 rows and 19 columns in datasets/20190917_gcc_bug_report_data.csv.\n",
      "\n",
      "There are 2480 rows and 4 columns in datasets/20190926143854_rq4e4_gcc_predict_long_lived_tests_balanced_acc.csv.\n",
      "\n",
      "There are 10000 rows and 19 columns in datasets/20190917_eclipse_bug_report_data.csv.\n",
      "\n",
      "There are 2408 rows and 4 columns in datasets/20190926143854_rq4e4_eclipse_predict_long_lived_tests_balanced_acc.csv.\n",
      "\n"
     ]
    }
   ],
   "source": [
    "# read data.\n",
    "reports_gcc_data  = pd.read_csv(reports_gcc_path)\n",
    "rows_and_cols = reports_gcc_data.shape\n",
    "print(f\"There are {rows_and_cols[0]} rows and {rows_and_cols[1]} columns in {reports_gcc_path}.\\n\")\n",
    "\n",
    "results_gcc_data = pd.read_csv(results_gcc_path)\n",
    "rows_and_cols = results_gcc_data.shape\n",
    "print(f\"There are {rows_and_cols[0]} rows and {rows_and_cols[1]} columns in {results_gcc_path}.\\n\")\n",
    "\n",
    "\n",
    "reports_eclipse_data  = pd.read_csv(reports_eclipse_path)\n",
    "rows_and_cols = reports_eclipse_data.shape\n",
    "print(f\"There are {rows_and_cols[0]} rows and {rows_and_cols[1]} columns in {reports_eclipse_path}.\\n\")\n",
    "\n",
    "results_eclipse_data = pd.read_csv(results_eclipse_path)\n",
    "rows_and_cols = results_eclipse_data.shape\n",
    "print(f\"There are {rows_and_cols[0]} rows and {rows_and_cols[1]} columns in {results_eclipse_path}.\\n\")\n"
   ]
  },
  {
   "cell_type": "markdown",
   "metadata": {},
   "source": [
    "# 4. Test Results Analysis"
   ]
  },
  {
   "cell_type": "markdown",
   "metadata": {},
   "source": [
    "### 4.1 Review data"
   ]
  },
  {
   "cell_type": "code",
   "execution_count": 51,
   "metadata": {},
   "outputs": [
    {
     "data": {
      "text/html": [
       "<div>\n",
       "<style scoped>\n",
       "    .dataframe tbody tr th:only-of-type {\n",
       "        vertical-align: middle;\n",
       "    }\n",
       "\n",
       "    .dataframe tbody tr th {\n",
       "        vertical-align: top;\n",
       "    }\n",
       "\n",
       "    .dataframe thead th {\n",
       "        text-align: right;\n",
       "    }\n",
       "</style>\n",
       "<table border=\"1\" class=\"dataframe\">\n",
       "  <thead>\n",
       "    <tr style=\"text-align: right;\">\n",
       "      <th></th>\n",
       "      <th>bug_id</th>\n",
       "      <th>bug_fix_time</th>\n",
       "      <th>long_lived</th>\n",
       "      <th>y_hat</th>\n",
       "    </tr>\n",
       "  </thead>\n",
       "  <tbody>\n",
       "    <tr>\n",
       "      <td>0</td>\n",
       "      <td>CLASSPATH-16983</td>\n",
       "      <td>15</td>\n",
       "      <td>N</td>\n",
       "      <td>N</td>\n",
       "    </tr>\n",
       "    <tr>\n",
       "      <td>1</td>\n",
       "      <td>CLASSPATH-17008</td>\n",
       "      <td>342</td>\n",
       "      <td>N</td>\n",
       "      <td>N</td>\n",
       "    </tr>\n",
       "    <tr>\n",
       "      <td>2</td>\n",
       "      <td>CLASSPATH-17060</td>\n",
       "      <td>337</td>\n",
       "      <td>N</td>\n",
       "      <td>N</td>\n",
       "    </tr>\n",
       "    <tr>\n",
       "      <td>3</td>\n",
       "      <td>CLASSPATH-18312</td>\n",
       "      <td>5</td>\n",
       "      <td>N</td>\n",
       "      <td>N</td>\n",
       "    </tr>\n",
       "    <tr>\n",
       "      <td>4</td>\n",
       "      <td>CLASSPATH-21635</td>\n",
       "      <td>96</td>\n",
       "      <td>N</td>\n",
       "      <td>N</td>\n",
       "    </tr>\n",
       "  </tbody>\n",
       "</table>\n",
       "</div>"
      ],
      "text/plain": [
       "            bug_id  bug_fix_time long_lived y_hat\n",
       "0  CLASSPATH-16983            15          N     N\n",
       "1  CLASSPATH-17008           342          N     N\n",
       "2  CLASSPATH-17060           337          N     N\n",
       "3  CLASSPATH-18312             5          N     N\n",
       "4  CLASSPATH-21635            96          N     N"
      ]
     },
     "execution_count": 51,
     "metadata": {},
     "output_type": "execute_result"
    }
   ],
   "source": [
    "results_gcc_data.head()"
   ]
  },
  {
   "cell_type": "code",
   "execution_count": 52,
   "metadata": {},
   "outputs": [],
   "source": [
    "reports_gcc_data['long_lived_observed']  = reports_gcc_data['bug_fix_time'].apply(lambda t: 'long-lived' if t > 365 else 'short-lived')"
   ]
  },
  {
   "cell_type": "code",
   "execution_count": 64,
   "metadata": {},
   "outputs": [
    {
     "data": {
      "text/html": [
       "<div>\n",
       "<style scoped>\n",
       "    .dataframe tbody tr th:only-of-type {\n",
       "        vertical-align: middle;\n",
       "    }\n",
       "\n",
       "    .dataframe tbody tr th {\n",
       "        vertical-align: top;\n",
       "    }\n",
       "\n",
       "    .dataframe thead th {\n",
       "        text-align: right;\n",
       "    }\n",
       "</style>\n",
       "<table border=\"1\" class=\"dataframe\">\n",
       "  <thead>\n",
       "    <tr style=\"text-align: right;\">\n",
       "      <th></th>\n",
       "      <th>bug_fix_time</th>\n",
       "      <th>long_lived_observed</th>\n",
       "    </tr>\n",
       "  </thead>\n",
       "  <tbody>\n",
       "    <tr>\n",
       "      <td>0</td>\n",
       "      <td>62</td>\n",
       "      <td>short-lived</td>\n",
       "    </tr>\n",
       "    <tr>\n",
       "      <td>1</td>\n",
       "      <td>2</td>\n",
       "      <td>short-lived</td>\n",
       "    </tr>\n",
       "    <tr>\n",
       "      <td>2</td>\n",
       "      <td>1089</td>\n",
       "      <td>long-lived</td>\n",
       "    </tr>\n",
       "    <tr>\n",
       "      <td>3</td>\n",
       "      <td>11</td>\n",
       "      <td>short-lived</td>\n",
       "    </tr>\n",
       "    <tr>\n",
       "      <td>4</td>\n",
       "      <td>62</td>\n",
       "      <td>short-lived</td>\n",
       "    </tr>\n",
       "  </tbody>\n",
       "</table>\n",
       "</div>"
      ],
      "text/plain": [
       "   bug_fix_time long_lived_observed\n",
       "0            62         short-lived\n",
       "1             2         short-lived\n",
       "2          1089          long-lived\n",
       "3            11         short-lived\n",
       "4            62         short-lived"
      ]
     },
     "execution_count": 64,
     "metadata": {},
     "output_type": "execute_result"
    }
   ],
   "source": [
    "reports_gcc_data[['bug_fix_time', 'long_lived_observed']].head()"
   ]
  },
  {
   "cell_type": "code",
   "execution_count": 60,
   "metadata": {},
   "outputs": [
    {
     "data": {
      "text/html": [
       "<div>\n",
       "<style scoped>\n",
       "    .dataframe tbody tr th:only-of-type {\n",
       "        vertical-align: middle;\n",
       "    }\n",
       "\n",
       "    .dataframe tbody tr th {\n",
       "        vertical-align: top;\n",
       "    }\n",
       "\n",
       "    .dataframe thead th {\n",
       "        text-align: right;\n",
       "    }\n",
       "</style>\n",
       "<table border=\"1\" class=\"dataframe\">\n",
       "  <thead>\n",
       "    <tr style=\"text-align: right;\">\n",
       "      <th></th>\n",
       "      <th>bug_id</th>\n",
       "      <th>bug_fix_time</th>\n",
       "      <th>long_lived</th>\n",
       "      <th>y_hat</th>\n",
       "    </tr>\n",
       "  </thead>\n",
       "  <tbody>\n",
       "    <tr>\n",
       "      <td>0</td>\n",
       "      <td>4DIAC-489747</td>\n",
       "      <td>139</td>\n",
       "      <td>Y</td>\n",
       "      <td>N</td>\n",
       "    </tr>\n",
       "    <tr>\n",
       "      <td>1</td>\n",
       "      <td>4DIAC-495630</td>\n",
       "      <td>38</td>\n",
       "      <td>Y</td>\n",
       "      <td>Y</td>\n",
       "    </tr>\n",
       "    <tr>\n",
       "      <td>2</td>\n",
       "      <td>4DIAC-500078</td>\n",
       "      <td>38</td>\n",
       "      <td>Y</td>\n",
       "      <td>Y</td>\n",
       "    </tr>\n",
       "    <tr>\n",
       "      <td>3</td>\n",
       "      <td>4DIAC-511266</td>\n",
       "      <td>0</td>\n",
       "      <td>N</td>\n",
       "      <td>N</td>\n",
       "    </tr>\n",
       "    <tr>\n",
       "      <td>4</td>\n",
       "      <td>4DIAC-518907</td>\n",
       "      <td>200</td>\n",
       "      <td>Y</td>\n",
       "      <td>N</td>\n",
       "    </tr>\n",
       "  </tbody>\n",
       "</table>\n",
       "</div>"
      ],
      "text/plain": [
       "         bug_id  bug_fix_time long_lived y_hat\n",
       "0  4DIAC-489747           139          Y     N\n",
       "1  4DIAC-495630            38          Y     Y\n",
       "2  4DIAC-500078            38          Y     Y\n",
       "3  4DIAC-511266             0          N     N\n",
       "4  4DIAC-518907           200          Y     N"
      ]
     },
     "execution_count": 60,
     "metadata": {},
     "output_type": "execute_result"
    }
   ],
   "source": [
    "results_eclipse_data.head()"
   ]
  },
  {
   "cell_type": "code",
   "execution_count": 62,
   "metadata": {},
   "outputs": [],
   "source": [
    "reports_eclipse_data['long_lived_observed']  = reports_eclipse_data['bug_fix_time'].apply(lambda t: 'long-lived' if t > 365 else 'short-lived')"
   ]
  },
  {
   "cell_type": "code",
   "execution_count": 59,
   "metadata": {},
   "outputs": [
    {
     "data": {
      "text/html": [
       "<div>\n",
       "<style scoped>\n",
       "    .dataframe tbody tr th:only-of-type {\n",
       "        vertical-align: middle;\n",
       "    }\n",
       "\n",
       "    .dataframe tbody tr th {\n",
       "        vertical-align: top;\n",
       "    }\n",
       "\n",
       "    .dataframe thead th {\n",
       "        text-align: right;\n",
       "    }\n",
       "</style>\n",
       "<table border=\"1\" class=\"dataframe\">\n",
       "  <thead>\n",
       "    <tr style=\"text-align: right;\">\n",
       "      <th></th>\n",
       "      <th>bug_fix_time</th>\n",
       "      <th>long_lived_observed</th>\n",
       "    </tr>\n",
       "  </thead>\n",
       "  <tbody>\n",
       "    <tr>\n",
       "      <td>0</td>\n",
       "      <td>0</td>\n",
       "      <td>short-lived</td>\n",
       "    </tr>\n",
       "    <tr>\n",
       "      <td>1</td>\n",
       "      <td>177</td>\n",
       "      <td>short-lived</td>\n",
       "    </tr>\n",
       "    <tr>\n",
       "      <td>2</td>\n",
       "      <td>1</td>\n",
       "      <td>short-lived</td>\n",
       "    </tr>\n",
       "    <tr>\n",
       "      <td>3</td>\n",
       "      <td>50</td>\n",
       "      <td>short-lived</td>\n",
       "    </tr>\n",
       "    <tr>\n",
       "      <td>4</td>\n",
       "      <td>264</td>\n",
       "      <td>short-lived</td>\n",
       "    </tr>\n",
       "  </tbody>\n",
       "</table>\n",
       "</div>"
      ],
      "text/plain": [
       "   bug_fix_time long_lived_observed\n",
       "0             0         short-lived\n",
       "1           177         short-lived\n",
       "2             1         short-lived\n",
       "3            50         short-lived\n",
       "4           264         short-lived"
      ]
     },
     "execution_count": 59,
     "metadata": {},
     "output_type": "execute_result"
    }
   ],
   "source": [
    "reports_eclipse_data[['bug_fix_time', 'long_lived_observed']].head()"
   ]
  },
  {
   "cell_type": "markdown",
   "metadata": {},
   "source": [
    "## 4.2 Results analysis"
   ]
  },
  {
   "cell_type": "code",
   "execution_count": 79,
   "metadata": {},
   "outputs": [],
   "source": [
    "results_gcc_merged_data = pd.merge(\n",
    "    reports_gcc_data,\n",
    "    results_gcc_data[['bug_id', 'long_lived', 'y_hat']],\n",
    "    left_on='bug_id',\n",
    "    right_on='bug_id',\n",
    "    how='inner'\n",
    ")\n",
    "long_lived_gcc_predicted_bugs.loc[results_gcc_merged_data.long_lived == 'Y', 'status_prediction'] = long_lived_gcc_predicted_bugs['y_hat'].apply(lambda t: 'True Positive' if t == 'Y' else 'False Negative')\n"
   ]
  },
  {
   "cell_type": "code",
   "execution_count": 81,
   "metadata": {},
   "outputs": [
    {
     "data": {
      "text/html": [
       "<div>\n",
       "<style scoped>\n",
       "    .dataframe tbody tr th:only-of-type {\n",
       "        vertical-align: middle;\n",
       "    }\n",
       "\n",
       "    .dataframe tbody tr th {\n",
       "        vertical-align: top;\n",
       "    }\n",
       "\n",
       "    .dataframe thead th {\n",
       "        text-align: right;\n",
       "    }\n",
       "</style>\n",
       "<table border=\"1\" class=\"dataframe\">\n",
       "  <thead>\n",
       "    <tr style=\"text-align: right;\">\n",
       "      <th></th>\n",
       "      <th>bug_id</th>\n",
       "      <th>creation_date</th>\n",
       "      <th>component_name</th>\n",
       "      <th>product_name</th>\n",
       "      <th>short_description</th>\n",
       "      <th>long_description</th>\n",
       "      <th>assignee_name</th>\n",
       "      <th>reporter_name</th>\n",
       "      <th>resolution_category</th>\n",
       "      <th>resolution_code</th>\n",
       "      <th>status_category</th>\n",
       "      <th>status_code</th>\n",
       "      <th>update_date</th>\n",
       "      <th>quantity_of_votes</th>\n",
       "      <th>quantity_of_comments</th>\n",
       "      <th>resolution_date</th>\n",
       "      <th>bug_fix_time</th>\n",
       "      <th>severity_category</th>\n",
       "      <th>severity_code</th>\n",
       "      <th>long_lived_observed</th>\n",
       "      <th>long_lived</th>\n",
       "      <th>y_hat</th>\n",
       "      <th>status_prediction</th>\n",
       "    </tr>\n",
       "  </thead>\n",
       "  <tbody>\n",
       "    <tr>\n",
       "      <td>0</td>\n",
       "      <td>GCC-43804</td>\n",
       "      <td>2010-04-19</td>\n",
       "      <td>target</td>\n",
       "      <td>GCC</td>\n",
       "      <td>[4.6 regression] ICE in reload_cse_simplify_op...</td>\n",
       "      <td>$ gcc/xgcc -Bgcc/ -O2 -fpic -S memusage.i \\nme...</td>\n",
       "      <td>rsandifo</td>\n",
       "      <td>schwab</td>\n",
       "      <td>fixed</td>\n",
       "      <td>1</td>\n",
       "      <td>resolved</td>\n",
       "      <td>4</td>\n",
       "      <td>2013-04-12</td>\n",
       "      <td>0</td>\n",
       "      <td>29</td>\n",
       "      <td>2013-04-12</td>\n",
       "      <td>1089</td>\n",
       "      <td>normal</td>\n",
       "      <td>2</td>\n",
       "      <td>long-lived</td>\n",
       "      <td>Y</td>\n",
       "      <td>N</td>\n",
       "      <td>False Negative</td>\n",
       "    </tr>\n",
       "    <tr>\n",
       "      <td>4</td>\n",
       "      <td>GCC-560</td>\n",
       "      <td>2000-09-21</td>\n",
       "      <td>target</td>\n",
       "      <td>GCC</td>\n",
       "      <td>[Solaris 8 x86] static code segfaults before main</td>\n",
       "      <td>If you compile static code any code with gcc o...</td>\n",
       "      <td>unassigned</td>\n",
       "      <td>rami.lehti</td>\n",
       "      <td>fixed</td>\n",
       "      <td>1</td>\n",
       "      <td>resolved</td>\n",
       "      <td>4</td>\n",
       "      <td>2003-07-25</td>\n",
       "      <td>0</td>\n",
       "      <td>2</td>\n",
       "      <td>2003-07-25</td>\n",
       "      <td>1037</td>\n",
       "      <td>normal</td>\n",
       "      <td>2</td>\n",
       "      <td>long-lived</td>\n",
       "      <td>Y</td>\n",
       "      <td>Y</td>\n",
       "      <td>True Positive</td>\n",
       "    </tr>\n",
       "    <tr>\n",
       "      <td>9</td>\n",
       "      <td>GCC-8340</td>\n",
       "      <td>2002-10-24</td>\n",
       "      <td>target</td>\n",
       "      <td>GCC</td>\n",
       "      <td>ICE on x86 inline asm w/ -fPIC</td>\n",
       "      <td>From: Glen Nakamura \\nTo: gcc-gnats@gcc.gnu.or...</td>\n",
       "      <td>ebotcazou</td>\n",
       "      <td>glen</td>\n",
       "      <td>fixed</td>\n",
       "      <td>1</td>\n",
       "      <td>resolved</td>\n",
       "      <td>4</td>\n",
       "      <td>2014-10-13</td>\n",
       "      <td>0</td>\n",
       "      <td>10</td>\n",
       "      <td>2014-10-13</td>\n",
       "      <td>4372</td>\n",
       "      <td>normal</td>\n",
       "      <td>2</td>\n",
       "      <td>long-lived</td>\n",
       "      <td>Y</td>\n",
       "      <td>N</td>\n",
       "      <td>False Negative</td>\n",
       "    </tr>\n",
       "    <tr>\n",
       "      <td>11</td>\n",
       "      <td>GCC-65757</td>\n",
       "      <td>2015-04-13</td>\n",
       "      <td>libquadmath</td>\n",
       "      <td>GCC</td>\n",
       "      <td>gfortran gives incorrect result for anint with...</td>\n",
       "      <td>gfortran gives an incorrect result for the ani...</td>\n",
       "      <td>jvdelisle</td>\n",
       "      <td>bugs</td>\n",
       "      <td>fixed</td>\n",
       "      <td>1</td>\n",
       "      <td>resolved</td>\n",
       "      <td>4</td>\n",
       "      <td>2019-03-01</td>\n",
       "      <td>0</td>\n",
       "      <td>26</td>\n",
       "      <td>2017-09-16</td>\n",
       "      <td>887</td>\n",
       "      <td>normal</td>\n",
       "      <td>2</td>\n",
       "      <td>long-lived</td>\n",
       "      <td>Y</td>\n",
       "      <td>N</td>\n",
       "      <td>False Negative</td>\n",
       "    </tr>\n",
       "    <tr>\n",
       "      <td>12</td>\n",
       "      <td>GCC-2434</td>\n",
       "      <td>2001-03-30</td>\n",
       "      <td>target</td>\n",
       "      <td>GCC</td>\n",
       "      <td>Compilation with large file support (solaris &amp;...</td>\n",
       "      <td>When compiling C++ programs using the flags fo...</td>\n",
       "      <td>unassigned</td>\n",
       "      <td>pnobili</td>\n",
       "      <td>fixed</td>\n",
       "      <td>1</td>\n",
       "      <td>resolved</td>\n",
       "      <td>4</td>\n",
       "      <td>2003-07-25</td>\n",
       "      <td>0</td>\n",
       "      <td>5</td>\n",
       "      <td>2003-07-25</td>\n",
       "      <td>847</td>\n",
       "      <td>normal</td>\n",
       "      <td>2</td>\n",
       "      <td>long-lived</td>\n",
       "      <td>Y</td>\n",
       "      <td>Y</td>\n",
       "      <td>True Positive</td>\n",
       "    </tr>\n",
       "  </tbody>\n",
       "</table>\n",
       "</div>"
      ],
      "text/plain": [
       "       bug_id creation_date component_name product_name  \\\n",
       "0   GCC-43804    2010-04-19         target          GCC   \n",
       "4     GCC-560    2000-09-21         target          GCC   \n",
       "9    GCC-8340    2002-10-24         target          GCC   \n",
       "11  GCC-65757    2015-04-13    libquadmath          GCC   \n",
       "12   GCC-2434    2001-03-30         target          GCC   \n",
       "\n",
       "                                    short_description  \\\n",
       "0   [4.6 regression] ICE in reload_cse_simplify_op...   \n",
       "4   [Solaris 8 x86] static code segfaults before main   \n",
       "9                      ICE on x86 inline asm w/ -fPIC   \n",
       "11  gfortran gives incorrect result for anint with...   \n",
       "12  Compilation with large file support (solaris &...   \n",
       "\n",
       "                                     long_description assignee_name  \\\n",
       "0   $ gcc/xgcc -Bgcc/ -O2 -fpic -S memusage.i \\nme...      rsandifo   \n",
       "4   If you compile static code any code with gcc o...    unassigned   \n",
       "9   From: Glen Nakamura \\nTo: gcc-gnats@gcc.gnu.or...     ebotcazou   \n",
       "11  gfortran gives an incorrect result for the ani...     jvdelisle   \n",
       "12  When compiling C++ programs using the flags fo...    unassigned   \n",
       "\n",
       "   reporter_name resolution_category  resolution_code status_category  \\\n",
       "0         schwab               fixed                1        resolved   \n",
       "4     rami.lehti               fixed                1        resolved   \n",
       "9           glen               fixed                1        resolved   \n",
       "11          bugs               fixed                1        resolved   \n",
       "12       pnobili               fixed                1        resolved   \n",
       "\n",
       "    status_code update_date  quantity_of_votes  quantity_of_comments  \\\n",
       "0             4  2013-04-12                  0                    29   \n",
       "4             4  2003-07-25                  0                     2   \n",
       "9             4  2014-10-13                  0                    10   \n",
       "11            4  2019-03-01                  0                    26   \n",
       "12            4  2003-07-25                  0                     5   \n",
       "\n",
       "   resolution_date  bug_fix_time severity_category  severity_code  \\\n",
       "0       2013-04-12          1089            normal              2   \n",
       "4       2003-07-25          1037            normal              2   \n",
       "9       2014-10-13          4372            normal              2   \n",
       "11      2017-09-16           887            normal              2   \n",
       "12      2003-07-25           847            normal              2   \n",
       "\n",
       "   long_lived_observed long_lived y_hat status_prediction  \n",
       "0           long-lived          Y     N    False Negative  \n",
       "4           long-lived          Y     Y     True Positive  \n",
       "9           long-lived          Y     N    False Negative  \n",
       "11          long-lived          Y     N    False Negative  \n",
       "12          long-lived          Y     Y     True Positive  "
      ]
     },
     "execution_count": 81,
     "metadata": {},
     "output_type": "execute_result"
    }
   ],
   "source": [
    "long_lived_gcc_predicted_bugs.head()"
   ]
  },
  {
   "cell_type": "code",
   "execution_count": 80,
   "metadata": {},
   "outputs": [],
   "source": [
    "\n",
    "results_eclipse_merged_data = pd.merge(\n",
    "    reports_eclipse_data,\n",
    "    results_eclipse_data[['bug_id', 'long_lived', 'y_hat']],\n",
    "    left_on='bug_id',\n",
    "    right_on='bug_id',\n",
    "    how='inner'\n",
    ")\n",
    "long_lived_eclipse_predicted_bugs.loc[results_eclipse_merged_data.long_lived == 'Y', 'status_prediction']  = long_lived_eclipse_predicted_bugs['y_hat'].apply(lambda t: 'True Positive' if t == 'Y' else 'False Negative')"
   ]
  },
  {
   "cell_type": "code",
   "execution_count": 82,
   "metadata": {},
   "outputs": [
    {
     "data": {
      "text/html": [
       "<div>\n",
       "<style scoped>\n",
       "    .dataframe tbody tr th:only-of-type {\n",
       "        vertical-align: middle;\n",
       "    }\n",
       "\n",
       "    .dataframe tbody tr th {\n",
       "        vertical-align: top;\n",
       "    }\n",
       "\n",
       "    .dataframe thead th {\n",
       "        text-align: right;\n",
       "    }\n",
       "</style>\n",
       "<table border=\"1\" class=\"dataframe\">\n",
       "  <thead>\n",
       "    <tr style=\"text-align: right;\">\n",
       "      <th></th>\n",
       "      <th>bug_id</th>\n",
       "      <th>creation_date</th>\n",
       "      <th>component_name</th>\n",
       "      <th>product_name</th>\n",
       "      <th>short_description</th>\n",
       "      <th>long_description</th>\n",
       "      <th>assignee_name</th>\n",
       "      <th>reporter_name</th>\n",
       "      <th>resolution_category</th>\n",
       "      <th>resolution_code</th>\n",
       "      <th>status_category</th>\n",
       "      <th>status_code</th>\n",
       "      <th>update_date</th>\n",
       "      <th>quantity_of_votes</th>\n",
       "      <th>quantity_of_comments</th>\n",
       "      <th>resolution_date</th>\n",
       "      <th>bug_fix_time</th>\n",
       "      <th>severity_category</th>\n",
       "      <th>severity_code</th>\n",
       "      <th>long_lived_computed</th>\n",
       "      <th>long_lived</th>\n",
       "      <th>y_hat</th>\n",
       "      <th>status_prediction</th>\n",
       "    </tr>\n",
       "  </thead>\n",
       "  <tbody>\n",
       "    <tr>\n",
       "      <td>0</td>\n",
       "      <td>EQUINOX-259283</td>\n",
       "      <td>2008-12-18</td>\n",
       "      <td>p2</td>\n",
       "      <td>EQUINOX</td>\n",
       "      <td>[engine] Need a data area for actions</td>\n",
       "      <td>Currently we're persisting some data in the pr...</td>\n",
       "      <td>simon_kaegi</td>\n",
       "      <td>simon_kaegi</td>\n",
       "      <td>fixed</td>\n",
       "      <td>1</td>\n",
       "      <td>resolved</td>\n",
       "      <td>4</td>\n",
       "      <td>2009-01-21</td>\n",
       "      <td>0</td>\n",
       "      <td>2</td>\n",
       "      <td>2009-01-21</td>\n",
       "      <td>34</td>\n",
       "      <td>normal</td>\n",
       "      <td>2</td>\n",
       "      <td>short-lived</td>\n",
       "      <td>Y</td>\n",
       "      <td>Y</td>\n",
       "      <td>True Positive</td>\n",
       "    </tr>\n",
       "    <tr>\n",
       "      <td>1</td>\n",
       "      <td>Z_ARCHIVED-58853</td>\n",
       "      <td>2004-04-16</td>\n",
       "      <td>Hyades</td>\n",
       "      <td>Z_ARCHIVED</td>\n",
       "      <td>Imported Log Correlatior sample project has pr...</td>\n",
       "      <td>Found in Hyades 3.0 20040416_1005 driver.\\n\\nS...</td>\n",
       "      <td>apnan</td>\n",
       "      <td>shiah</td>\n",
       "      <td>fixed</td>\n",
       "      <td>1</td>\n",
       "      <td>closed</td>\n",
       "      <td>6</td>\n",
       "      <td>2012-02-15</td>\n",
       "      <td>0</td>\n",
       "      <td>6</td>\n",
       "      <td>2004-04-22</td>\n",
       "      <td>6</td>\n",
       "      <td>normal</td>\n",
       "      <td>2</td>\n",
       "      <td>short-lived</td>\n",
       "      <td>Y</td>\n",
       "      <td>Y</td>\n",
       "      <td>True Positive</td>\n",
       "    </tr>\n",
       "    <tr>\n",
       "      <td>2</td>\n",
       "      <td>PLATFORM-4902</td>\n",
       "      <td>2001-10-11</td>\n",
       "      <td>Team</td>\n",
       "      <td>PLATFORM</td>\n",
       "      <td>Project out of sync after release (1GKS577)</td>\n",
       "      <td>Sometimes after a release the project stays ou...</td>\n",
       "      <td>valentam</td>\n",
       "      <td>valentam</td>\n",
       "      <td>fixed</td>\n",
       "      <td>1</td>\n",
       "      <td>resolved</td>\n",
       "      <td>4</td>\n",
       "      <td>2002-03-21</td>\n",
       "      <td>0</td>\n",
       "      <td>3</td>\n",
       "      <td>2002-03-21</td>\n",
       "      <td>161</td>\n",
       "      <td>normal</td>\n",
       "      <td>2</td>\n",
       "      <td>short-lived</td>\n",
       "      <td>Y</td>\n",
       "      <td>Y</td>\n",
       "      <td>True Positive</td>\n",
       "    </tr>\n",
       "    <tr>\n",
       "      <td>3</td>\n",
       "      <td>BIRT-83104</td>\n",
       "      <td>2005-01-18</td>\n",
       "      <td>Report</td>\n",
       "      <td>BIRT</td>\n",
       "      <td>Patch to add files to cvsignore</td>\n",
       "      <td>Attached patch adds the bin directory and lib/...</td>\n",
       "      <td>Birt-Data-inbox</td>\n",
       "      <td>thierry.lach</td>\n",
       "      <td>fixed</td>\n",
       "      <td>1</td>\n",
       "      <td>resolved</td>\n",
       "      <td>4</td>\n",
       "      <td>2005-12-21</td>\n",
       "      <td>0</td>\n",
       "      <td>5</td>\n",
       "      <td>2005-01-25</td>\n",
       "      <td>7</td>\n",
       "      <td>trivial</td>\n",
       "      <td>1</td>\n",
       "      <td>short-lived</td>\n",
       "      <td>Y</td>\n",
       "      <td>Y</td>\n",
       "      <td>True Positive</td>\n",
       "    </tr>\n",
       "    <tr>\n",
       "      <td>4</td>\n",
       "      <td>VIRGO-337233</td>\n",
       "      <td>2011-02-15</td>\n",
       "      <td>runtime</td>\n",
       "      <td>VIRGO</td>\n",
       "      <td>Browsing the OSGi state in the Admin Console b...</td>\n",
       "      <td>To Reproduce:\\n\\n1. In the OSGi state tab sele...</td>\n",
       "      <td>virgo-inbox</td>\n",
       "      <td>eclipse</td>\n",
       "      <td>fixed</td>\n",
       "      <td>1</td>\n",
       "      <td>closed</td>\n",
       "      <td>6</td>\n",
       "      <td>2011-05-09</td>\n",
       "      <td>0</td>\n",
       "      <td>4</td>\n",
       "      <td>2011-05-09</td>\n",
       "      <td>83</td>\n",
       "      <td>major</td>\n",
       "      <td>4</td>\n",
       "      <td>short-lived</td>\n",
       "      <td>Y</td>\n",
       "      <td>Y</td>\n",
       "      <td>True Positive</td>\n",
       "    </tr>\n",
       "  </tbody>\n",
       "</table>\n",
       "</div>"
      ],
      "text/plain": [
       "             bug_id creation_date component_name product_name  \\\n",
       "0    EQUINOX-259283    2008-12-18             p2      EQUINOX   \n",
       "1  Z_ARCHIVED-58853    2004-04-16         Hyades   Z_ARCHIVED   \n",
       "2     PLATFORM-4902    2001-10-11           Team     PLATFORM   \n",
       "3        BIRT-83104    2005-01-18         Report         BIRT   \n",
       "4      VIRGO-337233    2011-02-15        runtime        VIRGO   \n",
       "\n",
       "                                   short_description  \\\n",
       "0              [engine] Need a data area for actions   \n",
       "1  Imported Log Correlatior sample project has pr...   \n",
       "2        Project out of sync after release (1GKS577)   \n",
       "3                    Patch to add files to cvsignore   \n",
       "4  Browsing the OSGi state in the Admin Console b...   \n",
       "\n",
       "                                    long_description    assignee_name  \\\n",
       "0  Currently we're persisting some data in the pr...      simon_kaegi   \n",
       "1  Found in Hyades 3.0 20040416_1005 driver.\\n\\nS...            apnan   \n",
       "2  Sometimes after a release the project stays ou...         valentam   \n",
       "3  Attached patch adds the bin directory and lib/...  Birt-Data-inbox   \n",
       "4  To Reproduce:\\n\\n1. In the OSGi state tab sele...      virgo-inbox   \n",
       "\n",
       "  reporter_name resolution_category  resolution_code status_category  \\\n",
       "0   simon_kaegi               fixed                1        resolved   \n",
       "1         shiah               fixed                1          closed   \n",
       "2      valentam               fixed                1        resolved   \n",
       "3  thierry.lach               fixed                1        resolved   \n",
       "4       eclipse               fixed                1          closed   \n",
       "\n",
       "   status_code update_date  quantity_of_votes  quantity_of_comments  \\\n",
       "0            4  2009-01-21                  0                     2   \n",
       "1            6  2012-02-15                  0                     6   \n",
       "2            4  2002-03-21                  0                     3   \n",
       "3            4  2005-12-21                  0                     5   \n",
       "4            6  2011-05-09                  0                     4   \n",
       "\n",
       "  resolution_date  bug_fix_time severity_category  severity_code  \\\n",
       "0      2009-01-21            34            normal              2   \n",
       "1      2004-04-22             6            normal              2   \n",
       "2      2002-03-21           161            normal              2   \n",
       "3      2005-01-25             7           trivial              1   \n",
       "4      2011-05-09            83             major              4   \n",
       "\n",
       "  long_lived_computed long_lived y_hat status_prediction  \n",
       "0         short-lived          Y     Y     True Positive  \n",
       "1         short-lived          Y     Y     True Positive  \n",
       "2         short-lived          Y     Y     True Positive  \n",
       "3         short-lived          Y     Y     True Positive  \n",
       "4         short-lived          Y     Y     True Positive  "
      ]
     },
     "execution_count": 82,
     "metadata": {},
     "output_type": "execute_result"
    }
   ],
   "source": [
    "long_lived_eclipse_predicted_bugs.head()"
   ]
  },
  {
   "cell_type": "code",
   "execution_count": 173,
   "metadata": {},
   "outputs": [],
   "source": [
    "def plot_bar (project, data, column, n):\n",
    "    sns.despine(offset=5)\n",
    "    top_n = data.groupby(column)[column].agg(['count'])\n",
    "    top_n = top_n.sort_values('count', ascending=False).head(n)\n",
    "    top_n = data.loc[data[column].isin(top_n.index)].groupby(column)['status_prediction'].value_counts(normalize=True).unstack()\n",
    "    fig, ax = plt.subplots(figsize=(20, 10))\n",
    "    top_n.plot(kind='barh', stacked='True',  color=[\"tab:red\", \"tab:blue\"], ax=ax)\n",
    "    \n",
    "    ax.set(xlim=(0, 1))\n",
    "    ax.set_xlabel('percentage', fontsize=MEDIUM_SIZE)\n",
    "    ax.set_ylabel(column, fontsize=MEDIUM_SIZE)\n",
    "    ax.set_title(project, fontsize=BIGGER_SIZE)\n",
    "    \n",
    "    plt.legend()\n",
    "    plt.xticks(fontsize=MEDIUM_SIZE, rotation=90)"
   ]
  },
  {
   "cell_type": "markdown",
   "metadata": {},
   "source": [
    "### Reporter Name"
   ]
  },
  {
   "cell_type": "markdown",
   "metadata": {},
   "source": [
    "### GCC"
   ]
  },
  {
   "cell_type": "code",
   "execution_count": 174,
   "metadata": {},
   "outputs": [
    {
     "data": {
      "text/plain": [
       "<Figure size 432x288 with 0 Axes>"
      ]
     },
     "metadata": {},
     "output_type": "display_data"
    },
    {
     "data": {
      "image/png": "[encoded data removed]",
      "text/plain": [
       "<Figure size 1440x720 with 1 Axes>"
      ]
     },
     "metadata": {},
     "output_type": "display_data"
    }
   ],
   "source": [
    "plot_bar('GCC', long_lived_gcc_predicted_bugs, 'reporter_name',10)"
   ]
  },
  {
   "cell_type": "markdown",
   "metadata": {},
   "source": [
    "### Eclipse"
   ]
  },
  {
   "cell_type": "code",
   "execution_count": 155,
   "metadata": {},
   "outputs": [
    {
     "data": {
      "image/png": "[encoded data removed]",
      "text/plain": [
       "<Figure size 1440x720 with 1 Axes>"
      ]
     },
     "metadata": {},
     "output_type": "display_data"
    }
   ],
   "source": [
    "plot_bar('Eclipse', long_lived_eclipse_predicted_bugs, 'reporter_name',10)"
   ]
  },
  {
   "cell_type": "markdown",
   "metadata": {},
   "source": [
    "### Assignee"
   ]
  },
  {
   "cell_type": "markdown",
   "metadata": {},
   "source": [
    "### GCC"
   ]
  },
  {
   "cell_type": "code",
   "execution_count": 156,
   "metadata": {},
   "outputs": [
    {
     "data": {
      "image/png": "[encoded data removed]",
      "text/plain": [
       "<Figure size 1440x720 with 1 Axes>"
      ]
     },
     "metadata": {},
     "output_type": "display_data"
    }
   ],
   "source": [
    "plot_bar('GCC', long_lived_gcc_predicted_bugs, 'assignee_name',10)"
   ]
  },
  {
   "cell_type": "markdown",
   "metadata": {},
   "source": [
    "### Eclipse"
   ]
  },
  {
   "cell_type": "code",
   "execution_count": 157,
   "metadata": {},
   "outputs": [
    {
     "data": {
      "image/png": "[encoded data removed]",
      "text/plain": [
       "<Figure size 1440x720 with 1 Axes>"
      ]
     },
     "metadata": {},
     "output_type": "display_data"
    }
   ],
   "source": [
    "plot_bar('Eclipse', long_lived_eclipse_predicted_bugs, 'assignee_name',10)"
   ]
  },
  {
   "cell_type": "markdown",
   "metadata": {},
   "source": [
    "### Component Name"
   ]
  },
  {
   "cell_type": "markdown",
   "metadata": {},
   "source": [
    "### GCC"
   ]
  },
  {
   "cell_type": "code",
   "execution_count": 158,
   "metadata": {},
   "outputs": [
    {
     "data": {
      "image/png": "[encoded data removed]",
      "text/plain": [
       "<Figure size 1440x720 with 1 Axes>"
      ]
     },
     "metadata": {},
     "output_type": "display_data"
    }
   ],
   "source": [
    "plot_bar('GCC', long_lived_gcc_predicted_bugs, 'component_name',10)"
   ]
  },
  {
   "cell_type": "markdown",
   "metadata": {},
   "source": [
    "### Eclipse"
   ]
  },
  {
   "cell_type": "code",
   "execution_count": 159,
   "metadata": {},
   "outputs": [
    {
     "data": {
      "image/png": "[encoded data removed]",
      "text/plain": [
       "<Figure size 1440x720 with 1 Axes>"
      ]
     },
     "metadata": {},
     "output_type": "display_data"
    }
   ],
   "source": [
    "plot_bar('Eclipse', long_lived_eclipse_predicted_bugs, 'component_name',10)"
   ]
  },
  {
   "cell_type": "markdown",
   "metadata": {},
   "source": [
    "### Severity Level"
   ]
  },
  {
   "cell_type": "markdown",
   "metadata": {},
   "source": [
    "### GCC"
   ]
  },
  {
   "cell_type": "code",
   "execution_count": 160,
   "metadata": {},
   "outputs": [
    {
     "data": {
      "image/png": "[encoded data removed]",
      "text/plain": [
       "<Figure size 1440x720 with 1 Axes>"
      ]
     },
     "metadata": {},
     "output_type": "display_data"
    }
   ],
   "source": [
    "plot_bar('GCC', long_lived_gcc_predicted_bugs, 'severity_category',10)\n"
   ]
  },
  {
   "cell_type": "markdown",
   "metadata": {},
   "source": [
    "### Eclipse"
   ]
  },
  {
   "cell_type": "code",
   "execution_count": 162,
   "metadata": {},
   "outputs": [
    {
     "data": {
      "image/png": "[encoded data removed]",
      "text/plain": [
       "<Figure size 1440x720 with 1 Axes>"
      ]
     },
     "metadata": {},
     "output_type": "display_data"
    }
   ],
   "source": [
    "plot_bar('Eclipse', long_lived_eclipse_predicted_bugs, 'severity_category',10)"
   ]
  },
  {
   "cell_type": "markdown",
   "metadata": {},
   "source": [
    "### Description \n",
    "Existem muitas palavras relacionadas com código(stop words)."
   ]
  },
  {
   "cell_type": "code",
   "execution_count": 31,
   "metadata": {},
   "outputs": [],
   "source": [
    "word_frequency_gcc_path     = \"datasets/20191028080345_gcc_word_frequency.csv\"\n",
    "word_frequency_eclipse_path = \"datasets/20191028080345_eclipse_word_frequency.csv\"\n",
    "word_frequency_gcc_data     = pd.read_csv(word_frequency_gcc_path) \n",
    "word_frequency_eclipse_data = pd.read_csv(word_frequency_eclipse_path)\n",
    "\n",
    "word_frequency_gcc_data['freq'] = word_frequency_gcc_data['freq'].astype(int)\n",
    "word_frequency_eclipse_data['freq'] = word_frequency_eclipse_data['freq'].astype(int)\n"
   ]
  },
  {
   "cell_type": "markdown",
   "metadata": {},
   "source": [
    "### GCC"
   ]
  },
  {
   "cell_type": "code",
   "execution_count": 32,
   "metadata": {},
   "outputs": [
    {
     "data": {
      "text/html": [
       "<div>\n",
       "<style scoped>\n",
       "    .dataframe tbody tr th:only-of-type {\n",
       "        vertical-align: middle;\n",
       "    }\n",
       "\n",
       "    .dataframe tbody tr th {\n",
       "        vertical-align: top;\n",
       "    }\n",
       "\n",
       "    .dataframe thead th {\n",
       "        text-align: right;\n",
       "    }\n",
       "</style>\n",
       "<table border=\"1\" class=\"dataframe\">\n",
       "  <thead>\n",
       "    <tr style=\"text-align: right;\">\n",
       "      <th></th>\n",
       "      <th>word</th>\n",
       "      <th>freq</th>\n",
       "      <th>status</th>\n",
       "      <th>project</th>\n",
       "    </tr>\n",
       "  </thead>\n",
       "  <tbody>\n",
       "    <tr>\n",
       "      <td>0</td>\n",
       "      <td>lib</td>\n",
       "      <td>6</td>\n",
       "      <td>Corrected</td>\n",
       "      <td>gcc</td>\n",
       "    </tr>\n",
       "    <tr>\n",
       "      <td>1</td>\n",
       "      <td>includ</td>\n",
       "      <td>6</td>\n",
       "      <td>Corrected</td>\n",
       "      <td>gcc</td>\n",
       "    </tr>\n",
       "    <tr>\n",
       "      <td>2</td>\n",
       "      <td>linux</td>\n",
       "      <td>6</td>\n",
       "      <td>Corrected</td>\n",
       "      <td>gcc</td>\n",
       "    </tr>\n",
       "    <tr>\n",
       "      <td>3</td>\n",
       "      <td>usr</td>\n",
       "      <td>6</td>\n",
       "      <td>Corrected</td>\n",
       "      <td>gcc</td>\n",
       "    </tr>\n",
       "    <tr>\n",
       "      <td>4</td>\n",
       "      <td>int</td>\n",
       "      <td>6</td>\n",
       "      <td>Corrected</td>\n",
       "      <td>gcc</td>\n",
       "    </tr>\n",
       "  </tbody>\n",
       "</table>\n",
       "</div>"
      ],
      "text/plain": [
       "     word  freq     status project\n",
       "0     lib     6  Corrected     gcc\n",
       "1  includ     6  Corrected     gcc\n",
       "2   linux     6  Corrected     gcc\n",
       "3     usr     6  Corrected     gcc\n",
       "4     int     6  Corrected     gcc"
      ]
     },
     "execution_count": 32,
     "metadata": {},
     "output_type": "execute_result"
    }
   ],
   "source": [
    "word_frequency_gcc_data.head()"
   ]
  },
  {
   "cell_type": "code",
   "execution_count": 33,
   "metadata": {},
   "outputs": [],
   "source": [
    "from PIL import Image\n",
    "import matplotlib\n",
    "def transform_format(val):\n",
    "    if val == 0:\n",
    "        return 255\n",
    "    else:\n",
    "        return val\n",
    "    \n",
    "def plot_word_cloud(data, status):\n",
    "    data = data[data['status']==status]\n",
    "    cloud_mask = np.array(Image.open(\"cloud.png\"))\n",
    "    \n",
    "    #transformed_cloud_mask = np.ndarray((cloud_mask.shape[0], cloud_mask.shape[1]), np.int32)\n",
    "\n",
    "    #for i in range(len(cloud_mask)):\n",
    "    #    transformed_cloud_mask[i] = list(map(transform_format, cloud_mask[i]))\n",
    "    \n",
    "    word_frequency = {x[0]: x[1] for x in data.itertuples(index=False)}\n",
    "    wordcloud = WordCloud(width=900\n",
    "                      , height=500\n",
    "                      , mask=cloud_mask\n",
    "                      , background_color='white'\n",
    "                      , max_words=100\n",
    "                      , colormap=matplotlib.cm.inferno\n",
    "                      , relative_scaling=1\n",
    "                      , normalize_plurals=False).generate_from_frequencies(word_frequency)\n",
    "    plt.figure(figsize=(10,10))\n",
    "    plt.imshow(wordcloud, interpolation='bilinear')\n",
    "    #plt.title(f\"Long-lived {status} Predicted\", fontsize=20)\n",
    "    plt.axis(\"off\")\n"
   ]
  },
  {
   "cell_type": "markdown",
   "metadata": {},
   "source": [
    "#### Histograms "
   ]
  },
  {
   "cell_type": "code",
   "execution_count": 34,
   "metadata": {},
   "outputs": [
    {
     "data": {
      "image/png": "[encoded data removed]",
      "text/plain": [
       "<Figure size 432x288 with 1 Axes>"
      ]
     },
     "metadata": {},
     "output_type": "display_data"
    }
   ],
   "source": [
    "freqs=word_frequency_gcc_data[word_frequency_gcc_data['status']=='Corrected']['freq']\n",
    "\n",
    "plt.hist(freqs, color='tab:blue', bins=5)\n",
    "sns.despine(offset=5)\n",
    "\n",
    "plt.title(\"GCC: True Positive\")\n",
    "plt.xticks([2, 3, 4, 5, 6, 7, 8, 9], fontsize=SMALL_SIZE)\n",
    "plt.xlim(2, 9)\n",
    "plt.xlabel('TF-IDF Score', fontsize=SMALL_SIZE)\n",
    "plt.yticks([0, 10, 20, 30, 40, 50, 60], fontsize=SMALL_SIZE)\n",
    "plt.ylim(0, 60)\n",
    "plt.ylabel('Count', fontsize=SMALL_SIZE)\n",
    "\n",
    "plt.savefig('figures/rq5-gcc-tf-idf-corrected-predicted.pdf', format=\"pdf\", dpi=600, bbox_inches='tight')"
   ]
  },
  {
   "cell_type": "code",
   "execution_count": 35,
   "metadata": {},
   "outputs": [
    {
     "data": {
      "image/png": "[encoded data removed]",
      "text/plain": [
       "<Figure size 432x288 with 1 Axes>"
      ]
     },
     "metadata": {},
     "output_type": "display_data"
    }
   ],
   "source": [
    "plt.hist(word_frequency_gcc_data[word_frequency_gcc_data['status']=='Incorrected']['freq']\n",
    "         , bins=5\n",
    "         , color='tab:blue')\n",
    "sns.despine(offset=5)\n",
    "plt.title(\"GCC: False Negative\")\n",
    "plt.xticks([2, 3, 4, 5, 6, 7, 8, 9], fontsize=SMALL_SIZE)\n",
    "plt.xlim(2, 9)\n",
    "plt.xlabel('TF-IDF Score', fontsize=SMALL_SIZE)\n",
    "plt.yticks([0, 10, 20, 30, 40, 50, 60], fontsize=SMALL_SIZE)\n",
    "plt.ylim(0, 60)\n",
    "plt.ylabel('Count', fontsize=10)\n",
    "plt.savefig('figures/rq5-gcc-tf-idf-uncorrected-predicted.pdf', format=\"pdf\", dpi=600, bbox_inches='tight')"
   ]
  },
  {
   "cell_type": "code",
   "execution_count": 36,
   "metadata": {},
   "outputs": [
    {
     "data": {
      "image/png": "[encoded data removed]",
      "text/plain": [
       "<Figure size 432x288 with 1 Axes>"
      ]
     },
     "metadata": {},
     "output_type": "display_data"
    }
   ],
   "source": [
    "plt.hist(word_frequency_eclipse_data[word_frequency_eclipse_data['status']=='Corrected']['freq'].astype('int')\n",
    "         , align='left'\n",
    "         , bins=6\n",
    "         , color='tab:blue')\n",
    "sns.despine(offset=5)\n",
    "plt.title(\"Eclipse: True Positive\")\n",
    "plt.xticks([2, 6, 10, 14, 18, 22, 26], fontsize=SMALL_SIZE)\n",
    "plt.xlim(2, 26)\n",
    "plt.xlabel('TF-IDF Score', fontsize=SMALL_SIZE)\n",
    "plt.yticks([0, 10, 20, 30, 40, 50, 60], fontsize=SMALL_SIZE)\n",
    "plt.ylim(0, 60)\n",
    "plt.ylabel('Count', fontsize=SMALL_SIZE)\n",
    "plt.savefig('figures/rq5-eclipse-tf-idf-corrected-predicted.pdf', format=\"pdf\", dpi=600, bbox_inches='tight')"
   ]
  },
  {
   "cell_type": "code",
   "execution_count": 37,
   "metadata": {},
   "outputs": [
    {
     "data": {
      "image/png": "[encoded data removed]",
      "text/plain": [
       "<Figure size 432x288 with 1 Axes>"
      ]
     },
     "metadata": {},
     "output_type": "display_data"
    }
   ],
   "source": [
    "plt.hist(word_frequency_eclipse_data[word_frequency_eclipse_data['status']=='Incorrected']['freq']\n",
    "         , align='left'\n",
    "         , bins=6\n",
    "         , color='tab:blue')\n",
    "sns.despine(offset=5)\n",
    "plt.title(\"Eclipse: False Negative\")\n",
    "plt.xticks([2, 6, 10, 14, 18, 22, 26], fontsize=SMALL_SIZE)\n",
    "plt.xlim(2, 26)\n",
    "plt.xlabel('TF-IDF Score', fontsize=SMALL_SIZE)\n",
    "plt.yticks([0, 10, 20, 30, 40, 50, 60], fontsize=SMALL_SIZE)\n",
    "plt.ylim(0, 60)\n",
    "plt.ylabel('Count', fontsize=SMALL_SIZE)\n",
    "plt.savefig('figures/rq5-eclipse-tf-idf-uncorrected-predicted.pdf', format=\"pdf\", dpi=600, bbox_inches='tight')"
   ]
  },
  {
   "cell_type": "code",
   "execution_count": 38,
   "metadata": {},
   "outputs": [],
   "source": [
    "a = list(word_frequency_gcc_data[word_frequency_gcc_data.status==\"Corrected\"]['word'])\n",
    "b = list(word_frequency_gcc_data[word_frequency_gcc_data.status==\"Incorrected\"]['word'])"
   ]
  },
  {
   "cell_type": "code",
   "execution_count": 39,
   "metadata": {},
   "outputs": [
    {
     "data": {
      "text/plain": [
       "143"
      ]
     },
     "execution_count": 39,
     "metadata": {},
     "output_type": "execute_result"
    }
   ],
   "source": [
    "len(set(a) | set(b))"
   ]
  },
  {
   "cell_type": "code",
   "execution_count": 40,
   "metadata": {},
   "outputs": [],
   "source": [
    "a = list(word_frequency_eclipse_data[word_frequency_eclipse_data.status==\"Corrected\"]['word'])\n",
    "b = list(word_frequency_eclipse_data[word_frequency_eclipse_data.status==\"Incorrected\"]['word'])"
   ]
  },
  {
   "cell_type": "code",
   "execution_count": 41,
   "metadata": {},
   "outputs": [
    {
     "data": {
      "text/plain": [
       "149"
      ]
     },
     "execution_count": 41,
     "metadata": {},
     "output_type": "execute_result"
    }
   ],
   "source": [
    "len(set(a) | set(b))"
   ]
  }
 ],
 "metadata": {
  "kernelspec": {
   "display_name": "Python 3",
   "language": "python",
   "name": "python3"
  },
  "language_info": {
   "codemirror_mode": {
    "name": "ipython",
    "version": 3
   },
   "file_extension": ".py",
   "mimetype": "text/x-python",
   "name": "python",
   "nbconvert_exporter": "python",
   "pygments_lexer": "ipython3",
   "version": "3.7.4"
  }
 },
 "nbformat": 4,
 "nbformat_minor": 2
}
