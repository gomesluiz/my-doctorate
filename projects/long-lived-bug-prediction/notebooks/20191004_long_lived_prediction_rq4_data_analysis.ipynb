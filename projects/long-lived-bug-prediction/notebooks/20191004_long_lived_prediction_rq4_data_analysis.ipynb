{
 "cells": [
  {
   "cell_type": "markdown",
   "metadata": {},
   "source": [
    "# Research Question No. 4\n",
    "This research question aims to investigate the characteristics of groups of bugs for which classifiers yield better accuracy."
   ]
  },
  {
   "cell_type": "markdown",
   "metadata": {},
   "source": [
    "# 1. Experimental parameters"
   ]
  },
  {
   "cell_type": "markdown",
   "metadata": {},
   "source": [
    "\n",
    "| Parameter                  |         Value        |\n",
    "|----------------------------|:--------------------:|\n",
    "| Project                    |        Eclipse, Freedesktop, Gcc, Gnome, Mozilla, WineHQ       |\n",
    "| Algorithms                 | NN |\n",
    "| Metrics                    | Accuracy |\n",
    "| Features                   | Long Description |\n",
    "| Number of Terms            |        100       |\n",
    "| Balancing                  |        Smote   |\n",
    "| Resampling                 |        Repeated CV 5 x 2       |\n",
    "| Threshold                  |        365       |\n",
    "\n",
    "\n",
    "\n",
    "\n",
    "\n",
    "\n",
    "\n",
    "\n",
    "Every bug which its report have indicated that the number of days to resolve is less than or equal to **threshold fixed** was considered a **non-long lived bug** and that which the number of days to resolve is greater than this threshold was considered as a **long-live bug**. "
   ]
  },
  {
   "cell_type": "markdown",
   "metadata": {},
   "source": [
    "# 2. Setup environment"
   ]
  },
  {
   "cell_type": "code",
   "execution_count": 1,
   "metadata": {},
   "outputs": [
    {
     "data": {
      "application/javascript": [
       "IPython.OutputArea.prototype._should_scroll = function(lines) {\n",
       "    return false;\n",
       "}\n"
      ],
      "text/plain": [
       "<IPython.core.display.Javascript object>"
      ]
     },
     "metadata": {},
     "output_type": "display_data"
    }
   ],
   "source": [
    "%%javascript\n",
    "IPython.OutputArea.prototype._should_scroll = function(lines) {\n",
    "    return false;\n",
    "}"
   ]
  },
  {
   "cell_type": "code",
   "execution_count": 2,
   "metadata": {},
   "outputs": [
    {
     "name": "stdout",
     "output_type": "stream",
     "text": [
      "Setup complete\n"
     ]
    }
   ],
   "source": [
    "import matplotlib.pyplot as plt \n",
    "import numpy as np\n",
    "import os \n",
    "import pandas as pd\n",
    "import seaborn as sns \n",
    "from scipy.stats import friedmanchisquare\n",
    "from scipy.stats import kruskal\n",
    "\n",
    "# Setup Matplotlib\n",
    "plt.rc('figure', figsize=(20, 20))\n",
    "plt.style.use('default')\n",
    "%matplotlib inline \n",
    "\n",
    "# Setup Seaborn\n",
    "sns.set_context(\"paper\")\n",
    "sns.set_style(\"ticks\")\n",
    "\n",
    "pd.set_option('display.max_columns', None)\n",
    "\n",
    "results_path = \"datasets/20190926143854_rq3e4_all_predict_long_lived_tests_balanced_acc.csv\"\n",
    "reports_path = \"datasets/20190917_gcc_bug_report_data.csv\"\n",
    "print(\"Setup complete\")"
   ]
  },
  {
   "cell_type": "markdown",
   "metadata": {},
   "source": [
    "# 3. Load data"
   ]
  },
  {
   "cell_type": "code",
   "execution_count": 3,
   "metadata": {},
   "outputs": [
    {
     "name": "stdout",
     "output_type": "stream",
     "text": [
      "\n",
      "Header of metrics file datasets/20190917_gcc_bug_report_data.csv\n",
      "bug_id,creation_date,component_name,product_name,short_description,long_description,assignee_name,reporter_name,resolution_category,resolution_code,status_category,status_code,update_date,quantity_of_votes,quantity_of_comments,resolution_date,bug_fix_time,severity_category,severity_code\n",
      "CLASSPATH-26758,2006-03-19,awt,CLASSPATH,GdkFontPeer.getPostScriptFontName unimplemented,The Openstreetmap applet expects java.awt.Font.getPSFontName() to return something non-null.,unassigned,roman,fixed,1,resolved,4,2006-05-20,0,12,2006-05-20,62,normal,2\n",
      "\n",
      "Number of lines in the file datasets/20190917_gcc_bug_report_data.csv\n",
      "489575 datasets/20190917_gcc_bug_report_data.csv\n",
      "\n",
      "Header of metrics file datasets/20190926143854_rq3e4_all_predict_long_lived_tests_balanced_acc.csv\n",
      "bug_id,bug_fix_time,long_lived,y_hat\n",
      "CLASSPATH-16983,15,N,N\n",
      "\n",
      "Number of lines in the file datasets/20190926143854_rq3e4_all_predict_long_lived_tests_balanced_acc.csv\n",
      "2481 datasets/20190926143854_rq3e4_all_predict_long_lived_tests_balanced_acc.csv\n"
     ]
    }
   ],
   "source": [
    "    !echo \"\\nHeader of metrics file $reports_path\"\n",
    "    !head -n 2 $reports_path\n",
    "\n",
    "    !echo \"\\nNumber of lines in the file $reports_path\"\n",
    "    !wc -l $reports_path\n",
    "    \n",
    "    !echo \"\\nHeader of metrics file $results_path\"\n",
    "    !head -n 2 $results_path\n",
    "\n",
    "    !echo \"\\nNumber of lines in the file $results_path\"\n",
    "    !wc -l $results_path"
   ]
  },
  {
   "cell_type": "code",
   "execution_count": 4,
   "metadata": {},
   "outputs": [
    {
     "name": "stdout",
     "output_type": "stream",
     "text": [
      "There are 10000 rows and 19 columns in datasets/20190917_gcc_bug_report_data.csv.\n",
      "\n",
      "There are 2480 rows and 4 columns in datasets/20190917_gcc_bug_report_data.csv.\n",
      "\n"
     ]
    }
   ],
   "source": [
    "# read data.\n",
    "reports_data  = pd.read_csv(reports_path)\n",
    "rows_and_cols = reports_data.shape\n",
    "print(f\"There are {rows_and_cols[0]} rows and {rows_and_cols[1]} columns in {reports_path}.\\n\")\n",
    "\n",
    "results_data = pd.read_csv(results_path)\n",
    "rows_and_cols = results_data.shape\n",
    "print(f\"There are {rows_and_cols[0]} rows and {rows_and_cols[1]} columns in {reports_path}.\\n\")\n"
   ]
  },
  {
   "cell_type": "markdown",
   "metadata": {},
   "source": [
    "# 4. Test Results Analysis"
   ]
  },
  {
   "cell_type": "markdown",
   "metadata": {},
   "source": [
    "### 4.1 Review data"
   ]
  },
  {
   "cell_type": "code",
   "execution_count": 5,
   "metadata": {},
   "outputs": [
    {
     "data": {
      "text/html": [
       "<div>\n",
       "<style scoped>\n",
       "    .dataframe tbody tr th:only-of-type {\n",
       "        vertical-align: middle;\n",
       "    }\n",
       "\n",
       "    .dataframe tbody tr th {\n",
       "        vertical-align: top;\n",
       "    }\n",
       "\n",
       "    .dataframe thead th {\n",
       "        text-align: right;\n",
       "    }\n",
       "</style>\n",
       "<table border=\"1\" class=\"dataframe\">\n",
       "  <thead>\n",
       "    <tr style=\"text-align: right;\">\n",
       "      <th></th>\n",
       "      <th>bug_id</th>\n",
       "      <th>bug_fix_time</th>\n",
       "      <th>long_lived</th>\n",
       "      <th>y_hat</th>\n",
       "    </tr>\n",
       "  </thead>\n",
       "  <tbody>\n",
       "    <tr>\n",
       "      <th>0</th>\n",
       "      <td>CLASSPATH-16983</td>\n",
       "      <td>15</td>\n",
       "      <td>N</td>\n",
       "      <td>N</td>\n",
       "    </tr>\n",
       "    <tr>\n",
       "      <th>1</th>\n",
       "      <td>CLASSPATH-17008</td>\n",
       "      <td>342</td>\n",
       "      <td>N</td>\n",
       "      <td>N</td>\n",
       "    </tr>\n",
       "    <tr>\n",
       "      <th>2</th>\n",
       "      <td>CLASSPATH-17060</td>\n",
       "      <td>337</td>\n",
       "      <td>N</td>\n",
       "      <td>N</td>\n",
       "    </tr>\n",
       "    <tr>\n",
       "      <th>3</th>\n",
       "      <td>CLASSPATH-18312</td>\n",
       "      <td>5</td>\n",
       "      <td>N</td>\n",
       "      <td>N</td>\n",
       "    </tr>\n",
       "    <tr>\n",
       "      <th>4</th>\n",
       "      <td>CLASSPATH-21635</td>\n",
       "      <td>96</td>\n",
       "      <td>N</td>\n",
       "      <td>N</td>\n",
       "    </tr>\n",
       "  </tbody>\n",
       "</table>\n",
       "</div>"
      ],
      "text/plain": [
       "            bug_id  bug_fix_time long_lived y_hat\n",
       "0  CLASSPATH-16983            15          N     N\n",
       "1  CLASSPATH-17008           342          N     N\n",
       "2  CLASSPATH-17060           337          N     N\n",
       "3  CLASSPATH-18312             5          N     N\n",
       "4  CLASSPATH-21635            96          N     N"
      ]
     },
     "execution_count": 5,
     "metadata": {},
     "output_type": "execute_result"
    }
   ],
   "source": [
    "results_data.head()"
   ]
  },
  {
   "cell_type": "markdown",
   "metadata": {},
   "source": [
    "## 4.2 Results analysis"
   ]
  },
  {
   "cell_type": "code",
   "execution_count": 6,
   "metadata": {},
   "outputs": [],
   "source": [
    "def plot_bar(data, status, column, ax):\n",
    "    \n",
    "    top_n = data[data['status_prediction']==status]\n",
    "    top_n = top_n.groupby(column).size().reset_index(name='count')\n",
    "    top_n = top_n.sort_values('count', ascending=False).head(10)\n",
    "    top_n.plot(kind=\"bar\", x=column, ax=ax)\n",
    "    ax.set(title=f\"prediction: {status}\", xlabel=\"\", ylabel=\"Count\")\n",
    "    ax.get_legend().remove()"
   ]
  },
  {
   "cell_type": "code",
   "execution_count": 7,
   "metadata": {},
   "outputs": [],
   "source": [
    "results_merged_data = pd.merge(\n",
    "    reports_data,\n",
    "    results_data[['bug_id', 'long_lived', 'y_hat']],\n",
    "    left_on='bug_id',\n",
    "    right_on='bug_id',\n",
    "    how='inner'\n",
    ")"
   ]
  },
  {
   "cell_type": "code",
   "execution_count": 8,
   "metadata": {},
   "outputs": [
    {
     "name": "stderr",
     "output_type": "stream",
     "text": [
      "/home/luiz/apps/anaconda3/lib/python3.7/site-packages/pandas/core/indexing.py:362: SettingWithCopyWarning: \n",
      "A value is trying to be set on a copy of a slice from a DataFrame.\n",
      "Try using .loc[row_indexer,col_indexer] = value instead\n",
      "\n",
      "See the caveats in the documentation: http://pandas.pydata.org/pandas-docs/stable/indexing.html#indexing-view-versus-copy\n",
      "  self.obj[key] = _infer_fill_value(value)\n",
      "/home/luiz/apps/anaconda3/lib/python3.7/site-packages/pandas/core/indexing.py:543: SettingWithCopyWarning: \n",
      "A value is trying to be set on a copy of a slice from a DataFrame.\n",
      "Try using .loc[row_indexer,col_indexer] = value instead\n",
      "\n",
      "See the caveats in the documentation: http://pandas.pydata.org/pandas-docs/stable/indexing.html#indexing-view-versus-copy\n",
      "  self.obj[item] = s\n"
     ]
    }
   ],
   "source": [
    "long_lived_predicted_bugs = results_merged_data.query('long_lived == \"Y\"')\n",
    "long_lived_predicted_bugs.loc[:, 'status_prediction']  = long_lived_predicted_bugs.loc[:, 'y_hat'].apply(lambda t: 'correct' if t == 'Y' else 'incorrect')"
   ]
  },
  {
   "cell_type": "markdown",
   "metadata": {},
   "source": [
    "### Reporter Name"
   ]
  },
  {
   "cell_type": "code",
   "execution_count": 9,
   "metadata": {},
   "outputs": [
    {
     "data": {
      "image/png": "[encoded data removed]",
      "text/plain": [
       "<Figure size 1440x360 with 2 Axes>"
      ]
     },
     "metadata": {
      "needs_background": "light"
     },
     "output_type": "display_data"
    }
   ],
   "source": [
    "fig, axes = plt.subplots(1, 2, sharey=True, figsize=(20,5))\n",
    "plt.subplots_adjust(hspace=0.8)\n",
    "sns.set_context(\"paper\")\n",
    "sns.despine(offset=5)\n",
    "sns.set(style=\"ticks\", color_codes=True, font_scale=1.5)\n",
    "\n",
    "for status, ax in zip(['correct', 'incorrect'], axes.flatten()):\n",
    "    plot_bar(long_lived_predicted_bugs, status, 'reporter_name', ax)"
   ]
  },
  {
   "cell_type": "markdown",
   "metadata": {},
   "source": [
    "### Assignee"
   ]
  },
  {
   "cell_type": "code",
   "execution_count": 10,
   "metadata": {},
   "outputs": [
    {
     "data": {
      "image/png": "[encoded data removed]",
      "text/plain": [
       "<Figure size 1440x360 with 2 Axes>"
      ]
     },
     "metadata": {},
     "output_type": "display_data"
    }
   ],
   "source": [
    "fig, axes = plt.subplots(1, 2, sharey=True, figsize=(20,5))\n",
    "plt.subplots_adjust(hspace=0.8)\n",
    "sns.set_context(\"paper\")\n",
    "sns.despine(offset=5)\n",
    "sns.set(style=\"ticks\", color_codes=True, font_scale=1.5)\n",
    "\n",
    "for status, ax in zip(['correct', 'incorrect'], axes.flatten()):\n",
    "    plot_bar(long_lived_predicted_bugs, status, 'assignee_name', ax)"
   ]
  },
  {
   "cell_type": "markdown",
   "metadata": {},
   "source": [
    "### Component Name"
   ]
  },
  {
   "cell_type": "code",
   "execution_count": 11,
   "metadata": {},
   "outputs": [
    {
     "data": {
      "image/png": "[encoded data removed]",
      "text/plain": [
       "<Figure size 1440x360 with 2 Axes>"
      ]
     },
     "metadata": {},
     "output_type": "display_data"
    }
   ],
   "source": [
    "fig, axes = plt.subplots(1, 2, sharey=True, figsize=(20,5))\n",
    "plt.subplots_adjust(hspace=0.8)\n",
    "sns.set_context(\"paper\")\n",
    "sns.despine(offset=5)\n",
    "sns.set(style=\"ticks\", color_codes=True, font_scale=1.5)\n",
    "\n",
    "for status, ax in zip(['correct', 'incorrect'], axes.flatten()):\n",
    "    plot_bar(long_lived_predicted_bugs, status, 'component_name', ax)"
   ]
  },
  {
   "cell_type": "markdown",
   "metadata": {},
   "source": [
    "### Severity Level"
   ]
  },
  {
   "cell_type": "code",
   "execution_count": 12,
   "metadata": {},
   "outputs": [
    {
     "data": {
      "image/png": "[encoded data removed]",
      "text/plain": [
       "<Figure size 1440x360 with 2 Axes>"
      ]
     },
     "metadata": {},
     "output_type": "display_data"
    }
   ],
   "source": [
    "fig, axes = plt.subplots(1, 2, sharey=True, figsize=(20,5))\n",
    "plt.subplots_adjust(hspace=0.8)\n",
    "sns.set_context(\"paper\")\n",
    "sns.despine(offset=5)\n",
    "sns.set(style=\"ticks\", color_codes=True, font_scale=1.5)\n",
    "\n",
    "for status, ax in zip(['correct', 'incorrect'], axes.flatten()):\n",
    "    plot_bar(long_lived_predicted_bugs, status, 'severity_category', ax)"
   ]
  },
  {
   "cell_type": "markdown",
   "metadata": {},
   "source": [
    "### Long Description \n",
    "Existem muitas palavras relacionadas com código(stop words)."
   ]
  },
  {
   "cell_type": "markdown",
   "metadata": {},
   "source": [
    "#### Word cloud"
   ]
  },
  {
   "cell_type": "markdown",
   "metadata": {},
   "source": [
    "<table width=\"100%\">\n",
    "    <tbody>\n",
    "        <tr>\n",
    "            <td>Corrected</td>\n",
    "            <td>Incorrected</td>\n",
    "        </tr>\n",
    "        <tr>\n",
    "        <td>\n",
    "<img src=\"datasets/wordcloud-gcc-corrected-predicted-bugs.png\" alt=\"Drawing\" style=\"width: 100%;\"/>\n",
    "        </td>\n",
    "        <td>\n",
    "<img src=\"datasets/wordcloud-gcc-incorrected-predicted-bugs.png\" alt=\"Drawing\" style=\"width: 100%;\"/>            \n",
    "        </td>\n",
    "        </tr>\n",
    "     </tbody>\n",
    "</table>"
   ]
  },
  {
   "cell_type": "markdown",
   "metadata": {},
   "source": [
    "#### Histograms "
   ]
  },
  {
   "cell_type": "markdown",
   "metadata": {},
   "source": [
    "<table width=\"100%\">\n",
    "    <tbody>\n",
    "        <tr>\n",
    "        <td>\n",
    "<img src=\"datasets/histfreq-gcc-corrected-predicted-bugs.png\" alt=\"Drawing\" style=\"width: 100%;\"/>\n",
    "        </td>\n",
    "        <td>\n",
    "<img src=\"datasets/histfreq-gcc-incorrected-predicted-bugs.png\" alt=\"Drawing\" style=\"width: 100%;\"/>            \n",
    "        </td>\n",
    "        </tr>\n",
    "     </tbody>\n",
    "</table>"
   ]
  },
  {
   "cell_type": "code",
   "execution_count": null,
   "metadata": {},
   "outputs": [],
   "source": []
  }
 ],
 "metadata": {
  "kernelspec": {
   "display_name": "Python 3",
   "language": "python",
   "name": "python3"
  },
  "language_info": {
   "codemirror_mode": {
    "name": "ipython",
    "version": 3
   },
   "file_extension": ".py",
   "mimetype": "text/x-python",
   "name": "python",
   "nbconvert_exporter": "python",
   "pygments_lexer": "ipython3",
   "version": "3.7.3"
  }
 },
 "nbformat": 4,
 "nbformat_minor": 2
}
