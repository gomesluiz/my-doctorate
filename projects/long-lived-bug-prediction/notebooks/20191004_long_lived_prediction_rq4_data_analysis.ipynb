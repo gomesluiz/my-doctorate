{
 "cells": [
  {
   "cell_type": "markdown",
   "metadata": {},
   "source": [
    "# Research Question No. 4\n",
    "This research question aims to investigate the characteristics of groups of bugs for which classifiers yield better accuracy."
   ]
  },
  {
   "cell_type": "markdown",
   "metadata": {},
   "source": [
    "# 1. Experimental parameters"
   ]
  },
  {
   "cell_type": "markdown",
   "metadata": {},
   "source": [
    "\n",
    "| Parameter                  |         Value        |\n",
    "|----------------------------|:--------------------:|\n",
    "| Project                    |        Eclipse, Freedesktop, Gcc, Gnome, Mozilla, WineHQ       |\n",
    "| Algorithms                 | NN |\n",
    "| Metrics                    | Accuracy |\n",
    "| Features                   | Long Description |\n",
    "| Number of Terms            |        100       |\n",
    "| Balancing                  |        Smote   |\n",
    "| Resampling                 |        Repeated CV 5 x 2       |\n",
    "| Threshold                  |        365       |\n",
    "\n",
    "\n",
    "\n",
    "\n",
    "\n",
    "\n",
    "\n",
    "\n",
    "Every bug which its report have indicated that the number of days to resolve is less than or equal to **threshold fixed** was considered a **non-long lived bug** and that which the number of days to resolve is greater than this threshold was considered as a **long-live bug**. "
   ]
  },
  {
   "cell_type": "markdown",
   "metadata": {},
   "source": [
    "# 2. Setup environment"
   ]
  },
  {
   "cell_type": "code",
   "execution_count": 3,
   "metadata": {},
   "outputs": [
    {
     "data": {
      "application/javascript": [
       "IPython.OutputArea.prototype._should_scroll = function(lines) {\n",
       "    return false;\n",
       "}\n"
      ],
      "text/plain": [
       "<IPython.core.display.Javascript object>"
      ]
     },
     "metadata": {},
     "output_type": "display_data"
    }
   ],
   "source": [
    "%%javascript\n",
    "IPython.OutputArea.prototype._should_scroll = function(lines) {\n",
    "    return false;\n",
    "}"
   ]
  },
  {
   "cell_type": "code",
   "execution_count": 100,
   "metadata": {},
   "outputs": [
    {
     "name": "stdout",
     "output_type": "stream",
     "text": [
      "Setup complete\n"
     ]
    }
   ],
   "source": [
    "import matplotlib.pyplot as plt \n",
    "import numpy as np\n",
    "import os \n",
    "import pandas as pd\n",
    "import seaborn as sns \n",
    "from scipy.stats import friedmanchisquare\n",
    "from scipy.stats import kruskal\n",
    "\n",
    "# Setup Matplotlib\n",
    "plt.rc('figure', figsize=(20, 20))\n",
    "\n",
    "plt.style.use('default')\n",
    "SMALL_SIZE = 8\n",
    "MEDIUM_SIZE = 10\n",
    "BIGGER_SIZE = 12\n",
    "\n",
    "plt.rc('font', size=SMALL_SIZE)          # controls default text sizes\n",
    "plt.rc('axes', titlesize=SMALL_SIZE)     # fontsize of the axes title\n",
    "plt.rc('axes', labelsize=MEDIUM_SIZE)    # fontsize of the x and y labels\n",
    "plt.rc('xtick', labelsize=SMALL_SIZE)    # fontsize of the tick labels\n",
    "plt.rc('ytick', labelsize=SMALL_SIZE)    # fontsize of the tick labels\n",
    "plt.rc('legend', fontsize=SMALL_SIZE)    # legend fontsize\n",
    "plt.rc('figure', titlesize=BIGGER_SIZE)  # fontsize of the figure title\n",
    "%matplotlib inline \n",
    "\n",
    "# Setup Seaborn\n",
    "sns.set_context(\"paper\")\n",
    "sns.set_style(\"ticks\")\n",
    "\n",
    "pd.set_option('display.max_columns', None)\n",
    "\n",
    "results_path = \"datasets/20190926143854_rq3e4_gcc_predict_long_lived_tests_balanced_acc.csv\"\n",
    "reports_path = \"datasets/20190917_gcc_bug_report_data.csv\"\n",
    "print(\"Setup complete\")"
   ]
  },
  {
   "cell_type": "markdown",
   "metadata": {},
   "source": [
    "# 3. Load data"
   ]
  },
  {
   "cell_type": "code",
   "execution_count": 5,
   "metadata": {},
   "outputs": [
    {
     "name": "stdout",
     "output_type": "stream",
     "text": [
      "\n",
      "Header of metrics file datasets/20190917_gcc_bug_report_data.csv\n",
      "bug_id,creation_date,component_name,product_name,short_description,long_description,assignee_name,reporter_name,resolution_category,resolution_code,status_category,status_code,update_date,quantity_of_votes,quantity_of_comments,resolution_date,bug_fix_time,severity_category,severity_code\n",
      "CLASSPATH-26758,2006-03-19,awt,CLASSPATH,GdkFontPeer.getPostScriptFontName unimplemented,The Openstreetmap applet expects java.awt.Font.getPSFontName() to return something non-null.,unassigned,roman,fixed,1,resolved,4,2006-05-20,0,12,2006-05-20,62,normal,2\n",
      "\n",
      "Number of lines in the file datasets/20190917_gcc_bug_report_data.csv\n",
      "489575 datasets/20190917_gcc_bug_report_data.csv\n",
      "\n",
      "Header of metrics file datasets/20190926143854_rq3e4_gcc_predict_long_lived_tests_balanced_acc.csv\n",
      "bug_id,bug_fix_time,long_lived,y_hat\n",
      "CLASSPATH-16983,15,N,N\n",
      "\n",
      "Number of lines in the file datasets/20190926143854_rq3e4_gcc_predict_long_lived_tests_balanced_acc.csv\n",
      "2481 datasets/20190926143854_rq3e4_gcc_predict_long_lived_tests_balanced_acc.csv\n"
     ]
    }
   ],
   "source": [
    "    !echo \"\\nHeader of metrics file $reports_path\"\n",
    "    !head -n 2 $reports_path\n",
    "\n",
    "    !echo \"\\nNumber of lines in the file $reports_path\"\n",
    "    !wc -l $reports_path\n",
    "    \n",
    "    !echo \"\\nHeader of metrics file $results_path\"\n",
    "    !head -n 2 $results_path\n",
    "\n",
    "    !echo \"\\nNumber of lines in the file $results_path\"\n",
    "    !wc -l $results_path"
   ]
  },
  {
   "cell_type": "code",
   "execution_count": 6,
   "metadata": {},
   "outputs": [
    {
     "name": "stdout",
     "output_type": "stream",
     "text": [
      "There are 10000 rows and 19 columns in datasets/20190917_gcc_bug_report_data.csv.\n",
      "\n",
      "There are 2480 rows and 4 columns in datasets/20190917_gcc_bug_report_data.csv.\n",
      "\n"
     ]
    }
   ],
   "source": [
    "# read data.\n",
    "reports_data  = pd.read_csv(reports_path)\n",
    "rows_and_cols = reports_data.shape\n",
    "print(f\"There are {rows_and_cols[0]} rows and {rows_and_cols[1]} columns in {reports_path}.\\n\")\n",
    "\n",
    "results_data = pd.read_csv(results_path)\n",
    "rows_and_cols = results_data.shape\n",
    "print(f\"There are {rows_and_cols[0]} rows and {rows_and_cols[1]} columns in {reports_path}.\\n\")\n"
   ]
  },
  {
   "cell_type": "markdown",
   "metadata": {},
   "source": [
    "# 4. Test Results Analysis"
   ]
  },
  {
   "cell_type": "markdown",
   "metadata": {},
   "source": [
    "### 4.1 Review data"
   ]
  },
  {
   "cell_type": "code",
   "execution_count": 7,
   "metadata": {},
   "outputs": [
    {
     "data": {
      "text/html": [
       "<div>\n",
       "<style scoped>\n",
       "    .dataframe tbody tr th:only-of-type {\n",
       "        vertical-align: middle;\n",
       "    }\n",
       "\n",
       "    .dataframe tbody tr th {\n",
       "        vertical-align: top;\n",
       "    }\n",
       "\n",
       "    .dataframe thead th {\n",
       "        text-align: right;\n",
       "    }\n",
       "</style>\n",
       "<table border=\"1\" class=\"dataframe\">\n",
       "  <thead>\n",
       "    <tr style=\"text-align: right;\">\n",
       "      <th></th>\n",
       "      <th>bug_id</th>\n",
       "      <th>bug_fix_time</th>\n",
       "      <th>long_lived</th>\n",
       "      <th>y_hat</th>\n",
       "    </tr>\n",
       "  </thead>\n",
       "  <tbody>\n",
       "    <tr>\n",
       "      <td>0</td>\n",
       "      <td>CLASSPATH-16983</td>\n",
       "      <td>15</td>\n",
       "      <td>N</td>\n",
       "      <td>N</td>\n",
       "    </tr>\n",
       "    <tr>\n",
       "      <td>1</td>\n",
       "      <td>CLASSPATH-17008</td>\n",
       "      <td>342</td>\n",
       "      <td>N</td>\n",
       "      <td>N</td>\n",
       "    </tr>\n",
       "    <tr>\n",
       "      <td>2</td>\n",
       "      <td>CLASSPATH-17060</td>\n",
       "      <td>337</td>\n",
       "      <td>N</td>\n",
       "      <td>N</td>\n",
       "    </tr>\n",
       "    <tr>\n",
       "      <td>3</td>\n",
       "      <td>CLASSPATH-18312</td>\n",
       "      <td>5</td>\n",
       "      <td>N</td>\n",
       "      <td>N</td>\n",
       "    </tr>\n",
       "    <tr>\n",
       "      <td>4</td>\n",
       "      <td>CLASSPATH-21635</td>\n",
       "      <td>96</td>\n",
       "      <td>N</td>\n",
       "      <td>N</td>\n",
       "    </tr>\n",
       "  </tbody>\n",
       "</table>\n",
       "</div>"
      ],
      "text/plain": [
       "            bug_id  bug_fix_time long_lived y_hat\n",
       "0  CLASSPATH-16983            15          N     N\n",
       "1  CLASSPATH-17008           342          N     N\n",
       "2  CLASSPATH-17060           337          N     N\n",
       "3  CLASSPATH-18312             5          N     N\n",
       "4  CLASSPATH-21635            96          N     N"
      ]
     },
     "execution_count": 7,
     "metadata": {},
     "output_type": "execute_result"
    }
   ],
   "source": [
    "results_data.head()"
   ]
  },
  {
   "cell_type": "code",
   "execution_count": 8,
   "metadata": {},
   "outputs": [],
   "source": [
    "reports_data['long_lived_computed']  = reports_data['bug_fix_time'].apply(lambda t: 'long-lived' if t > 365 else 'short-lived')"
   ]
  },
  {
   "cell_type": "code",
   "execution_count": 9,
   "metadata": {},
   "outputs": [
    {
     "data": {
      "text/plain": [
       "0    short-lived\n",
       "1    short-lived\n",
       "2     long-lived\n",
       "3    short-lived\n",
       "4    short-lived\n",
       "Name: long_lived_computed, dtype: object"
      ]
     },
     "execution_count": 9,
     "metadata": {},
     "output_type": "execute_result"
    }
   ],
   "source": [
    "reports_data['long_lived_computed'].head()"
   ]
  },
  {
   "cell_type": "markdown",
   "metadata": {},
   "source": [
    "## 4.2 Results analysis"
   ]
  },
  {
   "cell_type": "code",
   "execution_count": 123,
   "metadata": {},
   "outputs": [],
   "source": [
    "def plot_bar(data, status, column, top_all_10, ax):\n",
    "    \n",
    "    top_n = data[data['status_prediction']==status]\n",
    "    top_n = top_n.groupby(column).size().reset_index(name='count')\n",
    "    top_n = top_n.sort_values('count', ascending=False).head(10)\n",
    "    \n",
    "    colors  = top_n[column].apply(lambda t: 'tab:red' if (top_all_10[column] == t).sum() > 0 else 'tab:blue')\n",
    "    \n",
    "    plt.sca(ax)\n",
    "    plt.bar(top_n[column], top_n['count'], color=colors)\n",
    "    plt.xticks(rotation='vertical')\n",
    "    \n",
    "    ax.set(title=f\"prediction: {status}\", xlabel=\"\", ylabel=\"Count\")\n",
    "    "
   ]
  },
  {
   "cell_type": "code",
   "execution_count": 124,
   "metadata": {},
   "outputs": [],
   "source": [
    "results_merged_data = pd.merge(\n",
    "    reports_data,\n",
    "    results_data[['bug_id', 'long_lived', 'y_hat']],\n",
    "    left_on='bug_id',\n",
    "    right_on='bug_id',\n",
    "    how='inner'\n",
    ")"
   ]
  },
  {
   "cell_type": "code",
   "execution_count": 125,
   "metadata": {},
   "outputs": [],
   "source": [
    "long_lived_predicted_bugs = results_merged_data.query('long_lived == \"Y\"')\n",
    "long_lived_predicted_bugs.loc[:, 'status_prediction']  = long_lived_predicted_bugs.loc[:, 'y_hat'].apply(lambda t: 'correct' if t == 'Y' else 'incorrect')"
   ]
  },
  {
   "cell_type": "markdown",
   "metadata": {},
   "source": [
    "### Reporter Name"
   ]
  },
  {
   "cell_type": "code",
   "execution_count": 126,
   "metadata": {},
   "outputs": [
    {
     "data": {
      "image/png": "[encoded data removed]",
      "text/plain": [
       "<Figure size 1440x360 with 2 Axes>"
      ]
     },
     "metadata": {},
     "output_type": "display_data"
    }
   ],
   "source": [
    "fig, axes = plt.subplots(1, 2, sharey=True, figsize=(20,5))\n",
    "plt.subplots_adjust(hspace=0.8)\n",
    "\n",
    "sns.set_context(\"paper\")\n",
    "sns.despine(offset=5)\n",
    "sns.set(style=\"ticks\", color_codes=True, font_scale=1.0)\n",
    "\n",
    "top_10_reporters = reports_data.groupby(['reporter_name', \"long_lived_computed\"]).size().reset_index(name='count')\n",
    "top_10_reporters = top_10_reporters.sort_values('count', ascending=False).head(10)\n",
    "\n",
    "for status, ax in zip(['correct', 'incorrect'], axes.flatten()):\n",
    "    plot_bar(long_lived_predicted_bugs, status, 'reporter_name', top_10_reporters, ax)"
   ]
  },
  {
   "cell_type": "code",
   "execution_count": 127,
   "metadata": {},
   "outputs": [
    {
     "data": {
      "text/html": [
       "<div>\n",
       "<style scoped>\n",
       "    .dataframe tbody tr th:only-of-type {\n",
       "        vertical-align: middle;\n",
       "    }\n",
       "\n",
       "    .dataframe tbody tr th {\n",
       "        vertical-align: top;\n",
       "    }\n",
       "\n",
       "    .dataframe thead th {\n",
       "        text-align: right;\n",
       "    }\n",
       "</style>\n",
       "<table border=\"1\" class=\"dataframe\">\n",
       "  <thead>\n",
       "    <tr style=\"text-align: right;\">\n",
       "      <th></th>\n",
       "      <th>reporter_name</th>\n",
       "      <th>long_lived_computed</th>\n",
       "      <th>count</th>\n",
       "    </tr>\n",
       "  </thead>\n",
       "  <tbody>\n",
       "    <tr>\n",
       "      <td>1492</td>\n",
       "      <td>hjl.tools</td>\n",
       "      <td>short-lived</td>\n",
       "      <td>281</td>\n",
       "    </tr>\n",
       "    <tr>\n",
       "      <td>2887</td>\n",
       "      <td>reichelt</td>\n",
       "      <td>short-lived</td>\n",
       "      <td>203</td>\n",
       "    </tr>\n",
       "    <tr>\n",
       "      <td>3759</td>\n",
       "      <td>zsojka</td>\n",
       "      <td>short-lived</td>\n",
       "      <td>180</td>\n",
       "    </tr>\n",
       "    <tr>\n",
       "      <td>816</td>\n",
       "      <td>danglin</td>\n",
       "      <td>short-lived</td>\n",
       "      <td>175</td>\n",
       "    </tr>\n",
       "    <tr>\n",
       "      <td>600</td>\n",
       "      <td>burnus</td>\n",
       "      <td>short-lived</td>\n",
       "      <td>155</td>\n",
       "    </tr>\n",
       "    <tr>\n",
       "      <td>1616</td>\n",
       "      <td>jakub</td>\n",
       "      <td>short-lived</td>\n",
       "      <td>117</td>\n",
       "    </tr>\n",
       "    <tr>\n",
       "      <td>2735</td>\n",
       "      <td>pinskia</td>\n",
       "      <td>short-lived</td>\n",
       "      <td>113</td>\n",
       "    </tr>\n",
       "    <tr>\n",
       "      <td>2904</td>\n",
       "      <td>rguenth</td>\n",
       "      <td>short-lived</td>\n",
       "      <td>113</td>\n",
       "    </tr>\n",
       "    <tr>\n",
       "      <td>986</td>\n",
       "      <td>dominiq</td>\n",
       "      <td>short-lived</td>\n",
       "      <td>109</td>\n",
       "    </tr>\n",
       "    <tr>\n",
       "      <td>882</td>\n",
       "      <td>dcb314</td>\n",
       "      <td>short-lived</td>\n",
       "      <td>90</td>\n",
       "    </tr>\n",
       "  </tbody>\n",
       "</table>\n",
       "</div>"
      ],
      "text/plain": [
       "     reporter_name long_lived_computed  count\n",
       "1492     hjl.tools         short-lived    281\n",
       "2887      reichelt         short-lived    203\n",
       "3759        zsojka         short-lived    180\n",
       "816        danglin         short-lived    175\n",
       "600         burnus         short-lived    155\n",
       "1616         jakub         short-lived    117\n",
       "2735       pinskia         short-lived    113\n",
       "2904       rguenth         short-lived    113\n",
       "986        dominiq         short-lived    109\n",
       "882         dcb314         short-lived     90"
      ]
     },
     "execution_count": 127,
     "metadata": {},
     "output_type": "execute_result"
    }
   ],
   "source": [
    "top_10_reporters"
   ]
  },
  {
   "cell_type": "markdown",
   "metadata": {},
   "source": [
    "### Assignee"
   ]
  },
  {
   "cell_type": "code",
   "execution_count": 128,
   "metadata": {},
   "outputs": [
    {
     "data": {
      "image/png": "[encoded data removed]",
      "text/plain": [
       "<Figure size 1440x360 with 2 Axes>"
      ]
     },
     "metadata": {},
     "output_type": "display_data"
    }
   ],
   "source": [
    "fig, axes = plt.subplots(1, 2, sharey=True, figsize=(20,5))\n",
    "plt.subplots_adjust(hspace=0.8)\n",
    "\n",
    "sns.set_context(\"paper\")\n",
    "sns.despine(offset=5)\n",
    "sns.set(style=\"ticks\", color_codes=True, font_scale=1.5)\n",
    "\n",
    "top_10_assignees = reports_data.groupby(['assignee_name', \"long_lived_computed\"]).size().reset_index(name='count')\n",
    "top_10_assignees = top_10_assignees.sort_values('count', ascending=False).head(10)\n",
    "\n",
    "\n",
    "for status, ax in zip(['correct', 'incorrect'], axes.flatten()):\n",
    "    plot_bar(long_lived_predicted_bugs, status, 'assignee_name', top_10_assignees, ax)"
   ]
  },
  {
   "cell_type": "markdown",
   "metadata": {},
   "source": [
    "### Component Name"
   ]
  },
  {
   "cell_type": "code",
   "execution_count": 129,
   "metadata": {},
   "outputs": [
    {
     "data": {
      "image/png": "[encoded data removed]",
      "text/plain": [
       "<Figure size 1440x360 with 2 Axes>"
      ]
     },
     "metadata": {},
     "output_type": "display_data"
    }
   ],
   "source": [
    "fig, axes = plt.subplots(1, 2, sharey=True, figsize=(20,5))\n",
    "plt.subplots_adjust(hspace=0.8)\n",
    "\n",
    "sns.set_context(\"paper\")\n",
    "sns.despine(offset=5)\n",
    "sns.set(style=\"ticks\", color_codes=True, font_scale=1.5)\n",
    "\n",
    "top_10_components = reports_data.groupby(['component_name', \"long_lived_computed\"]).size().reset_index(name='count')\n",
    "top_10_components = top_10_components.sort_values('count', ascending=False).head(10)\n",
    "\n",
    "for status, ax in zip(['correct', 'incorrect'], axes.flatten()):\n",
    "    plot_bar(long_lived_predicted_bugs, status, 'component_name', top_10_components, ax)"
   ]
  },
  {
   "cell_type": "markdown",
   "metadata": {},
   "source": [
    "### Severity Level"
   ]
  },
  {
   "cell_type": "code",
   "execution_count": null,
   "metadata": {},
   "outputs": [],
   "source": [
    "fig, axes = plt.subplots(1, 2, sharey=True, figsize=(20,5))\n",
    "plt.subplots_adjust(hspace=0.8)\n",
    "sns.set_context(\"paper\")\n",
    "sns.despine(offset=5)\n",
    "sns.set(style=\"ticks\", color_codes=True, font_scale=1.5)\n",
    "\n",
    "for status, ax in zip(['correct', 'incorrect'], axes.flatten()):\n",
    "    plot_bar(long_lived_predicted_bugs, status, 'severity_category', ax)"
   ]
  },
  {
   "cell_type": "markdown",
   "metadata": {},
   "source": [
    "### Long Description \n",
    "Existem muitas palavras relacionadas com código(stop words)."
   ]
  },
  {
   "cell_type": "markdown",
   "metadata": {},
   "source": [
    "#### Word cloud"
   ]
  },
  {
   "cell_type": "markdown",
   "metadata": {},
   "source": [
    "<table width=\"100%\">\n",
    "    <tbody>\n",
    "        <tr>\n",
    "            <td>Corrected</td>\n",
    "            <td>Incorrected</td>\n",
    "        </tr>\n",
    "        <tr>\n",
    "        <td>\n",
    "<img src=\"datasets/wordcloud-gcc-corrected-predicted-bugs.png\" alt=\"Drawing\" style=\"width: 100%;\"/>\n",
    "        </td>\n",
    "        <td>\n",
    "<img src=\"datasets/wordcloud-gcc-incorrected-predicted-bugs.png\" alt=\"Drawing\" style=\"width: 100%;\"/>            \n",
    "        </td>\n",
    "        </tr>\n",
    "     </tbody>\n",
    "</table>"
   ]
  },
  {
   "cell_type": "markdown",
   "metadata": {},
   "source": [
    "#### Histograms "
   ]
  },
  {
   "cell_type": "markdown",
   "metadata": {},
   "source": [
    "<table width=\"100%\">\n",
    "    <tbody>\n",
    "        <tr>\n",
    "        <td>\n",
    "<img src=\"datasets/histfreq-gcc-corrected-predicted-bugs.png\" alt=\"Drawing\" style=\"width: 100%;\"/>\n",
    "        </td>\n",
    "        <td>\n",
    "<img src=\"datasets/histfreq-gcc-incorrected-predicted-bugs.png\" alt=\"Drawing\" style=\"width: 100%;\"/>            \n",
    "        </td>\n",
    "        </tr>\n",
    "     </tbody>\n",
    "</table>"
   ]
  },
  {
   "cell_type": "code",
   "execution_count": null,
   "metadata": {},
   "outputs": [],
   "source": []
  }
 ],
 "metadata": {
  "kernelspec": {
   "display_name": "Python 3",
   "language": "python",
   "name": "python3"
  },
  "language_info": {
   "codemirror_mode": {
    "name": "ipython",
    "version": 3
   },
   "file_extension": ".py",
   "mimetype": "text/x-python",
   "name": "python",
   "nbconvert_exporter": "python",
   "pygments_lexer": "ipython3",
   "version": "3.7.4"
  }
 },
 "nbformat": 4,
 "nbformat_minor": 2
}
