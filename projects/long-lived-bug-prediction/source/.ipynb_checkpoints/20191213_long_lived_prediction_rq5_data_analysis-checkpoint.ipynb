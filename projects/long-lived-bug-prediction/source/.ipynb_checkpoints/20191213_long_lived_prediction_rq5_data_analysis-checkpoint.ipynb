{
 "cells": [
  {
   "cell_type": "markdown",
   "metadata": {},
   "source": [
    "# Research Question No. 5\n",
    "This research question aims to investigate the characteristics of groups of bugs for which classifiers yield better accuracy."
   ]
  },
  {
   "cell_type": "markdown",
   "metadata": {},
   "source": [
    "# 1. Experimental parameters"
   ]
  },
  {
   "cell_type": "markdown",
   "metadata": {},
   "source": [
    "\n",
    "| Parameter                  |         Value        |\n",
    "|----------------------------|:--------------------:|\n",
    "| Project                    |        Eclipse, Freedesktop, Gcc, Gnome, Mozilla, WineHQ       |\n",
    "| Algorithms                 | NN |\n",
    "| Metrics                    | Accuracy |\n",
    "| Features                   | Long Description |\n",
    "| Number of Terms            |        100       |\n",
    "| Balancing                  |        Smote   |\n",
    "| Resampling                 |        Repeated CV 5 x 2       |\n",
    "| Threshold                  |        365       |\n",
    "\n",
    "\n",
    "\n",
    "\n",
    "\n",
    "\n",
    "\n",
    "\n",
    "Every bug which its report have indicated that the number of days to resolve is less than or equal to **threshold fixed** was considered a **non-long lived bug** and that which the number of days to resolve is greater than this threshold was considered as a **long-live bug**. "
   ]
  },
  {
   "cell_type": "markdown",
   "metadata": {},
   "source": [
    "# 2. Setup environment"
   ]
  },
  {
   "cell_type": "code",
   "execution_count": 1,
   "metadata": {},
   "outputs": [
    {
     "data": {
      "application/javascript": [
       "IPython.OutputArea.prototype._should_scroll = function(lines) {\n",
       "    return false;\n",
       "}\n"
      ],
      "text/plain": [
       "<IPython.core.display.Javascript object>"
      ]
     },
     "metadata": {},
     "output_type": "display_data"
    }
   ],
   "source": [
    "%%javascript\n",
    "IPython.OutputArea.prototype._should_scroll = function(lines) {\n",
    "    return false;\n",
    "}"
   ]
  },
  {
   "cell_type": "code",
   "execution_count": 2,
   "metadata": {},
   "outputs": [
    {
     "name": "stdout",
     "output_type": "stream",
     "text": [
      "Setup complete\n"
     ]
    }
   ],
   "source": [
    "import os \n",
    "import matplotlib.pyplot  as plt \n",
    "import matplotlib.patches as mpatches\n",
    "import numpy as np\n",
    "import pandas as pd\n",
    "import seaborn as sns \n",
    "from wordcloud import WordCloud\n",
    "from scipy.stats import friedmanchisquare\n",
    "from scipy.stats import kruskal\n",
    "\n",
    "# Setup Matplotlib\n",
    "plt.rc('figure', figsize=(20, 20))\n",
    "plt.style.use('default')\n",
    "SMALL_SIZE = 12\n",
    "MEDIUM_SIZE = 15\n",
    "BIGGER_SIZE = 20\n",
    "\n",
    "plt.rc('font', size=SMALL_SIZE)          # controls default text sizes\n",
    "plt.rc('axes', titlesize=SMALL_SIZE)     # fontsize of the axes title\n",
    "plt.rc('axes', labelsize=SMALL_SIZE)    # fontsize of the x and y labels\n",
    "plt.rc('xtick', labelsize=SMALL_SIZE)    # fontsize of the tick labels\n",
    "plt.rc('ytick', labelsize=SMALL_SIZE)    # fontsize of the tick labels\n",
    "plt.rc('legend', fontsize=SMALL_SIZE)    # legend fontsize\n",
    "plt.rc('figure', titlesize=SMALL_SIZE)  # fontsize of the figure title\n",
    "%matplotlib inline \n",
    "\n",
    "# Setup Seaborn\n",
    "sns.set_context(\"paper\")\n",
    "sns.set_style(\"ticks\")\n",
    "\n",
    "pd.set_option('display.max_columns', None)\n",
    "\n",
    "results_gcc_path = \"datasets/rq4e4_gcc_test_results_balanced_acc.csv\"\n",
    "reports_gcc_path = \"datasets/20190917_gcc_bug_report_data.csv\"\n",
    "\n",
    "results_eclipse_path = \"datasets/rq4e4_eclipse_test_results_balanced_acc.csv\"\n",
    "reports_eclipse_path = \"datasets/20190917_eclipse_bug_report_data.csv\"\n",
    "\n",
    "print(\"Setup complete\")"
   ]
  },
  {
   "cell_type": "markdown",
   "metadata": {},
   "source": [
    "# 3. Load data"
   ]
  },
  {
   "cell_type": "code",
   "execution_count": 3,
   "metadata": {},
   "outputs": [
    {
     "name": "stdout",
     "output_type": "stream",
     "text": [
      "\\nHeader of metrics file datasets/20190917_gcc_bug_report_data.csv\n",
      "bug_id,creation_date,component_name,product_name,short_description,long_description,assignee_name,reporter_name,resolution_category,resolution_code,status_category,status_code,update_date,quantity_of_votes,quantity_of_comments,resolution_date,bug_fix_time,severity_category,severity_code\n",
      "CLASSPATH-26758,2006-03-19,awt,CLASSPATH,GdkFontPeer.getPostScriptFontName unimplemented,The Openstreetmap applet expects java.awt.Font.getPSFontName() to return something non-null.,unassigned,roman,fixed,1,resolved,4,2006-05-20,0,12,2006-05-20,62,normal,2\n",
      "\\nNumber of lines in the file datasets/20190917_gcc_bug_report_data.csv\n",
      "489575 datasets/20190917_gcc_bug_report_data.csv\n",
      "\\nHeader of metrics file datasets/rq4e4_eclipse_test_results_balanced_acc.csv\n",
      "bug_id,bug_fix_time,long_lived,y_hat\n",
      "4DIAC-495630,38,N,N\n",
      "\\nNumber of lines in the file datasets/rq4e4_eclipse_test_results_balanced_acc.csv\n",
      "2409 datasets/rq4e4_eclipse_test_results_balanced_acc.csv\n"
     ]
    }
   ],
   "source": [
    "    !echo \"\\nHeader of metrics file $reports_gcc_path\"\n",
    "    !head -n 2 $reports_gcc_path\n",
    "\n",
    "    !echo \"\\nNumber of lines in the file $reports_gcc_path\"\n",
    "    !wc -l $reports_gcc_path\n",
    "    \n",
    "    !echo \"\\nHeader of metrics file $results_eclipse_path\"\n",
    "    !head -n 2 $results_eclipse_path\n",
    "\n",
    "    !echo \"\\nNumber of lines in the file $results_eclipse_path\"\n",
    "    !wc -l $results_eclipse_path"
   ]
  },
  {
   "cell_type": "code",
   "execution_count": 4,
   "metadata": {},
   "outputs": [
    {
     "name": "stdout",
     "output_type": "stream",
     "text": [
      "There are 10000 rows and 19 columns in datasets/20190917_gcc_bug_report_data.csv.\n",
      "\n",
      "There are 2480 rows and 4 columns in datasets/rq4e4_gcc_test_results_balanced_acc.csv.\n",
      "\n",
      "There are 10000 rows and 19 columns in datasets/20190917_eclipse_bug_report_data.csv.\n",
      "\n",
      "There are 2408 rows and 4 columns in datasets/rq4e4_eclipse_test_results_balanced_acc.csv.\n",
      "\n"
     ]
    }
   ],
   "source": [
    "# read data.\n",
    "reports_gcc_data  = pd.read_csv(reports_gcc_path)\n",
    "rows_and_cols = reports_gcc_data.shape\n",
    "print(f\"There are {rows_and_cols[0]} rows and {rows_and_cols[1]} columns in {reports_gcc_path}.\\n\")\n",
    "\n",
    "results_gcc_data = pd.read_csv(results_gcc_path)\n",
    "rows_and_cols = results_gcc_data.shape\n",
    "print(f\"There are {rows_and_cols[0]} rows and {rows_and_cols[1]} columns in {results_gcc_path}.\\n\")\n",
    "\n",
    "\n",
    "reports_eclipse_data  = pd.read_csv(reports_eclipse_path)\n",
    "rows_and_cols = reports_eclipse_data.shape\n",
    "print(f\"There are {rows_and_cols[0]} rows and {rows_and_cols[1]} columns in {reports_eclipse_path}.\\n\")\n",
    "\n",
    "results_eclipse_data = pd.read_csv(results_eclipse_path)\n",
    "rows_and_cols = results_eclipse_data.shape\n",
    "print(f\"There are {rows_and_cols[0]} rows and {rows_and_cols[1]} columns in {results_eclipse_path}.\\n\")\n"
   ]
  },
  {
   "cell_type": "markdown",
   "metadata": {},
   "source": [
    "# 4. Test Results Analysis"
   ]
  },
  {
   "cell_type": "markdown",
   "metadata": {},
   "source": [
    "### 4.1 Review data"
   ]
  },
  {
   "cell_type": "code",
   "execution_count": 5,
   "metadata": {},
   "outputs": [
    {
     "data": {
      "text/html": [
       "<div>\n",
       "<style scoped>\n",
       "    .dataframe tbody tr th:only-of-type {\n",
       "        vertical-align: middle;\n",
       "    }\n",
       "\n",
       "    .dataframe tbody tr th {\n",
       "        vertical-align: top;\n",
       "    }\n",
       "\n",
       "    .dataframe thead th {\n",
       "        text-align: right;\n",
       "    }\n",
       "</style>\n",
       "<table border=\"1\" class=\"dataframe\">\n",
       "  <thead>\n",
       "    <tr style=\"text-align: right;\">\n",
       "      <th></th>\n",
       "      <th>bug_id</th>\n",
       "      <th>bug_fix_time</th>\n",
       "      <th>long_lived</th>\n",
       "      <th>y_hat</th>\n",
       "    </tr>\n",
       "  </thead>\n",
       "  <tbody>\n",
       "    <tr>\n",
       "      <th>0</th>\n",
       "      <td>CLASSPATH-16983</td>\n",
       "      <td>15</td>\n",
       "      <td>N</td>\n",
       "      <td>N</td>\n",
       "    </tr>\n",
       "    <tr>\n",
       "      <th>1</th>\n",
       "      <td>CLASSPATH-17008</td>\n",
       "      <td>342</td>\n",
       "      <td>N</td>\n",
       "      <td>N</td>\n",
       "    </tr>\n",
       "    <tr>\n",
       "      <th>2</th>\n",
       "      <td>CLASSPATH-17060</td>\n",
       "      <td>337</td>\n",
       "      <td>N</td>\n",
       "      <td>N</td>\n",
       "    </tr>\n",
       "    <tr>\n",
       "      <th>3</th>\n",
       "      <td>CLASSPATH-18312</td>\n",
       "      <td>5</td>\n",
       "      <td>N</td>\n",
       "      <td>N</td>\n",
       "    </tr>\n",
       "    <tr>\n",
       "      <th>4</th>\n",
       "      <td>CLASSPATH-21635</td>\n",
       "      <td>96</td>\n",
       "      <td>N</td>\n",
       "      <td>N</td>\n",
       "    </tr>\n",
       "  </tbody>\n",
       "</table>\n",
       "</div>"
      ],
      "text/plain": [
       "            bug_id  bug_fix_time long_lived y_hat\n",
       "0  CLASSPATH-16983            15          N     N\n",
       "1  CLASSPATH-17008           342          N     N\n",
       "2  CLASSPATH-17060           337          N     N\n",
       "3  CLASSPATH-18312             5          N     N\n",
       "4  CLASSPATH-21635            96          N     N"
      ]
     },
     "execution_count": 5,
     "metadata": {},
     "output_type": "execute_result"
    }
   ],
   "source": [
    "results_gcc_data.head()"
   ]
  },
  {
   "cell_type": "code",
   "execution_count": 6,
   "metadata": {},
   "outputs": [],
   "source": [
    "reports_gcc_data['bug_class_observed']  = reports_gcc_data['bug_fix_time'].apply(lambda t: 'long-lived' if t > 365 else 'short-lived')"
   ]
  },
  {
   "cell_type": "code",
   "execution_count": 7,
   "metadata": {},
   "outputs": [
    {
     "data": {
      "text/html": [
       "<div>\n",
       "<style scoped>\n",
       "    .dataframe tbody tr th:only-of-type {\n",
       "        vertical-align: middle;\n",
       "    }\n",
       "\n",
       "    .dataframe tbody tr th {\n",
       "        vertical-align: top;\n",
       "    }\n",
       "\n",
       "    .dataframe thead th {\n",
       "        text-align: right;\n",
       "    }\n",
       "</style>\n",
       "<table border=\"1\" class=\"dataframe\">\n",
       "  <thead>\n",
       "    <tr style=\"text-align: right;\">\n",
       "      <th></th>\n",
       "      <th>bug_fix_time</th>\n",
       "      <th>bug_class_observed</th>\n",
       "    </tr>\n",
       "  </thead>\n",
       "  <tbody>\n",
       "    <tr>\n",
       "      <th>0</th>\n",
       "      <td>62</td>\n",
       "      <td>short-lived</td>\n",
       "    </tr>\n",
       "    <tr>\n",
       "      <th>1</th>\n",
       "      <td>2</td>\n",
       "      <td>short-lived</td>\n",
       "    </tr>\n",
       "    <tr>\n",
       "      <th>2</th>\n",
       "      <td>1089</td>\n",
       "      <td>long-lived</td>\n",
       "    </tr>\n",
       "    <tr>\n",
       "      <th>3</th>\n",
       "      <td>11</td>\n",
       "      <td>short-lived</td>\n",
       "    </tr>\n",
       "    <tr>\n",
       "      <th>4</th>\n",
       "      <td>62</td>\n",
       "      <td>short-lived</td>\n",
       "    </tr>\n",
       "  </tbody>\n",
       "</table>\n",
       "</div>"
      ],
      "text/plain": [
       "   bug_fix_time bug_class_observed\n",
       "0            62        short-lived\n",
       "1             2        short-lived\n",
       "2          1089         long-lived\n",
       "3            11        short-lived\n",
       "4            62        short-lived"
      ]
     },
     "execution_count": 7,
     "metadata": {},
     "output_type": "execute_result"
    }
   ],
   "source": [
    "reports_gcc_data[['bug_fix_time', 'bug_class_observed']].head()"
   ]
  },
  {
   "cell_type": "code",
   "execution_count": 8,
   "metadata": {},
   "outputs": [
    {
     "data": {
      "text/html": [
       "<div>\n",
       "<style scoped>\n",
       "    .dataframe tbody tr th:only-of-type {\n",
       "        vertical-align: middle;\n",
       "    }\n",
       "\n",
       "    .dataframe tbody tr th {\n",
       "        vertical-align: top;\n",
       "    }\n",
       "\n",
       "    .dataframe thead th {\n",
       "        text-align: right;\n",
       "    }\n",
       "</style>\n",
       "<table border=\"1\" class=\"dataframe\">\n",
       "  <thead>\n",
       "    <tr style=\"text-align: right;\">\n",
       "      <th></th>\n",
       "      <th>bug_id</th>\n",
       "      <th>bug_fix_time</th>\n",
       "      <th>long_lived</th>\n",
       "      <th>y_hat</th>\n",
       "    </tr>\n",
       "  </thead>\n",
       "  <tbody>\n",
       "    <tr>\n",
       "      <th>0</th>\n",
       "      <td>4DIAC-495630</td>\n",
       "      <td>38</td>\n",
       "      <td>N</td>\n",
       "      <td>N</td>\n",
       "    </tr>\n",
       "    <tr>\n",
       "      <th>1</th>\n",
       "      <td>4DIAC-510820</td>\n",
       "      <td>419</td>\n",
       "      <td>Y</td>\n",
       "      <td>N</td>\n",
       "    </tr>\n",
       "    <tr>\n",
       "      <th>2</th>\n",
       "      <td>4DIAC-517429</td>\n",
       "      <td>229</td>\n",
       "      <td>N</td>\n",
       "      <td>N</td>\n",
       "    </tr>\n",
       "    <tr>\n",
       "      <th>3</th>\n",
       "      <td>4DIAC-518907</td>\n",
       "      <td>200</td>\n",
       "      <td>N</td>\n",
       "      <td>N</td>\n",
       "    </tr>\n",
       "    <tr>\n",
       "      <th>4</th>\n",
       "      <td>ACCELEO-308970</td>\n",
       "      <td>0</td>\n",
       "      <td>N</td>\n",
       "      <td>N</td>\n",
       "    </tr>\n",
       "  </tbody>\n",
       "</table>\n",
       "</div>"
      ],
      "text/plain": [
       "           bug_id  bug_fix_time long_lived y_hat\n",
       "0    4DIAC-495630            38          N     N\n",
       "1    4DIAC-510820           419          Y     N\n",
       "2    4DIAC-517429           229          N     N\n",
       "3    4DIAC-518907           200          N     N\n",
       "4  ACCELEO-308970             0          N     N"
      ]
     },
     "execution_count": 8,
     "metadata": {},
     "output_type": "execute_result"
    }
   ],
   "source": [
    "results_eclipse_data.head()"
   ]
  },
  {
   "cell_type": "code",
   "execution_count": 9,
   "metadata": {},
   "outputs": [],
   "source": [
    "reports_eclipse_data['bug_class_observed']  = reports_eclipse_data['bug_fix_time'].apply(lambda t: 'long-lived' if t > 365 else 'short-lived')"
   ]
  },
  {
   "cell_type": "code",
   "execution_count": 10,
   "metadata": {},
   "outputs": [
    {
     "data": {
      "text/html": [
       "<div>\n",
       "<style scoped>\n",
       "    .dataframe tbody tr th:only-of-type {\n",
       "        vertical-align: middle;\n",
       "    }\n",
       "\n",
       "    .dataframe tbody tr th {\n",
       "        vertical-align: top;\n",
       "    }\n",
       "\n",
       "    .dataframe thead th {\n",
       "        text-align: right;\n",
       "    }\n",
       "</style>\n",
       "<table border=\"1\" class=\"dataframe\">\n",
       "  <thead>\n",
       "    <tr style=\"text-align: right;\">\n",
       "      <th></th>\n",
       "      <th>bug_fix_time</th>\n",
       "      <th>bug_class_observed</th>\n",
       "    </tr>\n",
       "  </thead>\n",
       "  <tbody>\n",
       "    <tr>\n",
       "      <th>0</th>\n",
       "      <td>0</td>\n",
       "      <td>short-lived</td>\n",
       "    </tr>\n",
       "    <tr>\n",
       "      <th>1</th>\n",
       "      <td>177</td>\n",
       "      <td>short-lived</td>\n",
       "    </tr>\n",
       "    <tr>\n",
       "      <th>2</th>\n",
       "      <td>1</td>\n",
       "      <td>short-lived</td>\n",
       "    </tr>\n",
       "    <tr>\n",
       "      <th>3</th>\n",
       "      <td>50</td>\n",
       "      <td>short-lived</td>\n",
       "    </tr>\n",
       "    <tr>\n",
       "      <th>4</th>\n",
       "      <td>264</td>\n",
       "      <td>short-lived</td>\n",
       "    </tr>\n",
       "  </tbody>\n",
       "</table>\n",
       "</div>"
      ],
      "text/plain": [
       "   bug_fix_time bug_class_observed\n",
       "0             0        short-lived\n",
       "1           177        short-lived\n",
       "2             1        short-lived\n",
       "3            50        short-lived\n",
       "4           264        short-lived"
      ]
     },
     "execution_count": 10,
     "metadata": {},
     "output_type": "execute_result"
    }
   ],
   "source": [
    "reports_eclipse_data[['bug_fix_time', 'bug_class_observed']].head()"
   ]
  },
  {
   "cell_type": "markdown",
   "metadata": {},
   "source": [
    "## 4.2 Results analysis"
   ]
  },
  {
   "cell_type": "code",
   "execution_count": 11,
   "metadata": {},
   "outputs": [],
   "source": [
    "results_gcc_merged_data = pd.merge(\n",
    "    reports_gcc_data,\n",
    "    results_gcc_data[['bug_id', 'long_lived', 'y_hat']],\n",
    "    left_on='bug_id',\n",
    "    right_on='bug_id',\n",
    "    how='inner'\n",
    ")\n",
    "results_gcc_merged_data = results_gcc_merged_data[results_gcc_merged_data.long_lived == 'Y']\n",
    "results_gcc_merged_data.loc[results_gcc_merged_data.long_lived == 'Y', 'status_prediction'] = results_gcc_merged_data['y_hat'].apply(lambda t: 'True Positive' if t == 'Y' else 'False Negative')\n"
   ]
  },
  {
   "cell_type": "code",
   "execution_count": 12,
   "metadata": {},
   "outputs": [
    {
     "data": {
      "text/html": [
       "<div>\n",
       "<style scoped>\n",
       "    .dataframe tbody tr th:only-of-type {\n",
       "        vertical-align: middle;\n",
       "    }\n",
       "\n",
       "    .dataframe tbody tr th {\n",
       "        vertical-align: top;\n",
       "    }\n",
       "\n",
       "    .dataframe thead th {\n",
       "        text-align: right;\n",
       "    }\n",
       "</style>\n",
       "<table border=\"1\" class=\"dataframe\">\n",
       "  <thead>\n",
       "    <tr style=\"text-align: right;\">\n",
       "      <th></th>\n",
       "      <th>bug_id</th>\n",
       "      <th>creation_date</th>\n",
       "      <th>component_name</th>\n",
       "      <th>product_name</th>\n",
       "      <th>short_description</th>\n",
       "      <th>long_description</th>\n",
       "      <th>assignee_name</th>\n",
       "      <th>reporter_name</th>\n",
       "      <th>resolution_category</th>\n",
       "      <th>resolution_code</th>\n",
       "      <th>status_category</th>\n",
       "      <th>status_code</th>\n",
       "      <th>update_date</th>\n",
       "      <th>quantity_of_votes</th>\n",
       "      <th>quantity_of_comments</th>\n",
       "      <th>resolution_date</th>\n",
       "      <th>bug_fix_time</th>\n",
       "      <th>severity_category</th>\n",
       "      <th>severity_code</th>\n",
       "      <th>bug_class_observed</th>\n",
       "      <th>long_lived</th>\n",
       "      <th>y_hat</th>\n",
       "      <th>status_prediction</th>\n",
       "    </tr>\n",
       "  </thead>\n",
       "  <tbody>\n",
       "    <tr>\n",
       "      <th>0</th>\n",
       "      <td>GCC-43804</td>\n",
       "      <td>2010-04-19</td>\n",
       "      <td>target</td>\n",
       "      <td>GCC</td>\n",
       "      <td>[4.6 regression] ICE in reload_cse_simplify_op...</td>\n",
       "      <td>$ gcc/xgcc -Bgcc/ -O2 -fpic -S memusage.i \\nme...</td>\n",
       "      <td>rsandifo</td>\n",
       "      <td>schwab</td>\n",
       "      <td>fixed</td>\n",
       "      <td>1</td>\n",
       "      <td>resolved</td>\n",
       "      <td>4</td>\n",
       "      <td>2013-04-12</td>\n",
       "      <td>0</td>\n",
       "      <td>29</td>\n",
       "      <td>2013-04-12</td>\n",
       "      <td>1089</td>\n",
       "      <td>normal</td>\n",
       "      <td>2</td>\n",
       "      <td>long-lived</td>\n",
       "      <td>Y</td>\n",
       "      <td>N</td>\n",
       "      <td>False Negative</td>\n",
       "    </tr>\n",
       "    <tr>\n",
       "      <th>4</th>\n",
       "      <td>GCC-560</td>\n",
       "      <td>2000-09-21</td>\n",
       "      <td>target</td>\n",
       "      <td>GCC</td>\n",
       "      <td>[Solaris 8 x86] static code segfaults before main</td>\n",
       "      <td>If you compile static code any code with gcc o...</td>\n",
       "      <td>unassigned</td>\n",
       "      <td>rami.lehti</td>\n",
       "      <td>fixed</td>\n",
       "      <td>1</td>\n",
       "      <td>resolved</td>\n",
       "      <td>4</td>\n",
       "      <td>2003-07-25</td>\n",
       "      <td>0</td>\n",
       "      <td>2</td>\n",
       "      <td>2003-07-25</td>\n",
       "      <td>1037</td>\n",
       "      <td>normal</td>\n",
       "      <td>2</td>\n",
       "      <td>long-lived</td>\n",
       "      <td>Y</td>\n",
       "      <td>Y</td>\n",
       "      <td>True Positive</td>\n",
       "    </tr>\n",
       "    <tr>\n",
       "      <th>9</th>\n",
       "      <td>GCC-8340</td>\n",
       "      <td>2002-10-24</td>\n",
       "      <td>target</td>\n",
       "      <td>GCC</td>\n",
       "      <td>ICE on x86 inline asm w/ -fPIC</td>\n",
       "      <td>From: Glen Nakamura \\nTo: gcc-gnats@gcc.gnu.or...</td>\n",
       "      <td>ebotcazou</td>\n",
       "      <td>glen</td>\n",
       "      <td>fixed</td>\n",
       "      <td>1</td>\n",
       "      <td>resolved</td>\n",
       "      <td>4</td>\n",
       "      <td>2014-10-13</td>\n",
       "      <td>0</td>\n",
       "      <td>10</td>\n",
       "      <td>2014-10-13</td>\n",
       "      <td>4372</td>\n",
       "      <td>normal</td>\n",
       "      <td>2</td>\n",
       "      <td>long-lived</td>\n",
       "      <td>Y</td>\n",
       "      <td>N</td>\n",
       "      <td>False Negative</td>\n",
       "    </tr>\n",
       "    <tr>\n",
       "      <th>11</th>\n",
       "      <td>GCC-65757</td>\n",
       "      <td>2015-04-13</td>\n",
       "      <td>libquadmath</td>\n",
       "      <td>GCC</td>\n",
       "      <td>gfortran gives incorrect result for anint with...</td>\n",
       "      <td>gfortran gives an incorrect result for the ani...</td>\n",
       "      <td>jvdelisle</td>\n",
       "      <td>bugs</td>\n",
       "      <td>fixed</td>\n",
       "      <td>1</td>\n",
       "      <td>resolved</td>\n",
       "      <td>4</td>\n",
       "      <td>2019-03-01</td>\n",
       "      <td>0</td>\n",
       "      <td>26</td>\n",
       "      <td>2017-09-16</td>\n",
       "      <td>887</td>\n",
       "      <td>normal</td>\n",
       "      <td>2</td>\n",
       "      <td>long-lived</td>\n",
       "      <td>Y</td>\n",
       "      <td>N</td>\n",
       "      <td>False Negative</td>\n",
       "    </tr>\n",
       "    <tr>\n",
       "      <th>12</th>\n",
       "      <td>GCC-2434</td>\n",
       "      <td>2001-03-30</td>\n",
       "      <td>target</td>\n",
       "      <td>GCC</td>\n",
       "      <td>Compilation with large file support (solaris &amp;...</td>\n",
       "      <td>When compiling C++ programs using the flags fo...</td>\n",
       "      <td>unassigned</td>\n",
       "      <td>pnobili</td>\n",
       "      <td>fixed</td>\n",
       "      <td>1</td>\n",
       "      <td>resolved</td>\n",
       "      <td>4</td>\n",
       "      <td>2003-07-25</td>\n",
       "      <td>0</td>\n",
       "      <td>5</td>\n",
       "      <td>2003-07-25</td>\n",
       "      <td>847</td>\n",
       "      <td>normal</td>\n",
       "      <td>2</td>\n",
       "      <td>long-lived</td>\n",
       "      <td>Y</td>\n",
       "      <td>Y</td>\n",
       "      <td>True Positive</td>\n",
       "    </tr>\n",
       "  </tbody>\n",
       "</table>\n",
       "</div>"
      ],
      "text/plain": [
       "       bug_id creation_date component_name product_name  \\\n",
       "0   GCC-43804    2010-04-19         target          GCC   \n",
       "4     GCC-560    2000-09-21         target          GCC   \n",
       "9    GCC-8340    2002-10-24         target          GCC   \n",
       "11  GCC-65757    2015-04-13    libquadmath          GCC   \n",
       "12   GCC-2434    2001-03-30         target          GCC   \n",
       "\n",
       "                                    short_description  \\\n",
       "0   [4.6 regression] ICE in reload_cse_simplify_op...   \n",
       "4   [Solaris 8 x86] static code segfaults before main   \n",
       "9                      ICE on x86 inline asm w/ -fPIC   \n",
       "11  gfortran gives incorrect result for anint with...   \n",
       "12  Compilation with large file support (solaris &...   \n",
       "\n",
       "                                     long_description assignee_name  \\\n",
       "0   $ gcc/xgcc -Bgcc/ -O2 -fpic -S memusage.i \\nme...      rsandifo   \n",
       "4   If you compile static code any code with gcc o...    unassigned   \n",
       "9   From: Glen Nakamura \\nTo: gcc-gnats@gcc.gnu.or...     ebotcazou   \n",
       "11  gfortran gives an incorrect result for the ani...     jvdelisle   \n",
       "12  When compiling C++ programs using the flags fo...    unassigned   \n",
       "\n",
       "   reporter_name resolution_category  resolution_code status_category  \\\n",
       "0         schwab               fixed                1        resolved   \n",
       "4     rami.lehti               fixed                1        resolved   \n",
       "9           glen               fixed                1        resolved   \n",
       "11          bugs               fixed                1        resolved   \n",
       "12       pnobili               fixed                1        resolved   \n",
       "\n",
       "    status_code update_date  quantity_of_votes  quantity_of_comments  \\\n",
       "0             4  2013-04-12                  0                    29   \n",
       "4             4  2003-07-25                  0                     2   \n",
       "9             4  2014-10-13                  0                    10   \n",
       "11            4  2019-03-01                  0                    26   \n",
       "12            4  2003-07-25                  0                     5   \n",
       "\n",
       "   resolution_date  bug_fix_time severity_category  severity_code  \\\n",
       "0       2013-04-12          1089            normal              2   \n",
       "4       2003-07-25          1037            normal              2   \n",
       "9       2014-10-13          4372            normal              2   \n",
       "11      2017-09-16           887            normal              2   \n",
       "12      2003-07-25           847            normal              2   \n",
       "\n",
       "   bug_class_observed long_lived y_hat status_prediction  \n",
       "0          long-lived          Y     N    False Negative  \n",
       "4          long-lived          Y     Y     True Positive  \n",
       "9          long-lived          Y     N    False Negative  \n",
       "11         long-lived          Y     N    False Negative  \n",
       "12         long-lived          Y     Y     True Positive  "
      ]
     },
     "execution_count": 12,
     "metadata": {},
     "output_type": "execute_result"
    }
   ],
   "source": [
    "results_gcc_merged_data.head()"
   ]
  },
  {
   "cell_type": "code",
   "execution_count": 13,
   "metadata": {},
   "outputs": [],
   "source": [
    "results_eclipse_merged_data = pd.merge(\n",
    "    reports_eclipse_data,\n",
    "    results_eclipse_data[['bug_id', 'long_lived', 'y_hat']],\n",
    "    left_on='bug_id',\n",
    "    right_on='bug_id',\n",
    "    how='inner'\n",
    ")\n",
    "results_eclipse_merged_data = results_eclipse_merged_data[results_eclipse_merged_data.long_lived == 'Y']\n",
    "results_eclipse_merged_data.loc[results_eclipse_merged_data.long_lived == 'Y', 'status_prediction']  = results_eclipse_merged_data['y_hat'].apply(lambda t: 'True Positive' if t == 'Y' else 'False Negative')"
   ]
  },
  {
   "cell_type": "code",
   "execution_count": 14,
   "metadata": {},
   "outputs": [
    {
     "data": {
      "text/html": [
       "<div>\n",
       "<style scoped>\n",
       "    .dataframe tbody tr th:only-of-type {\n",
       "        vertical-align: middle;\n",
       "    }\n",
       "\n",
       "    .dataframe tbody tr th {\n",
       "        vertical-align: top;\n",
       "    }\n",
       "\n",
       "    .dataframe thead th {\n",
       "        text-align: right;\n",
       "    }\n",
       "</style>\n",
       "<table border=\"1\" class=\"dataframe\">\n",
       "  <thead>\n",
       "    <tr style=\"text-align: right;\">\n",
       "      <th></th>\n",
       "      <th>bug_id</th>\n",
       "      <th>creation_date</th>\n",
       "      <th>component_name</th>\n",
       "      <th>product_name</th>\n",
       "      <th>short_description</th>\n",
       "      <th>long_description</th>\n",
       "      <th>assignee_name</th>\n",
       "      <th>reporter_name</th>\n",
       "      <th>resolution_category</th>\n",
       "      <th>resolution_code</th>\n",
       "      <th>status_category</th>\n",
       "      <th>status_code</th>\n",
       "      <th>update_date</th>\n",
       "      <th>quantity_of_votes</th>\n",
       "      <th>quantity_of_comments</th>\n",
       "      <th>resolution_date</th>\n",
       "      <th>bug_fix_time</th>\n",
       "      <th>severity_category</th>\n",
       "      <th>severity_code</th>\n",
       "      <th>bug_class_observed</th>\n",
       "      <th>long_lived</th>\n",
       "      <th>y_hat</th>\n",
       "      <th>status_prediction</th>\n",
       "    </tr>\n",
       "  </thead>\n",
       "  <tbody>\n",
       "    <tr>\n",
       "      <th>35</th>\n",
       "      <td>EEF-444113</td>\n",
       "      <td>2014-09-15</td>\n",
       "      <td>General</td>\n",
       "      <td>EEF</td>\n",
       "      <td>The home page of EEF said the current version ...</td>\n",
       "      <td>The home page says:\\nEEF is currently released...</td>\n",
       "      <td>emft.eef-inbox</td>\n",
       "      <td>etienne.juliot</td>\n",
       "      <td>fixed</td>\n",
       "      <td>1</td>\n",
       "      <td>closed</td>\n",
       "      <td>6</td>\n",
       "      <td>2016-09-23</td>\n",
       "      <td>0</td>\n",
       "      <td>2</td>\n",
       "      <td>2016-09-23</td>\n",
       "      <td>739</td>\n",
       "      <td>normal</td>\n",
       "      <td>2</td>\n",
       "      <td>long-lived</td>\n",
       "      <td>Y</td>\n",
       "      <td>N</td>\n",
       "      <td>False Negative</td>\n",
       "    </tr>\n",
       "    <tr>\n",
       "      <th>41</th>\n",
       "      <td>TARGET_MANAGEMENT-251654</td>\n",
       "      <td>2008-10-21</td>\n",
       "      <td>RSE</td>\n",
       "      <td>TARGET_MANAGEMENT</td>\n",
       "      <td>System View Restore doesn't take into account ...</td>\n",
       "      <td>On object that supports Expand To we can selec...</td>\n",
       "      <td>dmcknigh</td>\n",
       "      <td>kjdoyle</td>\n",
       "      <td>fixed</td>\n",
       "      <td>1</td>\n",
       "      <td>resolved</td>\n",
       "      <td>4</td>\n",
       "      <td>2011-03-28</td>\n",
       "      <td>0</td>\n",
       "      <td>4</td>\n",
       "      <td>2011-03-28</td>\n",
       "      <td>888</td>\n",
       "      <td>normal</td>\n",
       "      <td>2</td>\n",
       "      <td>long-lived</td>\n",
       "      <td>Y</td>\n",
       "      <td>N</td>\n",
       "      <td>False Negative</td>\n",
       "    </tr>\n",
       "    <tr>\n",
       "      <th>48</th>\n",
       "      <td>JSDT-212668</td>\n",
       "      <td>2007-12-11</td>\n",
       "      <td>General</td>\n",
       "      <td>JSDT</td>\n",
       "      <td>[hotbug] JavaScript validation error on JSPs</td>\n",
       "      <td>This is a follow-on to bug 207589:\\n\\nI just t...</td>\n",
       "      <td>nitind</td>\n",
       "      <td>kathy</td>\n",
       "      <td>fixed</td>\n",
       "      <td>1</td>\n",
       "      <td>resolved</td>\n",
       "      <td>4</td>\n",
       "      <td>2010-03-03</td>\n",
       "      <td>2</td>\n",
       "      <td>14</td>\n",
       "      <td>2009-02-12</td>\n",
       "      <td>429</td>\n",
       "      <td>normal</td>\n",
       "      <td>2</td>\n",
       "      <td>long-lived</td>\n",
       "      <td>Y</td>\n",
       "      <td>Y</td>\n",
       "      <td>True Positive</td>\n",
       "    </tr>\n",
       "    <tr>\n",
       "      <th>49</th>\n",
       "      <td>PLATFORM-376804</td>\n",
       "      <td>2012-04-14</td>\n",
       "      <td>Releng</td>\n",
       "      <td>PLATFORM</td>\n",
       "      <td>clean up test results page to remove invalid l...</td>\n",
       "      <td>The test results page has links and sub pages ...</td>\n",
       "      <td>david_williams</td>\n",
       "      <td>david_williams</td>\n",
       "      <td>fixed</td>\n",
       "      <td>1</td>\n",
       "      <td>resolved</td>\n",
       "      <td>4</td>\n",
       "      <td>2014-11-24</td>\n",
       "      <td>0</td>\n",
       "      <td>2</td>\n",
       "      <td>2014-11-24</td>\n",
       "      <td>954</td>\n",
       "      <td>normal</td>\n",
       "      <td>2</td>\n",
       "      <td>long-lived</td>\n",
       "      <td>Y</td>\n",
       "      <td>N</td>\n",
       "      <td>False Negative</td>\n",
       "    </tr>\n",
       "    <tr>\n",
       "      <th>51</th>\n",
       "      <td>CDT-250037</td>\n",
       "      <td>2008-10-07</td>\n",
       "      <td>cdt-debug-cdi-gdb</td>\n",
       "      <td>CDT</td>\n",
       "      <td>Debug value view fails to update 'Value' column</td>\n",
       "      <td>Build ID: M20080911-1700\\n\\nSteps To Reproduce...</td>\n",
       "      <td>marc.khouzam</td>\n",
       "      <td>bimargulies</td>\n",
       "      <td>fixed</td>\n",
       "      <td>1</td>\n",
       "      <td>resolved</td>\n",
       "      <td>4</td>\n",
       "      <td>2014-01-29</td>\n",
       "      <td>0</td>\n",
       "      <td>33</td>\n",
       "      <td>2010-01-10</td>\n",
       "      <td>460</td>\n",
       "      <td>normal</td>\n",
       "      <td>2</td>\n",
       "      <td>long-lived</td>\n",
       "      <td>Y</td>\n",
       "      <td>N</td>\n",
       "      <td>False Negative</td>\n",
       "    </tr>\n",
       "  </tbody>\n",
       "</table>\n",
       "</div>"
      ],
      "text/plain": [
       "                      bug_id creation_date     component_name  \\\n",
       "35                EEF-444113    2014-09-15            General   \n",
       "41  TARGET_MANAGEMENT-251654    2008-10-21                RSE   \n",
       "48               JSDT-212668    2007-12-11            General   \n",
       "49           PLATFORM-376804    2012-04-14             Releng   \n",
       "51                CDT-250037    2008-10-07  cdt-debug-cdi-gdb   \n",
       "\n",
       "         product_name                                  short_description  \\\n",
       "35                EEF  The home page of EEF said the current version ...   \n",
       "41  TARGET_MANAGEMENT  System View Restore doesn't take into account ...   \n",
       "48               JSDT       [hotbug] JavaScript validation error on JSPs   \n",
       "49           PLATFORM  clean up test results page to remove invalid l...   \n",
       "51                CDT    Debug value view fails to update 'Value' column   \n",
       "\n",
       "                                     long_description   assignee_name  \\\n",
       "35  The home page says:\\nEEF is currently released...  emft.eef-inbox   \n",
       "41  On object that supports Expand To we can selec...        dmcknigh   \n",
       "48  This is a follow-on to bug 207589:\\n\\nI just t...          nitind   \n",
       "49  The test results page has links and sub pages ...  david_williams   \n",
       "51  Build ID: M20080911-1700\\n\\nSteps To Reproduce...    marc.khouzam   \n",
       "\n",
       "     reporter_name resolution_category  resolution_code status_category  \\\n",
       "35  etienne.juliot               fixed                1          closed   \n",
       "41         kjdoyle               fixed                1        resolved   \n",
       "48           kathy               fixed                1        resolved   \n",
       "49  david_williams               fixed                1        resolved   \n",
       "51     bimargulies               fixed                1        resolved   \n",
       "\n",
       "    status_code update_date  quantity_of_votes  quantity_of_comments  \\\n",
       "35            6  2016-09-23                  0                     2   \n",
       "41            4  2011-03-28                  0                     4   \n",
       "48            4  2010-03-03                  2                    14   \n",
       "49            4  2014-11-24                  0                     2   \n",
       "51            4  2014-01-29                  0                    33   \n",
       "\n",
       "   resolution_date  bug_fix_time severity_category  severity_code  \\\n",
       "35      2016-09-23           739            normal              2   \n",
       "41      2011-03-28           888            normal              2   \n",
       "48      2009-02-12           429            normal              2   \n",
       "49      2014-11-24           954            normal              2   \n",
       "51      2010-01-10           460            normal              2   \n",
       "\n",
       "   bug_class_observed long_lived y_hat status_prediction  \n",
       "35         long-lived          Y     N    False Negative  \n",
       "41         long-lived          Y     N    False Negative  \n",
       "48         long-lived          Y     Y     True Positive  \n",
       "49         long-lived          Y     N    False Negative  \n",
       "51         long-lived          Y     N    False Negative  "
      ]
     },
     "execution_count": 14,
     "metadata": {},
     "output_type": "execute_result"
    }
   ],
   "source": [
    "results_eclipse_merged_data.head()"
   ]
  },
  {
   "cell_type": "code",
   "execution_count": 15,
   "metadata": {},
   "outputs": [
    {
     "data": {
      "text/html": [
       "<div>\n",
       "<style scoped>\n",
       "    .dataframe tbody tr th:only-of-type {\n",
       "        vertical-align: middle;\n",
       "    }\n",
       "\n",
       "    .dataframe tbody tr th {\n",
       "        vertical-align: top;\n",
       "    }\n",
       "\n",
       "    .dataframe thead th {\n",
       "        text-align: right;\n",
       "    }\n",
       "</style>\n",
       "<table border=\"1\" class=\"dataframe\">\n",
       "  <thead>\n",
       "    <tr style=\"text-align: right;\">\n",
       "      <th></th>\n",
       "      <th>count</th>\n",
       "    </tr>\n",
       "    <tr>\n",
       "      <th>status_prediction</th>\n",
       "      <th></th>\n",
       "    </tr>\n",
       "  </thead>\n",
       "  <tbody>\n",
       "    <tr>\n",
       "      <th>False Negative</th>\n",
       "      <td>344</td>\n",
       "    </tr>\n",
       "    <tr>\n",
       "      <th>True Positive</th>\n",
       "      <td>380</td>\n",
       "    </tr>\n",
       "  </tbody>\n",
       "</table>\n",
       "</div>"
      ],
      "text/plain": [
       "                   count\n",
       "status_prediction       \n",
       "False Negative       344\n",
       "True Positive        380"
      ]
     },
     "execution_count": 15,
     "metadata": {},
     "output_type": "execute_result"
    }
   ],
   "source": [
    "results_gcc_merged_data.groupby('status_prediction')['status_prediction'].agg(['count'])"
   ]
  },
  {
   "cell_type": "code",
   "execution_count": 16,
   "metadata": {},
   "outputs": [
    {
     "name": "stdout",
     "output_type": "stream",
     "text": [
      "0.40106951871657753\n"
     ]
    }
   ],
   "source": [
    "print(75/(112+75))"
   ]
  },
  {
   "cell_type": "code",
   "execution_count": 46,
   "metadata": {},
   "outputs": [],
   "source": [
    "def plot_bar (project, data, column, n, filename):\n",
    "    \n",
    "    top_g = data.groupby(column)[column].agg(['count'])\n",
    "    top_s = top_g.sort_values('count', ascending=False).head(n)\n",
    "    top_n = data.loc[data[column].isin(top_s.index)].groupby(column)['status_prediction'].value_counts(normalize=True).unstack()\n",
    "    \n",
    "    plt.figure(figsize=(20,20))\n",
    "    fig, axis = plt.subplots(figsize=(10, 10)) \n",
    "    \n",
    "    sns.despine(offset=5)\n",
    "    primary   = top_n.plot(kind='barh', stacked='True',  grid='True', color=[\"tab:red\", \"tab:blue\"], ax=axis)\n",
    "    secondary = primary.twinx()\n",
    "    \n",
    "    labels = [i.get_text() for i in primary.get_yticklabels()]\n",
    "    labels_new = [top_s.loc[top_s.index==i, 'count'].values[0] for i in labels]\n",
    "    \n",
    "    primary.set(xlim=(0, 1))\n",
    "    primary.set_xlabel('percentage', fontsize=MEDIUM_SIZE)\n",
    "    primary.set_ylabel(column, fontsize=MEDIUM_SIZE) \n",
    "    primary.set_title(project, fontsize=BIGGER_SIZE)\n",
    "    primary.tick_params(axis=\"y\", labelsize=MEDIUM_SIZE)\n",
    "    primary.tick_params(axis=\"x\", labelsize=MEDIUM_SIZE)\n",
    "    \n",
    "    secondary.set_yticks(primary.get_yticks())\n",
    "    secondary.set_ylim(primary.get_ylim())\n",
    "    secondary.set_yticklabels(labels_new)\n",
    "    secondary.tick_params(axis=\"y\", labelsize=MEDIUM_SIZE)\n",
    "    \n",
    "    plt.savefig(f\"figures/{filename}\", format=\"pdf\", dpi=600, bbox_inches='tight')\n",
    "    \n",
    "\n",
    "    \n",
    "def plot_pie (project, data, column, n, filename):\n",
    "    \n",
    "    top_g  = data.groupby(column)[column].agg(['count'])\n",
    "    top_s  = top_g.sort_values('count', ascending=False).head(n)\n",
    "    \n",
    "    labels   =   top_s.index.tolist() \n",
    "    values   =  [top_s.loc[top_s.index==i, 'count'].values[0] for i in labels] \n",
    "    labels.append('others')\n",
    "    values.append(data.shape[0] - sum(values))\n",
    "      \n",
    "    fig, axis = plt.subplots(figsize=(10, 10)) \n",
    "    \n",
    "    plt.pie(values, labels=labels, autopct='%1.0f%%')\n",
    "    #axis.get_legend().remove()\n",
    "    \n",
    "    plt.savefig(f\"figures/{filename}\", format=\"pdf\", dpi=600, bbox_inches='tight')\n",
    "\n",
    "      "
   ]
  },
  {
   "cell_type": "markdown",
   "metadata": {},
   "source": [
    "### Reporter Name"
   ]
  },
  {
   "cell_type": "markdown",
   "metadata": {},
   "source": [
    "### GCC"
   ]
  },
  {
   "cell_type": "code",
   "execution_count": 49,
   "metadata": {},
   "outputs": [
    {
     "data": {
      "image/png": "[encoded data removed]",
      "text/plain": [
       "<Figure size 720x720 with 1 Axes>"
      ]
     },
     "metadata": {},
     "output_type": "display_data"
    }
   ],
   "source": [
    "plot_pie('GCC', results_gcc_merged_data, 'reporter_name', 20, \"rq5-gcc-tp-fn-reporter_name-pie.pdf\")"
   ]
  },
  {
   "cell_type": "code",
   "execution_count": 50,
   "metadata": {},
   "outputs": [
    {
     "data": {
      "text/plain": [
       "<Figure size 1440x1440 with 0 Axes>"
      ]
     },
     "metadata": {},
     "output_type": "display_data"
    },
    {
     "data": {
      "image/png": "[encoded data removed]",
      "text/plain": [
       "<Figure size 720x720 with 2 Axes>"
      ]
     },
     "metadata": {
      "needs_background": "light"
     },
     "output_type": "display_data"
    }
   ],
   "source": [
    "plot_bar('GCC', results_gcc_merged_data, 'reporter_name', 20, \"rq5-gcc-tp-fn-reporter_name.pdf\")"
   ]
  },
  {
   "cell_type": "markdown",
   "metadata": {},
   "source": [
    "### Eclipse"
   ]
  },
  {
   "cell_type": "code",
   "execution_count": 52,
   "metadata": {},
   "outputs": [
    {
     "data": {
      "image/png": "[encoded data removed]",
      "text/plain": [
       "<Figure size 720x720 with 1 Axes>"
      ]
     },
     "metadata": {},
     "output_type": "display_data"
    }
   ],
   "source": [
    "plot_pie('Eclipse', results_eclipse_merged_data, 'reporter_name', 20, \"rq5-eclipse-tp-fn-reporter_name-pie.pdf\")"
   ]
  },
  {
   "cell_type": "code",
   "execution_count": null,
   "metadata": {},
   "outputs": [],
   "source": [
    "plot_bar('Eclipse', results_eclipse_merged_data, 'reporter_name', 20, \"rq5-eclipse-tp-fn-reporter_name.pdf\")"
   ]
  },
  {
   "cell_type": "markdown",
   "metadata": {},
   "source": [
    "### Assignee"
   ]
  },
  {
   "cell_type": "markdown",
   "metadata": {},
   "source": [
    "### GCC"
   ]
  },
  {
   "cell_type": "code",
   "execution_count": null,
   "metadata": {},
   "outputs": [],
   "source": [
    "plot_bar('GCC', results_gcc_merged_data, 'assignee_name', 20, \"rq5-gcc-tp-fn-assignee_name.pdf\")"
   ]
  },
  {
   "cell_type": "markdown",
   "metadata": {},
   "source": [
    "### Eclipse"
   ]
  },
  {
   "cell_type": "code",
   "execution_count": null,
   "metadata": {},
   "outputs": [],
   "source": [
    "plot_bar('Eclipse', results_eclipse_merged_data, 'assignee_name', 20, \"rq5-eclipse-tp-fn-assignee_name.pdf\")"
   ]
  },
  {
   "cell_type": "markdown",
   "metadata": {},
   "source": [
    "### Component Name"
   ]
  },
  {
   "cell_type": "markdown",
   "metadata": {},
   "source": [
    "### GCC"
   ]
  },
  {
   "cell_type": "code",
   "execution_count": null,
   "metadata": {},
   "outputs": [],
   "source": [
    "plot_bar('GCC', results_gcc_merged_data, 'component_name', 20, \"rq5-gcc-tp-fn-component_name.pdf\")"
   ]
  },
  {
   "cell_type": "markdown",
   "metadata": {},
   "source": [
    "### Eclipse"
   ]
  },
  {
   "cell_type": "code",
   "execution_count": null,
   "metadata": {},
   "outputs": [],
   "source": [
    "plot_bar('Eclipse', results_eclipse_merged_data, 'component_name', 20, \"rq5-eclipse-tp-fn-component_name.pdf\")"
   ]
  },
  {
   "cell_type": "markdown",
   "metadata": {},
   "source": [
    "### Severity Level"
   ]
  },
  {
   "cell_type": "markdown",
   "metadata": {},
   "source": [
    "### GCC"
   ]
  },
  {
   "cell_type": "code",
   "execution_count": null,
   "metadata": {},
   "outputs": [],
   "source": [
    "plot_bar('GCC', results_gcc_merged_data, 'severity_category',10, \"rq5-gcc-tp-fn-severity_category.pdf\")\n"
   ]
  },
  {
   "cell_type": "markdown",
   "metadata": {},
   "source": [
    "### Eclipse"
   ]
  },
  {
   "cell_type": "code",
   "execution_count": null,
   "metadata": {},
   "outputs": [],
   "source": [
    "plot_bar('Eclipse', results_eclipse_merged_data, 'severity_category', 10, 'rq5-eclipse-tp-fn-severity_category')"
   ]
  },
  {
   "cell_type": "markdown",
   "metadata": {},
   "source": [
    "### Description \n",
    "Existem muitas palavras relacionadas com código(stop words)."
   ]
  },
  {
   "cell_type": "code",
   "execution_count": null,
   "metadata": {},
   "outputs": [],
   "source": [
    "word_frequency_gcc_path     = \"datasets/20191213_gcc_tdm_summarized.csv\"\n",
    "word_frequency_eclipse_path = \"datasets/20191213_eclipse_tdm_summarized.csv\"\n",
    "\n",
    "word_frequency_gcc_data     = pd.read_csv(word_frequency_gcc_path) \n",
    "word_frequency_eclipse_data = pd.read_csv(word_frequency_eclipse_path)\n",
    "\n",
    "word_frequency_eclipse_data.dropna(inplace=True)\n",
    "word_frequency_gcc_data.dropna(inplace=True)\n",
    "\n",
    "word_frequency_gcc_data['freq'] = word_frequency_gcc_data['freq'].astype(int)\n",
    "word_frequency_eclipse_data['freq'] = word_frequency_eclipse_data['freq'].astype(int)\n",
    "\n",
    "tdm_detailed_eclipse_path = \"datasets/20191213_eclipse_tdm_detailed.csv\"\n",
    "tdm_detailed_gcc_path     = \"datasets/20191213_gcc_tdm_detailed.csv\"\n",
    "\n",
    "tdm_detailed_eclipse_data = pd.read_csv(tdm_detailed_eclipse_path) \n",
    "tdm_detailed_gcc_data     = pd.read_csv(tdm_detailed_gcc_path)\n",
    "\n",
    "tdm_detailed_eclipse_data.dropna(inplace=True)\n",
    "tdm_detailed_gcc_data.dropna(inplace=True)"
   ]
  },
  {
   "cell_type": "code",
   "execution_count": null,
   "metadata": {},
   "outputs": [],
   "source": [
    "from PIL import Image\n",
    "import matplotlib\n",
    "def transform_format(val):\n",
    "    if val == 0:\n",
    "        return 255\n",
    "    else:\n",
    "        return val\n",
    "    \n",
    "def plot_word_cloud(data, status, filename):\n",
    "    data = data[data['status_prediction']==status]\n",
    "    #cloud_mask = np.array(Image.open(\"cloud.png\"))\n",
    "    \n",
    "    word_frequency = {x[0]: x[1] for x in data.itertuples(index=False)}\n",
    "    \n",
    "    wordcloud = WordCloud(width=900\n",
    "                      , height=500\n",
    "                      , background_color='white'\n",
    "                      , max_words=100\n",
    "                      , colormap=matplotlib.cm.inferno\n",
    "                      , relative_scaling=0\n",
    "                      , normalize_plurals=False).generate_from_frequencies(word_frequency)\n",
    "    plt.figure(figsize=(10,10))\n",
    "    plt.imshow(wordcloud, interpolation='bilinear')\n",
    "    plt.axis(\"off\")\n",
    "    plt.savefig(f\"figures/{filename}.pdf\", format=\"pdf\", dpi=600, bbox_inches='tight')\n"
   ]
  },
  {
   "cell_type": "markdown",
   "metadata": {},
   "source": [
    "### GCC"
   ]
  },
  {
   "cell_type": "code",
   "execution_count": null,
   "metadata": {},
   "outputs": [],
   "source": [
    "word_frequency_gcc_data.head()"
   ]
  },
  {
   "cell_type": "markdown",
   "metadata": {},
   "source": [
    "### True Positives"
   ]
  },
  {
   "cell_type": "markdown",
   "metadata": {},
   "source": [
    "#### Word cloud"
   ]
  },
  {
   "cell_type": "code",
   "execution_count": null,
   "metadata": {},
   "outputs": [],
   "source": [
    "plot_word_cloud(word_frequency_gcc_data, 'True Positive', 'rq5-gcc-tp-word_cloud')"
   ]
  },
  {
   "cell_type": "markdown",
   "metadata": {},
   "source": [
    "#### Histograms "
   ]
  },
  {
   "cell_type": "code",
   "execution_count": null,
   "metadata": {},
   "outputs": [],
   "source": [
    "freqs=word_frequency_gcc_data[word_frequency_gcc_data['status_prediction']=='True Positive']['freq']\n",
    "\n",
    "plt.hist(freqs, color='tab:blue', bins=5)\n",
    "sns.despine(offset=5)\n",
    "\n",
    "plt.title(\"GCC: True Positive\")\n",
    "plt.xticks([2, 3, 4, 5, 6, 7, 8, 9], fontsize=SMALL_SIZE)\n",
    "plt.xlim(2, 9)\n",
    "plt.xlabel('TF-IDF Score', fontsize=SMALL_SIZE)\n",
    "plt.yticks([0, 10, 20, 30, 40, 50, 60], fontsize=SMALL_SIZE)\n",
    "plt.ylim(0, 60)\n",
    "plt.ylabel('Count', fontsize=SMALL_SIZE)\n",
    "\n",
    "plt.savefig('figures/rq5-gcc-tf-idf-histogram-true-positives.pdf', format=\"pdf\", dpi=600, bbox_inches='tight')"
   ]
  },
  {
   "cell_type": "code",
   "execution_count": null,
   "metadata": {},
   "outputs": [],
   "source": [
    "from numpy import array\n",
    "from numpy import count_nonzero\n",
    "import numpy as np\n",
    "\n",
    "\n",
    "def spy(m, ax):\n",
    "    from scipy.sparse import coo_matrix\n",
    "    from matplotlib.patches import Rectangle\n",
    "    \n",
    "    a = m.to_numpy()\n",
    "    sparcity = 1.0 - ( count_nonzero(a) / float(a.size) )\n",
    "    \n",
    "    if not isinstance(m, coo_matrix):\n",
    "        m = coo_matrix(m)\n",
    "    for (x, y) in zip(m.col, m.row):\n",
    "        ax.add_artist(Rectangle(\n",
    "            xy=(x-0.5, y-0.5), width=1, height=1))\n",
    "    ax.set_xlim(-0.5, m.shape[1]-0.5)\n",
    "    ax.set_ylim(-0.5, m.shape[0]-0.5)\n",
    "    ax.invert_yaxis()\n",
    "    ax.set_aspect(float(m.shape[0])/float(m.shape[1]))\n",
    "    ax.set_title(f\"Sparcity : {sparcity}\")"
   ]
  },
  {
   "cell_type": "code",
   "execution_count": null,
   "metadata": {},
   "outputs": [],
   "source": [
    "tdm_detailed_gcc_matrix = tdm_detailed_gcc_data.loc[tdm_detailed_gcc_data.status_prediction=='True Positive'].pivot_table(index='Terms', columns='Docs', values='value', fill_value=0.0)\n",
    "fig, ax = plt.subplots(figsize=(10, 10))\n",
    "ax.spy(tdm_detailed_gcc_matrix)\n",
    "plt.savefig('figures/rq5-eclipse-tf-idf-histogram-false-negatives.pdf', format=\"pdf\", dpi=600, bbox_inches='tight')"
   ]
  },
  {
   "cell_type": "code",
   "execution_count": null,
   "metadata": {},
   "outputs": [],
   "source": [
    "m = tdm_detailed_gcc_matrix.to_numpy()\n",
    "sparsity_gcc_tp = 1.0 - ( count_nonzero(m) / float(m.size) )\n",
    "sparsity_gcc_tp "
   ]
  },
  {
   "cell_type": "markdown",
   "metadata": {},
   "source": [
    "### False Negatives\n",
    "---"
   ]
  },
  {
   "cell_type": "markdown",
   "metadata": {},
   "source": [
    "#### Word Cloud"
   ]
  },
  {
   "cell_type": "code",
   "execution_count": null,
   "metadata": {},
   "outputs": [],
   "source": [
    "plot_word_cloud(word_frequency_gcc_data, 'False Negative', 'rq5-gcc-fn-word_cloud')"
   ]
  },
  {
   "cell_type": "markdown",
   "metadata": {},
   "source": [
    "#### Histogram"
   ]
  },
  {
   "cell_type": "code",
   "execution_count": null,
   "metadata": {},
   "outputs": [],
   "source": [
    "plt.hist(word_frequency_gcc_data[word_frequency_gcc_data['status_prediction']=='False Negative']['freq']\n",
    "         , bins=5\n",
    "         , color='tab:blue')\n",
    "sns.despine(offset=5)\n",
    "plt.title(\"GCC: False Negative\")\n",
    "plt.xticks([2, 3, 4, 5, 6, 7, 8, 9], fontsize=SMALL_SIZE)\n",
    "plt.xlim(2, 9)\n",
    "plt.xlabel('TF-IDF Score', fontsize=SMALL_SIZE)\n",
    "plt.yticks([0, 10, 20, 30, 40, 50, 60], fontsize=SMALL_SIZE)\n",
    "plt.ylim(0, 60)\n",
    "plt.ylabel('Count', fontsize=10)\n",
    "plt.savefig('figures/rq5-gcc-tf-idf-histogram-false-negatives.pdf', format=\"pdf\", dpi=600, bbox_inches='tight')"
   ]
  },
  {
   "cell_type": "markdown",
   "metadata": {},
   "source": [
    "#### Sparcity"
   ]
  },
  {
   "cell_type": "code",
   "execution_count": null,
   "metadata": {},
   "outputs": [],
   "source": [
    "tdm_detailed_gcc_matrix = tdm_detailed_gcc_data.loc[tdm_detailed_gcc_data.status_prediction=='False Negative'].pivot_table(index='Terms', columns='Docs', values='value', fill_value=0.0)\n",
    "fig, ax = plt.subplots(figsize=(10, 10))\n",
    "ax.spy(tdm_detailed_gcc_matrix)"
   ]
  },
  {
   "cell_type": "code",
   "execution_count": null,
   "metadata": {},
   "outputs": [],
   "source": [
    "m = tdm_detailed_gcc_matrix.to_numpy()\n",
    "sparsity_gcc_fn = 1.0 - ( count_nonzero(m) / float(m.size) )\n",
    "sparsity_gcc_fn"
   ]
  },
  {
   "cell_type": "markdown",
   "metadata": {},
   "source": [
    "# Eclipse"
   ]
  },
  {
   "cell_type": "markdown",
   "metadata": {},
   "source": [
    "### True Positives\n",
    "-------------------"
   ]
  },
  {
   "cell_type": "markdown",
   "metadata": {},
   "source": [
    "#### Word Cloud"
   ]
  },
  {
   "cell_type": "code",
   "execution_count": null,
   "metadata": {},
   "outputs": [],
   "source": [
    "plot_word_cloud(word_frequency_eclipse_data, 'True Positive', 'rq5-eclipse-tp-word_cloud')"
   ]
  },
  {
   "cell_type": "code",
   "execution_count": null,
   "metadata": {},
   "outputs": [],
   "source": []
  },
  {
   "cell_type": "markdown",
   "metadata": {},
   "source": [
    "#### Histogram"
   ]
  },
  {
   "cell_type": "code",
   "execution_count": null,
   "metadata": {},
   "outputs": [],
   "source": [
    "plt.hist(word_frequency_eclipse_data[word_frequency_eclipse_data['status_prediction']=='True Positive']['freq'].astype('int')\n",
    "         , align='left'\n",
    "#         , bins=3\n",
    "         , color='tab:blue')\n",
    "sns.despine(offset=5)\n",
    "plt.title(\"Eclipse: True Positive\")\n",
    "#plt.xticks([0, 1, 2], fontsize=SMALL_SIZE)\n",
    "#plt.xlim(0, 2)\n",
    "plt.xlabel('TF-IDF Score', fontsize=SMALL_SIZE)\n",
    "plt.yticks([0, 10, 20, 30, 40, 50, 60], fontsize=SMALL_SIZE)\n",
    "plt.ylim(0, 60)\n",
    "plt.ylabel('Count', fontsize=SMALL_SIZE)\n",
    "plt.savefig('figures/rq5-eclipse-tf-idf-histogram-true-positives.pdf', format=\"pdf\", dpi=600, bbox_inches='tight')"
   ]
  },
  {
   "cell_type": "markdown",
   "metadata": {},
   "source": [
    "#### Sparcity"
   ]
  },
  {
   "cell_type": "code",
   "execution_count": null,
   "metadata": {},
   "outputs": [],
   "source": [
    "tdm_detailed_eclipse_matrix = tdm_detailed_eclipse_data.loc[tdm_detailed_eclipse_data.status_prediction=='True Positive'].pivot_table(index='Terms', columns='Docs', values='value', fill_value=0.0)\n",
    "fig, ax = plt.subplots(figsize=(10, 10))\n",
    "ax.spy(tdm_detailed_eclipse_matrix)"
   ]
  },
  {
   "cell_type": "code",
   "execution_count": null,
   "metadata": {},
   "outputs": [],
   "source": [
    "m = tdm_detailed_eclipse_matrix.to_numpy()\n",
    "sparsity_eclipse_tp = 1.0 - ( count_nonzero(m) / float(m.size) )\n",
    "sparsity_eclipse_tp"
   ]
  },
  {
   "cell_type": "markdown",
   "metadata": {},
   "source": [
    "### False Negatives\n",
    "---"
   ]
  },
  {
   "cell_type": "markdown",
   "metadata": {},
   "source": [
    "#### Word Cloud"
   ]
  },
  {
   "cell_type": "code",
   "execution_count": null,
   "metadata": {},
   "outputs": [],
   "source": [
    "plot_word_cloud(word_frequency_eclipse_data, 'False Negative', 'rq5-eclipse-fn-word_cloud')"
   ]
  },
  {
   "cell_type": "markdown",
   "metadata": {},
   "source": [
    "#### Histogram"
   ]
  },
  {
   "cell_type": "code",
   "execution_count": null,
   "metadata": {},
   "outputs": [],
   "source": [
    "plt.hist(word_frequency_eclipse_data[word_frequency_eclipse_data['status_prediction']=='False Negative']['freq']\n",
    "         , align='left'\n",
    "         #, bins=6\n",
    "         , color='tab:blue')\n",
    "sns.despine(offset=5)\n",
    "plt.title(\"Eclipse: False Negative\")\n",
    "#plt.xticks([0, 2, 6], fontsize=SMALL_SIZE)\n",
    "#plt.xlim(2, 26)\n",
    "plt.xlabel('TF-IDF Score', fontsize=SMALL_SIZE)\n",
    "plt.yticks([0, 10, 20, 30, 40, 50, 60], fontsize=SMALL_SIZE)\n",
    "plt.ylim(0, 60)\n",
    "plt.ylabel('Count', fontsize=SMALL_SIZE)\n",
    "plt.savefig('figures/rq5-eclipse-tf-idf-histogram-false-negatives.pdf', format=\"pdf\", dpi=600, bbox_inches='tight')"
   ]
  },
  {
   "cell_type": "markdown",
   "metadata": {},
   "source": [
    "#### Sparcity"
   ]
  },
  {
   "cell_type": "code",
   "execution_count": null,
   "metadata": {},
   "outputs": [],
   "source": [
    "tdm_detailed_eclipse_matrix = tdm_detailed_eclipse_data.loc[tdm_detailed_eclipse_data.status_prediction=='False Negative'].pivot_table(index='Terms', columns='Docs', values='value', fill_value=0.0)\n",
    "fig, ax = plt.subplots(figsize=(10, 10))\n",
    "ax.spy(tdm_detailed_eclipse_matrix)"
   ]
  },
  {
   "cell_type": "code",
   "execution_count": null,
   "metadata": {},
   "outputs": [],
   "source": [
    "m = tdm_detailed_eclipse_matrix.to_numpy()\n",
    "sparsity_eclipse_fn = 1.0 - ( count_nonzero(m) / float(m.size) )\n",
    "sparsity_eclipse_fn"
   ]
  },
  {
   "cell_type": "code",
   "execution_count": null,
   "metadata": {},
   "outputs": [],
   "source": [
    "from pandas import DataFrame\n",
    "\n",
    "metrics = {'dataset': ['Eclipse', 'GCC'],\n",
    "        'True Positive':  [sparsity_eclipse_tp, sparsity_gcc_tp],\n",
    "        'False Negative': [sparsity_eclipse_fn, sparsity_gcc_fn]}\n",
    "\n",
    "df      = DataFrame(metrics)\n",
    "df.set_index('dataset', inplace=True)\n",
    "\n",
    "\n",
    "print (df) "
   ]
  },
  {
   "cell_type": "code",
   "execution_count": null,
   "metadata": {},
   "outputs": [],
   "source": [
    "#x=df['% of Long-Lived Bugs']\n",
    "#y=df['Balanced Accuracy (%)']\n",
    "import matplotlib.ticker as mtick\n",
    "\n",
    "ax = df.plot(kind=\"bar\", color=[\"tab:blue\", \"tab:red\"])\n",
    "sns.despine(offset=5)\n",
    "\n",
    "plt.ylim(0, 1)\n",
    "plt.grid(linestyle='--', linewidth=0.5, alpha=0.5)\n",
    "\n",
    "plt.title('Sparsity of Feature Vector Matrix in Testing')\n",
    "plt.xlabel('')\n",
    "plt.ylabel('Ratio')\n",
    "\n",
    "ax.yaxis.set_major_formatter(mtick.PercentFormatter(1.0))\n",
    "plt.savefig('figures/rq5-eclipse-gcc-tp-fn-sparsity.pdf', format=\"pdf\", dpi=600, bbox_inches='tight')"
   ]
  },
  {
   "cell_type": "code",
   "execution_count": null,
   "metadata": {},
   "outputs": [],
   "source": []
  }
 ],
 "metadata": {
  "kernelspec": {
   "display_name": "Python 3",
   "language": "python",
   "name": "python3"
  },
  "language_info": {
   "codemirror_mode": {
    "name": "ipython",
    "version": 3
   },
   "file_extension": ".py",
   "mimetype": "text/x-python",
   "name": "python",
   "nbconvert_exporter": "python",
   "pygments_lexer": "ipython3",
   "version": "3.7.5"
  }
 },
 "nbformat": 4,
 "nbformat_minor": 2
}
