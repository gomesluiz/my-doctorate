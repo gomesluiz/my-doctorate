{
 "cells": [
  {
   "cell_type": "markdown",
   "metadata": {},
   "source": [
    "# Research Question No. 2"
   ]
  },
  {
   "cell_type": "markdown",
   "metadata": {},
   "source": [
    "## How frequent are long-lived bugs in FLOSS project?"
   ]
  },
  {
   "cell_type": "markdown",
   "metadata": {},
   "source": [
    "## Experimental parameters"
   ]
  },
  {
   "cell_type": "markdown",
   "metadata": {},
   "source": [
    "\n",
    "| Project                    |         #Reports     |       #Thesholds     |\n",
    "|----------------------------|:--------------------:|:--------------------:|\n",
    "| Eclipse                    |        9998         |         365          |\n",
    "| GCC                        |        9998         |         365          |\n",
    "| Gnome                      |        7991          |         365          |\n",
    "| Freedesktop                |        7712          |         365          |\n",
    "| Mozilla                    |        9998          |         365          |\n",
    "| WineHQ                     |        6073          |         365          |\n",
    "\n",
    "Every bug which its report have indicated that the number of days to resolve is less than or equal to **threshold fixed** was considered a **non-long lived bug** and that which the number of days to resolve is greater than this threshold was considered as a **long-live bug**. "
   ]
  },
  {
   "cell_type": "markdown",
   "metadata": {},
   "source": [
    "## Step1. Setup environment."
   ]
  },
  {
   "cell_type": "code",
   "execution_count": 1,
   "metadata": {},
   "outputs": [
    {
     "data": {
      "application/javascript": [
       "IPython.OutputArea.prototype._should_scroll = function(lines) {\n",
       "    return false;\n",
       "}\n"
      ],
      "text/plain": [
       "<IPython.core.display.Javascript object>"
      ]
     },
     "metadata": {},
     "output_type": "display_data"
    }
   ],
   "source": [
    "%%javascript\n",
    "IPython.OutputArea.prototype._should_scroll = function(lines) {\n",
    "    return false;\n",
    "}"
   ]
  },
  {
   "cell_type": "code",
   "execution_count": 2,
   "metadata": {},
   "outputs": [
    {
     "name": "stderr",
     "output_type": "stream",
     "text": [
      "[nltk_data] Downloading package punkt to /home/luizgomes/nltk_data...\n"
     ]
    },
    {
     "name": "stdout",
     "output_type": "stream",
     "text": [
      "Setup complete\n"
     ]
    },
    {
     "name": "stderr",
     "output_type": "stream",
     "text": [
      "[nltk_data]   Package punkt is already up-to-date!\n",
      "[nltk_data] Downloading package stopwords to\n",
      "[nltk_data]     /home/luizgomes/nltk_data...\n",
      "[nltk_data]   Package stopwords is already up-to-date!\n"
     ]
    }
   ],
   "source": [
    "import matplotlib.pyplot as plt \n",
    "import nltk \n",
    "import numpy as np\n",
    "import os \n",
    "import pandas as pd\n",
    "import seaborn as sns \n",
    "import string\n",
    "\n",
    "from nltk.stem   import PorterStemmer\n",
    "from nltk.corpus import stopwords\n",
    "from nltk.tokenize import sent_tokenize, word_tokenize\n",
    "from wordcloud import WordCloud, STOPWORDS, ImageColorGenerator\n",
    "\n",
    "# Setup Seaborn\n",
    "sns.set_context(\"paper\")\n",
    "sns.set(style=\"ticks\", color_codes=True, font_scale=2)\n",
    "\n",
    "# Setup Matplotlib\n",
    "plt.rc('figure', figsize=(20, 20))\n",
    "plt.style.use('default')\n",
    "SMALL_SIZE  = 10\n",
    "MEDIUM_SIZE = 10\n",
    "BIGGER_SIZE = 12\n",
    "plt.rc('font',   size=SMALL_SIZE)       # controls default text sizes\n",
    "plt.rc('axes',   titlesize=SMALL_SIZE)  # fontsize of the axes title\n",
    "plt.rc('axes',   labelsize=SMALL_SIZE)  # fontsize of the x and y labels\n",
    "plt.rc('xtick',  labelsize=SMALL_SIZE)  # fontsize of the tick labels\n",
    "plt.rc('ytick',  labelsize=SMALL_SIZE)  # fontsize of the tick labels\n",
    "plt.rc('legend', fontsize=SMALL_SIZE)   # legend fontsize\n",
    "plt.rc('figure', titlesize=SMALL_SIZE)  # fontsize of the figure title\n",
    "#%matplotlib inline \n",
    "\n",
    "# Setup NLTK\n",
    "stemmer = PorterStemmer()\n",
    "nltk.download('punkt')\n",
    "nltk.download('stopwords')\n",
    "\n",
    "# Path of the file to read.\n",
    "projects = ['eclipse', 'freedesktop', 'gnome', 'mozilla', 'gcc', 'winehq']\n",
    "\n",
    "# Fixed time threshold.\n",
    "bug_fix_time_threshold = 365\n",
    "print(\"Setup complete\")"
   ]
  },
  {
   "cell_type": "markdown",
   "metadata": {},
   "source": [
    "## Step 2. Load data."
   ]
  },
  {
   "cell_type": "code",
   "execution_count": 3,
   "metadata": {},
   "outputs": [
    {
     "name": "stdout",
     "output_type": "stream",
     "text": [
      "There are 10000 rows and 19 columns in datasets/20190917_eclipse_bug_report_data.csv.\n",
      "\n",
      "Mean of bug fix time: 108.5303.\n",
      "\n",
      "There are 7714 rows and 19 columns in datasets/20190917_freedesktop_bug_report_data.csv.\n",
      "\n",
      "Mean of bug fix time: 173.19665543168264.\n",
      "\n",
      "There are 7993 rows and 19 columns in datasets/20190917_gnome_bug_report_data.csv.\n",
      "\n",
      "Mean of bug fix time: 202.4147378956587.\n",
      "\n",
      "There are 10000 rows and 19 columns in datasets/20190917_mozilla_bug_report_data.csv.\n",
      "\n",
      "Mean of bug fix time: 278.071.\n",
      "\n",
      "There are 10000 rows and 19 columns in datasets/20190917_gcc_bug_report_data.csv.\n",
      "\n",
      "Mean of bug fix time: 337.8563.\n",
      "\n",
      "There are 6074 rows and 19 columns in datasets/20190917_winehq_bug_report_data.csv.\n",
      "\n",
      "Mean of bug fix time: 491.10273296015805.\n",
      "\n"
     ]
    }
   ],
   "source": [
    "bug_reports_data_list = []\n",
    "for project in projects:\n",
    "    bug_reports_path = f\"datasets/20190917_{project}_bug_report_data.csv\"\n",
    "\n",
    "    # read bug reports data.\n",
    "    bug_reports_data = pd.read_csv(bug_reports_path)[0:10000]\n",
    "    rows_and_cols = bug_reports_data.shape\n",
    "    print(f\"There are {rows_and_cols[0]} rows and {rows_and_cols[1]} columns in {bug_reports_path}.\\n\")\n",
    "    print(f\"Mean of bug fix time: {bug_reports_data['bug_fix_time'].mean(axis=0)}.\\n\")\n",
    "   \n",
    "    bug_reports_data[\"project\"] = project  \n",
    "    bug_reports_data_list.append(bug_reports_data) \n",
    "\n",
    "# concatenate all bug_reports_data \n",
    "bug_reports_all_data = pd.concat(bug_reports_data_list)"
   ]
  },
  {
   "cell_type": "code",
   "execution_count": 4,
   "metadata": {},
   "outputs": [
    {
     "name": "stdout",
     "output_type": "stream",
     "text": [
      "There are 79279 rows and 6 columns in datasets/20190917_eclipse_bug_report_history_data.csv.\n",
      "\n",
      "There are 51724 rows and 6 columns in datasets/20190917_freedesktop_bug_report_history_data.csv.\n",
      "\n",
      "There are 52102 rows and 6 columns in datasets/20190917_gnome_bug_report_history_data.csv.\n",
      "\n",
      "There are 191270 rows and 6 columns in datasets/20190917_mozilla_bug_report_history_data.csv.\n",
      "\n",
      "There are 98055 rows and 6 columns in datasets/20190917_gcc_bug_report_history_data.csv.\n",
      "\n",
      "There are 60992 rows and 6 columns in datasets/20190917_winehq_bug_report_history_data.csv.\n",
      "\n"
     ]
    }
   ],
   "source": [
    "bug_reports_history_data_list = []\n",
    "for project in projects:\n",
    "    bug_reports_history_path = f\"datasets/20190917_{project}_bug_report_history_data.csv\"\n",
    "\n",
    "    # read bug reports data.\n",
    "    bug_reports_history_data = pd.read_csv(bug_reports_history_path, sep=',')\n",
    " \n",
    "    # print dataframe information\n",
    "    rows_and_cols = bug_reports_history_data.shape\n",
    "    print(f\"There are {rows_and_cols[0]} rows and {rows_and_cols[1]} columns in {bug_reports_history_path}.\\n\")\n",
    "    \n",
    "    bug_reports_history_data_list.append(bug_reports_history_data) \n",
    "\n",
    "# concatenate all bug_reports_data \n",
    "bug_reports_all_history_data = pd.concat(bug_reports_history_data_list)"
   ]
  },
  {
   "cell_type": "markdown",
   "metadata": {},
   "source": [
    "## Step 3. Review the data"
   ]
  },
  {
   "cell_type": "code",
   "execution_count": 5,
   "metadata": {},
   "outputs": [
    {
     "data": {
      "text/html": [
       "<div>\n",
       "<style scoped>\n",
       "    .dataframe tbody tr th:only-of-type {\n",
       "        vertical-align: middle;\n",
       "    }\n",
       "\n",
       "    .dataframe tbody tr th {\n",
       "        vertical-align: top;\n",
       "    }\n",
       "\n",
       "    .dataframe thead th {\n",
       "        text-align: right;\n",
       "    }\n",
       "</style>\n",
       "<table border=\"1\" class=\"dataframe\">\n",
       "  <thead>\n",
       "    <tr style=\"text-align: right;\">\n",
       "      <th></th>\n",
       "      <th>bug_id</th>\n",
       "      <th>creation_date</th>\n",
       "      <th>component_name</th>\n",
       "      <th>product_name</th>\n",
       "      <th>short_description</th>\n",
       "      <th>long_description</th>\n",
       "      <th>assignee_name</th>\n",
       "      <th>reporter_name</th>\n",
       "      <th>resolution_category</th>\n",
       "      <th>resolution_code</th>\n",
       "      <th>status_category</th>\n",
       "      <th>status_code</th>\n",
       "      <th>update_date</th>\n",
       "      <th>quantity_of_votes</th>\n",
       "      <th>quantity_of_comments</th>\n",
       "      <th>resolution_date</th>\n",
       "      <th>bug_fix_time</th>\n",
       "      <th>severity_category</th>\n",
       "      <th>severity_code</th>\n",
       "      <th>project</th>\n",
       "    </tr>\n",
       "  </thead>\n",
       "  <tbody>\n",
       "    <tr>\n",
       "      <th>0</th>\n",
       "      <td>EMF-354412</td>\n",
       "      <td>2011-08-10</td>\n",
       "      <td>cdo.core</td>\n",
       "      <td>EMF</td>\n",
       "      <td>containsAll returns wrong result in case of de...</td>\n",
       "      <td>Cloned from: 354395: containsAll returns wrong...</td>\n",
       "      <td>stepper</td>\n",
       "      <td>stepper</td>\n",
       "      <td>fixed</td>\n",
       "      <td>1</td>\n",
       "      <td>closed</td>\n",
       "      <td>6</td>\n",
       "      <td>2012-09-21</td>\n",
       "      <td>0</td>\n",
       "      <td>5</td>\n",
       "      <td>2011-08-10</td>\n",
       "      <td>0</td>\n",
       "      <td>normal</td>\n",
       "      <td>2</td>\n",
       "      <td>eclipse</td>\n",
       "    </tr>\n",
       "    <tr>\n",
       "      <th>1</th>\n",
       "      <td>JSDT-253166</td>\n",
       "      <td>2008-11-03</td>\n",
       "      <td>General</td>\n",
       "      <td>JSDT</td>\n",
       "      <td>Javascript validation has several errors with ...</td>\n",
       "      <td>Some of our javascript-files yield parse-error...</td>\n",
       "      <td>cmjaun</td>\n",
       "      <td>acm</td>\n",
       "      <td>fixed</td>\n",
       "      <td>1</td>\n",
       "      <td>resolved</td>\n",
       "      <td>4</td>\n",
       "      <td>2010-03-03</td>\n",
       "      <td>0</td>\n",
       "      <td>6</td>\n",
       "      <td>2009-04-29</td>\n",
       "      <td>177</td>\n",
       "      <td>normal</td>\n",
       "      <td>2</td>\n",
       "      <td>eclipse</td>\n",
       "    </tr>\n",
       "    <tr>\n",
       "      <th>2</th>\n",
       "      <td>ECLIPSELINK-338573</td>\n",
       "      <td>2011-03-01</td>\n",
       "      <td>SDO</td>\n",
       "      <td>ECLIPSELINK</td>\n",
       "      <td>Memory Improvement:  Reduce the instances of S...</td>\n",
       "      <td>Currently the SDO/OXM metadata is referring to...</td>\n",
       "      <td>blaise.doughan</td>\n",
       "      <td>blaise.doughan</td>\n",
       "      <td>fixed</td>\n",
       "      <td>1</td>\n",
       "      <td>resolved</td>\n",
       "      <td>4</td>\n",
       "      <td>2011-03-02</td>\n",
       "      <td>0</td>\n",
       "      <td>5</td>\n",
       "      <td>2011-03-02</td>\n",
       "      <td>1</td>\n",
       "      <td>normal</td>\n",
       "      <td>2</td>\n",
       "      <td>eclipse</td>\n",
       "    </tr>\n",
       "    <tr>\n",
       "      <th>3</th>\n",
       "      <td>BIRT-150200</td>\n",
       "      <td>2006-07-10</td>\n",
       "      <td>Chart</td>\n",
       "      <td>BIRT</td>\n",
       "      <td>Stacked Area Chart: fill.set() ignored in befo...</td>\n",
       "      <td>In the attached report the fill.set() is being...</td>\n",
       "      <td>nli</td>\n",
       "      <td>eclipse</td>\n",
       "      <td>fixed</td>\n",
       "      <td>1</td>\n",
       "      <td>resolved</td>\n",
       "      <td>4</td>\n",
       "      <td>2010-03-24</td>\n",
       "      <td>0</td>\n",
       "      <td>7</td>\n",
       "      <td>2006-08-29</td>\n",
       "      <td>50</td>\n",
       "      <td>major</td>\n",
       "      <td>4</td>\n",
       "      <td>eclipse</td>\n",
       "    </tr>\n",
       "    <tr>\n",
       "      <th>4</th>\n",
       "      <td>PAPYRUS-384964</td>\n",
       "      <td>2012-07-12</td>\n",
       "      <td>Core</td>\n",
       "      <td>PAPYRUS</td>\n",
       "      <td>[StateMachine Diagram] Papyrus does not forbid...</td>\n",
       "      <td>In some situation (seem to be when an element ...</td>\n",
       "      <td>ansgar.radermacher</td>\n",
       "      <td>yann.tanguy</td>\n",
       "      <td>fixed</td>\n",
       "      <td>1</td>\n",
       "      <td>resolved</td>\n",
       "      <td>4</td>\n",
       "      <td>2013-04-02</td>\n",
       "      <td>0</td>\n",
       "      <td>3</td>\n",
       "      <td>2013-04-02</td>\n",
       "      <td>264</td>\n",
       "      <td>critical</td>\n",
       "      <td>5</td>\n",
       "      <td>eclipse</td>\n",
       "    </tr>\n",
       "  </tbody>\n",
       "</table>\n",
       "</div>"
      ],
      "text/plain": [
       "               bug_id creation_date component_name product_name  \\\n",
       "0          EMF-354412    2011-08-10       cdo.core          EMF   \n",
       "1         JSDT-253166    2008-11-03        General         JSDT   \n",
       "2  ECLIPSELINK-338573    2011-03-01            SDO  ECLIPSELINK   \n",
       "3         BIRT-150200    2006-07-10          Chart         BIRT   \n",
       "4      PAPYRUS-384964    2012-07-12           Core      PAPYRUS   \n",
       "\n",
       "                                   short_description  \\\n",
       "0  containsAll returns wrong result in case of de...   \n",
       "1  Javascript validation has several errors with ...   \n",
       "2  Memory Improvement:  Reduce the instances of S...   \n",
       "3  Stacked Area Chart: fill.set() ignored in befo...   \n",
       "4  [StateMachine Diagram] Papyrus does not forbid...   \n",
       "\n",
       "                                    long_description       assignee_name  \\\n",
       "0  Cloned from: 354395: containsAll returns wrong...             stepper   \n",
       "1  Some of our javascript-files yield parse-error...              cmjaun   \n",
       "2  Currently the SDO/OXM metadata is referring to...      blaise.doughan   \n",
       "3  In the attached report the fill.set() is being...                 nli   \n",
       "4  In some situation (seem to be when an element ...  ansgar.radermacher   \n",
       "\n",
       "    reporter_name resolution_category  resolution_code status_category  \\\n",
       "0         stepper               fixed                1          closed   \n",
       "1             acm               fixed                1        resolved   \n",
       "2  blaise.doughan               fixed                1        resolved   \n",
       "3         eclipse               fixed                1        resolved   \n",
       "4     yann.tanguy               fixed                1        resolved   \n",
       "\n",
       "   status_code update_date  quantity_of_votes  quantity_of_comments  \\\n",
       "0            6  2012-09-21                  0                     5   \n",
       "1            4  2010-03-03                  0                     6   \n",
       "2            4  2011-03-02                  0                     5   \n",
       "3            4  2010-03-24                  0                     7   \n",
       "4            4  2013-04-02                  0                     3   \n",
       "\n",
       "  resolution_date  bug_fix_time severity_category  severity_code  project  \n",
       "0      2011-08-10             0            normal              2  eclipse  \n",
       "1      2009-04-29           177            normal              2  eclipse  \n",
       "2      2011-03-02             1            normal              2  eclipse  \n",
       "3      2006-08-29            50             major              4  eclipse  \n",
       "4      2013-04-02           264          critical              5  eclipse  "
      ]
     },
     "execution_count": 5,
     "metadata": {},
     "output_type": "execute_result"
    }
   ],
   "source": [
    "bug_reports_all_data.head()"
   ]
  },
  {
   "cell_type": "code",
   "execution_count": 6,
   "metadata": {},
   "outputs": [
    {
     "data": {
      "text/html": [
       "<div>\n",
       "<style scoped>\n",
       "    .dataframe tbody tr th:only-of-type {\n",
       "        vertical-align: middle;\n",
       "    }\n",
       "\n",
       "    .dataframe tbody tr th {\n",
       "        vertical-align: top;\n",
       "    }\n",
       "\n",
       "    .dataframe thead th {\n",
       "        text-align: right;\n",
       "    }\n",
       "</style>\n",
       "<table border=\"1\" class=\"dataframe\">\n",
       "  <thead>\n",
       "    <tr style=\"text-align: right;\">\n",
       "      <th></th>\n",
       "      <th>resolution_code</th>\n",
       "      <th>status_code</th>\n",
       "      <th>quantity_of_votes</th>\n",
       "      <th>quantity_of_comments</th>\n",
       "      <th>bug_fix_time</th>\n",
       "      <th>severity_code</th>\n",
       "    </tr>\n",
       "  </thead>\n",
       "  <tbody>\n",
       "    <tr>\n",
       "      <th>count</th>\n",
       "      <td>51781.0</td>\n",
       "      <td>51781.000000</td>\n",
       "      <td>51781.000000</td>\n",
       "      <td>51781.000000</td>\n",
       "      <td>51781.000000</td>\n",
       "      <td>51781.000000</td>\n",
       "    </tr>\n",
       "    <tr>\n",
       "      <th>mean</th>\n",
       "      <td>1.0</td>\n",
       "      <td>4.409957</td>\n",
       "      <td>0.078832</td>\n",
       "      <td>8.664896</td>\n",
       "      <td>254.561982</td>\n",
       "      <td>2.355710</td>\n",
       "    </tr>\n",
       "    <tr>\n",
       "      <th>std</th>\n",
       "      <td>0.0</td>\n",
       "      <td>0.807380</td>\n",
       "      <td>1.303383</td>\n",
       "      <td>12.267116</td>\n",
       "      <td>542.361709</td>\n",
       "      <td>0.987261</td>\n",
       "    </tr>\n",
       "    <tr>\n",
       "      <th>min</th>\n",
       "      <td>1.0</td>\n",
       "      <td>4.000000</td>\n",
       "      <td>0.000000</td>\n",
       "      <td>0.000000</td>\n",
       "      <td>-1.000000</td>\n",
       "      <td>0.000000</td>\n",
       "    </tr>\n",
       "    <tr>\n",
       "      <th>25%</th>\n",
       "      <td>1.0</td>\n",
       "      <td>4.000000</td>\n",
       "      <td>0.000000</td>\n",
       "      <td>3.000000</td>\n",
       "      <td>3.000000</td>\n",
       "      <td>2.000000</td>\n",
       "    </tr>\n",
       "    <tr>\n",
       "      <th>50%</th>\n",
       "      <td>1.0</td>\n",
       "      <td>4.000000</td>\n",
       "      <td>0.000000</td>\n",
       "      <td>6.000000</td>\n",
       "      <td>29.000000</td>\n",
       "      <td>2.000000</td>\n",
       "    </tr>\n",
       "    <tr>\n",
       "      <th>75%</th>\n",
       "      <td>1.0</td>\n",
       "      <td>4.000000</td>\n",
       "      <td>0.000000</td>\n",
       "      <td>10.000000</td>\n",
       "      <td>235.000000</td>\n",
       "      <td>2.000000</td>\n",
       "    </tr>\n",
       "    <tr>\n",
       "      <th>max</th>\n",
       "      <td>1.0</td>\n",
       "      <td>6.000000</td>\n",
       "      <td>101.000000</td>\n",
       "      <td>810.000000</td>\n",
       "      <td>7294.000000</td>\n",
       "      <td>6.000000</td>\n",
       "    </tr>\n",
       "  </tbody>\n",
       "</table>\n",
       "</div>"
      ],
      "text/plain": [
       "       resolution_code   status_code  quantity_of_votes  quantity_of_comments  \\\n",
       "count          51781.0  51781.000000       51781.000000          51781.000000   \n",
       "mean               1.0      4.409957           0.078832              8.664896   \n",
       "std                0.0      0.807380           1.303383             12.267116   \n",
       "min                1.0      4.000000           0.000000              0.000000   \n",
       "25%                1.0      4.000000           0.000000              3.000000   \n",
       "50%                1.0      4.000000           0.000000              6.000000   \n",
       "75%                1.0      4.000000           0.000000             10.000000   \n",
       "max                1.0      6.000000         101.000000            810.000000   \n",
       "\n",
       "       bug_fix_time  severity_code  \n",
       "count  51781.000000   51781.000000  \n",
       "mean     254.561982       2.355710  \n",
       "std      542.361709       0.987261  \n",
       "min       -1.000000       0.000000  \n",
       "25%        3.000000       2.000000  \n",
       "50%       29.000000       2.000000  \n",
       "75%      235.000000       2.000000  \n",
       "max     7294.000000       6.000000  "
      ]
     },
     "execution_count": 6,
     "metadata": {},
     "output_type": "execute_result"
    }
   ],
   "source": [
    "bug_reports_all_data.describe()"
   ]
  },
  {
   "cell_type": "code",
   "execution_count": 7,
   "metadata": {},
   "outputs": [
    {
     "data": {
      "text/html": [
       "<div>\n",
       "<style scoped>\n",
       "    .dataframe tbody tr th:only-of-type {\n",
       "        vertical-align: middle;\n",
       "    }\n",
       "\n",
       "    .dataframe tbody tr th {\n",
       "        vertical-align: top;\n",
       "    }\n",
       "\n",
       "    .dataframe thead th {\n",
       "        text-align: right;\n",
       "    }\n",
       "</style>\n",
       "<table border=\"1\" class=\"dataframe\">\n",
       "  <thead>\n",
       "    <tr style=\"text-align: right;\">\n",
       "      <th></th>\n",
       "      <th>bug_id</th>\n",
       "      <th>creation_date</th>\n",
       "      <th>component_name</th>\n",
       "      <th>product_name</th>\n",
       "      <th>short_description</th>\n",
       "      <th>long_description</th>\n",
       "      <th>assignee_name</th>\n",
       "      <th>reporter_name</th>\n",
       "      <th>resolution_category</th>\n",
       "      <th>resolution_code</th>\n",
       "      <th>status_category</th>\n",
       "      <th>status_code</th>\n",
       "      <th>update_date</th>\n",
       "      <th>quantity_of_votes</th>\n",
       "      <th>quantity_of_comments</th>\n",
       "      <th>resolution_date</th>\n",
       "      <th>bug_fix_time</th>\n",
       "      <th>severity_category</th>\n",
       "      <th>severity_code</th>\n",
       "      <th>project</th>\n",
       "    </tr>\n",
       "  </thead>\n",
       "  <tbody>\n",
       "  </tbody>\n",
       "</table>\n",
       "</div>"
      ],
      "text/plain": [
       "Empty DataFrame\n",
       "Columns: [bug_id, creation_date, component_name, product_name, short_description, long_description, assignee_name, reporter_name, resolution_category, resolution_code, status_category, status_code, update_date, quantity_of_votes, quantity_of_comments, resolution_date, bug_fix_time, severity_category, severity_code, project]\n",
       "Index: []"
      ]
     },
     "execution_count": 7,
     "metadata": {},
     "output_type": "execute_result"
    }
   ],
   "source": [
    "bug_reports_all_data.drop(bug_reports_all_data.loc[bug_reports_all_data['bug_fix_time'] < 0].index, inplace=True)\n",
    "bug_reports_all_data.loc[bug_reports_all_data['bug_fix_time'] < 0]"
   ]
  },
  {
   "cell_type": "code",
   "execution_count": 8,
   "metadata": {},
   "outputs": [
    {
     "data": {
      "text/html": [
       "<div>\n",
       "<style scoped>\n",
       "    .dataframe tbody tr th:only-of-type {\n",
       "        vertical-align: middle;\n",
       "    }\n",
       "\n",
       "    .dataframe tbody tr th {\n",
       "        vertical-align: top;\n",
       "    }\n",
       "\n",
       "    .dataframe thead th {\n",
       "        text-align: right;\n",
       "    }\n",
       "</style>\n",
       "<table border=\"1\" class=\"dataframe\">\n",
       "  <thead>\n",
       "    <tr style=\"text-align: right;\">\n",
       "      <th></th>\n",
       "      <th>Key</th>\n",
       "      <th>Who</th>\n",
       "      <th>When</th>\n",
       "      <th>What</th>\n",
       "      <th>Removed</th>\n",
       "      <th>Added</th>\n",
       "    </tr>\n",
       "  </thead>\n",
       "  <tbody>\n",
       "    <tr>\n",
       "      <th>0</th>\n",
       "      <td>EMF-354412</td>\n",
       "      <td>stepper</td>\n",
       "      <td>2011-08-10</td>\n",
       "      <td>status</td>\n",
       "      <td>new</td>\n",
       "      <td>assigned</td>\n",
       "    </tr>\n",
       "    <tr>\n",
       "      <th>1</th>\n",
       "      <td>EMF-354412</td>\n",
       "      <td>stepper</td>\n",
       "      <td>2011-08-10</td>\n",
       "      <td>assignee</td>\n",
       "      <td>emf.cdo-inbox</td>\n",
       "      <td>stepper</td>\n",
       "    </tr>\n",
       "    <tr>\n",
       "      <th>2</th>\n",
       "      <td>EMF-354412</td>\n",
       "      <td>stepper</td>\n",
       "      <td>2011-08-10</td>\n",
       "      <td>status</td>\n",
       "      <td>assigned</td>\n",
       "      <td>resolved</td>\n",
       "    </tr>\n",
       "    <tr>\n",
       "      <th>3</th>\n",
       "      <td>EMF-354412</td>\n",
       "      <td>stepper</td>\n",
       "      <td>2011-08-10</td>\n",
       "      <td>resolution</td>\n",
       "      <td>---</td>\n",
       "      <td>fixed</td>\n",
       "    </tr>\n",
       "    <tr>\n",
       "      <th>4</th>\n",
       "      <td>EMF-354412</td>\n",
       "      <td>stepper</td>\n",
       "      <td>2012-09-21</td>\n",
       "      <td>status</td>\n",
       "      <td>resolved</td>\n",
       "      <td>closed</td>\n",
       "    </tr>\n",
       "  </tbody>\n",
       "</table>\n",
       "</div>"
      ],
      "text/plain": [
       "          Key      Who        When        What        Removed     Added\n",
       "0  EMF-354412  stepper  2011-08-10      status            new  assigned\n",
       "1  EMF-354412  stepper  2011-08-10    assignee  emf.cdo-inbox   stepper\n",
       "2  EMF-354412  stepper  2011-08-10      status       assigned  resolved\n",
       "3  EMF-354412  stepper  2011-08-10  resolution            ---     fixed\n",
       "4  EMF-354412  stepper  2012-09-21      status       resolved    closed"
      ]
     },
     "execution_count": 8,
     "metadata": {},
     "output_type": "execute_result"
    }
   ],
   "source": [
    "bug_reports_all_history_data.head()"
   ]
  },
  {
   "cell_type": "markdown",
   "metadata": {},
   "source": [
    "## Step 4. Pre-processing the data"
   ]
  },
  {
   "cell_type": "code",
   "execution_count": 9,
   "metadata": {},
   "outputs": [
    {
     "data": {
      "text/html": [
       "<div>\n",
       "<style scoped>\n",
       "    .dataframe tbody tr th:only-of-type {\n",
       "        vertical-align: middle;\n",
       "    }\n",
       "\n",
       "    .dataframe tbody tr th {\n",
       "        vertical-align: top;\n",
       "    }\n",
       "\n",
       "    .dataframe thead th {\n",
       "        text-align: right;\n",
       "    }\n",
       "</style>\n",
       "<table border=\"1\" class=\"dataframe\">\n",
       "  <thead>\n",
       "    <tr style=\"text-align: right;\">\n",
       "      <th></th>\n",
       "      <th>bug_id</th>\n",
       "      <th>creation_date</th>\n",
       "      <th>component_name</th>\n",
       "      <th>product_name</th>\n",
       "      <th>short_description</th>\n",
       "      <th>long_description</th>\n",
       "      <th>assignee_name</th>\n",
       "      <th>reporter_name</th>\n",
       "      <th>resolution_category</th>\n",
       "      <th>resolution_code</th>\n",
       "      <th>...</th>\n",
       "      <th>quantity_of_votes</th>\n",
       "      <th>quantity_of_comments</th>\n",
       "      <th>resolution_date</th>\n",
       "      <th>bug_fix_time</th>\n",
       "      <th>severity_category</th>\n",
       "      <th>severity_code</th>\n",
       "      <th>project</th>\n",
       "      <th>short_description_words</th>\n",
       "      <th>long_description_words</th>\n",
       "      <th>long_lived?</th>\n",
       "    </tr>\n",
       "  </thead>\n",
       "  <tbody>\n",
       "    <tr>\n",
       "      <th>0</th>\n",
       "      <td>EMF-354412</td>\n",
       "      <td>2011-08-10</td>\n",
       "      <td>cdo.core</td>\n",
       "      <td>EMF</td>\n",
       "      <td>containsAll returns wrong result in case of de...</td>\n",
       "      <td>Cloned from: 354395: containsAll returns wrong...</td>\n",
       "      <td>stepper</td>\n",
       "      <td>stepper</td>\n",
       "      <td>fixed</td>\n",
       "      <td>1</td>\n",
       "      <td>...</td>\n",
       "      <td>0</td>\n",
       "      <td>5</td>\n",
       "      <td>2011-08-10</td>\n",
       "      <td>0</td>\n",
       "      <td>normal</td>\n",
       "      <td>2</td>\n",
       "      <td>eclipse</td>\n",
       "      <td>9</td>\n",
       "      <td>134</td>\n",
       "      <td>short-lived</td>\n",
       "    </tr>\n",
       "    <tr>\n",
       "      <th>1</th>\n",
       "      <td>JSDT-253166</td>\n",
       "      <td>2008-11-03</td>\n",
       "      <td>General</td>\n",
       "      <td>JSDT</td>\n",
       "      <td>Javascript validation has several errors with ...</td>\n",
       "      <td>Some of our javascript-files yield parse-error...</td>\n",
       "      <td>cmjaun</td>\n",
       "      <td>acm</td>\n",
       "      <td>fixed</td>\n",
       "      <td>1</td>\n",
       "      <td>...</td>\n",
       "      <td>0</td>\n",
       "      <td>6</td>\n",
       "      <td>2009-04-29</td>\n",
       "      <td>177</td>\n",
       "      <td>normal</td>\n",
       "      <td>2</td>\n",
       "      <td>eclipse</td>\n",
       "      <td>8</td>\n",
       "      <td>179</td>\n",
       "      <td>short-lived</td>\n",
       "    </tr>\n",
       "    <tr>\n",
       "      <th>2</th>\n",
       "      <td>ECLIPSELINK-338573</td>\n",
       "      <td>2011-03-01</td>\n",
       "      <td>SDO</td>\n",
       "      <td>ECLIPSELINK</td>\n",
       "      <td>Memory Improvement:  Reduce the instances of S...</td>\n",
       "      <td>Currently the SDO/OXM metadata is referring to...</td>\n",
       "      <td>blaise.doughan</td>\n",
       "      <td>blaise.doughan</td>\n",
       "      <td>fixed</td>\n",
       "      <td>1</td>\n",
       "      <td>...</td>\n",
       "      <td>0</td>\n",
       "      <td>5</td>\n",
       "      <td>2011-03-02</td>\n",
       "      <td>1</td>\n",
       "      <td>normal</td>\n",
       "      <td>2</td>\n",
       "      <td>eclipse</td>\n",
       "      <td>7</td>\n",
       "      <td>23</td>\n",
       "      <td>short-lived</td>\n",
       "    </tr>\n",
       "    <tr>\n",
       "      <th>3</th>\n",
       "      <td>BIRT-150200</td>\n",
       "      <td>2006-07-10</td>\n",
       "      <td>Chart</td>\n",
       "      <td>BIRT</td>\n",
       "      <td>Stacked Area Chart: fill.set() ignored in befo...</td>\n",
       "      <td>In the attached report the fill.set() is being...</td>\n",
       "      <td>nli</td>\n",
       "      <td>eclipse</td>\n",
       "      <td>fixed</td>\n",
       "      <td>1</td>\n",
       "      <td>...</td>\n",
       "      <td>0</td>\n",
       "      <td>7</td>\n",
       "      <td>2006-08-29</td>\n",
       "      <td>50</td>\n",
       "      <td>major</td>\n",
       "      <td>4</td>\n",
       "      <td>eclipse</td>\n",
       "      <td>7</td>\n",
       "      <td>29</td>\n",
       "      <td>short-lived</td>\n",
       "    </tr>\n",
       "    <tr>\n",
       "      <th>4</th>\n",
       "      <td>PAPYRUS-384964</td>\n",
       "      <td>2012-07-12</td>\n",
       "      <td>Core</td>\n",
       "      <td>PAPYRUS</td>\n",
       "      <td>[StateMachine Diagram] Papyrus does not forbid...</td>\n",
       "      <td>In some situation (seem to be when an element ...</td>\n",
       "      <td>ansgar.radermacher</td>\n",
       "      <td>yann.tanguy</td>\n",
       "      <td>fixed</td>\n",
       "      <td>1</td>\n",
       "      <td>...</td>\n",
       "      <td>0</td>\n",
       "      <td>3</td>\n",
       "      <td>2013-04-02</td>\n",
       "      <td>264</td>\n",
       "      <td>critical</td>\n",
       "      <td>5</td>\n",
       "      <td>eclipse</td>\n",
       "      <td>14</td>\n",
       "      <td>73</td>\n",
       "      <td>short-lived</td>\n",
       "    </tr>\n",
       "  </tbody>\n",
       "</table>\n",
       "<p>5 rows × 23 columns</p>\n",
       "</div>"
      ],
      "text/plain": [
       "               bug_id creation_date component_name product_name  \\\n",
       "0          EMF-354412    2011-08-10       cdo.core          EMF   \n",
       "1         JSDT-253166    2008-11-03        General         JSDT   \n",
       "2  ECLIPSELINK-338573    2011-03-01            SDO  ECLIPSELINK   \n",
       "3         BIRT-150200    2006-07-10          Chart         BIRT   \n",
       "4      PAPYRUS-384964    2012-07-12           Core      PAPYRUS   \n",
       "\n",
       "                                   short_description  \\\n",
       "0  containsAll returns wrong result in case of de...   \n",
       "1  Javascript validation has several errors with ...   \n",
       "2  Memory Improvement:  Reduce the instances of S...   \n",
       "3  Stacked Area Chart: fill.set() ignored in befo...   \n",
       "4  [StateMachine Diagram] Papyrus does not forbid...   \n",
       "\n",
       "                                    long_description       assignee_name  \\\n",
       "0  Cloned from: 354395: containsAll returns wrong...             stepper   \n",
       "1  Some of our javascript-files yield parse-error...              cmjaun   \n",
       "2  Currently the SDO/OXM metadata is referring to...      blaise.doughan   \n",
       "3  In the attached report the fill.set() is being...                 nli   \n",
       "4  In some situation (seem to be when an element ...  ansgar.radermacher   \n",
       "\n",
       "    reporter_name resolution_category  resolution_code  ... quantity_of_votes  \\\n",
       "0         stepper               fixed                1  ...                 0   \n",
       "1             acm               fixed                1  ...                 0   \n",
       "2  blaise.doughan               fixed                1  ...                 0   \n",
       "3         eclipse               fixed                1  ...                 0   \n",
       "4     yann.tanguy               fixed                1  ...                 0   \n",
       "\n",
       "   quantity_of_comments resolution_date  bug_fix_time  severity_category  \\\n",
       "0                     5      2011-08-10             0             normal   \n",
       "1                     6      2009-04-29           177             normal   \n",
       "2                     5      2011-03-02             1             normal   \n",
       "3                     7      2006-08-29            50              major   \n",
       "4                     3      2013-04-02           264           critical   \n",
       "\n",
       "  severity_code  project short_description_words  long_description_words  \\\n",
       "0             2  eclipse                       9                     134   \n",
       "1             2  eclipse                       8                     179   \n",
       "2             2  eclipse                       7                      23   \n",
       "3             4  eclipse                       7                      29   \n",
       "4             5  eclipse                      14                      73   \n",
       "\n",
       "   long_lived?  \n",
       "0  short-lived  \n",
       "1  short-lived  \n",
       "2  short-lived  \n",
       "3  short-lived  \n",
       "4  short-lived  \n",
       "\n",
       "[5 rows x 23 columns]"
      ]
     },
     "execution_count": 9,
     "metadata": {},
     "output_type": "execute_result"
    }
   ],
   "source": [
    "bug_reports_all_data['short_description'] = bug_reports_all_data['short_description'].fillna(\"\")\n",
    "bug_reports_all_data['long_description']  = bug_reports_all_data['long_description'].fillna(\"\")\n",
    "bug_reports_all_data['short_description_words'] = bug_reports_all_data['short_description'].str.split().apply(lambda l: len(l))\n",
    "bug_reports_all_data['long_description_words']  = bug_reports_all_data['long_description'].str.split().apply(lambda l: len(l))\n",
    "bug_reports_all_data['long_lived?']  = bug_reports_all_data['bug_fix_time'].apply(lambda t: 'long-lived' if t > bug_fix_time_threshold else 'short-lived')\n",
    "\n",
    "bug_reports_all_data.drop(bug_reports_all_data[bug_reports_all_data['severity_category'] == 'not set'].index, inplace=True)\n",
    "bug_reports_all_data.drop(bug_reports_all_data[bug_reports_all_data['bug_fix_time'] < 0 ].index, inplace=True)\n",
    "\n",
    "bug_reports_all_data.head()"
   ]
  },
  {
   "cell_type": "code",
   "execution_count": 10,
   "metadata": {},
   "outputs": [
    {
     "data": {
      "text/plain": [
       "gcc            9998\n",
       "eclipse        9998\n",
       "mozilla        9998\n",
       "gnome          7991\n",
       "freedesktop    7712\n",
       "winehq         6073\n",
       "Name: project, dtype: int64"
      ]
     },
     "execution_count": 10,
     "metadata": {},
     "output_type": "execute_result"
    }
   ],
   "source": [
    "bug_reports_all_data['project'].value_counts()"
   ]
  },
  {
   "cell_type": "markdown",
   "metadata": {},
   "source": [
    "### Step 5. How frequent are long-lived bugs?"
   ]
  },
  {
   "cell_type": "code",
   "execution_count": 19,
   "metadata": {},
   "outputs": [],
   "source": [
    "def plot_bar (data, filename):\n",
    "    \n",
    "    top_g = data.groupby(\"project\")[\"project\"].agg(['count'])\n",
    "    top_s = top_g.sort_values('count', ascending=False)\n",
    "    top_n = data.loc[data['project'].isin(top_s.index)].groupby('project')['long_lived?'].value_counts(normalize=True).unstack()\n",
    "    \n",
    "    plt.figure(figsize=(20,20))\n",
    "    fig, axis = plt.subplots(figsize=(10, 10)) \n",
    "    \n",
    "    sns.despine(offset=5)\n",
    "    primary   = top_n.plot(kind='barh', stacked='True',  grid='True', color=[\"tab:red\", \"tab:blue\"], ax=axis)\n",
    "    secondary = primary.twinx()\n",
    "    \n",
    "    labels = [i.get_text() for i in primary.get_yticklabels()]\n",
    "    labels_new = [top_s.loc[top_s.index==i, 'count'].values[0] for i in labels]\n",
    "    \n",
    "    primary.set(xlim=(0, 1))\n",
    "    primary.set_xlabel('percentage', fontsize=MEDIUM_SIZE)\n",
    "    primary.set_ylabel('FLOSS Projects', fontsize=MEDIUM_SIZE) \n",
    "    primary.set_title(\"project\", fontsize=BIGGER_SIZE)\n",
    "    primary.tick_params(axis=\"y\", labelsize=MEDIUM_SIZE)\n",
    "    primary.tick_params(axis=\"x\", labelsize=MEDIUM_SIZE)\n",
    "    \n",
    "    secondary.set_yticks(primary.get_yticks())\n",
    "    secondary.set_ylim(primary.get_ylim())\n",
    "    secondary.set_yticklabels(labels_new)\n",
    "    secondary.tick_params(axis=\"y\", labelsize=MEDIUM_SIZE)\n",
    "    \n",
    "    plt.savefig(f\"figures/{filename}\", format=\"pdf\", dpi=600, bbox_inches='tight')\n"
   ]
  },
  {
   "cell_type": "code",
   "execution_count": 20,
   "metadata": {},
   "outputs": [
    {
     "ename": "AttributeError",
     "evalue": "'Rectangle' object has no property 'autopct'",
     "output_type": "error",
     "traceback": [
      "\u001b[0;31m---------------------------------------------------------------------------\u001b[0m",
      "\u001b[0;31mAttributeError\u001b[0m                            Traceback (most recent call last)",
      "\u001b[0;32m<ipython-input-20-29c6683f9e0d>\u001b[0m in \u001b[0;36m<module>\u001b[0;34m\u001b[0m\n\u001b[0;32m----> 1\u001b[0;31m \u001b[0mplot_bar\u001b[0m\u001b[0;34m(\u001b[0m\u001b[0mbug_reports_all_data\u001b[0m\u001b[0;34m,\u001b[0m \u001b[0;34m'rq2-all-percentage-of-long-lived-bugs.pdf'\u001b[0m\u001b[0;34m)\u001b[0m\u001b[0;34m\u001b[0m\u001b[0;34m\u001b[0m\u001b[0m\n\u001b[0m",
      "\u001b[0;32m<ipython-input-19-d3d924b98010>\u001b[0m in \u001b[0;36mplot_bar\u001b[0;34m(data, filename)\u001b[0m\n\u001b[1;32m      9\u001b[0m \u001b[0;34m\u001b[0m\u001b[0m\n\u001b[1;32m     10\u001b[0m     \u001b[0msns\u001b[0m\u001b[0;34m.\u001b[0m\u001b[0mdespine\u001b[0m\u001b[0;34m(\u001b[0m\u001b[0moffset\u001b[0m\u001b[0;34m=\u001b[0m\u001b[0;36m5\u001b[0m\u001b[0;34m)\u001b[0m\u001b[0;34m\u001b[0m\u001b[0;34m\u001b[0m\u001b[0m\n\u001b[0;32m---> 11\u001b[0;31m     \u001b[0mprimary\u001b[0m   \u001b[0;34m=\u001b[0m \u001b[0mtop_n\u001b[0m\u001b[0;34m.\u001b[0m\u001b[0mplot\u001b[0m\u001b[0;34m(\u001b[0m\u001b[0mkind\u001b[0m\u001b[0;34m=\u001b[0m\u001b[0;34m'barh'\u001b[0m\u001b[0;34m,\u001b[0m \u001b[0mautopct\u001b[0m\u001b[0;34m=\u001b[0m\u001b[0;34m'%1.1f%%'\u001b[0m\u001b[0;34m,\u001b[0m \u001b[0mstacked\u001b[0m\u001b[0;34m=\u001b[0m\u001b[0;34m'True'\u001b[0m\u001b[0;34m,\u001b[0m  \u001b[0mgrid\u001b[0m\u001b[0;34m=\u001b[0m\u001b[0;34m'True'\u001b[0m\u001b[0;34m,\u001b[0m \u001b[0mcolor\u001b[0m\u001b[0;34m=\u001b[0m\u001b[0;34m[\u001b[0m\u001b[0;34m\"tab:red\"\u001b[0m\u001b[0;34m,\u001b[0m \u001b[0;34m\"tab:blue\"\u001b[0m\u001b[0;34m]\u001b[0m\u001b[0;34m,\u001b[0m \u001b[0max\u001b[0m\u001b[0;34m=\u001b[0m\u001b[0maxis\u001b[0m\u001b[0;34m)\u001b[0m\u001b[0;34m\u001b[0m\u001b[0;34m\u001b[0m\u001b[0m\n\u001b[0m\u001b[1;32m     12\u001b[0m     \u001b[0msecondary\u001b[0m \u001b[0;34m=\u001b[0m \u001b[0mprimary\u001b[0m\u001b[0;34m.\u001b[0m\u001b[0mtwinx\u001b[0m\u001b[0;34m(\u001b[0m\u001b[0;34m)\u001b[0m\u001b[0;34m\u001b[0m\u001b[0;34m\u001b[0m\u001b[0m\n\u001b[1;32m     13\u001b[0m \u001b[0;34m\u001b[0m\u001b[0m\n",
      "\u001b[0;32m~/apps/anaconda3/lib/python3.7/site-packages/pandas/plotting/_core.py\u001b[0m in \u001b[0;36m__call__\u001b[0;34m(self, *args, **kwargs)\u001b[0m\n\u001b[1;32m    792\u001b[0m                     \u001b[0mdata\u001b[0m\u001b[0;34m.\u001b[0m\u001b[0mcolumns\u001b[0m \u001b[0;34m=\u001b[0m \u001b[0mlabel_name\u001b[0m\u001b[0;34m\u001b[0m\u001b[0;34m\u001b[0m\u001b[0m\n\u001b[1;32m    793\u001b[0m \u001b[0;34m\u001b[0m\u001b[0m\n\u001b[0;32m--> 794\u001b[0;31m         \u001b[0;32mreturn\u001b[0m \u001b[0mplot_backend\u001b[0m\u001b[0;34m.\u001b[0m\u001b[0mplot\u001b[0m\u001b[0;34m(\u001b[0m\u001b[0mdata\u001b[0m\u001b[0;34m,\u001b[0m \u001b[0mkind\u001b[0m\u001b[0;34m=\u001b[0m\u001b[0mkind\u001b[0m\u001b[0;34m,\u001b[0m \u001b[0;34m**\u001b[0m\u001b[0mkwargs\u001b[0m\u001b[0;34m)\u001b[0m\u001b[0;34m\u001b[0m\u001b[0;34m\u001b[0m\u001b[0m\n\u001b[0m\u001b[1;32m    795\u001b[0m \u001b[0;34m\u001b[0m\u001b[0m\n\u001b[1;32m    796\u001b[0m     \u001b[0;32mdef\u001b[0m \u001b[0mline\u001b[0m\u001b[0;34m(\u001b[0m\u001b[0mself\u001b[0m\u001b[0;34m,\u001b[0m \u001b[0mx\u001b[0m\u001b[0;34m=\u001b[0m\u001b[0;32mNone\u001b[0m\u001b[0;34m,\u001b[0m \u001b[0my\u001b[0m\u001b[0;34m=\u001b[0m\u001b[0;32mNone\u001b[0m\u001b[0;34m,\u001b[0m \u001b[0;34m**\u001b[0m\u001b[0mkwargs\u001b[0m\u001b[0;34m)\u001b[0m\u001b[0;34m:\u001b[0m\u001b[0;34m\u001b[0m\u001b[0;34m\u001b[0m\u001b[0m\n",
      "\u001b[0;32m~/apps/anaconda3/lib/python3.7/site-packages/pandas/plotting/_matplotlib/__init__.py\u001b[0m in \u001b[0;36mplot\u001b[0;34m(data, kind, **kwargs)\u001b[0m\n\u001b[1;32m     60\u001b[0m             \u001b[0mkwargs\u001b[0m\u001b[0;34m[\u001b[0m\u001b[0;34m\"ax\"\u001b[0m\u001b[0;34m]\u001b[0m \u001b[0;34m=\u001b[0m \u001b[0mgetattr\u001b[0m\u001b[0;34m(\u001b[0m\u001b[0max\u001b[0m\u001b[0;34m,\u001b[0m \u001b[0;34m\"left_ax\"\u001b[0m\u001b[0;34m,\u001b[0m \u001b[0max\u001b[0m\u001b[0;34m)\u001b[0m\u001b[0;34m\u001b[0m\u001b[0;34m\u001b[0m\u001b[0m\n\u001b[1;32m     61\u001b[0m     \u001b[0mplot_obj\u001b[0m \u001b[0;34m=\u001b[0m \u001b[0mPLOT_CLASSES\u001b[0m\u001b[0;34m[\u001b[0m\u001b[0mkind\u001b[0m\u001b[0;34m]\u001b[0m\u001b[0;34m(\u001b[0m\u001b[0mdata\u001b[0m\u001b[0;34m,\u001b[0m \u001b[0;34m**\u001b[0m\u001b[0mkwargs\u001b[0m\u001b[0;34m)\u001b[0m\u001b[0;34m\u001b[0m\u001b[0;34m\u001b[0m\u001b[0m\n\u001b[0;32m---> 62\u001b[0;31m     \u001b[0mplot_obj\u001b[0m\u001b[0;34m.\u001b[0m\u001b[0mgenerate\u001b[0m\u001b[0;34m(\u001b[0m\u001b[0;34m)\u001b[0m\u001b[0;34m\u001b[0m\u001b[0;34m\u001b[0m\u001b[0m\n\u001b[0m\u001b[1;32m     63\u001b[0m     \u001b[0mplot_obj\u001b[0m\u001b[0;34m.\u001b[0m\u001b[0mdraw\u001b[0m\u001b[0;34m(\u001b[0m\u001b[0;34m)\u001b[0m\u001b[0;34m\u001b[0m\u001b[0;34m\u001b[0m\u001b[0m\n\u001b[1;32m     64\u001b[0m     \u001b[0;32mreturn\u001b[0m \u001b[0mplot_obj\u001b[0m\u001b[0;34m.\u001b[0m\u001b[0mresult\u001b[0m\u001b[0;34m\u001b[0m\u001b[0;34m\u001b[0m\u001b[0m\n",
      "\u001b[0;32m~/apps/anaconda3/lib/python3.7/site-packages/pandas/plotting/_matplotlib/core.py\u001b[0m in \u001b[0;36mgenerate\u001b[0;34m(self)\u001b[0m\n\u001b[1;32m    279\u001b[0m         \u001b[0mself\u001b[0m\u001b[0;34m.\u001b[0m\u001b[0m_compute_plot_data\u001b[0m\u001b[0;34m(\u001b[0m\u001b[0;34m)\u001b[0m\u001b[0;34m\u001b[0m\u001b[0;34m\u001b[0m\u001b[0m\n\u001b[1;32m    280\u001b[0m         \u001b[0mself\u001b[0m\u001b[0;34m.\u001b[0m\u001b[0m_setup_subplots\u001b[0m\u001b[0;34m(\u001b[0m\u001b[0;34m)\u001b[0m\u001b[0;34m\u001b[0m\u001b[0;34m\u001b[0m\u001b[0m\n\u001b[0;32m--> 281\u001b[0;31m         \u001b[0mself\u001b[0m\u001b[0;34m.\u001b[0m\u001b[0m_make_plot\u001b[0m\u001b[0;34m(\u001b[0m\u001b[0;34m)\u001b[0m\u001b[0;34m\u001b[0m\u001b[0;34m\u001b[0m\u001b[0m\n\u001b[0m\u001b[1;32m    282\u001b[0m         \u001b[0mself\u001b[0m\u001b[0;34m.\u001b[0m\u001b[0m_add_table\u001b[0m\u001b[0;34m(\u001b[0m\u001b[0;34m)\u001b[0m\u001b[0;34m\u001b[0m\u001b[0;34m\u001b[0m\u001b[0m\n\u001b[1;32m    283\u001b[0m         \u001b[0mself\u001b[0m\u001b[0;34m.\u001b[0m\u001b[0m_make_legend\u001b[0m\u001b[0;34m(\u001b[0m\u001b[0;34m)\u001b[0m\u001b[0;34m\u001b[0m\u001b[0;34m\u001b[0m\u001b[0m\n",
      "\u001b[0;32m~/apps/anaconda3/lib/python3.7/site-packages/pandas/plotting/_matplotlib/core.py\u001b[0m in \u001b[0;36m_make_plot\u001b[0;34m(self)\u001b[0m\n\u001b[1;32m   1379\u001b[0m                     \u001b[0mlabel\u001b[0m\u001b[0;34m=\u001b[0m\u001b[0mlabel\u001b[0m\u001b[0;34m,\u001b[0m\u001b[0;34m\u001b[0m\u001b[0;34m\u001b[0m\u001b[0m\n\u001b[1;32m   1380\u001b[0m                     \u001b[0mlog\u001b[0m\u001b[0;34m=\u001b[0m\u001b[0mself\u001b[0m\u001b[0;34m.\u001b[0m\u001b[0mlog\u001b[0m\u001b[0;34m,\u001b[0m\u001b[0;34m\u001b[0m\u001b[0;34m\u001b[0m\u001b[0m\n\u001b[0;32m-> 1381\u001b[0;31m                     \u001b[0;34m**\u001b[0m\u001b[0mkwds\u001b[0m\u001b[0;34m\u001b[0m\u001b[0;34m\u001b[0m\u001b[0m\n\u001b[0m\u001b[1;32m   1382\u001b[0m                 )\n\u001b[1;32m   1383\u001b[0m                 \u001b[0mpos_prior\u001b[0m \u001b[0;34m=\u001b[0m \u001b[0mpos_prior\u001b[0m \u001b[0;34m+\u001b[0m \u001b[0mnp\u001b[0m\u001b[0;34m.\u001b[0m\u001b[0mwhere\u001b[0m\u001b[0;34m(\u001b[0m\u001b[0mmask\u001b[0m\u001b[0;34m,\u001b[0m \u001b[0my\u001b[0m\u001b[0;34m,\u001b[0m \u001b[0;36m0\u001b[0m\u001b[0;34m)\u001b[0m\u001b[0;34m\u001b[0m\u001b[0;34m\u001b[0m\u001b[0m\n",
      "\u001b[0;32m~/apps/anaconda3/lib/python3.7/site-packages/pandas/plotting/_matplotlib/core.py\u001b[0m in \u001b[0;36m_plot\u001b[0;34m(cls, ax, x, y, w, start, log, **kwds)\u001b[0m\n\u001b[1;32m   1428\u001b[0m     \u001b[0;34m@\u001b[0m\u001b[0mclassmethod\u001b[0m\u001b[0;34m\u001b[0m\u001b[0;34m\u001b[0m\u001b[0m\n\u001b[1;32m   1429\u001b[0m     \u001b[0;32mdef\u001b[0m \u001b[0m_plot\u001b[0m\u001b[0;34m(\u001b[0m\u001b[0mcls\u001b[0m\u001b[0;34m,\u001b[0m \u001b[0max\u001b[0m\u001b[0;34m,\u001b[0m \u001b[0mx\u001b[0m\u001b[0;34m,\u001b[0m \u001b[0my\u001b[0m\u001b[0;34m,\u001b[0m \u001b[0mw\u001b[0m\u001b[0;34m,\u001b[0m \u001b[0mstart\u001b[0m\u001b[0;34m=\u001b[0m\u001b[0;36m0\u001b[0m\u001b[0;34m,\u001b[0m \u001b[0mlog\u001b[0m\u001b[0;34m=\u001b[0m\u001b[0;32mFalse\u001b[0m\u001b[0;34m,\u001b[0m \u001b[0;34m**\u001b[0m\u001b[0mkwds\u001b[0m\u001b[0;34m)\u001b[0m\u001b[0;34m:\u001b[0m\u001b[0;34m\u001b[0m\u001b[0;34m\u001b[0m\u001b[0m\n\u001b[0;32m-> 1430\u001b[0;31m         \u001b[0;32mreturn\u001b[0m \u001b[0max\u001b[0m\u001b[0;34m.\u001b[0m\u001b[0mbarh\u001b[0m\u001b[0;34m(\u001b[0m\u001b[0mx\u001b[0m\u001b[0;34m,\u001b[0m \u001b[0my\u001b[0m\u001b[0;34m,\u001b[0m \u001b[0mw\u001b[0m\u001b[0;34m,\u001b[0m \u001b[0mleft\u001b[0m\u001b[0;34m=\u001b[0m\u001b[0mstart\u001b[0m\u001b[0;34m,\u001b[0m \u001b[0mlog\u001b[0m\u001b[0;34m=\u001b[0m\u001b[0mlog\u001b[0m\u001b[0;34m,\u001b[0m \u001b[0;34m**\u001b[0m\u001b[0mkwds\u001b[0m\u001b[0;34m)\u001b[0m\u001b[0;34m\u001b[0m\u001b[0;34m\u001b[0m\u001b[0m\n\u001b[0m\u001b[1;32m   1431\u001b[0m \u001b[0;34m\u001b[0m\u001b[0m\n\u001b[1;32m   1432\u001b[0m     \u001b[0;32mdef\u001b[0m \u001b[0m_decorate_ticks\u001b[0m\u001b[0;34m(\u001b[0m\u001b[0mself\u001b[0m\u001b[0;34m,\u001b[0m \u001b[0max\u001b[0m\u001b[0;34m,\u001b[0m \u001b[0mname\u001b[0m\u001b[0;34m,\u001b[0m \u001b[0mticklabels\u001b[0m\u001b[0;34m,\u001b[0m \u001b[0mstart_edge\u001b[0m\u001b[0;34m,\u001b[0m \u001b[0mend_edge\u001b[0m\u001b[0;34m)\u001b[0m\u001b[0;34m:\u001b[0m\u001b[0;34m\u001b[0m\u001b[0;34m\u001b[0m\u001b[0m\n",
      "\u001b[0;32m~/apps/anaconda3/lib/python3.7/site-packages/matplotlib/axes/_axes.py\u001b[0m in \u001b[0;36mbarh\u001b[0;34m(self, y, width, height, left, align, **kwargs)\u001b[0m\n\u001b[1;32m   2595\u001b[0m         \u001b[0mkwargs\u001b[0m\u001b[0;34m.\u001b[0m\u001b[0msetdefault\u001b[0m\u001b[0;34m(\u001b[0m\u001b[0;34m'orientation'\u001b[0m\u001b[0;34m,\u001b[0m \u001b[0;34m'horizontal'\u001b[0m\u001b[0;34m)\u001b[0m\u001b[0;34m\u001b[0m\u001b[0;34m\u001b[0m\u001b[0m\n\u001b[1;32m   2596\u001b[0m         patches = self.bar(x=left, height=height, width=width, bottom=y,\n\u001b[0;32m-> 2597\u001b[0;31m                            align=align, **kwargs)\n\u001b[0m\u001b[1;32m   2598\u001b[0m         \u001b[0;32mreturn\u001b[0m \u001b[0mpatches\u001b[0m\u001b[0;34m\u001b[0m\u001b[0;34m\u001b[0m\u001b[0m\n\u001b[1;32m   2599\u001b[0m \u001b[0;34m\u001b[0m\u001b[0m\n",
      "\u001b[0;32m~/apps/anaconda3/lib/python3.7/site-packages/matplotlib/__init__.py\u001b[0m in \u001b[0;36minner\u001b[0;34m(ax, data, *args, **kwargs)\u001b[0m\n\u001b[1;32m   1599\u001b[0m     \u001b[0;32mdef\u001b[0m \u001b[0minner\u001b[0m\u001b[0;34m(\u001b[0m\u001b[0max\u001b[0m\u001b[0;34m,\u001b[0m \u001b[0;34m*\u001b[0m\u001b[0margs\u001b[0m\u001b[0;34m,\u001b[0m \u001b[0mdata\u001b[0m\u001b[0;34m=\u001b[0m\u001b[0;32mNone\u001b[0m\u001b[0;34m,\u001b[0m \u001b[0;34m**\u001b[0m\u001b[0mkwargs\u001b[0m\u001b[0;34m)\u001b[0m\u001b[0;34m:\u001b[0m\u001b[0;34m\u001b[0m\u001b[0;34m\u001b[0m\u001b[0m\n\u001b[1;32m   1600\u001b[0m         \u001b[0;32mif\u001b[0m \u001b[0mdata\u001b[0m \u001b[0;32mis\u001b[0m \u001b[0;32mNone\u001b[0m\u001b[0;34m:\u001b[0m\u001b[0;34m\u001b[0m\u001b[0;34m\u001b[0m\u001b[0m\n\u001b[0;32m-> 1601\u001b[0;31m             \u001b[0;32mreturn\u001b[0m \u001b[0mfunc\u001b[0m\u001b[0;34m(\u001b[0m\u001b[0max\u001b[0m\u001b[0;34m,\u001b[0m \u001b[0;34m*\u001b[0m\u001b[0mmap\u001b[0m\u001b[0;34m(\u001b[0m\u001b[0msanitize_sequence\u001b[0m\u001b[0;34m,\u001b[0m \u001b[0margs\u001b[0m\u001b[0;34m)\u001b[0m\u001b[0;34m,\u001b[0m \u001b[0;34m**\u001b[0m\u001b[0mkwargs\u001b[0m\u001b[0;34m)\u001b[0m\u001b[0;34m\u001b[0m\u001b[0;34m\u001b[0m\u001b[0m\n\u001b[0m\u001b[1;32m   1602\u001b[0m \u001b[0;34m\u001b[0m\u001b[0m\n\u001b[1;32m   1603\u001b[0m         \u001b[0mbound\u001b[0m \u001b[0;34m=\u001b[0m \u001b[0mnew_sig\u001b[0m\u001b[0;34m.\u001b[0m\u001b[0mbind\u001b[0m\u001b[0;34m(\u001b[0m\u001b[0max\u001b[0m\u001b[0;34m,\u001b[0m \u001b[0;34m*\u001b[0m\u001b[0margs\u001b[0m\u001b[0;34m,\u001b[0m \u001b[0;34m**\u001b[0m\u001b[0mkwargs\u001b[0m\u001b[0;34m)\u001b[0m\u001b[0;34m\u001b[0m\u001b[0;34m\u001b[0m\u001b[0m\n",
      "\u001b[0;32m~/apps/anaconda3/lib/python3.7/site-packages/matplotlib/axes/_axes.py\u001b[0m in \u001b[0;36mbar\u001b[0;34m(self, x, height, width, bottom, align, **kwargs)\u001b[0m\n\u001b[1;32m   2430\u001b[0m                 \u001b[0mlabel\u001b[0m\u001b[0;34m=\u001b[0m\u001b[0;34m'_nolegend_'\u001b[0m\u001b[0;34m,\u001b[0m\u001b[0;34m\u001b[0m\u001b[0;34m\u001b[0m\u001b[0m\n\u001b[1;32m   2431\u001b[0m                 )\n\u001b[0;32m-> 2432\u001b[0;31m             \u001b[0mr\u001b[0m\u001b[0;34m.\u001b[0m\u001b[0mupdate\u001b[0m\u001b[0;34m(\u001b[0m\u001b[0mkwargs\u001b[0m\u001b[0;34m)\u001b[0m\u001b[0;34m\u001b[0m\u001b[0;34m\u001b[0m\u001b[0m\n\u001b[0m\u001b[1;32m   2433\u001b[0m             \u001b[0mr\u001b[0m\u001b[0;34m.\u001b[0m\u001b[0mget_path\u001b[0m\u001b[0;34m(\u001b[0m\u001b[0;34m)\u001b[0m\u001b[0;34m.\u001b[0m\u001b[0m_interpolation_steps\u001b[0m \u001b[0;34m=\u001b[0m \u001b[0;36m100\u001b[0m\u001b[0;34m\u001b[0m\u001b[0;34m\u001b[0m\u001b[0m\n\u001b[1;32m   2434\u001b[0m             \u001b[0;32mif\u001b[0m \u001b[0morientation\u001b[0m \u001b[0;34m==\u001b[0m \u001b[0;34m'vertical'\u001b[0m\u001b[0;34m:\u001b[0m\u001b[0;34m\u001b[0m\u001b[0;34m\u001b[0m\u001b[0m\n",
      "\u001b[0;32m~/apps/anaconda3/lib/python3.7/site-packages/matplotlib/artist.py\u001b[0m in \u001b[0;36mupdate\u001b[0;34m(self, props)\u001b[0m\n\u001b[1;32m    972\u001b[0m \u001b[0;34m\u001b[0m\u001b[0m\n\u001b[1;32m    973\u001b[0m         \u001b[0;32mwith\u001b[0m \u001b[0mcbook\u001b[0m\u001b[0;34m.\u001b[0m\u001b[0m_setattr_cm\u001b[0m\u001b[0;34m(\u001b[0m\u001b[0mself\u001b[0m\u001b[0;34m,\u001b[0m \u001b[0meventson\u001b[0m\u001b[0;34m=\u001b[0m\u001b[0;32mFalse\u001b[0m\u001b[0;34m)\u001b[0m\u001b[0;34m:\u001b[0m\u001b[0;34m\u001b[0m\u001b[0;34m\u001b[0m\u001b[0m\n\u001b[0;32m--> 974\u001b[0;31m             \u001b[0mret\u001b[0m \u001b[0;34m=\u001b[0m \u001b[0;34m[\u001b[0m\u001b[0m_update_property\u001b[0m\u001b[0;34m(\u001b[0m\u001b[0mself\u001b[0m\u001b[0;34m,\u001b[0m \u001b[0mk\u001b[0m\u001b[0;34m,\u001b[0m \u001b[0mv\u001b[0m\u001b[0;34m)\u001b[0m \u001b[0;32mfor\u001b[0m \u001b[0mk\u001b[0m\u001b[0;34m,\u001b[0m \u001b[0mv\u001b[0m \u001b[0;32min\u001b[0m \u001b[0mprops\u001b[0m\u001b[0;34m.\u001b[0m\u001b[0mitems\u001b[0m\u001b[0;34m(\u001b[0m\u001b[0;34m)\u001b[0m\u001b[0;34m]\u001b[0m\u001b[0;34m\u001b[0m\u001b[0;34m\u001b[0m\u001b[0m\n\u001b[0m\u001b[1;32m    975\u001b[0m \u001b[0;34m\u001b[0m\u001b[0m\n\u001b[1;32m    976\u001b[0m         \u001b[0;32mif\u001b[0m \u001b[0mlen\u001b[0m\u001b[0;34m(\u001b[0m\u001b[0mret\u001b[0m\u001b[0;34m)\u001b[0m\u001b[0;34m:\u001b[0m\u001b[0;34m\u001b[0m\u001b[0;34m\u001b[0m\u001b[0m\n",
      "\u001b[0;32m~/apps/anaconda3/lib/python3.7/site-packages/matplotlib/artist.py\u001b[0m in \u001b[0;36m<listcomp>\u001b[0;34m(.0)\u001b[0m\n\u001b[1;32m    972\u001b[0m \u001b[0;34m\u001b[0m\u001b[0m\n\u001b[1;32m    973\u001b[0m         \u001b[0;32mwith\u001b[0m \u001b[0mcbook\u001b[0m\u001b[0;34m.\u001b[0m\u001b[0m_setattr_cm\u001b[0m\u001b[0;34m(\u001b[0m\u001b[0mself\u001b[0m\u001b[0;34m,\u001b[0m \u001b[0meventson\u001b[0m\u001b[0;34m=\u001b[0m\u001b[0;32mFalse\u001b[0m\u001b[0;34m)\u001b[0m\u001b[0;34m:\u001b[0m\u001b[0;34m\u001b[0m\u001b[0;34m\u001b[0m\u001b[0m\n\u001b[0;32m--> 974\u001b[0;31m             \u001b[0mret\u001b[0m \u001b[0;34m=\u001b[0m \u001b[0;34m[\u001b[0m\u001b[0m_update_property\u001b[0m\u001b[0;34m(\u001b[0m\u001b[0mself\u001b[0m\u001b[0;34m,\u001b[0m \u001b[0mk\u001b[0m\u001b[0;34m,\u001b[0m \u001b[0mv\u001b[0m\u001b[0;34m)\u001b[0m \u001b[0;32mfor\u001b[0m \u001b[0mk\u001b[0m\u001b[0;34m,\u001b[0m \u001b[0mv\u001b[0m \u001b[0;32min\u001b[0m \u001b[0mprops\u001b[0m\u001b[0;34m.\u001b[0m\u001b[0mitems\u001b[0m\u001b[0;34m(\u001b[0m\u001b[0;34m)\u001b[0m\u001b[0;34m]\u001b[0m\u001b[0;34m\u001b[0m\u001b[0;34m\u001b[0m\u001b[0m\n\u001b[0m\u001b[1;32m    975\u001b[0m \u001b[0;34m\u001b[0m\u001b[0m\n\u001b[1;32m    976\u001b[0m         \u001b[0;32mif\u001b[0m \u001b[0mlen\u001b[0m\u001b[0;34m(\u001b[0m\u001b[0mret\u001b[0m\u001b[0;34m)\u001b[0m\u001b[0;34m:\u001b[0m\u001b[0;34m\u001b[0m\u001b[0;34m\u001b[0m\u001b[0m\n",
      "\u001b[0;32m~/apps/anaconda3/lib/python3.7/site-packages/matplotlib/artist.py\u001b[0m in \u001b[0;36m_update_property\u001b[0;34m(self, k, v)\u001b[0m\n\u001b[1;32m    968\u001b[0m                 \u001b[0;32mif\u001b[0m \u001b[0;32mnot\u001b[0m \u001b[0mcallable\u001b[0m\u001b[0;34m(\u001b[0m\u001b[0mfunc\u001b[0m\u001b[0;34m)\u001b[0m\u001b[0;34m:\u001b[0m\u001b[0;34m\u001b[0m\u001b[0;34m\u001b[0m\u001b[0m\n\u001b[1;32m    969\u001b[0m                     raise AttributeError('{!r} object has no property {!r}'\n\u001b[0;32m--> 970\u001b[0;31m                                          .format(type(self).__name__, k))\n\u001b[0m\u001b[1;32m    971\u001b[0m                 \u001b[0;32mreturn\u001b[0m \u001b[0mfunc\u001b[0m\u001b[0;34m(\u001b[0m\u001b[0mv\u001b[0m\u001b[0;34m)\u001b[0m\u001b[0;34m\u001b[0m\u001b[0;34m\u001b[0m\u001b[0m\n\u001b[1;32m    972\u001b[0m \u001b[0;34m\u001b[0m\u001b[0m\n",
      "\u001b[0;31mAttributeError\u001b[0m: 'Rectangle' object has no property 'autopct'"
     ]
    },
    {
     "data": {
      "text/plain": [
       "<Figure size 1440x1440 with 0 Axes>"
      ]
     },
     "metadata": {},
     "output_type": "display_data"
    },
    {
     "data": {
      "image/png": "[encoded data removed]",
      "text/plain": [
       "<Figure size 720x720 with 1 Axes>"
      ]
     },
     "metadata": {},
     "output_type": "display_data"
    }
   ],
   "source": [
    "plot_bar(bug_reports_all_data, 'rq2-all-percentage-of-long-lived-bugs.pdf')"
   ]
  },
  {
   "cell_type": "code",
   "execution_count": 11,
   "metadata": {},
   "outputs": [
    {
     "data": {
      "image/png": "[encoded data removed]",
      "text/plain": [
       "<Figure size 252x252 with 1 Axes>"
      ]
     },
     "metadata": {},
     "output_type": "display_data"
    },
    {
     "data": {
      "image/png": "[encoded data removed]",
      "text/plain": [
       "<Figure size 252x252 with 1 Axes>"
      ]
     },
     "metadata": {},
     "output_type": "display_data"
    },
    {
     "data": {
      "image/png": "[encoded data removed]",
      "text/plain": [
       "<Figure size 252x252 with 1 Axes>"
      ]
     },
     "metadata": {},
     "output_type": "display_data"
    },
    {
     "data": {
      "image/png": "[encoded data removed]",
      "text/plain": [
       "<Figure size 252x252 with 1 Axes>"
      ]
     },
     "metadata": {},
     "output_type": "display_data"
    },
    {
     "data": {
      "image/png": "[encoded data removed]",
      "text/plain": [
       "<Figure size 252x252 with 1 Axes>"
      ]
     },
     "metadata": {},
     "output_type": "display_data"
    },
    {
     "data": {
      "image/png": "[encoded data removed]",
      "text/plain": [
       "<Figure size 252x252 with 1 Axes>"
      ]
     },
     "metadata": {},
     "output_type": "display_data"
    }
   ],
   "source": [
    "\n",
    "for project in projects:\n",
    "    # group data by project\n",
    "    counts_by_project  = bug_reports_all_data.loc[bug_reports_all_data['project']==project]['long_lived?'].value_counts()\n",
    "\n",
    "    # plot pie charts\n",
    "    sns.set_context(\"paper\")\n",
    "    sns.set(style=\"ticks\", color_codes=True)\n",
    "    fig = plt.figure(figsize=(3.5,3.5))\n",
    "    plt.pie(counts_by_project, autopct='%1.1f%%', labels=counts_by_project.index, colors=['tab:blue', 'tab:red'])\n",
    "    #plt.title(project.title())\n",
    "    plt.xlabel('')\n",
    "    plt.ylabel('')\n",
    "    plt.savefig(f\"figures/rq2-{project}-percentage-of-long-lived-bugs.pdf\", format=\"pdf\", dpi=fig.dpi, bbox_inches='tight', pad_inches=0)\n",
    "    "
   ]
  },
  {
   "cell_type": "code",
   "execution_count": 12,
   "metadata": {
    "scrolled": true
   },
   "outputs": [
    {
     "data": {
      "text/plain": [
       "<seaborn.axisgrid.FacetGrid at 0x7f90ba5050d0>"
      ]
     },
     "execution_count": 12,
     "metadata": {},
     "output_type": "execute_result"
    },
    {
     "data": {
      "image/png": "[encoded data removed]",
      "text/plain": [
       "<Figure size 2592x1152 with 6 Axes>"
      ]
     },
     "metadata": {},
     "output_type": "display_data"
    }
   ],
   "source": [
    "# Long-lived? histogram distribution\n",
    "def plot_hist(v, color=None):\n",
    "    m = np.median(v)\n",
    "    b = np.arange(0, 2500, 365)\n",
    "    sns.despine(offset=10)\n",
    "    plt.axvline(m, color='tab:red', linestyle='--', linewidth=2.5)\n",
    "    plt.text(m + 3.0, 9900, f\"median:{m}\", bbox=dict(facecolor='tab:red', alpha=0.5))\n",
    "    plt.hist(v, bins=b, color='tab:blue')\n",
    "\n",
    "# plot histograms\n",
    "g = sns.FacetGrid(bug_reports_all_data, col=\"project\"\n",
    "                  , col_order=projects\n",
    "                  , col_wrap=3, height=8, aspect=1.5)\n",
    "g = g.map(plot_hist, \"bug_fix_time\")\n",
    "g.set_titles(\"{col_name}\")\n",
    "g.set_axis_labels(\"bug-fixing time\", \"count\")\n",
    "g.set(ylim=(0, 10000), xlim=(0, 2500), xticks=list(range(0, 2500, 365)))\n"
   ]
  },
  {
   "cell_type": "code",
   "execution_count": null,
   "metadata": {},
   "outputs": [],
   "source": []
  }
 ],
 "metadata": {
  "kernelspec": {
   "display_name": "Python 3",
   "language": "python",
   "name": "python3"
  },
  "language_info": {
   "codemirror_mode": {
    "name": "ipython",
    "version": 3
   },
   "file_extension": ".py",
   "mimetype": "text/x-python",
   "name": "python",
   "nbconvert_exporter": "python",
   "pygments_lexer": "ipython3",
   "version": "3.7.5"
  }
 },
 "nbformat": 4,
 "nbformat_minor": 2
}
