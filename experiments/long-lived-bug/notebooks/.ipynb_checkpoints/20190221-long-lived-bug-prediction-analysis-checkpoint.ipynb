{
 "cells": [
  {
   "cell_type": "markdown",
   "metadata": {},
   "source": [
    "# Predicting Long-Lived Bugs"
   ]
  },
  {
   "cell_type": "markdown",
   "metadata": {},
   "source": [
    "# 1. Setup Python Packages"
   ]
  },
  {
   "cell_type": "code",
   "execution_count": 6,
   "metadata": {},
   "outputs": [],
   "source": [
    "import pandas as pd\n",
    "import matplotlib.pyplot as plt \n",
    "import seaborn as sns \n",
    "import numpy as np\n",
    "from sklearn.preprocessing import StandardScaler\n",
    "from sklearn.decomposition import PCA\n",
    "from sklearn.cluster import KMeans\n",
    "\n",
    "\n",
    "%matplotlib inline \n",
    "\n",
    "plt.style.use('default')\n",
    "sns.set_context(\"paper\")"
   ]
  },
  {
   "cell_type": "markdown",
   "metadata": {},
   "source": [
    "# 2. Experiment"
   ]
  },
  {
   "cell_type": "markdown",
   "metadata": {},
   "source": [
    "This eighth experiment has used a dataset of bug reports extracted from Eclipse Bugzilla Tracking System. The protocol parameters and values employed in this experiment is shown in the following table:\n",
    "\n",
    "| Parameter                                          |                      Value                            |\n",
    "|----------------------------------------------------|:-----------------------------------------------------:|\n",
    "| OSS                                                |        eclipse                                        |\n",
    "| Number of bug reports                              |        12.200                                         |\n",
    "| Days to resolve range                              |   from 0 to 730                                       |\n",
    "| Number of rug reports within days to resolve range |        10.970                                         |\n",
    "| Textual features                                   | summary + description                                 |\n",
    "| Number of terms                                    |           200                                         |\n",
    "| Fixed Threshold                                    |            64                                         |\n",
    "| Variable threshold range                           |       from 4 to 64 (step 4)                                |\n",
    "| Method for balancing class                         | none, downsampling (manual), downsampling (R), smote  |\n",
    "| Classifiers                                        | knn                                                   |\n",
    "| Resampling techniques                              | none, bootstrap, cv5x2, repeated cv5x2, loocv, loogcv |\n",
    "\n",
    "Every bug which its report have indicated that the number of days to resolve is less than or equal to **fixed threshold** was considered a **non-long lived bug** and that which the number of days to resolve is greater than this threshold was considered as a **long-live bug**. "
   ]
  },
  {
   "cell_type": "markdown",
   "metadata": {},
   "source": [
    "## 3.1  Evaluation Metrics"
   ]
  },
  {
   "cell_type": "code",
   "execution_count": 7,
   "metadata": {},
   "outputs": [
    {
     "name": "stdout",
     "output_type": "stream",
     "text": [
      "There are 384 rows and 24 columns.\n",
      "\n",
      "<class 'pandas.core.frame.DataFrame'>\n",
      "RangeIndex: 384 entries, 0 to 383\n",
      "Data columns (total 24 columns):\n",
      "dataset               384 non-null object\n",
      "classifier            384 non-null object\n",
      "resampling            384 non-null object\n",
      "balancing             384 non-null object\n",
      "threshold             384 non-null int64\n",
      "fixed_threshold       384 non-null int64\n",
      "train_size            384 non-null int64\n",
      "train_size_class_0    384 non-null int64\n",
      "train_size_class_1    384 non-null int64\n",
      "test_size             384 non-null int64\n",
      "test_size_class_0     384 non-null int64\n",
      "test_size_class_1     384 non-null int64\n",
      "feature               384 non-null object\n",
      "n_term                384 non-null int64\n",
      "tp                    384 non-null int64\n",
      "fp                    384 non-null int64\n",
      "tn                    384 non-null int64\n",
      "fn                    384 non-null int64\n",
      "acc_class_0           384 non-null float64\n",
      "acc_class_1           384 non-null float64\n",
      "balanced_acc          384 non-null float64\n",
      "precision             384 non-null float64\n",
      "recall                384 non-null float64\n",
      "fmeasure              384 non-null float64\n",
      "dtypes: float64(6), int64(13), object(5)\n",
      "memory usage: 72.1+ KB\n"
     ]
    },
    {
     "ename": "NameError",
     "evalue": "name 'reports_information' is not defined",
     "output_type": "error",
     "traceback": [
      "\u001b[0;31m---------------------------------------------------------------------------\u001b[0m",
      "\u001b[0;31mNameError\u001b[0m                                 Traceback (most recent call last)",
      "\u001b[0;32m<ipython-input-7-57c112040427>\u001b[0m in \u001b[0;36m<module>\u001b[0;34m\u001b[0m\n\u001b[1;32m      8\u001b[0m \u001b[0;34m\u001b[0m\u001b[0m\n\u001b[1;32m      9\u001b[0m \u001b[0mresults_information\u001b[0m \u001b[0;34m=\u001b[0m \u001b[0mresults\u001b[0m\u001b[0;34m.\u001b[0m\u001b[0minfo\u001b[0m\u001b[0;34m(\u001b[0m\u001b[0;34m)\u001b[0m\u001b[0;34m\u001b[0m\u001b[0;34m\u001b[0m\u001b[0m\n\u001b[0;32m---> 10\u001b[0;31m \u001b[0mprint\u001b[0m\u001b[0;34m(\u001b[0m\u001b[0mreports_information\u001b[0m\u001b[0;34m)\u001b[0m\u001b[0;34m\u001b[0m\u001b[0;34m\u001b[0m\u001b[0m\n\u001b[0m\u001b[1;32m     11\u001b[0m \u001b[0;34m\u001b[0m\u001b[0m\n\u001b[1;32m     12\u001b[0m \u001b[0mresults\u001b[0m\u001b[0;34m.\u001b[0m\u001b[0msort_values\u001b[0m\u001b[0;34m(\u001b[0m\u001b[0;34m'balanced_acc'\u001b[0m\u001b[0;34m,\u001b[0m \u001b[0mascending\u001b[0m\u001b[0;34m=\u001b[0m\u001b[0;32mFalse\u001b[0m\u001b[0;34m)\u001b[0m\u001b[0;34m\u001b[0m\u001b[0;34m\u001b[0m\u001b[0m\n",
      "\u001b[0;31mNameError\u001b[0m: name 'reports_information' is not defined"
     ]
    }
   ],
   "source": [
    "results_file = 'datasets/20190213110244-predicting-metrics.csv'\n",
    "results = pd.read_csv(results_file)\n",
    "rows_and_cols = results.shape\n",
    "print('There are {} rows and {} columns.\\n'.format(\n",
    "        rows_and_cols[0], rows_and_cols[1]\n",
    "    )\n",
    ")\n",
    "\n",
    "results_information = results.info()\n",
    "print(results_information)\n",
    "\n",
    "results.sort_values('balanced_acc', ascending=False)"
   ]
  },
  {
   "cell_type": "code",
   "execution_count": null,
   "metadata": {},
   "outputs": [],
   "source": [
    "def plot_line(data, x, y):\n",
    "    sns.color_palette(\"bright\")\n",
    "    sns.set(font_scale=1.5)\n",
    "    sns.set_style(\"whitegrid\")\n",
    "    g = sns.FacetGrid(data=data, hue=\"resampling\", col=\"balancing\", col_wrap=2, height=10)\n",
    "    g = g.map(sns.lineplot, 'threshold', 'acc_class_1')\n",
    "    g.set(xlim=(4, 64))\n",
    "    g.set(xticks=range(4, 64, 4))\n",
    "    g.add_legend()\n",
    "    return "
   ]
  },
  {
   "cell_type": "code",
   "execution_count": null,
   "metadata": {},
   "outputs": [],
   "source": [
    "plot_line(results, 'threshold', 'acc_class_1')"
   ]
  },
  {
   "cell_type": "code",
   "execution_count": null,
   "metadata": {},
   "outputs": [],
   "source": []
  }
 ],
 "metadata": {
  "kernelspec": {
   "display_name": "Python 3",
   "language": "python",
   "name": "python3"
  },
  "language_info": {
   "codemirror_mode": {
    "name": "ipython",
    "version": 3
   },
   "file_extension": ".py",
   "mimetype": "text/x-python",
   "name": "python",
   "nbconvert_exporter": "python",
   "pygments_lexer": "ipython3",
   "version": "3.6.8"
  }
 },
 "nbformat": 4,
 "nbformat_minor": 2
}
