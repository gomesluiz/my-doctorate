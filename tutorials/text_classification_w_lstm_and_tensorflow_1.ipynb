{
 "cells": [
  {
   "cell_type": "markdown",
   "metadata": {},
   "source": [
    "# 1. Setup"
   ]
  },
  {
   "cell_type": "code",
   "execution_count": 194,
   "metadata": {},
   "outputs": [],
   "source": [
    "from __future__ import absolute_import, division, print_function, unicode_literals"
   ]
  },
  {
   "cell_type": "code",
   "execution_count": 235,
   "metadata": {},
   "outputs": [
    {
     "name": "stdout",
     "output_type": "stream",
     "text": [
      "Setup completed\n"
     ]
    }
   ],
   "source": [
    "import nltk \n",
    "from nltk.corpus import stopwords\n",
    "from nltk import word_tokenize\n",
    "import numpy as np\n",
    "\n",
    "import matplotlib        as mpl\n",
    "import matplotlib.pyplot as plt\n",
    "\n",
    "import os\n",
    "import tempfile\n",
    "import pandas as pd\n",
    "import re\n",
    "\n",
    "import seaborn as sns\n",
    "import sklearn\n",
    "from sklearn.model_selection import train_test_split\n",
    "from sklearn.metrics import confusion_matrix\n",
    "\n",
    "import tensorflow as tf \n",
    "from tensorflow.keras.preprocessing.text import Tokenizer\n",
    "from tensorflow.keras.preprocessing.sequence import pad_sequences\n",
    "from tensorflow.keras.models import Sequential\n",
    "from tensorflow.keras.layers import Dense, Embedding, LSTM, SpatialDropout1D\n",
    "from tensorflow.keras.callbacks import EarlyStopping\n",
    "from tensorflow.keras.layers import Dropout\n",
    "from tensorflow.keras.layers import Flatten\n",
    "from tensorflow import keras\n",
    "\n",
    "mpl.rcParams['figure.figsize'] = (12, 10)\n",
    "colors = plt.rcParams['axes.prop_cycle'].by_key()['color']\n",
    "\n",
    "print('Setup completed')"
   ]
  },
  {
   "cell_type": "markdown",
   "metadata": {},
   "source": [
    "# 2. Data processing and Exploration"
   ]
  },
  {
   "cell_type": "code",
   "execution_count": 196,
   "metadata": {},
   "outputs": [],
   "source": [
    "bugs = pd.read_csv('datasets/gcc_bug_report_data.csv', encoding='utf8', sep=',', parse_dates=True,low_memory=False)"
   ]
  },
  {
   "cell_type": "code",
   "execution_count": 197,
   "metadata": {},
   "outputs": [],
   "source": [
    "bugs['long_lived?']  = bugs['bug_fix_time'].apply(lambda t: 1 if t > 365 else 0)\n"
   ]
  },
  {
   "cell_type": "code",
   "execution_count": 198,
   "metadata": {},
   "outputs": [
    {
     "data": {
      "text/html": [
       "<div>\n",
       "<style scoped>\n",
       "    .dataframe tbody tr th:only-of-type {\n",
       "        vertical-align: middle;\n",
       "    }\n",
       "\n",
       "    .dataframe tbody tr th {\n",
       "        vertical-align: top;\n",
       "    }\n",
       "\n",
       "    .dataframe thead th {\n",
       "        text-align: right;\n",
       "    }\n",
       "</style>\n",
       "<table border=\"1\" class=\"dataframe\">\n",
       "  <thead>\n",
       "    <tr style=\"text-align: right;\">\n",
       "      <th></th>\n",
       "      <th>long_description</th>\n",
       "      <th>long_lived?</th>\n",
       "    </tr>\n",
       "  </thead>\n",
       "  <tbody>\n",
       "    <tr>\n",
       "      <th>0</th>\n",
       "      <td>The Openstreetmap applet expects java.awt.Font...</td>\n",
       "      <td>0</td>\n",
       "    </tr>\n",
       "    <tr>\n",
       "      <th>1</th>\n",
       "      <td>As reported by Joost VandeVondele this does no...</td>\n",
       "      <td>0</td>\n",
       "    </tr>\n",
       "    <tr>\n",
       "      <th>2</th>\n",
       "      <td>$ gcc/xgcc -Bgcc/ -O2 -fpic -S memusage.i \\nme...</td>\n",
       "      <td>1</td>\n",
       "    </tr>\n",
       "    <tr>\n",
       "      <th>3</th>\n",
       "      <td>The RM95 B.3.1 contains: The type chars_ptr is...</td>\n",
       "      <td>0</td>\n",
       "    </tr>\n",
       "    <tr>\n",
       "      <th>4</th>\n",
       "      <td>Created attachment 29408\\nPreprocessed file co...</td>\n",
       "      <td>0</td>\n",
       "    </tr>\n",
       "  </tbody>\n",
       "</table>\n",
       "</div>"
      ],
      "text/plain": [
       "                                    long_description  long_lived?\n",
       "0  The Openstreetmap applet expects java.awt.Font...            0\n",
       "1  As reported by Joost VandeVondele this does no...            0\n",
       "2  $ gcc/xgcc -Bgcc/ -O2 -fpic -S memusage.i \\nme...            1\n",
       "3  The RM95 B.3.1 contains: The type chars_ptr is...            0\n",
       "4  Created attachment 29408\\nPreprocessed file co...            0"
      ]
     },
     "execution_count": 198,
     "metadata": {},
     "output_type": "execute_result"
    }
   ],
   "source": [
    "bugs=bugs[['long_description','long_lived?']]\n",
    "bugs.head()"
   ]
  },
  {
   "cell_type": "code",
   "execution_count": 199,
   "metadata": {},
   "outputs": [],
   "source": [
    "def print_bug(df, index):\n",
    "    example=df.loc[df.index == index][['long_description', 'long_lived?']].values[0]\n",
    "    if(len (example) > 0):\n",
    "        print(example[0])\n",
    "        print('long_lived?', example[1])"
   ]
  },
  {
   "cell_type": "code",
   "execution_count": 200,
   "metadata": {},
   "outputs": [
    {
     "name": "stdout",
     "output_type": "stream",
     "text": [
      "Compile testcase in attachment 23385 (bug 47786) with `gcc -v -flto -o /dev/null main.i foo.i':\n",
      "\n",
      "/usr/local/libexec/gcc/i686-pc-linux-gnu/4.6.0/cc1 -fpreprocessed main.i foo.i -quiet -dumpbase main.i -mtune=generic -march=pentiumpro -auxbase main -version -flto -o /tmp/cc3eBz9m.s\n",
      "\n",
      "I don't think it is an intended behavior.\n",
      "long_lived? 0\n"
     ]
    }
   ],
   "source": [
    "print_bug(bugs, 100)"
   ]
  },
  {
   "cell_type": "markdown",
   "metadata": {},
   "source": [
    "## Examine Class Labels imbalanced"
   ]
  },
  {
   "cell_type": "code",
   "execution_count": 201,
   "metadata": {},
   "outputs": [
    {
     "name": "stdout",
     "output_type": "stream",
     "text": [
      "Examples:\n",
      " Total: 10000\n",
      " Positive: 2915\n",
      " (29.15% of total)\n",
      "\n"
     ]
    }
   ],
   "source": [
    "neg, pos = np.bincount(bugs['long_lived?'])\n",
    "total = neg + pos\n",
    "print('Examples:\\n Total: {}\\n Positive: {}\\n ({:.2f}% of total)\\n'.format(\n",
    "    total, pos, 100 * pos / total))"
   ]
  },
  {
   "cell_type": "markdown",
   "metadata": {},
   "source": [
    "# 3. Cleaning, tokenizing and splitting data"
   ]
  },
  {
   "cell_type": "markdown",
   "metadata": {},
   "source": [
    "## Cleaning"
   ]
  },
  {
   "cell_type": "code",
   "execution_count": 202,
   "metadata": {},
   "outputs": [],
   "source": [
    "cleaned_bugs = bugs.copy()\n",
    "cleaned_bugs = cleaned_bugs.reset_index(drop=True)\n",
    "REPLACE_BY_SPACE_RE = re.compile('[/(){}\\[\\]\\|@,;]')\n",
    "BAD_SYMBOLS_RE = re.compile('[^0-9a-z #+_]')\n",
    "STOPWORDS = set(stopwords.words('english'))\n",
    "\n",
    "def clean_text(text):\n",
    "    \"\"\"\n",
    "        text: a string\n",
    "        \n",
    "        return: modified initial string\n",
    "    \"\"\"\n",
    "    if text != text:\n",
    "        return ' '\n",
    "    \n",
    "    text = text.lower() \n",
    "    text = REPLACE_BY_SPACE_RE.sub(' ', text)\n",
    "    text = BAD_SYMBOLS_RE.sub('', text)\n",
    "    text = text.replace('x', '')\n",
    "    text = ' '.join(word for word in text.split() if word not in STOPWORDS) # remove stopwors from text\n",
    "    return text\n",
    "cleaned_bugs['long_description'] = cleaned_bugs['long_description'].apply(clean_text)\n",
    "cleaned_bugs['long_description'] = cleaned_bugs['long_description'].str.replace('\\d+', '')"
   ]
  },
  {
   "cell_type": "code",
   "execution_count": 203,
   "metadata": {},
   "outputs": [
    {
     "name": "stdout",
     "output_type": "stream",
     "text": [
      "compile testcase attachment  bug  gcc v flto dev null maini fooi usr local libeec gcc ipclinugnu  cc fpreprocessed maini fooi quiet dumpbase maini mtunegeneric marchpentiumpro aubase main version flto tmp ccebzmsi dont think intended behavior\n",
      "long_lived? 0\n"
     ]
    }
   ],
   "source": [
    "print_bug(cleaned_bugs, 100)"
   ]
  },
  {
   "cell_type": "markdown",
   "metadata": {},
   "source": [
    "## Tokenizing"
   ]
  },
  {
   "cell_type": "code",
   "execution_count": 204,
   "metadata": {},
   "outputs": [
    {
     "name": "stdout",
     "output_type": "stream",
     "text": [
      "Found 148064 unique tokens.\n"
     ]
    }
   ],
   "source": [
    "MAX_NB_WORDS        = 50000\n",
    "MAX_SEQUENCE_LENGTH = 250\n",
    "EMBEDDING_DIM       = 100\n",
    "\n",
    "# Vectorize a text corpus, by turning each text into sequence of integers\n",
    "# (each integer being index of a token dictionary) or into a vector where\n",
    "# the coefficient for each token could be binary, based on word count, base \n",
    "# on tf-idf\n",
    "#\n",
    "# Arguments:\n",
    "#    \n",
    "#    num_words: the maximum number of words to keep, based on word frequency. \n",
    "#    filters  : a string where each element is a character that will be filtered from the texts.\n",
    "#    lower    : boolean. Whether to convert to texts to lowercase.\n",
    "tokenizer = Tokenizer(num_words=MAX_NB_WORDS\n",
    "                      , filters='!\"#$%&()*+,-./:;<=>?@[\\]^_`{|}~'\n",
    "                      , lower=True)\n",
    "\n",
    "\n",
    "# Updates internal vocabulary based on a list of texts. \n",
    "# This method creates the vocabulary index based on word frequency.\n",
    "tokenizer.fit_on_texts(cleaned_bugs['long_description'].values)\n",
    "\n",
    "word_index = tokenizer.word_index\n",
    "print('Found %s unique tokens.' % len(word_index))\n",
    "\n",
    "\n"
   ]
  },
  {
   "cell_type": "code",
   "execution_count": 205,
   "metadata": {},
   "outputs": [
    {
     "name": "stdout",
     "output_type": "stream",
     "text": [
      "Shape of data tensor: (10000, 250)\n"
     ]
    }
   ],
   "source": [
    "# Transforms each text in texts to a sequence of integers.\n",
    "X = tokenizer.texts_to_sequences(cleaned_bugs['long_description'].values)\n",
    "X = pad_sequences(X, maxlen=MAX_SEQUENCE_LENGTH)\n",
    "print('Shape of data tensor:', X.shape)"
   ]
  },
  {
   "cell_type": "code",
   "execution_count": 206,
   "metadata": {},
   "outputs": [
    {
     "name": "stdout",
     "output_type": "stream",
     "text": [
      "Shape of label tensor: (10000, 2)\n"
     ]
    }
   ],
   "source": [
    "Y = pd.get_dummies(cleaned_bugs['long_lived?']).values\n",
    "print('Shape of label tensor:', Y.shape)"
   ]
  },
  {
   "cell_type": "markdown",
   "metadata": {},
   "source": [
    "## Splitting"
   ]
  },
  {
   "cell_type": "code",
   "execution_count": 207,
   "metadata": {},
   "outputs": [
    {
     "name": "stdout",
     "output_type": "stream",
     "text": [
      "Training shape  :  (6400, 250) (6400, 2)\n",
      "Validation shape:  (1600, 250) (1600, 2)\n",
      "Test shape      :  (2000, 250) (2000, 2)\n"
     ]
    }
   ],
   "source": [
    "# Split arrays or matrices into random train and test subsets\n",
    "# \n",
    "# Arguments:\n",
    "# \n",
    "#   *arrays   - allowed input are lists, numpy arrays, scipy-sparce matrices or pandas dataframes.\n",
    "#   test_size - if float, should be between 0.0 and 1.0 and represent the proportion of dataset to include\n",
    "#               in test split. If int, represents the absolute number of test samples. If None, the value \n",
    "#               is set to the complement of the train size. If train_size is also None, it will set to 0.25\n",
    "\n",
    "\n",
    "X_train, X_test, Y_train, Y_test = train_test_split(X, Y, test_size=0.2, random_state=42)\n",
    "X_train, X_val, Y_train, Y_val = train_test_split(X_train, Y_train, test_size=0.2, random_state=42)\n",
    "\n",
    "print('Training shape  : ', X_train.shape, Y_train.shape)\n",
    "print('Validation shape: ', X_val.shape, Y_val.shape)\n",
    "print('Test shape      : ', X_test.shape, Y_test.shape)"
   ]
  },
  {
   "cell_type": "code",
   "execution_count": 208,
   "metadata": {},
   "outputs": [],
   "source": [
    "# TODO: look at data distribution"
   ]
  },
  {
   "cell_type": "markdown",
   "metadata": {},
   "source": [
    "## Defining Models and Metrics"
   ]
  },
  {
   "cell_type": "code",
   "execution_count": 209,
   "metadata": {},
   "outputs": [],
   "source": [
    "METRICS = [\n",
    "    keras.metrics.TruePositives(name='tp'),\n",
    "    keras.metrics.FalsePositives(name='fp'),\n",
    "    keras.metrics.TrueNegatives(name='tn'),\n",
    "    keras.metrics.FalseNegatives(name='fn'),\n",
    "    keras.metrics.BinaryAccuracy(name='accuracy'),\n",
    "    keras.metrics.Precision(name='precision'),\n",
    "    keras.metrics.Recall(name='recall'),\n",
    "    keras.metrics.AUC(name='auc'),\n",
    "]\n",
    "def make_model(metrics=METRICS, output_bias=None, input_dim=MAX_NB_WORDS\n",
    "               , output_dim=EMBEDDING_DIM, input_length=MAX_NB_WORDS):\n",
    "    if output_bias is not None:\n",
    "        output_bias = tf.keras.initializers.Constant(output_bias)\n",
    "        \n",
    "    model = keras.Sequential([\n",
    "        keras.layers.Embedding(input_dim=input_dim, output_dim=output_dim, input_length=input_length),\n",
    "        keras.layers.SpatialDropout1D(0.2),\n",
    "        keras.layers.LSTM(100, dropout=0.2, recurrent_dropout=0.2),\n",
    "        keras.layers.Dense(2,  activation='sigmoid')\n",
    "    ])\n",
    "    \n",
    "    model.compile(\n",
    "      optimizer=keras.optimizers.Adam(lr=1e-3),\n",
    "      loss=keras.losses.BinaryCrossentropy(),\n",
    "      metrics=metrics)\n",
    "    \n",
    "    return model"
   ]
  },
  {
   "cell_type": "markdown",
   "metadata": {},
   "source": [
    "## Baseline Model"
   ]
  },
  {
   "cell_type": "markdown",
   "metadata": {},
   "source": [
    "### Build Model"
   ]
  },
  {
   "cell_type": "code",
   "execution_count": 217,
   "metadata": {},
   "outputs": [],
   "source": [
    "EPOCHS     = 20\n",
    "BATCH_SIZE = 1024\n",
    "\n",
    "early_stopping = tf.keras.callbacks.EarlyStopping(\n",
    "    monitor='val_auc', \n",
    "    verbose=1,\n",
    "    patience=10,\n",
    "    mode='max',\n",
    "    restore_best_weights=True)"
   ]
  },
  {
   "cell_type": "code",
   "execution_count": 218,
   "metadata": {},
   "outputs": [
    {
     "name": "stdout",
     "output_type": "stream",
     "text": [
      "Model: \"sequential_31\"\n",
      "_________________________________________________________________\n",
      "Layer (type)                 Output Shape              Param #   \n",
      "=================================================================\n",
      "embedding_31 (Embedding)     (None, 250, 100)          5000000   \n",
      "_________________________________________________________________\n",
      "spatial_dropout1d_31 (Spatia (None, 250, 100)          0         \n",
      "_________________________________________________________________\n",
      "lstm_31 (LSTM)               (None, 100)               80400     \n",
      "_________________________________________________________________\n",
      "dense_31 (Dense)             (None, 2)                 202       \n",
      "=================================================================\n",
      "Total params: 5,080,602\n",
      "Trainable params: 5,080,602\n",
      "Non-trainable params: 0\n",
      "_________________________________________________________________\n"
     ]
    }
   ],
   "source": [
    "model = make_model(input_length=X.shape[1])\n",
    "model.summary()"
   ]
  },
  {
   "cell_type": "markdown",
   "metadata": {},
   "source": [
    "Test run model:"
   ]
  },
  {
   "cell_type": "code",
   "execution_count": 219,
   "metadata": {},
   "outputs": [
    {
     "data": {
      "text/plain": [
       "array([[0.49522135, 0.49618542],\n",
       "       [0.49897107, 0.50563633],\n",
       "       [0.50059915, 0.49923265],\n",
       "       [0.5007877 , 0.498933  ],\n",
       "       [0.49972466, 0.49490243],\n",
       "       [0.49841478, 0.49803153],\n",
       "       [0.50862145, 0.4983345 ],\n",
       "       [0.50145376, 0.49847937],\n",
       "       [0.5013664 , 0.4987493 ],\n",
       "       [0.5040208 , 0.4980269 ]], dtype=float32)"
      ]
     },
     "execution_count": 219,
     "metadata": {},
     "output_type": "execute_result"
    }
   ],
   "source": [
    "model.predict(X_train[:10])"
   ]
  },
  {
   "cell_type": "markdown",
   "metadata": {},
   "source": [
    "### default bias initialization"
   ]
  },
  {
   "cell_type": "code",
   "execution_count": 220,
   "metadata": {},
   "outputs": [
    {
     "name": "stdout",
     "output_type": "stream",
     "text": [
      "Loss: 0.693471\n"
     ]
    }
   ],
   "source": [
    "model   = make_model(input_length=X.shape[1])\n",
    "results = model.evaluate(X_train, Y_train, batch_size=BATCH_SIZE, verbose=0)\n",
    "print(\"Loss: {0:4f}\".format(results[0]))"
   ]
  },
  {
   "cell_type": "markdown",
   "metadata": {},
   "source": [
    "### custom bias initialization"
   ]
  },
  {
   "cell_type": "code",
   "execution_count": 221,
   "metadata": {},
   "outputs": [
    {
     "data": {
      "text/plain": [
       "array([-0.88811005])"
      ]
     },
     "execution_count": 221,
     "metadata": {},
     "output_type": "execute_result"
    }
   ],
   "source": [
    "initial_bias = np.log([pos/neg])\n",
    "initial_bias"
   ]
  },
  {
   "cell_type": "code",
   "execution_count": 222,
   "metadata": {},
   "outputs": [
    {
     "name": "stdout",
     "output_type": "stream",
     "text": [
      "Loss: 0.693428\n"
     ]
    }
   ],
   "source": [
    "model = make_model(output_bias=initial_bias, input_length=X.shape[1])\n",
    "results = model.evaluate(X_train, Y_train, batch_size=BATCH_SIZE, verbose=0)\n",
    "print(\"Loss: {0:4f}\".format(results[0]))"
   ]
  },
  {
   "cell_type": "markdown",
   "metadata": {},
   "source": [
    "### checkpoint the initial weights"
   ]
  },
  {
   "cell_type": "code",
   "execution_count": 223,
   "metadata": {},
   "outputs": [],
   "source": [
    "initial_weights = os.path.join(tempfile.mkdtemp(),'initial_weights')\n",
    "model.save_weights(initial_weights)"
   ]
  },
  {
   "cell_type": "markdown",
   "metadata": {},
   "source": [
    "### confirm that the bias fix help"
   ]
  },
  {
   "cell_type": "code",
   "execution_count": 152,
   "metadata": {},
   "outputs": [
    {
     "name": "stdout",
     "output_type": "stream",
     "text": [
      "Train on 6400 samples, validate on 1600 samples\n",
      "Epoch 1/5\n",
      "6400/6400 [==============================] - 53s 8ms/sample - loss: 0.6819 - tp: 4244.0000 - fp: 2129.0000 - tn: 4271.0000 - fn: 2156.0000 - accuracy: 0.6652 - precision: 0.6659 - recall: 0.6631 - auc: 0.7041 - val_loss: 0.6442 - val_tp: 1154.0000 - val_fp: 446.0000 - val_tn: 1154.0000 - val_fn: 446.0000 - val_accuracy: 0.7212 - val_precision: 0.7212 - val_recall: 0.7212 - val_auc: 0.7545\n",
      "Epoch 2/5\n",
      "6400/6400 [==============================] - 44s 7ms/sample - loss: 0.6194 - tp: 4524.0000 - fp: 1876.0000 - tn: 4524.0000 - fn: 1876.0000 - accuracy: 0.7069 - precision: 0.7069 - recall: 0.7069 - auc: 0.7187 - val_loss: 0.5876 - val_tp: 1154.0000 - val_fp: 446.0000 - val_tn: 1154.0000 - val_fn: 446.0000 - val_accuracy: 0.7212 - val_precision: 0.7212 - val_recall: 0.7212 - val_auc: 0.7804\n",
      "Epoch 3/5\n",
      "6400/6400 [==============================] - 44s 7ms/sample - loss: 0.5918 - tp: 4524.0000 - fp: 1876.0000 - tn: 4524.0000 - fn: 1876.0000 - accuracy: 0.7069 - precision: 0.7069 - recall: 0.7069 - auc: 0.7849 - val_loss: 0.5752 - val_tp: 1154.0000 - val_fp: 446.0000 - val_tn: 1154.0000 - val_fn: 446.0000 - val_accuracy: 0.7212 - val_precision: 0.7212 - val_recall: 0.7212 - val_auc: 0.7971\n",
      "Epoch 4/5\n",
      "6400/6400 [==============================] - 44s 7ms/sample - loss: 0.5685 - tp: 4526.0000 - fp: 1874.0000 - tn: 4526.0000 - fn: 1874.0000 - accuracy: 0.7072 - precision: 0.7072 - recall: 0.7072 - auc: 0.7940 - val_loss: 0.5568 - val_tp: 1157.0000 - val_fp: 445.0000 - val_tn: 1155.0000 - val_fn: 443.0000 - val_accuracy: 0.7225 - val_precision: 0.7222 - val_recall: 0.7231 - val_auc: 0.8033\n",
      "Epoch 5/5\n",
      "6400/6400 [==============================] - 45s 7ms/sample - loss: 0.5270 - tp: 4638.0000 - fp: 1789.0000 - tn: 4611.0000 - fn: 1762.0000 - accuracy: 0.7226 - precision: 0.7216 - recall: 0.7247 - auc: 0.8413 - val_loss: 0.5426 - val_tp: 1191.0000 - val_fp: 415.0000 - val_tn: 1185.0000 - val_fn: 409.0000 - val_accuracy: 0.7425 - val_precision: 0.7416 - val_recall: 0.7444 - val_auc: 0.8066\n"
     ]
    }
   ],
   "source": [
    "model = make_model(input_length=X.shape[1])\n",
    "model.load_weights(initial_weights)\n",
    "model.layers[-1].bias.assign([0.0, 0.0])\n",
    "zero_bias_history = model.fit(\n",
    "    X_train,\n",
    "    Y_train,\n",
    "    batch_size=BATCH_SIZE,\n",
    "    epochs=5,\n",
    "    validation_data=(X_val, Y_val), \n",
    "    verbose=1)"
   ]
  },
  {
   "cell_type": "code",
   "execution_count": 154,
   "metadata": {},
   "outputs": [
    {
     "name": "stdout",
     "output_type": "stream",
     "text": [
      "Train on 6400 samples, validate on 1600 samples\n",
      "Epoch 1/5\n",
      "6400/6400 [==============================] - 51s 8ms/sample - loss: 0.6821 - tp: 4226.0000 - fp: 2081.0000 - tn: 4319.0000 - fn: 2174.0000 - accuracy: 0.6676 - precision: 0.6700 - recall: 0.6603 - auc: 0.7049 - val_loss: 0.6439 - val_tp: 1154.0000 - val_fp: 446.0000 - val_tn: 1154.0000 - val_fn: 446.0000 - val_accuracy: 0.7212 - val_precision: 0.7212 - val_recall: 0.7212 - val_auc: 0.7544\n",
      "Epoch 2/5\n",
      "6400/6400 [==============================] - 40s 6ms/sample - loss: 0.6144 - tp: 4524.0000 - fp: 1876.0000 - tn: 4524.0000 - fn: 1876.0000 - accuracy: 0.7069 - precision: 0.7069 - recall: 0.7069 - auc: 0.7220 - val_loss: 0.5829 - val_tp: 1154.0000 - val_fp: 446.0000 - val_tn: 1154.0000 - val_fn: 446.0000 - val_accuracy: 0.7212 - val_precision: 0.7212 - val_recall: 0.7212 - val_auc: 0.7823\n",
      "Epoch 3/5\n",
      "6400/6400 [==============================] - 40s 6ms/sample - loss: 0.5833 - tp: 4524.0000 - fp: 1876.0000 - tn: 4524.0000 - fn: 1876.0000 - accuracy: 0.7069 - precision: 0.7069 - recall: 0.7069 - auc: 0.7779 - val_loss: 0.5685 - val_tp: 1154.0000 - val_fp: 446.0000 - val_tn: 1154.0000 - val_fn: 446.0000 - val_accuracy: 0.7212 - val_precision: 0.7212 - val_recall: 0.7212 - val_auc: 0.7983\n",
      "Epoch 4/5\n",
      "6400/6400 [==============================] - 42s 7ms/sample - loss: 0.5503 - tp: 4542.0000 - fp: 1863.0000 - tn: 4537.0000 - fn: 1858.0000 - accuracy: 0.7093 - precision: 0.7091 - recall: 0.7097 - auc: 0.8218 - val_loss: 0.5482 - val_tp: 1166.0000 - val_fp: 436.0000 - val_tn: 1164.0000 - val_fn: 434.0000 - val_accuracy: 0.7281 - val_precision: 0.7278 - val_recall: 0.7287 - val_auc: 0.8024\n",
      "Epoch 5/5\n",
      "6400/6400 [==============================] - 44s 7ms/sample - loss: 0.4934 - tp: 4785.0000 - fp: 1645.0000 - tn: 4755.0000 - fn: 1615.0000 - accuracy: 0.7453 - precision: 0.7442 - recall: 0.7477 - auc: 0.8471 - val_loss: 0.5353 - val_tp: 1206.0000 - val_fp: 403.0000 - val_tn: 1197.0000 - val_fn: 394.0000 - val_accuracy: 0.7509 - val_precision: 0.7495 - val_recall: 0.7538 - val_auc: 0.8116\n"
     ]
    }
   ],
   "source": [
    "model = make_model(input_length=X.shape[1])\n",
    "model.load_weights(initial_weights)\n",
    "careful_bias_history = model.fit(\n",
    "    X_train,\n",
    "    Y_train,\n",
    "    batch_size=BATCH_SIZE,\n",
    "    epochs=5,\n",
    "    validation_data=(X_val, Y_val), \n",
    "    verbose=1)"
   ]
  },
  {
   "cell_type": "code",
   "execution_count": 168,
   "metadata": {},
   "outputs": [],
   "source": [
    "def plot_loss(history, label, n):\n",
    "    plt.semilogy(history.epoch, history.history['loss'], color=colors[n], label='Train '+label)\n",
    "    plt.semilogy(history.epoch, history.history['val_loss'], color=colors[n], label='Val '+label, linestyle='--')\n",
    "    plt.xlabel('Epoch')\n",
    "    plt.ylabel('Loss')\n",
    "    plt.legend()\n",
    "    "
   ]
  },
  {
   "cell_type": "code",
   "execution_count": 170,
   "metadata": {},
   "outputs": [
    {
     "data": {
      "image/png": "[encoded data removed]",
      "text/plain": [
       "<Figure size 864x720 with 1 Axes>"
      ]
     },
     "metadata": {
      "needs_background": "light"
     },
     "output_type": "display_data"
    }
   ],
   "source": [
    "plot_loss(zero_bias_history, 'Zero Bias', 0)\n",
    "plot_loss(careful_bias_history, 'Careful Bias', 1)"
   ]
  },
  {
   "cell_type": "markdown",
   "metadata": {},
   "source": [
    "### Train Model"
   ]
  },
  {
   "cell_type": "code",
   "execution_count": 224,
   "metadata": {},
   "outputs": [
    {
     "name": "stdout",
     "output_type": "stream",
     "text": [
      "Train on 6400 samples, validate on 1600 samples\n",
      "Epoch 1/20\n",
      "6400/6400 [==============================] - 40s 6ms/sample - loss: 0.6849 - tp: 4324.0000 - fp: 2363.0000 - tn: 4037.0000 - fn: 2076.0000 - accuracy: 0.6532 - precision: 0.6466 - recall: 0.6756 - auc: 0.6934 - val_loss: 0.6590 - val_tp: 1154.0000 - val_fp: 446.0000 - val_tn: 1154.0000 - val_fn: 446.0000 - val_accuracy: 0.7212 - val_precision: 0.7212 - val_recall: 0.7212 - val_auc: 0.7642\n",
      "Epoch 2/20\n",
      "6400/6400 [==============================] - 37s 6ms/sample - loss: 0.6279 - tp: 4524.0000 - fp: 1876.0000 - tn: 4524.0000 - fn: 1876.0000 - accuracy: 0.7069 - precision: 0.7069 - recall: 0.7069 - auc: 0.7190 - val_loss: 0.5825 - val_tp: 1154.0000 - val_fp: 446.0000 - val_tn: 1154.0000 - val_fn: 446.0000 - val_accuracy: 0.7212 - val_precision: 0.7212 - val_recall: 0.7212 - val_auc: 0.7803\n",
      "Epoch 3/20\n",
      "6400/6400 [==============================] - 35s 5ms/sample - loss: 0.5865 - tp: 4524.0000 - fp: 1876.0000 - tn: 4524.0000 - fn: 1876.0000 - accuracy: 0.7069 - precision: 0.7069 - recall: 0.7069 - auc: 0.7731 - val_loss: 0.5710 - val_tp: 1154.0000 - val_fp: 446.0000 - val_tn: 1154.0000 - val_fn: 446.0000 - val_accuracy: 0.7212 - val_precision: 0.7212 - val_recall: 0.7212 - val_auc: 0.8003\n",
      "Epoch 4/20\n",
      "6400/6400 [==============================] - 34s 5ms/sample - loss: 0.5546 - tp: 4530.0000 - fp: 1865.0000 - tn: 4535.0000 - fn: 1870.0000 - accuracy: 0.7082 - precision: 0.7084 - recall: 0.7078 - auc: 0.8190 - val_loss: 0.5511 - val_tp: 1162.0000 - val_fp: 434.0000 - val_tn: 1166.0000 - val_fn: 438.0000 - val_accuracy: 0.7275 - val_precision: 0.7281 - val_recall: 0.7262 - val_auc: 0.8028\n",
      "Epoch 5/20\n",
      "6400/6400 [==============================] - 34s 5ms/sample - loss: 0.4998 - tp: 4727.0000 - fp: 1634.0000 - tn: 4766.0000 - fn: 1673.0000 - accuracy: 0.7416 - precision: 0.7431 - recall: 0.7386 - auc: 0.8480 - val_loss: 0.5414 - val_tp: 1202.0000 - val_fp: 391.0000 - val_tn: 1209.0000 - val_fn: 398.0000 - val_accuracy: 0.7534 - val_precision: 0.7546 - val_recall: 0.7513 - val_auc: 0.8112\n",
      "Epoch 6/20\n",
      "6400/6400 [==============================] - 35s 5ms/sample - loss: 0.4406 - tp: 5184.0000 - fp: 1182.0000 - tn: 5218.0000 - fn: 1216.0000 - accuracy: 0.8127 - precision: 0.8143 - recall: 0.8100 - auc: 0.8833 - val_loss: 0.5520 - val_tp: 1191.0000 - val_fp: 407.0000 - val_tn: 1193.0000 - val_fn: 409.0000 - val_accuracy: 0.7450 - val_precision: 0.7453 - val_recall: 0.7444 - val_auc: 0.8194\n",
      "Epoch 7/20\n",
      "6400/6400 [==============================] - 35s 5ms/sample - loss: 0.3802 - tp: 5446.0000 - fp: 930.0000 - tn: 5470.0000 - fn: 954.0000 - accuracy: 0.8528 - precision: 0.8541 - recall: 0.8509 - auc: 0.9180 - val_loss: 0.5515 - val_tp: 1175.0000 - val_fp: 416.0000 - val_tn: 1184.0000 - val_fn: 425.0000 - val_accuracy: 0.7372 - val_precision: 0.7385 - val_recall: 0.7344 - val_auc: 0.8198\n",
      "Epoch 8/20\n",
      "6400/6400 [==============================] - 40s 6ms/sample - loss: 0.3118 - tp: 5613.0000 - fp: 771.0000 - tn: 5629.0000 - fn: 787.0000 - accuracy: 0.8783 - precision: 0.8792 - recall: 0.8770 - auc: 0.9455 - val_loss: 0.5577 - val_tp: 1184.0000 - val_fp: 407.0000 - val_tn: 1193.0000 - val_fn: 416.0000 - val_accuracy: 0.7428 - val_precision: 0.7442 - val_recall: 0.7400 - val_auc: 0.8163\n",
      "Epoch 9/20\n",
      "6400/6400 [==============================] - 35s 6ms/sample - loss: 0.2562 - tp: 5798.0000 - fp: 573.0000 - tn: 5827.0000 - fn: 602.0000 - accuracy: 0.9082 - precision: 0.9101 - recall: 0.9059 - auc: 0.9619 - val_loss: 0.6036 - val_tp: 1161.0000 - val_fp: 430.0000 - val_tn: 1170.0000 - val_fn: 439.0000 - val_accuracy: 0.7284 - val_precision: 0.7297 - val_recall: 0.7256 - val_auc: 0.8127\n",
      "Epoch 10/20\n",
      "6400/6400 [==============================] - 35s 5ms/sample - loss: 0.2103 - tp: 5931.0000 - fp: 466.0000 - tn: 5934.0000 - fn: 469.0000 - accuracy: 0.9270 - precision: 0.9272 - recall: 0.9267 - auc: 0.9744 - val_loss: 0.6459 - val_tp: 1157.0000 - val_fp: 443.0000 - val_tn: 1157.0000 - val_fn: 443.0000 - val_accuracy: 0.7231 - val_precision: 0.7231 - val_recall: 0.7231 - val_auc: 0.8099\n",
      "Epoch 11/20\n",
      "6400/6400 [==============================] - 35s 6ms/sample - loss: 0.1623 - tp: 6041.0000 - fp: 347.0000 - tn: 6053.0000 - fn: 359.0000 - accuracy: 0.9448 - precision: 0.9457 - recall: 0.9439 - auc: 0.9843 - val_loss: 0.7249 - val_tp: 1154.0000 - val_fp: 443.0000 - val_tn: 1157.0000 - val_fn: 446.0000 - val_accuracy: 0.7222 - val_precision: 0.7226 - val_recall: 0.7212 - val_auc: 0.8024\n",
      "Epoch 12/20\n",
      "6400/6400 [==============================] - 35s 5ms/sample - loss: 0.1353 - tp: 6120.0000 - fp: 273.0000 - tn: 6127.0000 - fn: 280.0000 - accuracy: 0.9568 - precision: 0.9573 - recall: 0.9563 - auc: 0.9899 - val_loss: 0.7493 - val_tp: 1167.0000 - val_fp: 434.0000 - val_tn: 1166.0000 - val_fn: 433.0000 - val_accuracy: 0.7291 - val_precision: 0.7289 - val_recall: 0.7294 - val_auc: 0.8041\n",
      "Epoch 13/20\n",
      "6400/6400 [==============================] - 35s 5ms/sample - loss: 0.1077 - tp: 6177.0000 - fp: 225.0000 - tn: 6175.0000 - fn: 223.0000 - accuracy: 0.9650 - precision: 0.9649 - recall: 0.9652 - auc: 0.9930 - val_loss: 0.7513 - val_tp: 1142.0000 - val_fp: 458.0000 - val_tn: 1142.0000 - val_fn: 458.0000 - val_accuracy: 0.7138 - val_precision: 0.7138 - val_recall: 0.7138 - val_auc: 0.7896\n",
      "Epoch 14/20\n",
      "6400/6400 [==============================] - 34s 5ms/sample - loss: 0.0849 - tp: 6225.0000 - fp: 172.0000 - tn: 6228.0000 - fn: 175.0000 - accuracy: 0.9729 - precision: 0.9731 - recall: 0.9727 - auc: 0.9958 - val_loss: 0.8540 - val_tp: 1131.0000 - val_fp: 471.0000 - val_tn: 1129.0000 - val_fn: 469.0000 - val_accuracy: 0.7063 - val_precision: 0.7060 - val_recall: 0.7069 - val_auc: 0.7797\n",
      "Epoch 15/20\n",
      "6400/6400 [==============================] - 35s 5ms/sample - loss: 0.0759 - tp: 6248.0000 - fp: 154.0000 - tn: 6246.0000 - fn: 152.0000 - accuracy: 0.9761 - precision: 0.9759 - recall: 0.9762 - auc: 0.9965 - val_loss: 0.8520 - val_tp: 1162.0000 - val_fp: 439.0000 - val_tn: 1161.0000 - val_fn: 438.0000 - val_accuracy: 0.7259 - val_precision: 0.7258 - val_recall: 0.7262 - val_auc: 0.7975\n",
      "Epoch 16/20\n",
      "6400/6400 [==============================] - 34s 5ms/sample - loss: 0.0620 - tp: 6268.0000 - fp: 135.0000 - tn: 6265.0000 - fn: 132.0000 - accuracy: 0.9791 - precision: 0.9789 - recall: 0.9794 - auc: 0.9978 - val_loss: 1.0163 - val_tp: 1154.0000 - val_fp: 446.0000 - val_tn: 1154.0000 - val_fn: 446.0000 - val_accuracy: 0.7212 - val_precision: 0.7212 - val_recall: 0.7212 - val_auc: 0.7900\n",
      "Epoch 17/20\n",
      "6144/6400 [===========================>..] - ETA: 1s - loss: 0.0559 - tp: 6042.0000 - fp: 103.0000 - tn: 6041.0000 - fn: 102.0000 - accuracy: 0.9833 - precision: 0.9832 - recall: 0.9834 - auc: 0.9982Restoring model weights from the end of the best epoch.\n",
      "6400/6400 [==============================] - 34s 5ms/sample - loss: 0.0557 - tp: 6295.0000 - fp: 106.0000 - tn: 6294.0000 - fn: 105.0000 - accuracy: 0.9835 - precision: 0.9834 - recall: 0.9836 - auc: 0.9983 - val_loss: 0.9210 - val_tp: 1139.0000 - val_fp: 460.0000 - val_tn: 1140.0000 - val_fn: 461.0000 - val_accuracy: 0.7122 - val_precision: 0.7123 - val_recall: 0.7119 - val_auc: 0.7898\n",
      "Epoch 00017: early stopping\n"
     ]
    }
   ],
   "source": [
    "model = make_model(input_length=X.shape[1])\n",
    "model.load_weights(initial_weights)\n",
    "baseline_history    = model.fit(X_train\n",
    "                       , Y_train\n",
    "                       , epochs=EPOCHS\n",
    "                       , batch_size=BATCH_SIZE\n",
    "                       , validation_data=(X_val, Y_val)\n",
    "                       , callbacks=[early_stopping])"
   ]
  },
  {
   "cell_type": "markdown",
   "metadata": {},
   "source": [
    "### Check training history"
   ]
  },
  {
   "cell_type": "code",
   "execution_count": 225,
   "metadata": {},
   "outputs": [],
   "source": [
    "def plot_metrics(history):\n",
    "    metrics = ['loss', 'auc', 'precision', 'recall']\n",
    "    for n, metric in enumerate(metrics):\n",
    "        name = metric.replace(\"_\", \" \").capitalize()\n",
    "        plt.subplot(2,2,n+1)\n",
    "        plt.plot(history.epoch,  history.history[metric], color=colors[0], label='Train')\n",
    "        plt.plot(history.epoch, history.history['val_'+metric],\n",
    "             color=colors[0], linestyle=\"--\", label='Val')\n",
    "        plt.xlabel('Epoch')\n",
    "        plt.ylabel(name)\n",
    "        if metric == 'loss':\n",
    "          plt.ylim([0, plt.ylim()[1]])\n",
    "        elif metric == 'auc':\n",
    "          plt.ylim([0.8,1])\n",
    "        else:\n",
    "          plt.ylim([0,1])\n",
    "\n",
    "    plt.legend()"
   ]
  },
  {
   "cell_type": "code",
   "execution_count": 226,
   "metadata": {},
   "outputs": [
    {
     "data": {
      "image/png": "[encoded data removed]",
      "text/plain": [
       "<Figure size 864x720 with 4 Axes>"
      ]
     },
     "metadata": {
      "needs_background": "light"
     },
     "output_type": "display_data"
    }
   ],
   "source": [
    "plot_metrics(baseline_history)"
   ]
  },
  {
   "cell_type": "markdown",
   "metadata": {},
   "source": [
    "### Evaluate metrics"
   ]
  },
  {
   "cell_type": "code",
   "execution_count": 227,
   "metadata": {},
   "outputs": [],
   "source": [
    "train_predictions_baseline = model.predict_classes(X_train, batch_size=BATCH_SIZE)\n",
    "test_predictions_baseline  = model.predict_classes(X_test, batch_size=BATCH_SIZE)"
   ]
  },
  {
   "cell_type": "code",
   "execution_count": 228,
   "metadata": {},
   "outputs": [],
   "source": [
    "def plot_cm(labels, predictions, p=0.5):\n",
    "  cm = confusion_matrix(labels, predictions > p)\n",
    "  sns.heatmap(cm, annot=True, fmt=\"d\")\n",
    "  plt.title('Confusion matrix @{:.2f}'.format(p))\n",
    "  plt.ylabel('Actual label')\n",
    "  plt.xlabel('Predicted label')\n",
    "  ba = ((cm[1][1]/(cm[1][1]+cm[1][0])) + (cm[0][0]/(cm[0][0]+cm[0][1]))) / 2\n",
    "  print('Short-lived (True Negatives): ', cm[0][0])\n",
    "  print('Short-lived Missed (False Positives): ', cm[0][1])\n",
    "  print('Long-Lived (True Positives): ', cm[1][1])\n",
    "  print('Long-Lived Missed (False Negatives): ', cm[1][0])\n",
    "  print('Total Of Long-Liveds: ', np.sum(cm[1]))\n",
    "  print('Balanced Accuracy: ', ba)"
   ]
  },
  {
   "cell_type": "code",
   "execution_count": 231,
   "metadata": {},
   "outputs": [
    {
     "name": "stdout",
     "output_type": "stream",
     "text": [
      "loss :  0.6048513793945313\n",
      "tp :  1467.0\n",
      "fp :  518.0\n",
      "tn :  1482.0\n",
      "fn :  533.0\n",
      "accuracy :  0.73725\n",
      "precision :  0.7390428\n",
      "recall :  0.7335\n",
      "auc :  0.7940033\n",
      "\n"
     ]
    }
   ],
   "source": [
    "baseline_results = model.evaluate(X_test, Y_test, batch_size=BATCH_SIZE, verbose=0)\n",
    "for name, value in zip(model.metrics_names, baseline_results):\n",
    "  print(name, ': ', value)\n",
    "print()"
   ]
  },
  {
   "cell_type": "code",
   "execution_count": 232,
   "metadata": {},
   "outputs": [
    {
     "name": "stdout",
     "output_type": "stream",
     "text": [
      "Short-lived (True Negatives):  1222\n",
      "Short-lived Missed (False Positives):  185\n",
      "Long-Lived (True Positives):  254\n",
      "Long-Lived Missed (False Negatives):  339\n",
      "Total Of Long-Liveds:  593\n",
      "Balanced Accuracy:  0.648422546386353\n"
     ]
    },
    {
     "data": {
      "image/png": "[encoded data removed]",
      "text/plain": [
       "<Figure size 864x720 with 2 Axes>"
      ]
     },
     "metadata": {
      "needs_background": "light"
     },
     "output_type": "display_data"
    }
   ],
   "source": [
    "plot_cm(Y_test.argmax(axis=1), test_predictions_baseline)"
   ]
  },
  {
   "cell_type": "code",
   "execution_count": 233,
   "metadata": {},
   "outputs": [],
   "source": [
    "def plot_roc(name, labels, predictions, **kwargs):\n",
    "  fp, tp, _ = sklearn.metrics.roc_curve(labels, predictions)\n",
    "\n",
    "  plt.plot(100*fp, 100*tp, label=name, linewidth=2, **kwargs)\n",
    "  plt.xlabel('False positives [%]')\n",
    "  plt.ylabel('True positives [%]')\n",
    "  plt.xlim([-0.5,20])\n",
    "  plt.ylim([80,100.5])\n",
    "  plt.grid(True)\n",
    "  ax = plt.gca()\n",
    "  ax.set_aspect('equal')"
   ]
  },
  {
   "cell_type": "code",
   "execution_count": 238,
   "metadata": {},
   "outputs": [
    {
     "data": {
      "text/plain": [
       "<matplotlib.legend.Legend at 0x7fc289166510>"
      ]
     },
     "execution_count": 238,
     "metadata": {},
     "output_type": "execute_result"
    },
    {
     "data": {
      "image/png": "[encoded data removed]",
      "text/plain": [
       "<Figure size 864x720 with 1 Axes>"
      ]
     },
     "metadata": {
      "needs_background": "light"
     },
     "output_type": "display_data"
    }
   ],
   "source": [
    "plot_roc(\"Train Baseline\", Y_train.argmax(axis=1), train_predictions_baseline, color=colors[0])\n",
    "plot_roc(\"Test Baseline\", Y_test.argmax(axis=1), test_predictions_baseline, color=colors[0], linestyle='--')\n",
    "plt.legend(loc='lower right')"
   ]
  },
  {
   "cell_type": "code",
   "execution_count": null,
   "metadata": {},
   "outputs": [],
   "source": []
  }
 ],
 "metadata": {
  "kernelspec": {
   "display_name": "Python 3",
   "language": "python",
   "name": "python3"
  },
  "language_info": {
   "codemirror_mode": {
    "name": "ipython",
    "version": 3
   },
   "file_extension": ".py",
   "mimetype": "text/x-python",
   "name": "python",
   "nbconvert_exporter": "python",
   "pygments_lexer": "ipython3",
   "version": "3.7.6"
  }
 },
 "nbformat": 4,
 "nbformat_minor": 2
}
