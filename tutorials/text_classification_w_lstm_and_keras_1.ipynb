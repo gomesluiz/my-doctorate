{
 "cells": [
  {
   "cell_type": "code",
   "execution_count": 2,
   "metadata": {},
   "outputs": [
    {
     "name": "stderr",
     "output_type": "stream",
     "text": [
      "Using TensorFlow backend.\n"
     ]
    }
   ],
   "source": [
    "import nltk \n",
    "import pandas as pd\n",
    "import re\n",
    "\n",
    "\n",
    "from keras.preprocessing.text import Tokenizer\n",
    "from keras.preprocessing.sequence import pad_sequences\n",
    "from keras.models import Sequential\n",
    "from keras.layers import Dense, Embedding, LSTM, SpatialDropout1D\n",
    "from keras.callbacks import EarlyStopping\n",
    "from keras.layers import Dropout\n",
    "\n",
    "from nltk.corpus import stopwords\n",
    "from nltk import word_tokenize\n",
    "\n",
    "import matplotlib.pyplot as plt\n",
    "\n",
    "\n",
    "from sklearn.model_selection import train_test_split"
   ]
  },
  {
   "cell_type": "code",
   "execution_count": 3,
   "metadata": {},
   "outputs": [],
   "source": [
    "df = pd.read_csv('datasets/gcc_bug_report_data.csv', encoding='utf8', sep=',', parse_dates=True,low_memory=False)"
   ]
  },
  {
   "cell_type": "code",
   "execution_count": 4,
   "metadata": {},
   "outputs": [],
   "source": [
    "df['long_lived?']  = df['bug_fix_time'].apply(lambda t: 'long-lived' if t > 365 else 'short-lived')\n"
   ]
  },
  {
   "cell_type": "code",
   "execution_count": 5,
   "metadata": {},
   "outputs": [
    {
     "data": {
      "text/html": [
       "<div>\n",
       "<style scoped>\n",
       "    .dataframe tbody tr th:only-of-type {\n",
       "        vertical-align: middle;\n",
       "    }\n",
       "\n",
       "    .dataframe tbody tr th {\n",
       "        vertical-align: top;\n",
       "    }\n",
       "\n",
       "    .dataframe thead th {\n",
       "        text-align: right;\n",
       "    }\n",
       "</style>\n",
       "<table border=\"1\" class=\"dataframe\">\n",
       "  <thead>\n",
       "    <tr style=\"text-align: right;\">\n",
       "      <th></th>\n",
       "      <th>bug_id</th>\n",
       "      <th>creation_date</th>\n",
       "      <th>component_name</th>\n",
       "      <th>product_name</th>\n",
       "      <th>short_description</th>\n",
       "      <th>long_description</th>\n",
       "      <th>assignee_name</th>\n",
       "      <th>reporter_name</th>\n",
       "      <th>resolution_category</th>\n",
       "      <th>resolution_code</th>\n",
       "      <th>status_category</th>\n",
       "      <th>status_code</th>\n",
       "      <th>update_date</th>\n",
       "      <th>quantity_of_votes</th>\n",
       "      <th>quantity_of_comments</th>\n",
       "      <th>resolution_date</th>\n",
       "      <th>bug_fix_time</th>\n",
       "      <th>severity_category</th>\n",
       "      <th>severity_code</th>\n",
       "      <th>long_lived?</th>\n",
       "    </tr>\n",
       "  </thead>\n",
       "  <tbody>\n",
       "    <tr>\n",
       "      <th>0</th>\n",
       "      <td>CLASSPATH-26758</td>\n",
       "      <td>2006-03-19</td>\n",
       "      <td>awt</td>\n",
       "      <td>CLASSPATH</td>\n",
       "      <td>GdkFontPeer.getPostScriptFontName unimplemented</td>\n",
       "      <td>The Openstreetmap applet expects java.awt.Font...</td>\n",
       "      <td>unassigned</td>\n",
       "      <td>roman</td>\n",
       "      <td>fixed</td>\n",
       "      <td>1</td>\n",
       "      <td>resolved</td>\n",
       "      <td>4</td>\n",
       "      <td>2006-05-20</td>\n",
       "      <td>0</td>\n",
       "      <td>12</td>\n",
       "      <td>2006-05-20</td>\n",
       "      <td>62</td>\n",
       "      <td>normal</td>\n",
       "      <td>2</td>\n",
       "      <td>short-lived</td>\n",
       "    </tr>\n",
       "    <tr>\n",
       "      <th>1</th>\n",
       "      <td>GCC-43111</td>\n",
       "      <td>2010-02-18</td>\n",
       "      <td>fortran</td>\n",
       "      <td>GCC</td>\n",
       "      <td>[4.5 Regression] No temporary produced for arr...</td>\n",
       "      <td>As reported by Joost VandeVondele this does no...</td>\n",
       "      <td>pault</td>\n",
       "      <td>pault</td>\n",
       "      <td>fixed</td>\n",
       "      <td>1</td>\n",
       "      <td>resolved</td>\n",
       "      <td>4</td>\n",
       "      <td>2010-02-20</td>\n",
       "      <td>0</td>\n",
       "      <td>6</td>\n",
       "      <td>2010-02-20</td>\n",
       "      <td>2</td>\n",
       "      <td>normal</td>\n",
       "      <td>2</td>\n",
       "      <td>short-lived</td>\n",
       "    </tr>\n",
       "    <tr>\n",
       "      <th>2</th>\n",
       "      <td>GCC-43804</td>\n",
       "      <td>2010-04-19</td>\n",
       "      <td>target</td>\n",
       "      <td>GCC</td>\n",
       "      <td>[4.6 regression] ICE in reload_cse_simplify_op...</td>\n",
       "      <td>$ gcc/xgcc -Bgcc/ -O2 -fpic -S memusage.i \\nme...</td>\n",
       "      <td>rsandifo</td>\n",
       "      <td>schwab</td>\n",
       "      <td>fixed</td>\n",
       "      <td>1</td>\n",
       "      <td>resolved</td>\n",
       "      <td>4</td>\n",
       "      <td>2013-04-12</td>\n",
       "      <td>0</td>\n",
       "      <td>29</td>\n",
       "      <td>2013-04-12</td>\n",
       "      <td>1089</td>\n",
       "      <td>normal</td>\n",
       "      <td>2</td>\n",
       "      <td>long-lived</td>\n",
       "    </tr>\n",
       "    <tr>\n",
       "      <th>3</th>\n",
       "      <td>GCC-33988</td>\n",
       "      <td>2007-11-03</td>\n",
       "      <td>ada</td>\n",
       "      <td>GCC</td>\n",
       "      <td>Warning when converting between C compatible p...</td>\n",
       "      <td>The RM95 B.3.1 contains: The type chars_ptr is...</td>\n",
       "      <td>unassigned</td>\n",
       "      <td>sam</td>\n",
       "      <td>fixed</td>\n",
       "      <td>1</td>\n",
       "      <td>resolved</td>\n",
       "      <td>4</td>\n",
       "      <td>2007-12-05</td>\n",
       "      <td>0</td>\n",
       "      <td>3</td>\n",
       "      <td>2007-11-14</td>\n",
       "      <td>11</td>\n",
       "      <td>normal</td>\n",
       "      <td>2</td>\n",
       "      <td>short-lived</td>\n",
       "    </tr>\n",
       "    <tr>\n",
       "      <th>4</th>\n",
       "      <td>GCC-56270</td>\n",
       "      <td>2013-02-09</td>\n",
       "      <td>tree-optimization</td>\n",
       "      <td>GCC</td>\n",
       "      <td>[4.6 Regression] loop over array of struct flo...</td>\n",
       "      <td>Created attachment 29408\\nPreprocessed file co...</td>\n",
       "      <td>rguenth</td>\n",
       "      <td>4303843KIWEMNPULN</td>\n",
       "      <td>fixed</td>\n",
       "      <td>1</td>\n",
       "      <td>resolved</td>\n",
       "      <td>4</td>\n",
       "      <td>2013-04-12</td>\n",
       "      <td>0</td>\n",
       "      <td>11</td>\n",
       "      <td>2013-04-12</td>\n",
       "      <td>62</td>\n",
       "      <td>normal</td>\n",
       "      <td>2</td>\n",
       "      <td>short-lived</td>\n",
       "    </tr>\n",
       "  </tbody>\n",
       "</table>\n",
       "</div>"
      ],
      "text/plain": [
       "            bug_id creation_date     component_name product_name  \\\n",
       "0  CLASSPATH-26758    2006-03-19                awt    CLASSPATH   \n",
       "1        GCC-43111    2010-02-18            fortran          GCC   \n",
       "2        GCC-43804    2010-04-19             target          GCC   \n",
       "3        GCC-33988    2007-11-03                ada          GCC   \n",
       "4        GCC-56270    2013-02-09  tree-optimization          GCC   \n",
       "\n",
       "                                   short_description  \\\n",
       "0    GdkFontPeer.getPostScriptFontName unimplemented   \n",
       "1  [4.5 Regression] No temporary produced for arr...   \n",
       "2  [4.6 regression] ICE in reload_cse_simplify_op...   \n",
       "3  Warning when converting between C compatible p...   \n",
       "4  [4.6 Regression] loop over array of struct flo...   \n",
       "\n",
       "                                    long_description assignee_name  \\\n",
       "0  The Openstreetmap applet expects java.awt.Font...    unassigned   \n",
       "1  As reported by Joost VandeVondele this does no...         pault   \n",
       "2  $ gcc/xgcc -Bgcc/ -O2 -fpic -S memusage.i \\nme...      rsandifo   \n",
       "3  The RM95 B.3.1 contains: The type chars_ptr is...    unassigned   \n",
       "4  Created attachment 29408\\nPreprocessed file co...       rguenth   \n",
       "\n",
       "       reporter_name resolution_category  resolution_code status_category  \\\n",
       "0              roman               fixed                1        resolved   \n",
       "1              pault               fixed                1        resolved   \n",
       "2             schwab               fixed                1        resolved   \n",
       "3                sam               fixed                1        resolved   \n",
       "4  4303843KIWEMNPULN               fixed                1        resolved   \n",
       "\n",
       "   status_code update_date  quantity_of_votes  quantity_of_comments  \\\n",
       "0            4  2006-05-20                  0                    12   \n",
       "1            4  2010-02-20                  0                     6   \n",
       "2            4  2013-04-12                  0                    29   \n",
       "3            4  2007-12-05                  0                     3   \n",
       "4            4  2013-04-12                  0                    11   \n",
       "\n",
       "  resolution_date  bug_fix_time severity_category  severity_code  long_lived?  \n",
       "0      2006-05-20            62            normal              2  short-lived  \n",
       "1      2010-02-20             2            normal              2  short-lived  \n",
       "2      2013-04-12          1089            normal              2   long-lived  \n",
       "3      2007-11-14            11            normal              2  short-lived  \n",
       "4      2013-04-12            62            normal              2  short-lived  "
      ]
     },
     "execution_count": 5,
     "metadata": {},
     "output_type": "execute_result"
    }
   ],
   "source": [
    "df.head()"
   ]
  },
  {
   "cell_type": "code",
   "execution_count": 6,
   "metadata": {},
   "outputs": [
    {
     "data": {
      "text/plain": [
       "short-lived    7085\n",
       "long-lived     2915\n",
       "Name: long_lived?, dtype: int64"
      ]
     },
     "execution_count": 6,
     "metadata": {},
     "output_type": "execute_result"
    }
   ],
   "source": [
    "df['long_lived?'].value_counts()"
   ]
  },
  {
   "cell_type": "code",
   "execution_count": 7,
   "metadata": {},
   "outputs": [
    {
     "data": {
      "text/plain": [
       "<matplotlib.axes._subplots.AxesSubplot at 0x7fd8f8e1df10>"
      ]
     },
     "execution_count": 7,
     "metadata": {},
     "output_type": "execute_result"
    },
    {
     "data": {
      "image/png": "[encoded data removed]",
      "text/plain": [
       "<Figure size 432x288 with 1 Axes>"
      ]
     },
     "metadata": {
      "needs_background": "light"
     },
     "output_type": "display_data"
    }
   ],
   "source": [
    "df['long_lived?'].value_counts().sort_values(ascending=False).plot(kind='bar', title='')"
   ]
  },
  {
   "cell_type": "code",
   "execution_count": 8,
   "metadata": {},
   "outputs": [],
   "source": [
    "def print_plot(index):\n",
    "    example=df.loc[df.index == index][['long_description', 'long_lived?']].values[0]\n",
    "    if(len (example) > 0):\n",
    "        print(example[0])\n",
    "        print('long_lived?', example[1])"
   ]
  },
  {
   "cell_type": "code",
   "execution_count": 9,
   "metadata": {},
   "outputs": [
    {
     "name": "stdout",
     "output_type": "stream",
     "text": [
      "As reported by Joost VandeVondele this does not compile correctly since my fix for PR41113/7\n",
      "\n",
      "Paul\n",
      "\n",
      "SUBROUTINE S2(I)\n",
      " INTEGER :: I(4)\n",
      " write(6*) I\n",
      " IF (ANY(I.NE.(/3579/))) CALL ABORT()\n",
      "END SUBROUTINE S2\n",
      "\n",
      "MODULE M1\n",
      " TYPE T1\n",
      "  INTEGER POINTER DIMENSION(:) :: data\n",
      " END TYPE T1\n",
      "CONTAINS\n",
      " SUBROUTINE S1()\n",
      "   TYPE(T1) :: d\n",
      "   INTEGER TARGET DIMENSION(10) :: scratch=(/(ii=110)/)\n",
      "   INTEGER :: i=2\n",
      "   d%data=>scratch(1:9:2)\n",
      "   write(6*) d%data(i:)\n",
      "   CALL S2(d%data(i:))\n",
      " END SUBROUTINE S1\n",
      "END MODULE M1\n",
      "\n",
      "USE M1\n",
      "CALL S1\n",
      "END\n",
      "long_lived? short-lived\n"
     ]
    }
   ],
   "source": [
    "print_plot(1)"
   ]
  },
  {
   "cell_type": "code",
   "execution_count": 10,
   "metadata": {},
   "outputs": [],
   "source": [
    "df = df.reset_index(drop=True)\n",
    "REPLACE_BY_SPACE_RE = re.compile('[/(){}\\[\\]\\|@,;]')\n",
    "BAD_SYMBOLS_RE = re.compile('[^0-9a-z #+_]')\n",
    "STOPWORDS = set(stopwords.words('english'))\n",
    "\n",
    "def clean_text(text):\n",
    "    \"\"\"\n",
    "        text: a string\n",
    "        \n",
    "        return: modified initial string\n",
    "    \"\"\"\n",
    "    if text != text:\n",
    "        return ' '\n",
    "    \n",
    "    text = text.lower() \n",
    "    text = REPLACE_BY_SPACE_RE.sub(' ', text)\n",
    "    text = BAD_SYMBOLS_RE.sub('', text)\n",
    "    text = text.replace('x', '')\n",
    "    text = ' '.join(word for word in text.split() if word not in STOPWORDS) # remove stopwors from text\n",
    "    return text\n",
    "df['long_description'] = df['long_description'].apply(clean_text)\n",
    "df['long_description'] = df['long_description'].str.replace('\\d+', '')"
   ]
  },
  {
   "cell_type": "code",
   "execution_count": 11,
   "metadata": {},
   "outputs": [
    {
     "name": "stdout",
     "output_type": "stream",
     "text": [
      "reported joost vandevondele compile correctly since fi pr paulsubroutine s integer  write  ine  call abort end subroutine smodule m type t integer pointer dimension data end type tcontains subroutine s type t integer target dimension  scratch ii integer i ddatascratch  write  ddata call s ddata end subroutine send module muse mcall send\n",
      "long_lived? short-lived\n"
     ]
    }
   ],
   "source": [
    "print_plot(1)"
   ]
  },
  {
   "cell_type": "code",
   "execution_count": 12,
   "metadata": {},
   "outputs": [
    {
     "name": "stdout",
     "output_type": "stream",
     "text": [
      "Found 148064 unique tokens.\n"
     ]
    }
   ],
   "source": [
    "MAX_NB_WORDS        = 50000\n",
    "MAX_SEQUENCE_LENGTH = 250\n",
    "EMBEDDING_DIM       = 100\n",
    "\n",
    "# Vectorize a text corpus, by turning each text into sequence of integers\n",
    "# (each integer being index of a token dictionary) or into a vector where\n",
    "# the coefficient for each token could be binary, based on word count, base \n",
    "# on tf-idf\n",
    "#\n",
    "# Arguments:\n",
    "#    \n",
    "#    num_words: the maximum number of words to keep, based on word frequency. \n",
    "#    filters  : a string where each element is a character that will be filtered from the texts.\n",
    "#    lower    : boolean. Whether to convert to texts to lowercase.\n",
    "tokenizer = Tokenizer(num_words=MAX_NB_WORDS, filters='!\"#$%&()*+,-./:;<=>?@[\\]^_`{|}~', lower=True)\n",
    "\n",
    "\n",
    "# Updates internal vocabulary based on a list of texts. \n",
    "# This method creates the vocabulary index based on word frequency.\n",
    "tokenizer.fit_on_texts(df['long_description'].values)\n",
    "\n",
    "word_index = tokenizer.word_index\n",
    "print('Found %s unique tokens.' % len(word_index))\n"
   ]
  },
  {
   "cell_type": "code",
   "execution_count": 13,
   "metadata": {},
   "outputs": [
    {
     "name": "stderr",
     "output_type": "stream",
     "text": [
      "IOPub data rate exceeded.\n",
      "The notebook server will temporarily stop sending output\n",
      "to the client in order to avoid crashing it.\n",
      "To change this limit, set the config variable\n",
      "`--NotebookApp.iopub_data_rate_limit`.\n",
      "\n",
      "Current values:\n",
      "NotebookApp.iopub_data_rate_limit=1000000.0 (bytes/sec)\n",
      "NotebookApp.rate_limit_window=3.0 (secs)\n",
      "\n"
     ]
    }
   ],
   "source": [
    "# Transforms each text in texts to a sequence of integers.\n",
    "X = tokenizer.texts_to_sequences(df['long_description'].values)\n",
    "\n",
    "print(X)\n",
    "\n",
    "X = pad_sequences(X, maxlen=MAX_SEQUENCE_LENGTH)\n",
    "print('Shape of data tensor:', X.shape)"
   ]
  },
  {
   "cell_type": "code",
   "execution_count": 14,
   "metadata": {},
   "outputs": [
    {
     "name": "stdout",
     "output_type": "stream",
     "text": [
      "Shape of label tensor: (10000, 2)\n"
     ]
    }
   ],
   "source": [
    "Y = pd.get_dummies(df['long_lived?']).values\n",
    "print('Shape of label tensor:', Y.shape)"
   ]
  },
  {
   "cell_type": "code",
   "execution_count": 14,
   "metadata": {},
   "outputs": [
    {
     "name": "stdout",
     "output_type": "stream",
     "text": [
      "(9000, 250) (9000, 2)\n",
      "(1000, 250) (1000, 2)\n"
     ]
    }
   ],
   "source": [
    "X_train, X_test, Y_train, Y_test = train_test_split(X, Y, test_size=0.10, random_state=42)\n",
    "print(X_train.shape, Y_train.shape)\n",
    "print(X_test.shape, Y_test.shape)"
   ]
  },
  {
   "cell_type": "code",
   "execution_count": 15,
   "metadata": {},
   "outputs": [
    {
     "name": "stdout",
     "output_type": "stream",
     "text": [
      "WARNING:tensorflow:From /home/luizgomes/apps/anaconda3/lib/python3.7/site-packages/keras/backend/tensorflow_backend.py:74: The name tf.get_default_graph is deprecated. Please use tf.compat.v1.get_default_graph instead.\n",
      "\n",
      "WARNING:tensorflow:From /home/luizgomes/apps/anaconda3/lib/python3.7/site-packages/keras/backend/tensorflow_backend.py:517: The name tf.placeholder is deprecated. Please use tf.compat.v1.placeholder instead.\n",
      "\n",
      "WARNING:tensorflow:From /home/luizgomes/apps/anaconda3/lib/python3.7/site-packages/keras/backend/tensorflow_backend.py:4138: The name tf.random_uniform is deprecated. Please use tf.random.uniform instead.\n",
      "\n",
      "WARNING:tensorflow:From /home/luizgomes/apps/anaconda3/lib/python3.7/site-packages/keras/backend/tensorflow_backend.py:133: The name tf.placeholder_with_default is deprecated. Please use tf.compat.v1.placeholder_with_default instead.\n",
      "\n",
      "WARNING:tensorflow:From /home/luizgomes/apps/anaconda3/lib/python3.7/site-packages/keras/backend/tensorflow_backend.py:3445: calling dropout (from tensorflow.python.ops.nn_ops) with keep_prob is deprecated and will be removed in a future version.\n",
      "Instructions for updating:\n",
      "Please use `rate` instead of `keep_prob`. Rate should be set to `rate = 1 - keep_prob`.\n",
      "WARNING:tensorflow:From /home/luizgomes/apps/anaconda3/lib/python3.7/site-packages/keras/optimizers.py:790: The name tf.train.Optimizer is deprecated. Please use tf.compat.v1.train.Optimizer instead.\n",
      "\n",
      "WARNING:tensorflow:From /home/luizgomes/apps/anaconda3/lib/python3.7/site-packages/keras/backend/tensorflow_backend.py:3295: The name tf.log is deprecated. Please use tf.math.log instead.\n",
      "\n",
      "WARNING:tensorflow:From /home/luizgomes/apps/anaconda3/lib/python3.7/site-packages/tensorflow_core/python/ops/math_grad.py:1424: where (from tensorflow.python.ops.array_ops) is deprecated and will be removed in a future version.\n",
      "Instructions for updating:\n",
      "Use tf.where in 2.0, which has the same broadcast rule as np.where\n",
      "WARNING:tensorflow:From /home/luizgomes/apps/anaconda3/lib/python3.7/site-packages/keras/backend/tensorflow_backend.py:986: The name tf.assign_add is deprecated. Please use tf.compat.v1.assign_add instead.\n",
      "\n",
      "WARNING:tensorflow:From /home/luizgomes/apps/anaconda3/lib/python3.7/site-packages/keras/backend/tensorflow_backend.py:973: The name tf.assign is deprecated. Please use tf.compat.v1.assign instead.\n",
      "\n",
      "WARNING:tensorflow:From /home/luizgomes/apps/anaconda3/lib/python3.7/site-packages/keras/backend/tensorflow_backend.py:2741: The name tf.Session is deprecated. Please use tf.compat.v1.Session instead.\n",
      "\n",
      "Train on 8100 samples, validate on 900 samples\n",
      "Epoch 1/5\n",
      "WARNING:tensorflow:From /home/luizgomes/apps/anaconda3/lib/python3.7/site-packages/keras/backend/tensorflow_backend.py:174: The name tf.get_default_session is deprecated. Please use tf.compat.v1.get_default_session instead.\n",
      "\n",
      "WARNING:tensorflow:From /home/luizgomes/apps/anaconda3/lib/python3.7/site-packages/keras/backend/tensorflow_backend.py:181: The name tf.ConfigProto is deprecated. Please use tf.compat.v1.ConfigProto instead.\n",
      "\n",
      "WARNING:tensorflow:From /home/luizgomes/apps/anaconda3/lib/python3.7/site-packages/keras/backend/tensorflow_backend.py:190: The name tf.global_variables is deprecated. Please use tf.compat.v1.global_variables instead.\n",
      "\n",
      "WARNING:tensorflow:From /home/luizgomes/apps/anaconda3/lib/python3.7/site-packages/keras/backend/tensorflow_backend.py:199: The name tf.is_variable_initialized is deprecated. Please use tf.compat.v1.is_variable_initialized instead.\n",
      "\n",
      "WARNING:tensorflow:From /home/luizgomes/apps/anaconda3/lib/python3.7/site-packages/keras/backend/tensorflow_backend.py:206: The name tf.variables_initializer is deprecated. Please use tf.compat.v1.variables_initializer instead.\n",
      "\n",
      "8100/8100 [==============================] - 59s 7ms/step - loss: 0.5815 - binary_accuracy: 0.7137 - val_loss: 0.5243 - val_binary_accuracy: 0.7689\n",
      "Epoch 2/5\n",
      "8100/8100 [==============================] - 55s 7ms/step - loss: 0.4332 - binary_accuracy: 0.8096 - val_loss: 0.5447 - val_binary_accuracy: 0.7444\n",
      "Epoch 3/5\n",
      "8100/8100 [==============================] - 60s 7ms/step - loss: 0.2909 - binary_accuracy: 0.8817 - val_loss: 0.6805 - val_binary_accuracy: 0.7222\n",
      "Epoch 4/5\n",
      "8100/8100 [==============================] - 56s 7ms/step - loss: 0.1768 - binary_accuracy: 0.9351 - val_loss: 0.8525 - val_binary_accuracy: 0.7111\n"
     ]
    }
   ],
   "source": [
    "\n",
    "model = Sequential()\n",
    "model.add(Embedding(MAX_NB_WORDS, EMBEDDING_DIM, input_length=X.shape[1]))\n",
    "model.add(SpatialDropout1D(0.2))\n",
    "model.add(LSTM(100, dropout=0.2, recurrent_dropout=0.2))\n",
    "model.add(Dense(2, activation='softmax'))\n",
    "model.compile(loss='categorical_crossentropy', optimizer='adam', metrics=['binary_accuracy'])\n",
    "\n",
    "epochs     = 5\n",
    "batch_size = 64\n",
    "history    = model.fit(X_train, Y_train, epochs=epochs, batch_size=batch_size,validation_split=0.1,callbacks=[EarlyStopping(monitor='val_loss', patience=3, min_delta=0.0001)])"
   ]
  },
  {
   "cell_type": "code",
   "execution_count": 16,
   "metadata": {},
   "outputs": [
    {
     "name": "stdout",
     "output_type": "stream",
     "text": [
      "1000/1000 [==============================] - 2s 2ms/step\n",
      "Test set\n",
      "  Loss: 0.842\n",
      "  Accuracy: 0.720\n"
     ]
    }
   ],
   "source": [
    "accr = model.evaluate(X_test,Y_test)\n",
    "print('Test set\\n  Loss: {:0.3f}\\n  Accuracy: {:0.3f}'.format(accr[0],accr[1]))"
   ]
  },
  {
   "cell_type": "code",
   "execution_count": 17,
   "metadata": {},
   "outputs": [
    {
     "data": {
      "image/png": "[encoded data removed]",
      "text/plain": [
       "<Figure size 432x288 with 1 Axes>"
      ]
     },
     "metadata": {
      "needs_background": "light"
     },
     "output_type": "display_data"
    }
   ],
   "source": [
    "plt.title('Loss')\n",
    "plt.plot(history.history['loss'], label='train')\n",
    "plt.plot(history.history['val_loss'], label='test')\n",
    "plt.legend()\n",
    "plt.show()"
   ]
  },
  {
   "cell_type": "code",
   "execution_count": 18,
   "metadata": {},
   "outputs": [
    {
     "data": {
      "image/png": "[encoded data removed]",
      "text/plain": [
       "<Figure size 432x288 with 1 Axes>"
      ]
     },
     "metadata": {
      "needs_background": "light"
     },
     "output_type": "display_data"
    }
   ],
   "source": [
    "plt.title('Accuracy')\n",
    "plt.plot(history.history['binary_accuracy'], label='train')\n",
    "plt.plot(history.history['val_binary_accuracy'], label='test')\n",
    "plt.legend()\n",
    "plt.show();"
   ]
  },
  {
   "cell_type": "code",
   "execution_count": null,
   "metadata": {},
   "outputs": [],
   "source": []
  }
 ],
 "metadata": {
  "kernelspec": {
   "display_name": "Python 3",
   "language": "python",
   "name": "python3"
  },
  "language_info": {
   "codemirror_mode": {
    "name": "ipython",
    "version": 3
   },
   "file_extension": ".py",
   "mimetype": "text/x-python",
   "name": "python",
   "nbconvert_exporter": "python",
   "pygments_lexer": "ipython3",
   "version": "3.7.6"
  }
 },
 "nbformat": 4,
 "nbformat_minor": 2
}
